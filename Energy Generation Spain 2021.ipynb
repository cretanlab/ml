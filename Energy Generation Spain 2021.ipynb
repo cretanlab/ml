{
 "cells": [
  {
   "cell_type": "markdown",
   "id": "a0208027-fc4c-49e4-a863-a50bc747c767",
   "metadata": {},
   "source": [
    "# Studying - An Overview of the Spanish Energy Generation"
   ]
  },
  {
   "cell_type": "code",
   "execution_count": 1,
   "id": "fd0e95bd-8f7f-4fbc-80de-ef1bc221319c",
   "metadata": {},
   "outputs": [
    {
     "data": {
      "text/html": [
       "<div>\n",
       "<style scoped>\n",
       "    .dataframe tbody tr th:only-of-type {\n",
       "        vertical-align: middle;\n",
       "    }\n",
       "\n",
       "    .dataframe tbody tr th {\n",
       "        vertical-align: top;\n",
       "    }\n",
       "\n",
       "    .dataframe thead th {\n",
       "        text-align: right;\n",
       "    }\n",
       "</style>\n",
       "<table border=\"1\" class=\"dataframe\">\n",
       "  <thead>\n",
       "    <tr style=\"text-align: right;\">\n",
       "      <th></th>\n",
       "      <th>technology</th>\n",
       "      <th>year</th>\n",
       "      <th>month</th>\n",
       "      <th>day</th>\n",
       "      <th>hour</th>\n",
       "      <th>generation_mwh</th>\n",
       "    </tr>\n",
       "  </thead>\n",
       "  <tbody>\n",
       "    <tr>\n",
       "      <th>0</th>\n",
       "      <td>Carbon</td>\n",
       "      <td>2019</td>\n",
       "      <td>1</td>\n",
       "      <td>1</td>\n",
       "      <td>0</td>\n",
       "      <td>1867.0</td>\n",
       "    </tr>\n",
       "    <tr>\n",
       "      <th>1</th>\n",
       "      <td>Carbon</td>\n",
       "      <td>2019</td>\n",
       "      <td>1</td>\n",
       "      <td>1</td>\n",
       "      <td>1</td>\n",
       "      <td>1618.0</td>\n",
       "    </tr>\n",
       "    <tr>\n",
       "      <th>2</th>\n",
       "      <td>Carbon</td>\n",
       "      <td>2019</td>\n",
       "      <td>1</td>\n",
       "      <td>1</td>\n",
       "      <td>2</td>\n",
       "      <td>1535.3</td>\n",
       "    </tr>\n",
       "    <tr>\n",
       "      <th>3</th>\n",
       "      <td>Carbon</td>\n",
       "      <td>2019</td>\n",
       "      <td>1</td>\n",
       "      <td>1</td>\n",
       "      <td>3</td>\n",
       "      <td>1344.0</td>\n",
       "    </tr>\n",
       "    <tr>\n",
       "      <th>4</th>\n",
       "      <td>Carbon</td>\n",
       "      <td>2019</td>\n",
       "      <td>1</td>\n",
       "      <td>1</td>\n",
       "      <td>4</td>\n",
       "      <td>1345.0</td>\n",
       "    </tr>\n",
       "    <tr>\n",
       "      <th>...</th>\n",
       "      <td>...</td>\n",
       "      <td>...</td>\n",
       "      <td>...</td>\n",
       "      <td>...</td>\n",
       "      <td>...</td>\n",
       "      <td>...</td>\n",
       "    </tr>\n",
       "    <tr>\n",
       "      <th>420859</th>\n",
       "      <td>Other Renewables</td>\n",
       "      <td>2021</td>\n",
       "      <td>12</td>\n",
       "      <td>31</td>\n",
       "      <td>19</td>\n",
       "      <td>602.7</td>\n",
       "    </tr>\n",
       "    <tr>\n",
       "      <th>420860</th>\n",
       "      <td>Other Renewables</td>\n",
       "      <td>2021</td>\n",
       "      <td>12</td>\n",
       "      <td>31</td>\n",
       "      <td>20</td>\n",
       "      <td>608.2</td>\n",
       "    </tr>\n",
       "    <tr>\n",
       "      <th>420861</th>\n",
       "      <td>Other Renewables</td>\n",
       "      <td>2021</td>\n",
       "      <td>12</td>\n",
       "      <td>31</td>\n",
       "      <td>21</td>\n",
       "      <td>606.7</td>\n",
       "    </tr>\n",
       "    <tr>\n",
       "      <th>420862</th>\n",
       "      <td>Other Renewables</td>\n",
       "      <td>2021</td>\n",
       "      <td>12</td>\n",
       "      <td>31</td>\n",
       "      <td>22</td>\n",
       "      <td>607.5</td>\n",
       "    </tr>\n",
       "    <tr>\n",
       "      <th>420863</th>\n",
       "      <td>Other Renewables</td>\n",
       "      <td>2021</td>\n",
       "      <td>12</td>\n",
       "      <td>31</td>\n",
       "      <td>23</td>\n",
       "      <td>591.6</td>\n",
       "    </tr>\n",
       "  </tbody>\n",
       "</table>\n",
       "<p>420864 rows × 6 columns</p>\n",
       "</div>"
      ],
      "text/plain": [
       "              technology  year  month  day  hour  generation_mwh\n",
       "0                 Carbon  2019      1    1     0          1867.0\n",
       "1                 Carbon  2019      1    1     1          1618.0\n",
       "2                 Carbon  2019      1    1     2          1535.3\n",
       "3                 Carbon  2019      1    1     3          1344.0\n",
       "4                 Carbon  2019      1    1     4          1345.0\n",
       "...                  ...   ...    ...  ...   ...             ...\n",
       "420859  Other Renewables  2021     12   31    19           602.7\n",
       "420860  Other Renewables  2021     12   31    20           608.2\n",
       "420861  Other Renewables  2021     12   31    21           606.7\n",
       "420862  Other Renewables  2021     12   31    22           607.5\n",
       "420863  Other Renewables  2021     12   31    23           591.6\n",
       "\n",
       "[420864 rows x 6 columns]"
      ]
     },
     "execution_count": 1,
     "metadata": {},
     "output_type": "execute_result"
    }
   ],
   "source": [
    "import pandas as pd\n",
    "\n",
    "df_energy = pd.read_csv('all-technology_2019-2021.csv', index_col=0)\n",
    "df_energy"
   ]
  },
  {
   "cell_type": "markdown",
   "id": "5ff6b899-9264-406e-b2d7-179033f3a5c9",
   "metadata": {},
   "source": [
    "## [x] Select the data from 2021"
   ]
  },
  {
   "cell_type": "markdown",
   "id": "2ce8a7ee-2e15-49ac-9367-629cde39d8b9",
   "metadata": {},
   "source": [
    "### Filter the rows"
   ]
  },
  {
   "cell_type": "code",
   "execution_count": 2,
   "id": "a07f329f",
   "metadata": {},
   "outputs": [],
   "source": [
    "mask = df_energy.year == 2021"
   ]
  },
  {
   "cell_type": "code",
   "execution_count": 3,
   "id": "dc0f65cc-57ec-4810-b538-f5f3ec816ef6",
   "metadata": {
    "tags": []
   },
   "outputs": [],
   "source": [
    "df_energy = df_energy[mask].copy()"
   ]
  },
  {
   "cell_type": "markdown",
   "id": "13e6c186-87d4-4942-9263-512d5e2ea5ce",
   "metadata": {},
   "source": [
    "### Drop the column `year`"
   ]
  },
  {
   "cell_type": "code",
   "execution_count": 4,
   "id": "153b0d6a",
   "metadata": {},
   "outputs": [
    {
     "data": {
      "text/html": [
       "<div>\n",
       "<style scoped>\n",
       "    .dataframe tbody tr th:only-of-type {\n",
       "        vertical-align: middle;\n",
       "    }\n",
       "\n",
       "    .dataframe tbody tr th {\n",
       "        vertical-align: top;\n",
       "    }\n",
       "\n",
       "    .dataframe thead th {\n",
       "        text-align: right;\n",
       "    }\n",
       "</style>\n",
       "<table border=\"1\" class=\"dataframe\">\n",
       "  <thead>\n",
       "    <tr style=\"text-align: right;\">\n",
       "      <th></th>\n",
       "      <th>technology</th>\n",
       "      <th>month</th>\n",
       "      <th>day</th>\n",
       "      <th>hour</th>\n",
       "      <th>generation_mwh</th>\n",
       "    </tr>\n",
       "  </thead>\n",
       "  <tbody>\n",
       "    <tr>\n",
       "      <th>17544</th>\n",
       "      <td>Carbon</td>\n",
       "      <td>1</td>\n",
       "      <td>1</td>\n",
       "      <td>0</td>\n",
       "      <td>250.0</td>\n",
       "    </tr>\n",
       "    <tr>\n",
       "      <th>17545</th>\n",
       "      <td>Carbon</td>\n",
       "      <td>1</td>\n",
       "      <td>1</td>\n",
       "      <td>1</td>\n",
       "      <td>250.0</td>\n",
       "    </tr>\n",
       "    <tr>\n",
       "      <th>17546</th>\n",
       "      <td>Carbon</td>\n",
       "      <td>1</td>\n",
       "      <td>1</td>\n",
       "      <td>2</td>\n",
       "      <td>243.0</td>\n",
       "    </tr>\n",
       "    <tr>\n",
       "      <th>17547</th>\n",
       "      <td>Carbon</td>\n",
       "      <td>1</td>\n",
       "      <td>1</td>\n",
       "      <td>3</td>\n",
       "      <td>265.0</td>\n",
       "    </tr>\n",
       "    <tr>\n",
       "      <th>17548</th>\n",
       "      <td>Carbon</td>\n",
       "      <td>1</td>\n",
       "      <td>1</td>\n",
       "      <td>4</td>\n",
       "      <td>250.0</td>\n",
       "    </tr>\n",
       "    <tr>\n",
       "      <th>...</th>\n",
       "      <td>...</td>\n",
       "      <td>...</td>\n",
       "      <td>...</td>\n",
       "      <td>...</td>\n",
       "      <td>...</td>\n",
       "    </tr>\n",
       "    <tr>\n",
       "      <th>420859</th>\n",
       "      <td>Other Renewables</td>\n",
       "      <td>12</td>\n",
       "      <td>31</td>\n",
       "      <td>19</td>\n",
       "      <td>602.7</td>\n",
       "    </tr>\n",
       "    <tr>\n",
       "      <th>420860</th>\n",
       "      <td>Other Renewables</td>\n",
       "      <td>12</td>\n",
       "      <td>31</td>\n",
       "      <td>20</td>\n",
       "      <td>608.2</td>\n",
       "    </tr>\n",
       "    <tr>\n",
       "      <th>420861</th>\n",
       "      <td>Other Renewables</td>\n",
       "      <td>12</td>\n",
       "      <td>31</td>\n",
       "      <td>21</td>\n",
       "      <td>606.7</td>\n",
       "    </tr>\n",
       "    <tr>\n",
       "      <th>420862</th>\n",
       "      <td>Other Renewables</td>\n",
       "      <td>12</td>\n",
       "      <td>31</td>\n",
       "      <td>22</td>\n",
       "      <td>607.5</td>\n",
       "    </tr>\n",
       "    <tr>\n",
       "      <th>420863</th>\n",
       "      <td>Other Renewables</td>\n",
       "      <td>12</td>\n",
       "      <td>31</td>\n",
       "      <td>23</td>\n",
       "      <td>591.6</td>\n",
       "    </tr>\n",
       "  </tbody>\n",
       "</table>\n",
       "<p>140160 rows × 5 columns</p>\n",
       "</div>"
      ],
      "text/plain": [
       "              technology  month  day  hour  generation_mwh\n",
       "17544             Carbon      1    1     0           250.0\n",
       "17545             Carbon      1    1     1           250.0\n",
       "17546             Carbon      1    1     2           243.0\n",
       "17547             Carbon      1    1     3           265.0\n",
       "17548             Carbon      1    1     4           250.0\n",
       "...                  ...    ...  ...   ...             ...\n",
       "420859  Other Renewables     12   31    19           602.7\n",
       "420860  Other Renewables     12   31    20           608.2\n",
       "420861  Other Renewables     12   31    21           606.7\n",
       "420862  Other Renewables     12   31    22           607.5\n",
       "420863  Other Renewables     12   31    23           591.6\n",
       "\n",
       "[140160 rows x 5 columns]"
      ]
     },
     "execution_count": 4,
     "metadata": {},
     "output_type": "execute_result"
    }
   ],
   "source": [
    "df_energy = df_energy.drop(columns='year')\n",
    "df_energy"
   ]
  },
  {
   "cell_type": "markdown",
   "id": "cfe9d2be-029a-4134-9c0b-9688fa04bfe2",
   "metadata": {},
   "source": [
    "### Reset the index to start from 0"
   ]
  },
  {
   "cell_type": "code",
   "execution_count": 5,
   "id": "6729fd33",
   "metadata": {},
   "outputs": [
    {
     "data": {
      "text/html": [
       "<div>\n",
       "<style scoped>\n",
       "    .dataframe tbody tr th:only-of-type {\n",
       "        vertical-align: middle;\n",
       "    }\n",
       "\n",
       "    .dataframe tbody tr th {\n",
       "        vertical-align: top;\n",
       "    }\n",
       "\n",
       "    .dataframe thead th {\n",
       "        text-align: right;\n",
       "    }\n",
       "</style>\n",
       "<table border=\"1\" class=\"dataframe\">\n",
       "  <thead>\n",
       "    <tr style=\"text-align: right;\">\n",
       "      <th></th>\n",
       "      <th>technology</th>\n",
       "      <th>month</th>\n",
       "      <th>day</th>\n",
       "      <th>hour</th>\n",
       "      <th>generation_mwh</th>\n",
       "    </tr>\n",
       "  </thead>\n",
       "  <tbody>\n",
       "    <tr>\n",
       "      <th>0</th>\n",
       "      <td>Carbon</td>\n",
       "      <td>1</td>\n",
       "      <td>1</td>\n",
       "      <td>0</td>\n",
       "      <td>250.0</td>\n",
       "    </tr>\n",
       "    <tr>\n",
       "      <th>1</th>\n",
       "      <td>Carbon</td>\n",
       "      <td>1</td>\n",
       "      <td>1</td>\n",
       "      <td>1</td>\n",
       "      <td>250.0</td>\n",
       "    </tr>\n",
       "    <tr>\n",
       "      <th>2</th>\n",
       "      <td>Carbon</td>\n",
       "      <td>1</td>\n",
       "      <td>1</td>\n",
       "      <td>2</td>\n",
       "      <td>243.0</td>\n",
       "    </tr>\n",
       "    <tr>\n",
       "      <th>3</th>\n",
       "      <td>Carbon</td>\n",
       "      <td>1</td>\n",
       "      <td>1</td>\n",
       "      <td>3</td>\n",
       "      <td>265.0</td>\n",
       "    </tr>\n",
       "    <tr>\n",
       "      <th>4</th>\n",
       "      <td>Carbon</td>\n",
       "      <td>1</td>\n",
       "      <td>1</td>\n",
       "      <td>4</td>\n",
       "      <td>250.0</td>\n",
       "    </tr>\n",
       "    <tr>\n",
       "      <th>...</th>\n",
       "      <td>...</td>\n",
       "      <td>...</td>\n",
       "      <td>...</td>\n",
       "      <td>...</td>\n",
       "      <td>...</td>\n",
       "    </tr>\n",
       "    <tr>\n",
       "      <th>140155</th>\n",
       "      <td>Other Renewables</td>\n",
       "      <td>12</td>\n",
       "      <td>31</td>\n",
       "      <td>19</td>\n",
       "      <td>602.7</td>\n",
       "    </tr>\n",
       "    <tr>\n",
       "      <th>140156</th>\n",
       "      <td>Other Renewables</td>\n",
       "      <td>12</td>\n",
       "      <td>31</td>\n",
       "      <td>20</td>\n",
       "      <td>608.2</td>\n",
       "    </tr>\n",
       "    <tr>\n",
       "      <th>140157</th>\n",
       "      <td>Other Renewables</td>\n",
       "      <td>12</td>\n",
       "      <td>31</td>\n",
       "      <td>21</td>\n",
       "      <td>606.7</td>\n",
       "    </tr>\n",
       "    <tr>\n",
       "      <th>140158</th>\n",
       "      <td>Other Renewables</td>\n",
       "      <td>12</td>\n",
       "      <td>31</td>\n",
       "      <td>22</td>\n",
       "      <td>607.5</td>\n",
       "    </tr>\n",
       "    <tr>\n",
       "      <th>140159</th>\n",
       "      <td>Other Renewables</td>\n",
       "      <td>12</td>\n",
       "      <td>31</td>\n",
       "      <td>23</td>\n",
       "      <td>591.6</td>\n",
       "    </tr>\n",
       "  </tbody>\n",
       "</table>\n",
       "<p>140160 rows × 5 columns</p>\n",
       "</div>"
      ],
      "text/plain": [
       "              technology  month  day  hour  generation_mwh\n",
       "0                 Carbon      1    1     0           250.0\n",
       "1                 Carbon      1    1     1           250.0\n",
       "2                 Carbon      1    1     2           243.0\n",
       "3                 Carbon      1    1     3           265.0\n",
       "4                 Carbon      1    1     4           250.0\n",
       "...                  ...    ...  ...   ...             ...\n",
       "140155  Other Renewables     12   31    19           602.7\n",
       "140156  Other Renewables     12   31    20           608.2\n",
       "140157  Other Renewables     12   31    21           606.7\n",
       "140158  Other Renewables     12   31    22           607.5\n",
       "140159  Other Renewables     12   31    23           591.6\n",
       "\n",
       "[140160 rows x 5 columns]"
      ]
     },
     "execution_count": 5,
     "metadata": {},
     "output_type": "execute_result"
    }
   ],
   "source": [
    "df_energy = df_energy.reset_index(drop=True)\n",
    "df_energy"
   ]
  },
  {
   "cell_type": "markdown",
   "id": "a457f3f5-d1cf-4188-b193-16f6ff6dc883",
   "metadata": {},
   "source": [
    "## In total, how much energy was generated?"
   ]
  },
  {
   "cell_type": "code",
   "execution_count": 6,
   "id": "2be86aab-f6b1-48d6-b795-9628a35e5353",
   "metadata": {},
   "outputs": [
    {
     "data": {
      "text/plain": [
       "252448090.89999998"
      ]
     },
     "execution_count": 6,
     "metadata": {},
     "output_type": "execute_result"
    }
   ],
   "source": [
    "df_energy.generation_mwh.sum()"
   ]
  },
  {
   "cell_type": "code",
   "execution_count": 7,
   "id": "8fc7c360-e2ce-4235-bf4b-069870c00339",
   "metadata": {
    "tags": []
   },
   "outputs": [
    {
     "data": {
      "text/plain": [
       "25244809089.999996"
      ]
     },
     "execution_count": 7,
     "metadata": {},
     "output_type": "execute_result"
    }
   ],
   "source": [
    "df_energy.generation_mwh.sum() * 100 #interesting"
   ]
  },
  {
   "cell_type": "markdown",
   "id": "550c0006-46ce-45fe-a86d-49bc0891ea8e",
   "metadata": {},
   "source": [
    "## [x] Which was the technology that generated more energy?"
   ]
  },
  {
   "cell_type": "markdown",
   "id": "37d65c35-b067-4c69-b7e6-3921e57a7bf3",
   "metadata": {},
   "source": [
    "### Data processing"
   ]
  },
  {
   "cell_type": "markdown",
   "id": "81f964b1-f12b-44ea-8cdf-0ca31d21a2b1",
   "metadata": {},
   "source": [
    "#### Calculate the total generation by each technology"
   ]
  },
  {
   "cell_type": "code",
   "execution_count": 8,
   "id": "ed991665-ec12-4c92-848c-a37ce169f7d8",
   "metadata": {
    "tags": []
   },
   "outputs": [],
   "source": [
    "mask = df_energy.technology != 'Total Exports'\n",
    "#df_without_year['technology'].unique() #great! #notsogreat! -> m"
   ]
  },
  {
   "cell_type": "code",
   "execution_count": 9,
   "id": "5db38532-9619-4fae-b936-186a89a4ff50",
   "metadata": {
    "tags": []
   },
   "outputs": [],
   "source": [
    "df_energy = df_energy[mask].copy()"
   ]
  },
  {
   "cell_type": "code",
   "execution_count": 10,
   "id": "207d96e2-dea6-45fe-b227-b2afa200c670",
   "metadata": {
    "tags": []
   },
   "outputs": [
    {
     "data": {
      "text/plain": [
       "technology\n",
       "Carbon                      5016801.7\n",
       "Cogeneration               26373562.5\n",
       "Combined Cycle             37818619.7\n",
       "Domestic Residuals          1519093.9\n",
       "Eolic                      59798598.5\n",
       "Hydraulic No UGH            5259688.0\n",
       "Hydraulic UGH              24293665.7\n",
       "Non-renewable Residuals     2885383.4\n",
       "Nuclear                    54124826.1\n",
       "Other Renewables            4811035.1\n",
       "Other Residuals             1019779.2\n",
       "Photovoltaic Solar         20560541.2\n",
       "Photovoltaic Thermal        5042200.9\n",
       "Pumping Turbine             2475511.7\n",
       "Total Imports              21604101.0\n",
       "Name: generation_mwh, dtype: float64"
      ]
     },
     "execution_count": 10,
     "metadata": {},
     "output_type": "execute_result"
    }
   ],
   "source": [
    "res = df_energy.groupby(by='technology').generation_mwh.sum()\n",
    "res"
   ]
  },
  {
   "cell_type": "markdown",
   "id": "c6d5f6f6-3cdb-4d49-84c3-269ce3fa6d77",
   "metadata": {
    "tags": []
   },
   "source": [
    "#### Sort the most used technologies at the beginning of the table"
   ]
  },
  {
   "cell_type": "code",
   "execution_count": 11,
   "id": "fefc6222-f45f-43f1-ab9f-717de8ed0f22",
   "metadata": {},
   "outputs": [
    {
     "data": {
      "text/plain": [
       "technology\n",
       "Eolic                      59798598.5\n",
       "Nuclear                    54124826.1\n",
       "Combined Cycle             37818619.7\n",
       "Cogeneration               26373562.5\n",
       "Hydraulic UGH              24293665.7\n",
       "Total Imports              21604101.0\n",
       "Photovoltaic Solar         20560541.2\n",
       "Hydraulic No UGH            5259688.0\n",
       "Photovoltaic Thermal        5042200.9\n",
       "Carbon                      5016801.7\n",
       "Other Renewables            4811035.1\n",
       "Non-renewable Residuals     2885383.4\n",
       "Pumping Turbine             2475511.7\n",
       "Domestic Residuals          1519093.9\n",
       "Other Residuals             1019779.2\n",
       "Name: generation_mwh, dtype: float64"
      ]
     },
     "execution_count": 11,
     "metadata": {},
     "output_type": "execute_result"
    }
   ],
   "source": [
    "res = res.sort_values(ascending=False)\n",
    "res"
   ]
  },
  {
   "cell_type": "markdown",
   "id": "731c5537-a522-440f-ae1c-8edde61c7bca",
   "metadata": {
    "tags": []
   },
   "source": [
    "#### Reset the index to transform the previous object to a `DataFrame`"
   ]
  },
  {
   "cell_type": "code",
   "execution_count": 12,
   "id": "925d1ebc-77e5-4e5a-9789-5ce183c9722a",
   "metadata": {
    "tags": []
   },
   "outputs": [
    {
     "data": {
      "text/html": [
       "<div>\n",
       "<style scoped>\n",
       "    .dataframe tbody tr th:only-of-type {\n",
       "        vertical-align: middle;\n",
       "    }\n",
       "\n",
       "    .dataframe tbody tr th {\n",
       "        vertical-align: top;\n",
       "    }\n",
       "\n",
       "    .dataframe thead th {\n",
       "        text-align: right;\n",
       "    }\n",
       "</style>\n",
       "<table border=\"1\" class=\"dataframe\">\n",
       "  <thead>\n",
       "    <tr style=\"text-align: right;\">\n",
       "      <th></th>\n",
       "      <th>technology</th>\n",
       "      <th>generation_mwh</th>\n",
       "    </tr>\n",
       "  </thead>\n",
       "  <tbody>\n",
       "    <tr>\n",
       "      <th>0</th>\n",
       "      <td>Eolic</td>\n",
       "      <td>59798598.5</td>\n",
       "    </tr>\n",
       "    <tr>\n",
       "      <th>1</th>\n",
       "      <td>Nuclear</td>\n",
       "      <td>54124826.1</td>\n",
       "    </tr>\n",
       "    <tr>\n",
       "      <th>2</th>\n",
       "      <td>Combined Cycle</td>\n",
       "      <td>37818619.7</td>\n",
       "    </tr>\n",
       "    <tr>\n",
       "      <th>3</th>\n",
       "      <td>Cogeneration</td>\n",
       "      <td>26373562.5</td>\n",
       "    </tr>\n",
       "    <tr>\n",
       "      <th>4</th>\n",
       "      <td>Hydraulic UGH</td>\n",
       "      <td>24293665.7</td>\n",
       "    </tr>\n",
       "    <tr>\n",
       "      <th>5</th>\n",
       "      <td>Total Imports</td>\n",
       "      <td>21604101.0</td>\n",
       "    </tr>\n",
       "    <tr>\n",
       "      <th>6</th>\n",
       "      <td>Photovoltaic Solar</td>\n",
       "      <td>20560541.2</td>\n",
       "    </tr>\n",
       "    <tr>\n",
       "      <th>7</th>\n",
       "      <td>Hydraulic No UGH</td>\n",
       "      <td>5259688.0</td>\n",
       "    </tr>\n",
       "    <tr>\n",
       "      <th>8</th>\n",
       "      <td>Photovoltaic Thermal</td>\n",
       "      <td>5042200.9</td>\n",
       "    </tr>\n",
       "    <tr>\n",
       "      <th>9</th>\n",
       "      <td>Carbon</td>\n",
       "      <td>5016801.7</td>\n",
       "    </tr>\n",
       "    <tr>\n",
       "      <th>10</th>\n",
       "      <td>Other Renewables</td>\n",
       "      <td>4811035.1</td>\n",
       "    </tr>\n",
       "    <tr>\n",
       "      <th>11</th>\n",
       "      <td>Non-renewable Residuals</td>\n",
       "      <td>2885383.4</td>\n",
       "    </tr>\n",
       "    <tr>\n",
       "      <th>12</th>\n",
       "      <td>Pumping Turbine</td>\n",
       "      <td>2475511.7</td>\n",
       "    </tr>\n",
       "    <tr>\n",
       "      <th>13</th>\n",
       "      <td>Domestic Residuals</td>\n",
       "      <td>1519093.9</td>\n",
       "    </tr>\n",
       "    <tr>\n",
       "      <th>14</th>\n",
       "      <td>Other Residuals</td>\n",
       "      <td>1019779.2</td>\n",
       "    </tr>\n",
       "  </tbody>\n",
       "</table>\n",
       "</div>"
      ],
      "text/plain": [
       "                 technology  generation_mwh\n",
       "0                     Eolic      59798598.5\n",
       "1                   Nuclear      54124826.1\n",
       "2            Combined Cycle      37818619.7\n",
       "3              Cogeneration      26373562.5\n",
       "4             Hydraulic UGH      24293665.7\n",
       "5             Total Imports      21604101.0\n",
       "6        Photovoltaic Solar      20560541.2\n",
       "7          Hydraulic No UGH       5259688.0\n",
       "8      Photovoltaic Thermal       5042200.9\n",
       "9                    Carbon       5016801.7\n",
       "10         Other Renewables       4811035.1\n",
       "11  Non-renewable Residuals       2885383.4\n",
       "12          Pumping Turbine       2475511.7\n",
       "13       Domestic Residuals       1519093.9\n",
       "14          Other Residuals       1019779.2"
      ]
     },
     "execution_count": 12,
     "metadata": {},
     "output_type": "execute_result"
    }
   ],
   "source": [
    "dfres = res.reset_index()\n",
    "dfres"
   ]
  },
  {
   "cell_type": "markdown",
   "id": "603b90df-e48c-433e-b1dc-a5d81fbc407f",
   "metadata": {},
   "source": [
    "### Visualize the data with a bar plot"
   ]
  },
  {
   "cell_type": "code",
   "execution_count": 13,
   "id": "a5e6cade-93fb-4641-beb5-bbd00cda595e",
   "metadata": {
    "tags": []
   },
   "outputs": [],
   "source": [
    "import plotly.express as px"
   ]
  },
  {
   "cell_type": "code",
   "execution_count": 14,
   "id": "8c966b73-ce21-495c-8798-2bda8e2f4524",
   "metadata": {
    "tags": []
   },
   "outputs": [
    {
     "data": {
      "application/vnd.plotly.v1+json": {
       "config": {
        "plotlyServerURL": "https://plot.ly"
       },
       "data": [
        {
         "alignmentgroup": "True",
         "hovertemplate": "technology=%{x}<br>generation_mwh=%{y}<extra></extra>",
         "legendgroup": "Eolic",
         "marker": {
          "color": "#636efa",
          "pattern": {
           "shape": ""
          }
         },
         "name": "Eolic",
         "offsetgroup": "Eolic",
         "orientation": "v",
         "showlegend": true,
         "textposition": "auto",
         "type": "bar",
         "x": [
          "Eolic"
         ],
         "xaxis": "x",
         "y": [
          59798598.5
         ],
         "yaxis": "y"
        },
        {
         "alignmentgroup": "True",
         "hovertemplate": "technology=%{x}<br>generation_mwh=%{y}<extra></extra>",
         "legendgroup": "Nuclear",
         "marker": {
          "color": "#EF553B",
          "pattern": {
           "shape": ""
          }
         },
         "name": "Nuclear",
         "offsetgroup": "Nuclear",
         "orientation": "v",
         "showlegend": true,
         "textposition": "auto",
         "type": "bar",
         "x": [
          "Nuclear"
         ],
         "xaxis": "x",
         "y": [
          54124826.1
         ],
         "yaxis": "y"
        },
        {
         "alignmentgroup": "True",
         "hovertemplate": "technology=%{x}<br>generation_mwh=%{y}<extra></extra>",
         "legendgroup": "Combined Cycle",
         "marker": {
          "color": "#00cc96",
          "pattern": {
           "shape": ""
          }
         },
         "name": "Combined Cycle",
         "offsetgroup": "Combined Cycle",
         "orientation": "v",
         "showlegend": true,
         "textposition": "auto",
         "type": "bar",
         "x": [
          "Combined Cycle"
         ],
         "xaxis": "x",
         "y": [
          37818619.7
         ],
         "yaxis": "y"
        },
        {
         "alignmentgroup": "True",
         "hovertemplate": "technology=%{x}<br>generation_mwh=%{y}<extra></extra>",
         "legendgroup": "Cogeneration",
         "marker": {
          "color": "#ab63fa",
          "pattern": {
           "shape": ""
          }
         },
         "name": "Cogeneration",
         "offsetgroup": "Cogeneration",
         "orientation": "v",
         "showlegend": true,
         "textposition": "auto",
         "type": "bar",
         "x": [
          "Cogeneration"
         ],
         "xaxis": "x",
         "y": [
          26373562.5
         ],
         "yaxis": "y"
        },
        {
         "alignmentgroup": "True",
         "hovertemplate": "technology=%{x}<br>generation_mwh=%{y}<extra></extra>",
         "legendgroup": "Hydraulic UGH",
         "marker": {
          "color": "#FFA15A",
          "pattern": {
           "shape": ""
          }
         },
         "name": "Hydraulic UGH",
         "offsetgroup": "Hydraulic UGH",
         "orientation": "v",
         "showlegend": true,
         "textposition": "auto",
         "type": "bar",
         "x": [
          "Hydraulic UGH"
         ],
         "xaxis": "x",
         "y": [
          24293665.7
         ],
         "yaxis": "y"
        },
        {
         "alignmentgroup": "True",
         "hovertemplate": "technology=%{x}<br>generation_mwh=%{y}<extra></extra>",
         "legendgroup": "Total Imports",
         "marker": {
          "color": "#19d3f3",
          "pattern": {
           "shape": ""
          }
         },
         "name": "Total Imports",
         "offsetgroup": "Total Imports",
         "orientation": "v",
         "showlegend": true,
         "textposition": "auto",
         "type": "bar",
         "x": [
          "Total Imports"
         ],
         "xaxis": "x",
         "y": [
          21604101
         ],
         "yaxis": "y"
        },
        {
         "alignmentgroup": "True",
         "hovertemplate": "technology=%{x}<br>generation_mwh=%{y}<extra></extra>",
         "legendgroup": "Photovoltaic Solar",
         "marker": {
          "color": "#FF6692",
          "pattern": {
           "shape": ""
          }
         },
         "name": "Photovoltaic Solar",
         "offsetgroup": "Photovoltaic Solar",
         "orientation": "v",
         "showlegend": true,
         "textposition": "auto",
         "type": "bar",
         "x": [
          "Photovoltaic Solar"
         ],
         "xaxis": "x",
         "y": [
          20560541.2
         ],
         "yaxis": "y"
        },
        {
         "alignmentgroup": "True",
         "hovertemplate": "technology=%{x}<br>generation_mwh=%{y}<extra></extra>",
         "legendgroup": "Hydraulic No UGH",
         "marker": {
          "color": "#B6E880",
          "pattern": {
           "shape": ""
          }
         },
         "name": "Hydraulic No UGH",
         "offsetgroup": "Hydraulic No UGH",
         "orientation": "v",
         "showlegend": true,
         "textposition": "auto",
         "type": "bar",
         "x": [
          "Hydraulic No UGH"
         ],
         "xaxis": "x",
         "y": [
          5259688
         ],
         "yaxis": "y"
        },
        {
         "alignmentgroup": "True",
         "hovertemplate": "technology=%{x}<br>generation_mwh=%{y}<extra></extra>",
         "legendgroup": "Photovoltaic Thermal",
         "marker": {
          "color": "#FF97FF",
          "pattern": {
           "shape": ""
          }
         },
         "name": "Photovoltaic Thermal",
         "offsetgroup": "Photovoltaic Thermal",
         "orientation": "v",
         "showlegend": true,
         "textposition": "auto",
         "type": "bar",
         "x": [
          "Photovoltaic Thermal"
         ],
         "xaxis": "x",
         "y": [
          5042200.9
         ],
         "yaxis": "y"
        },
        {
         "alignmentgroup": "True",
         "hovertemplate": "technology=%{x}<br>generation_mwh=%{y}<extra></extra>",
         "legendgroup": "Carbon",
         "marker": {
          "color": "#FECB52",
          "pattern": {
           "shape": ""
          }
         },
         "name": "Carbon",
         "offsetgroup": "Carbon",
         "orientation": "v",
         "showlegend": true,
         "textposition": "auto",
         "type": "bar",
         "x": [
          "Carbon"
         ],
         "xaxis": "x",
         "y": [
          5016801.7
         ],
         "yaxis": "y"
        },
        {
         "alignmentgroup": "True",
         "hovertemplate": "technology=%{x}<br>generation_mwh=%{y}<extra></extra>",
         "legendgroup": "Other Renewables",
         "marker": {
          "color": "#636efa",
          "pattern": {
           "shape": ""
          }
         },
         "name": "Other Renewables",
         "offsetgroup": "Other Renewables",
         "orientation": "v",
         "showlegend": true,
         "textposition": "auto",
         "type": "bar",
         "x": [
          "Other Renewables"
         ],
         "xaxis": "x",
         "y": [
          4811035.1
         ],
         "yaxis": "y"
        },
        {
         "alignmentgroup": "True",
         "hovertemplate": "technology=%{x}<br>generation_mwh=%{y}<extra></extra>",
         "legendgroup": "Non-renewable Residuals",
         "marker": {
          "color": "#EF553B",
          "pattern": {
           "shape": ""
          }
         },
         "name": "Non-renewable Residuals",
         "offsetgroup": "Non-renewable Residuals",
         "orientation": "v",
         "showlegend": true,
         "textposition": "auto",
         "type": "bar",
         "x": [
          "Non-renewable Residuals"
         ],
         "xaxis": "x",
         "y": [
          2885383.4
         ],
         "yaxis": "y"
        },
        {
         "alignmentgroup": "True",
         "hovertemplate": "technology=%{x}<br>generation_mwh=%{y}<extra></extra>",
         "legendgroup": "Pumping Turbine",
         "marker": {
          "color": "#00cc96",
          "pattern": {
           "shape": ""
          }
         },
         "name": "Pumping Turbine",
         "offsetgroup": "Pumping Turbine",
         "orientation": "v",
         "showlegend": true,
         "textposition": "auto",
         "type": "bar",
         "x": [
          "Pumping Turbine"
         ],
         "xaxis": "x",
         "y": [
          2475511.7
         ],
         "yaxis": "y"
        },
        {
         "alignmentgroup": "True",
         "hovertemplate": "technology=%{x}<br>generation_mwh=%{y}<extra></extra>",
         "legendgroup": "Domestic Residuals",
         "marker": {
          "color": "#ab63fa",
          "pattern": {
           "shape": ""
          }
         },
         "name": "Domestic Residuals",
         "offsetgroup": "Domestic Residuals",
         "orientation": "v",
         "showlegend": true,
         "textposition": "auto",
         "type": "bar",
         "x": [
          "Domestic Residuals"
         ],
         "xaxis": "x",
         "y": [
          1519093.9
         ],
         "yaxis": "y"
        },
        {
         "alignmentgroup": "True",
         "hovertemplate": "technology=%{x}<br>generation_mwh=%{y}<extra></extra>",
         "legendgroup": "Other Residuals",
         "marker": {
          "color": "#FFA15A",
          "pattern": {
           "shape": ""
          }
         },
         "name": "Other Residuals",
         "offsetgroup": "Other Residuals",
         "orientation": "v",
         "showlegend": true,
         "textposition": "auto",
         "type": "bar",
         "x": [
          "Other Residuals"
         ],
         "xaxis": "x",
         "y": [
          1019779.2
         ],
         "yaxis": "y"
        }
       ],
       "layout": {
        "barmode": "relative",
        "legend": {
         "title": {
          "text": "technology"
         },
         "tracegroupgap": 0
        },
        "margin": {
         "t": 60
        },
        "template": {
         "data": {
          "bar": [
           {
            "error_x": {
             "color": "#2a3f5f"
            },
            "error_y": {
             "color": "#2a3f5f"
            },
            "marker": {
             "line": {
              "color": "#E5ECF6",
              "width": 0.5
             },
             "pattern": {
              "fillmode": "overlay",
              "size": 10,
              "solidity": 0.2
             }
            },
            "type": "bar"
           }
          ],
          "barpolar": [
           {
            "marker": {
             "line": {
              "color": "#E5ECF6",
              "width": 0.5
             },
             "pattern": {
              "fillmode": "overlay",
              "size": 10,
              "solidity": 0.2
             }
            },
            "type": "barpolar"
           }
          ],
          "carpet": [
           {
            "aaxis": {
             "endlinecolor": "#2a3f5f",
             "gridcolor": "white",
             "linecolor": "white",
             "minorgridcolor": "white",
             "startlinecolor": "#2a3f5f"
            },
            "baxis": {
             "endlinecolor": "#2a3f5f",
             "gridcolor": "white",
             "linecolor": "white",
             "minorgridcolor": "white",
             "startlinecolor": "#2a3f5f"
            },
            "type": "carpet"
           }
          ],
          "choropleth": [
           {
            "colorbar": {
             "outlinewidth": 0,
             "ticks": ""
            },
            "type": "choropleth"
           }
          ],
          "contour": [
           {
            "colorbar": {
             "outlinewidth": 0,
             "ticks": ""
            },
            "colorscale": [
             [
              0,
              "#0d0887"
             ],
             [
              0.1111111111111111,
              "#46039f"
             ],
             [
              0.2222222222222222,
              "#7201a8"
             ],
             [
              0.3333333333333333,
              "#9c179e"
             ],
             [
              0.4444444444444444,
              "#bd3786"
             ],
             [
              0.5555555555555556,
              "#d8576b"
             ],
             [
              0.6666666666666666,
              "#ed7953"
             ],
             [
              0.7777777777777778,
              "#fb9f3a"
             ],
             [
              0.8888888888888888,
              "#fdca26"
             ],
             [
              1,
              "#f0f921"
             ]
            ],
            "type": "contour"
           }
          ],
          "contourcarpet": [
           {
            "colorbar": {
             "outlinewidth": 0,
             "ticks": ""
            },
            "type": "contourcarpet"
           }
          ],
          "heatmap": [
           {
            "colorbar": {
             "outlinewidth": 0,
             "ticks": ""
            },
            "colorscale": [
             [
              0,
              "#0d0887"
             ],
             [
              0.1111111111111111,
              "#46039f"
             ],
             [
              0.2222222222222222,
              "#7201a8"
             ],
             [
              0.3333333333333333,
              "#9c179e"
             ],
             [
              0.4444444444444444,
              "#bd3786"
             ],
             [
              0.5555555555555556,
              "#d8576b"
             ],
             [
              0.6666666666666666,
              "#ed7953"
             ],
             [
              0.7777777777777778,
              "#fb9f3a"
             ],
             [
              0.8888888888888888,
              "#fdca26"
             ],
             [
              1,
              "#f0f921"
             ]
            ],
            "type": "heatmap"
           }
          ],
          "heatmapgl": [
           {
            "colorbar": {
             "outlinewidth": 0,
             "ticks": ""
            },
            "colorscale": [
             [
              0,
              "#0d0887"
             ],
             [
              0.1111111111111111,
              "#46039f"
             ],
             [
              0.2222222222222222,
              "#7201a8"
             ],
             [
              0.3333333333333333,
              "#9c179e"
             ],
             [
              0.4444444444444444,
              "#bd3786"
             ],
             [
              0.5555555555555556,
              "#d8576b"
             ],
             [
              0.6666666666666666,
              "#ed7953"
             ],
             [
              0.7777777777777778,
              "#fb9f3a"
             ],
             [
              0.8888888888888888,
              "#fdca26"
             ],
             [
              1,
              "#f0f921"
             ]
            ],
            "type": "heatmapgl"
           }
          ],
          "histogram": [
           {
            "marker": {
             "pattern": {
              "fillmode": "overlay",
              "size": 10,
              "solidity": 0.2
             }
            },
            "type": "histogram"
           }
          ],
          "histogram2d": [
           {
            "colorbar": {
             "outlinewidth": 0,
             "ticks": ""
            },
            "colorscale": [
             [
              0,
              "#0d0887"
             ],
             [
              0.1111111111111111,
              "#46039f"
             ],
             [
              0.2222222222222222,
              "#7201a8"
             ],
             [
              0.3333333333333333,
              "#9c179e"
             ],
             [
              0.4444444444444444,
              "#bd3786"
             ],
             [
              0.5555555555555556,
              "#d8576b"
             ],
             [
              0.6666666666666666,
              "#ed7953"
             ],
             [
              0.7777777777777778,
              "#fb9f3a"
             ],
             [
              0.8888888888888888,
              "#fdca26"
             ],
             [
              1,
              "#f0f921"
             ]
            ],
            "type": "histogram2d"
           }
          ],
          "histogram2dcontour": [
           {
            "colorbar": {
             "outlinewidth": 0,
             "ticks": ""
            },
            "colorscale": [
             [
              0,
              "#0d0887"
             ],
             [
              0.1111111111111111,
              "#46039f"
             ],
             [
              0.2222222222222222,
              "#7201a8"
             ],
             [
              0.3333333333333333,
              "#9c179e"
             ],
             [
              0.4444444444444444,
              "#bd3786"
             ],
             [
              0.5555555555555556,
              "#d8576b"
             ],
             [
              0.6666666666666666,
              "#ed7953"
             ],
             [
              0.7777777777777778,
              "#fb9f3a"
             ],
             [
              0.8888888888888888,
              "#fdca26"
             ],
             [
              1,
              "#f0f921"
             ]
            ],
            "type": "histogram2dcontour"
           }
          ],
          "mesh3d": [
           {
            "colorbar": {
             "outlinewidth": 0,
             "ticks": ""
            },
            "type": "mesh3d"
           }
          ],
          "parcoords": [
           {
            "line": {
             "colorbar": {
              "outlinewidth": 0,
              "ticks": ""
             }
            },
            "type": "parcoords"
           }
          ],
          "pie": [
           {
            "automargin": true,
            "type": "pie"
           }
          ],
          "scatter": [
           {
            "fillpattern": {
             "fillmode": "overlay",
             "size": 10,
             "solidity": 0.2
            },
            "type": "scatter"
           }
          ],
          "scatter3d": [
           {
            "line": {
             "colorbar": {
              "outlinewidth": 0,
              "ticks": ""
             }
            },
            "marker": {
             "colorbar": {
              "outlinewidth": 0,
              "ticks": ""
             }
            },
            "type": "scatter3d"
           }
          ],
          "scattercarpet": [
           {
            "marker": {
             "colorbar": {
              "outlinewidth": 0,
              "ticks": ""
             }
            },
            "type": "scattercarpet"
           }
          ],
          "scattergeo": [
           {
            "marker": {
             "colorbar": {
              "outlinewidth": 0,
              "ticks": ""
             }
            },
            "type": "scattergeo"
           }
          ],
          "scattergl": [
           {
            "marker": {
             "colorbar": {
              "outlinewidth": 0,
              "ticks": ""
             }
            },
            "type": "scattergl"
           }
          ],
          "scattermapbox": [
           {
            "marker": {
             "colorbar": {
              "outlinewidth": 0,
              "ticks": ""
             }
            },
            "type": "scattermapbox"
           }
          ],
          "scatterpolar": [
           {
            "marker": {
             "colorbar": {
              "outlinewidth": 0,
              "ticks": ""
             }
            },
            "type": "scatterpolar"
           }
          ],
          "scatterpolargl": [
           {
            "marker": {
             "colorbar": {
              "outlinewidth": 0,
              "ticks": ""
             }
            },
            "type": "scatterpolargl"
           }
          ],
          "scatterternary": [
           {
            "marker": {
             "colorbar": {
              "outlinewidth": 0,
              "ticks": ""
             }
            },
            "type": "scatterternary"
           }
          ],
          "surface": [
           {
            "colorbar": {
             "outlinewidth": 0,
             "ticks": ""
            },
            "colorscale": [
             [
              0,
              "#0d0887"
             ],
             [
              0.1111111111111111,
              "#46039f"
             ],
             [
              0.2222222222222222,
              "#7201a8"
             ],
             [
              0.3333333333333333,
              "#9c179e"
             ],
             [
              0.4444444444444444,
              "#bd3786"
             ],
             [
              0.5555555555555556,
              "#d8576b"
             ],
             [
              0.6666666666666666,
              "#ed7953"
             ],
             [
              0.7777777777777778,
              "#fb9f3a"
             ],
             [
              0.8888888888888888,
              "#fdca26"
             ],
             [
              1,
              "#f0f921"
             ]
            ],
            "type": "surface"
           }
          ],
          "table": [
           {
            "cells": {
             "fill": {
              "color": "#EBF0F8"
             },
             "line": {
              "color": "white"
             }
            },
            "header": {
             "fill": {
              "color": "#C8D4E3"
             },
             "line": {
              "color": "white"
             }
            },
            "type": "table"
           }
          ]
         },
         "layout": {
          "annotationdefaults": {
           "arrowcolor": "#2a3f5f",
           "arrowhead": 0,
           "arrowwidth": 1
          },
          "autotypenumbers": "strict",
          "coloraxis": {
           "colorbar": {
            "outlinewidth": 0,
            "ticks": ""
           }
          },
          "colorscale": {
           "diverging": [
            [
             0,
             "#8e0152"
            ],
            [
             0.1,
             "#c51b7d"
            ],
            [
             0.2,
             "#de77ae"
            ],
            [
             0.3,
             "#f1b6da"
            ],
            [
             0.4,
             "#fde0ef"
            ],
            [
             0.5,
             "#f7f7f7"
            ],
            [
             0.6,
             "#e6f5d0"
            ],
            [
             0.7,
             "#b8e186"
            ],
            [
             0.8,
             "#7fbc41"
            ],
            [
             0.9,
             "#4d9221"
            ],
            [
             1,
             "#276419"
            ]
           ],
           "sequential": [
            [
             0,
             "#0d0887"
            ],
            [
             0.1111111111111111,
             "#46039f"
            ],
            [
             0.2222222222222222,
             "#7201a8"
            ],
            [
             0.3333333333333333,
             "#9c179e"
            ],
            [
             0.4444444444444444,
             "#bd3786"
            ],
            [
             0.5555555555555556,
             "#d8576b"
            ],
            [
             0.6666666666666666,
             "#ed7953"
            ],
            [
             0.7777777777777778,
             "#fb9f3a"
            ],
            [
             0.8888888888888888,
             "#fdca26"
            ],
            [
             1,
             "#f0f921"
            ]
           ],
           "sequentialminus": [
            [
             0,
             "#0d0887"
            ],
            [
             0.1111111111111111,
             "#46039f"
            ],
            [
             0.2222222222222222,
             "#7201a8"
            ],
            [
             0.3333333333333333,
             "#9c179e"
            ],
            [
             0.4444444444444444,
             "#bd3786"
            ],
            [
             0.5555555555555556,
             "#d8576b"
            ],
            [
             0.6666666666666666,
             "#ed7953"
            ],
            [
             0.7777777777777778,
             "#fb9f3a"
            ],
            [
             0.8888888888888888,
             "#fdca26"
            ],
            [
             1,
             "#f0f921"
            ]
           ]
          },
          "colorway": [
           "#636efa",
           "#EF553B",
           "#00cc96",
           "#ab63fa",
           "#FFA15A",
           "#19d3f3",
           "#FF6692",
           "#B6E880",
           "#FF97FF",
           "#FECB52"
          ],
          "font": {
           "color": "#2a3f5f"
          },
          "geo": {
           "bgcolor": "white",
           "lakecolor": "white",
           "landcolor": "#E5ECF6",
           "showlakes": true,
           "showland": true,
           "subunitcolor": "white"
          },
          "hoverlabel": {
           "align": "left"
          },
          "hovermode": "closest",
          "mapbox": {
           "style": "light"
          },
          "paper_bgcolor": "white",
          "plot_bgcolor": "#E5ECF6",
          "polar": {
           "angularaxis": {
            "gridcolor": "white",
            "linecolor": "white",
            "ticks": ""
           },
           "bgcolor": "#E5ECF6",
           "radialaxis": {
            "gridcolor": "white",
            "linecolor": "white",
            "ticks": ""
           }
          },
          "scene": {
           "xaxis": {
            "backgroundcolor": "#E5ECF6",
            "gridcolor": "white",
            "gridwidth": 2,
            "linecolor": "white",
            "showbackground": true,
            "ticks": "",
            "zerolinecolor": "white"
           },
           "yaxis": {
            "backgroundcolor": "#E5ECF6",
            "gridcolor": "white",
            "gridwidth": 2,
            "linecolor": "white",
            "showbackground": true,
            "ticks": "",
            "zerolinecolor": "white"
           },
           "zaxis": {
            "backgroundcolor": "#E5ECF6",
            "gridcolor": "white",
            "gridwidth": 2,
            "linecolor": "white",
            "showbackground": true,
            "ticks": "",
            "zerolinecolor": "white"
           }
          },
          "shapedefaults": {
           "line": {
            "color": "#2a3f5f"
           }
          },
          "ternary": {
           "aaxis": {
            "gridcolor": "white",
            "linecolor": "white",
            "ticks": ""
           },
           "baxis": {
            "gridcolor": "white",
            "linecolor": "white",
            "ticks": ""
           },
           "bgcolor": "#E5ECF6",
           "caxis": {
            "gridcolor": "white",
            "linecolor": "white",
            "ticks": ""
           }
          },
          "title": {
           "x": 0.05
          },
          "xaxis": {
           "automargin": true,
           "gridcolor": "white",
           "linecolor": "white",
           "ticks": "",
           "title": {
            "standoff": 15
           },
           "zerolinecolor": "white",
           "zerolinewidth": 2
          },
          "yaxis": {
           "automargin": true,
           "gridcolor": "white",
           "linecolor": "white",
           "ticks": "",
           "title": {
            "standoff": 15
           },
           "zerolinecolor": "white",
           "zerolinewidth": 2
          }
         }
        },
        "xaxis": {
         "anchor": "y",
         "categoryarray": [
          "Eolic",
          "Nuclear",
          "Combined Cycle",
          "Cogeneration",
          "Hydraulic UGH",
          "Total Imports",
          "Photovoltaic Solar",
          "Hydraulic No UGH",
          "Photovoltaic Thermal",
          "Carbon",
          "Other Renewables",
          "Non-renewable Residuals",
          "Pumping Turbine",
          "Domestic Residuals",
          "Other Residuals"
         ],
         "categoryorder": "array",
         "domain": [
          0,
          1
         ],
         "title": {
          "text": "technology"
         }
        },
        "yaxis": {
         "anchor": "x",
         "domain": [
          0,
          1
         ],
         "title": {
          "text": "generation_mwh"
         }
        }
       }
      }
     },
     "metadata": {},
     "output_type": "display_data"
    }
   ],
   "source": [
    "px.bar(data_frame=dfres, x='technology', y='generation_mwh', color='technology')"
   ]
  },
  {
   "cell_type": "markdown",
   "id": "e4bd7a99-37ae-471c-9366-92f10bc86d1f",
   "metadata": {},
   "source": [
    "### Customize the bar plot\n",
    "\n",
    "#### Make the bars horizontal"
   ]
  },
  {
   "cell_type": "code",
   "execution_count": 15,
   "id": "5e668bfa-6d0d-48d3-883e-0865bb5c51cb",
   "metadata": {},
   "outputs": [
    {
     "data": {
      "application/vnd.plotly.v1+json": {
       "config": {
        "plotlyServerURL": "https://plot.ly"
       },
       "data": [
        {
         "alignmentgroup": "True",
         "hovertemplate": "technology=%{y}<br>generation_mwh=%{x}<extra></extra>",
         "legendgroup": "Eolic",
         "marker": {
          "color": "#636efa",
          "pattern": {
           "shape": ""
          }
         },
         "name": "Eolic",
         "offsetgroup": "Eolic",
         "orientation": "h",
         "showlegend": true,
         "textposition": "auto",
         "type": "bar",
         "x": [
          59798598.5
         ],
         "xaxis": "x",
         "y": [
          "Eolic"
         ],
         "yaxis": "y"
        },
        {
         "alignmentgroup": "True",
         "hovertemplate": "technology=%{y}<br>generation_mwh=%{x}<extra></extra>",
         "legendgroup": "Nuclear",
         "marker": {
          "color": "#EF553B",
          "pattern": {
           "shape": ""
          }
         },
         "name": "Nuclear",
         "offsetgroup": "Nuclear",
         "orientation": "h",
         "showlegend": true,
         "textposition": "auto",
         "type": "bar",
         "x": [
          54124826.1
         ],
         "xaxis": "x",
         "y": [
          "Nuclear"
         ],
         "yaxis": "y"
        },
        {
         "alignmentgroup": "True",
         "hovertemplate": "technology=%{y}<br>generation_mwh=%{x}<extra></extra>",
         "legendgroup": "Combined Cycle",
         "marker": {
          "color": "#00cc96",
          "pattern": {
           "shape": ""
          }
         },
         "name": "Combined Cycle",
         "offsetgroup": "Combined Cycle",
         "orientation": "h",
         "showlegend": true,
         "textposition": "auto",
         "type": "bar",
         "x": [
          37818619.7
         ],
         "xaxis": "x",
         "y": [
          "Combined Cycle"
         ],
         "yaxis": "y"
        },
        {
         "alignmentgroup": "True",
         "hovertemplate": "technology=%{y}<br>generation_mwh=%{x}<extra></extra>",
         "legendgroup": "Cogeneration",
         "marker": {
          "color": "#ab63fa",
          "pattern": {
           "shape": ""
          }
         },
         "name": "Cogeneration",
         "offsetgroup": "Cogeneration",
         "orientation": "h",
         "showlegend": true,
         "textposition": "auto",
         "type": "bar",
         "x": [
          26373562.5
         ],
         "xaxis": "x",
         "y": [
          "Cogeneration"
         ],
         "yaxis": "y"
        },
        {
         "alignmentgroup": "True",
         "hovertemplate": "technology=%{y}<br>generation_mwh=%{x}<extra></extra>",
         "legendgroup": "Hydraulic UGH",
         "marker": {
          "color": "#FFA15A",
          "pattern": {
           "shape": ""
          }
         },
         "name": "Hydraulic UGH",
         "offsetgroup": "Hydraulic UGH",
         "orientation": "h",
         "showlegend": true,
         "textposition": "auto",
         "type": "bar",
         "x": [
          24293665.7
         ],
         "xaxis": "x",
         "y": [
          "Hydraulic UGH"
         ],
         "yaxis": "y"
        },
        {
         "alignmentgroup": "True",
         "hovertemplate": "technology=%{y}<br>generation_mwh=%{x}<extra></extra>",
         "legendgroup": "Total Imports",
         "marker": {
          "color": "#19d3f3",
          "pattern": {
           "shape": ""
          }
         },
         "name": "Total Imports",
         "offsetgroup": "Total Imports",
         "orientation": "h",
         "showlegend": true,
         "textposition": "auto",
         "type": "bar",
         "x": [
          21604101
         ],
         "xaxis": "x",
         "y": [
          "Total Imports"
         ],
         "yaxis": "y"
        },
        {
         "alignmentgroup": "True",
         "hovertemplate": "technology=%{y}<br>generation_mwh=%{x}<extra></extra>",
         "legendgroup": "Photovoltaic Solar",
         "marker": {
          "color": "#FF6692",
          "pattern": {
           "shape": ""
          }
         },
         "name": "Photovoltaic Solar",
         "offsetgroup": "Photovoltaic Solar",
         "orientation": "h",
         "showlegend": true,
         "textposition": "auto",
         "type": "bar",
         "x": [
          20560541.2
         ],
         "xaxis": "x",
         "y": [
          "Photovoltaic Solar"
         ],
         "yaxis": "y"
        },
        {
         "alignmentgroup": "True",
         "hovertemplate": "technology=%{y}<br>generation_mwh=%{x}<extra></extra>",
         "legendgroup": "Hydraulic No UGH",
         "marker": {
          "color": "#B6E880",
          "pattern": {
           "shape": ""
          }
         },
         "name": "Hydraulic No UGH",
         "offsetgroup": "Hydraulic No UGH",
         "orientation": "h",
         "showlegend": true,
         "textposition": "auto",
         "type": "bar",
         "x": [
          5259688
         ],
         "xaxis": "x",
         "y": [
          "Hydraulic No UGH"
         ],
         "yaxis": "y"
        },
        {
         "alignmentgroup": "True",
         "hovertemplate": "technology=%{y}<br>generation_mwh=%{x}<extra></extra>",
         "legendgroup": "Photovoltaic Thermal",
         "marker": {
          "color": "#FF97FF",
          "pattern": {
           "shape": ""
          }
         },
         "name": "Photovoltaic Thermal",
         "offsetgroup": "Photovoltaic Thermal",
         "orientation": "h",
         "showlegend": true,
         "textposition": "auto",
         "type": "bar",
         "x": [
          5042200.9
         ],
         "xaxis": "x",
         "y": [
          "Photovoltaic Thermal"
         ],
         "yaxis": "y"
        },
        {
         "alignmentgroup": "True",
         "hovertemplate": "technology=%{y}<br>generation_mwh=%{x}<extra></extra>",
         "legendgroup": "Carbon",
         "marker": {
          "color": "#FECB52",
          "pattern": {
           "shape": ""
          }
         },
         "name": "Carbon",
         "offsetgroup": "Carbon",
         "orientation": "h",
         "showlegend": true,
         "textposition": "auto",
         "type": "bar",
         "x": [
          5016801.7
         ],
         "xaxis": "x",
         "y": [
          "Carbon"
         ],
         "yaxis": "y"
        },
        {
         "alignmentgroup": "True",
         "hovertemplate": "technology=%{y}<br>generation_mwh=%{x}<extra></extra>",
         "legendgroup": "Other Renewables",
         "marker": {
          "color": "#636efa",
          "pattern": {
           "shape": ""
          }
         },
         "name": "Other Renewables",
         "offsetgroup": "Other Renewables",
         "orientation": "h",
         "showlegend": true,
         "textposition": "auto",
         "type": "bar",
         "x": [
          4811035.1
         ],
         "xaxis": "x",
         "y": [
          "Other Renewables"
         ],
         "yaxis": "y"
        },
        {
         "alignmentgroup": "True",
         "hovertemplate": "technology=%{y}<br>generation_mwh=%{x}<extra></extra>",
         "legendgroup": "Non-renewable Residuals",
         "marker": {
          "color": "#EF553B",
          "pattern": {
           "shape": ""
          }
         },
         "name": "Non-renewable Residuals",
         "offsetgroup": "Non-renewable Residuals",
         "orientation": "h",
         "showlegend": true,
         "textposition": "auto",
         "type": "bar",
         "x": [
          2885383.4
         ],
         "xaxis": "x",
         "y": [
          "Non-renewable Residuals"
         ],
         "yaxis": "y"
        },
        {
         "alignmentgroup": "True",
         "hovertemplate": "technology=%{y}<br>generation_mwh=%{x}<extra></extra>",
         "legendgroup": "Pumping Turbine",
         "marker": {
          "color": "#00cc96",
          "pattern": {
           "shape": ""
          }
         },
         "name": "Pumping Turbine",
         "offsetgroup": "Pumping Turbine",
         "orientation": "h",
         "showlegend": true,
         "textposition": "auto",
         "type": "bar",
         "x": [
          2475511.7
         ],
         "xaxis": "x",
         "y": [
          "Pumping Turbine"
         ],
         "yaxis": "y"
        },
        {
         "alignmentgroup": "True",
         "hovertemplate": "technology=%{y}<br>generation_mwh=%{x}<extra></extra>",
         "legendgroup": "Domestic Residuals",
         "marker": {
          "color": "#ab63fa",
          "pattern": {
           "shape": ""
          }
         },
         "name": "Domestic Residuals",
         "offsetgroup": "Domestic Residuals",
         "orientation": "h",
         "showlegend": true,
         "textposition": "auto",
         "type": "bar",
         "x": [
          1519093.9
         ],
         "xaxis": "x",
         "y": [
          "Domestic Residuals"
         ],
         "yaxis": "y"
        },
        {
         "alignmentgroup": "True",
         "hovertemplate": "technology=%{y}<br>generation_mwh=%{x}<extra></extra>",
         "legendgroup": "Other Residuals",
         "marker": {
          "color": "#FFA15A",
          "pattern": {
           "shape": ""
          }
         },
         "name": "Other Residuals",
         "offsetgroup": "Other Residuals",
         "orientation": "h",
         "showlegend": true,
         "textposition": "auto",
         "type": "bar",
         "x": [
          1019779.2
         ],
         "xaxis": "x",
         "y": [
          "Other Residuals"
         ],
         "yaxis": "y"
        }
       ],
       "layout": {
        "barmode": "relative",
        "legend": {
         "title": {
          "text": "technology"
         },
         "tracegroupgap": 0
        },
        "margin": {
         "t": 60
        },
        "template": {
         "data": {
          "bar": [
           {
            "error_x": {
             "color": "#2a3f5f"
            },
            "error_y": {
             "color": "#2a3f5f"
            },
            "marker": {
             "line": {
              "color": "#E5ECF6",
              "width": 0.5
             },
             "pattern": {
              "fillmode": "overlay",
              "size": 10,
              "solidity": 0.2
             }
            },
            "type": "bar"
           }
          ],
          "barpolar": [
           {
            "marker": {
             "line": {
              "color": "#E5ECF6",
              "width": 0.5
             },
             "pattern": {
              "fillmode": "overlay",
              "size": 10,
              "solidity": 0.2
             }
            },
            "type": "barpolar"
           }
          ],
          "carpet": [
           {
            "aaxis": {
             "endlinecolor": "#2a3f5f",
             "gridcolor": "white",
             "linecolor": "white",
             "minorgridcolor": "white",
             "startlinecolor": "#2a3f5f"
            },
            "baxis": {
             "endlinecolor": "#2a3f5f",
             "gridcolor": "white",
             "linecolor": "white",
             "minorgridcolor": "white",
             "startlinecolor": "#2a3f5f"
            },
            "type": "carpet"
           }
          ],
          "choropleth": [
           {
            "colorbar": {
             "outlinewidth": 0,
             "ticks": ""
            },
            "type": "choropleth"
           }
          ],
          "contour": [
           {
            "colorbar": {
             "outlinewidth": 0,
             "ticks": ""
            },
            "colorscale": [
             [
              0,
              "#0d0887"
             ],
             [
              0.1111111111111111,
              "#46039f"
             ],
             [
              0.2222222222222222,
              "#7201a8"
             ],
             [
              0.3333333333333333,
              "#9c179e"
             ],
             [
              0.4444444444444444,
              "#bd3786"
             ],
             [
              0.5555555555555556,
              "#d8576b"
             ],
             [
              0.6666666666666666,
              "#ed7953"
             ],
             [
              0.7777777777777778,
              "#fb9f3a"
             ],
             [
              0.8888888888888888,
              "#fdca26"
             ],
             [
              1,
              "#f0f921"
             ]
            ],
            "type": "contour"
           }
          ],
          "contourcarpet": [
           {
            "colorbar": {
             "outlinewidth": 0,
             "ticks": ""
            },
            "type": "contourcarpet"
           }
          ],
          "heatmap": [
           {
            "colorbar": {
             "outlinewidth": 0,
             "ticks": ""
            },
            "colorscale": [
             [
              0,
              "#0d0887"
             ],
             [
              0.1111111111111111,
              "#46039f"
             ],
             [
              0.2222222222222222,
              "#7201a8"
             ],
             [
              0.3333333333333333,
              "#9c179e"
             ],
             [
              0.4444444444444444,
              "#bd3786"
             ],
             [
              0.5555555555555556,
              "#d8576b"
             ],
             [
              0.6666666666666666,
              "#ed7953"
             ],
             [
              0.7777777777777778,
              "#fb9f3a"
             ],
             [
              0.8888888888888888,
              "#fdca26"
             ],
             [
              1,
              "#f0f921"
             ]
            ],
            "type": "heatmap"
           }
          ],
          "heatmapgl": [
           {
            "colorbar": {
             "outlinewidth": 0,
             "ticks": ""
            },
            "colorscale": [
             [
              0,
              "#0d0887"
             ],
             [
              0.1111111111111111,
              "#46039f"
             ],
             [
              0.2222222222222222,
              "#7201a8"
             ],
             [
              0.3333333333333333,
              "#9c179e"
             ],
             [
              0.4444444444444444,
              "#bd3786"
             ],
             [
              0.5555555555555556,
              "#d8576b"
             ],
             [
              0.6666666666666666,
              "#ed7953"
             ],
             [
              0.7777777777777778,
              "#fb9f3a"
             ],
             [
              0.8888888888888888,
              "#fdca26"
             ],
             [
              1,
              "#f0f921"
             ]
            ],
            "type": "heatmapgl"
           }
          ],
          "histogram": [
           {
            "marker": {
             "pattern": {
              "fillmode": "overlay",
              "size": 10,
              "solidity": 0.2
             }
            },
            "type": "histogram"
           }
          ],
          "histogram2d": [
           {
            "colorbar": {
             "outlinewidth": 0,
             "ticks": ""
            },
            "colorscale": [
             [
              0,
              "#0d0887"
             ],
             [
              0.1111111111111111,
              "#46039f"
             ],
             [
              0.2222222222222222,
              "#7201a8"
             ],
             [
              0.3333333333333333,
              "#9c179e"
             ],
             [
              0.4444444444444444,
              "#bd3786"
             ],
             [
              0.5555555555555556,
              "#d8576b"
             ],
             [
              0.6666666666666666,
              "#ed7953"
             ],
             [
              0.7777777777777778,
              "#fb9f3a"
             ],
             [
              0.8888888888888888,
              "#fdca26"
             ],
             [
              1,
              "#f0f921"
             ]
            ],
            "type": "histogram2d"
           }
          ],
          "histogram2dcontour": [
           {
            "colorbar": {
             "outlinewidth": 0,
             "ticks": ""
            },
            "colorscale": [
             [
              0,
              "#0d0887"
             ],
             [
              0.1111111111111111,
              "#46039f"
             ],
             [
              0.2222222222222222,
              "#7201a8"
             ],
             [
              0.3333333333333333,
              "#9c179e"
             ],
             [
              0.4444444444444444,
              "#bd3786"
             ],
             [
              0.5555555555555556,
              "#d8576b"
             ],
             [
              0.6666666666666666,
              "#ed7953"
             ],
             [
              0.7777777777777778,
              "#fb9f3a"
             ],
             [
              0.8888888888888888,
              "#fdca26"
             ],
             [
              1,
              "#f0f921"
             ]
            ],
            "type": "histogram2dcontour"
           }
          ],
          "mesh3d": [
           {
            "colorbar": {
             "outlinewidth": 0,
             "ticks": ""
            },
            "type": "mesh3d"
           }
          ],
          "parcoords": [
           {
            "line": {
             "colorbar": {
              "outlinewidth": 0,
              "ticks": ""
             }
            },
            "type": "parcoords"
           }
          ],
          "pie": [
           {
            "automargin": true,
            "type": "pie"
           }
          ],
          "scatter": [
           {
            "fillpattern": {
             "fillmode": "overlay",
             "size": 10,
             "solidity": 0.2
            },
            "type": "scatter"
           }
          ],
          "scatter3d": [
           {
            "line": {
             "colorbar": {
              "outlinewidth": 0,
              "ticks": ""
             }
            },
            "marker": {
             "colorbar": {
              "outlinewidth": 0,
              "ticks": ""
             }
            },
            "type": "scatter3d"
           }
          ],
          "scattercarpet": [
           {
            "marker": {
             "colorbar": {
              "outlinewidth": 0,
              "ticks": ""
             }
            },
            "type": "scattercarpet"
           }
          ],
          "scattergeo": [
           {
            "marker": {
             "colorbar": {
              "outlinewidth": 0,
              "ticks": ""
             }
            },
            "type": "scattergeo"
           }
          ],
          "scattergl": [
           {
            "marker": {
             "colorbar": {
              "outlinewidth": 0,
              "ticks": ""
             }
            },
            "type": "scattergl"
           }
          ],
          "scattermapbox": [
           {
            "marker": {
             "colorbar": {
              "outlinewidth": 0,
              "ticks": ""
             }
            },
            "type": "scattermapbox"
           }
          ],
          "scatterpolar": [
           {
            "marker": {
             "colorbar": {
              "outlinewidth": 0,
              "ticks": ""
             }
            },
            "type": "scatterpolar"
           }
          ],
          "scatterpolargl": [
           {
            "marker": {
             "colorbar": {
              "outlinewidth": 0,
              "ticks": ""
             }
            },
            "type": "scatterpolargl"
           }
          ],
          "scatterternary": [
           {
            "marker": {
             "colorbar": {
              "outlinewidth": 0,
              "ticks": ""
             }
            },
            "type": "scatterternary"
           }
          ],
          "surface": [
           {
            "colorbar": {
             "outlinewidth": 0,
             "ticks": ""
            },
            "colorscale": [
             [
              0,
              "#0d0887"
             ],
             [
              0.1111111111111111,
              "#46039f"
             ],
             [
              0.2222222222222222,
              "#7201a8"
             ],
             [
              0.3333333333333333,
              "#9c179e"
             ],
             [
              0.4444444444444444,
              "#bd3786"
             ],
             [
              0.5555555555555556,
              "#d8576b"
             ],
             [
              0.6666666666666666,
              "#ed7953"
             ],
             [
              0.7777777777777778,
              "#fb9f3a"
             ],
             [
              0.8888888888888888,
              "#fdca26"
             ],
             [
              1,
              "#f0f921"
             ]
            ],
            "type": "surface"
           }
          ],
          "table": [
           {
            "cells": {
             "fill": {
              "color": "#EBF0F8"
             },
             "line": {
              "color": "white"
             }
            },
            "header": {
             "fill": {
              "color": "#C8D4E3"
             },
             "line": {
              "color": "white"
             }
            },
            "type": "table"
           }
          ]
         },
         "layout": {
          "annotationdefaults": {
           "arrowcolor": "#2a3f5f",
           "arrowhead": 0,
           "arrowwidth": 1
          },
          "autotypenumbers": "strict",
          "coloraxis": {
           "colorbar": {
            "outlinewidth": 0,
            "ticks": ""
           }
          },
          "colorscale": {
           "diverging": [
            [
             0,
             "#8e0152"
            ],
            [
             0.1,
             "#c51b7d"
            ],
            [
             0.2,
             "#de77ae"
            ],
            [
             0.3,
             "#f1b6da"
            ],
            [
             0.4,
             "#fde0ef"
            ],
            [
             0.5,
             "#f7f7f7"
            ],
            [
             0.6,
             "#e6f5d0"
            ],
            [
             0.7,
             "#b8e186"
            ],
            [
             0.8,
             "#7fbc41"
            ],
            [
             0.9,
             "#4d9221"
            ],
            [
             1,
             "#276419"
            ]
           ],
           "sequential": [
            [
             0,
             "#0d0887"
            ],
            [
             0.1111111111111111,
             "#46039f"
            ],
            [
             0.2222222222222222,
             "#7201a8"
            ],
            [
             0.3333333333333333,
             "#9c179e"
            ],
            [
             0.4444444444444444,
             "#bd3786"
            ],
            [
             0.5555555555555556,
             "#d8576b"
            ],
            [
             0.6666666666666666,
             "#ed7953"
            ],
            [
             0.7777777777777778,
             "#fb9f3a"
            ],
            [
             0.8888888888888888,
             "#fdca26"
            ],
            [
             1,
             "#f0f921"
            ]
           ],
           "sequentialminus": [
            [
             0,
             "#0d0887"
            ],
            [
             0.1111111111111111,
             "#46039f"
            ],
            [
             0.2222222222222222,
             "#7201a8"
            ],
            [
             0.3333333333333333,
             "#9c179e"
            ],
            [
             0.4444444444444444,
             "#bd3786"
            ],
            [
             0.5555555555555556,
             "#d8576b"
            ],
            [
             0.6666666666666666,
             "#ed7953"
            ],
            [
             0.7777777777777778,
             "#fb9f3a"
            ],
            [
             0.8888888888888888,
             "#fdca26"
            ],
            [
             1,
             "#f0f921"
            ]
           ]
          },
          "colorway": [
           "#636efa",
           "#EF553B",
           "#00cc96",
           "#ab63fa",
           "#FFA15A",
           "#19d3f3",
           "#FF6692",
           "#B6E880",
           "#FF97FF",
           "#FECB52"
          ],
          "font": {
           "color": "#2a3f5f"
          },
          "geo": {
           "bgcolor": "white",
           "lakecolor": "white",
           "landcolor": "#E5ECF6",
           "showlakes": true,
           "showland": true,
           "subunitcolor": "white"
          },
          "hoverlabel": {
           "align": "left"
          },
          "hovermode": "closest",
          "mapbox": {
           "style": "light"
          },
          "paper_bgcolor": "white",
          "plot_bgcolor": "#E5ECF6",
          "polar": {
           "angularaxis": {
            "gridcolor": "white",
            "linecolor": "white",
            "ticks": ""
           },
           "bgcolor": "#E5ECF6",
           "radialaxis": {
            "gridcolor": "white",
            "linecolor": "white",
            "ticks": ""
           }
          },
          "scene": {
           "xaxis": {
            "backgroundcolor": "#E5ECF6",
            "gridcolor": "white",
            "gridwidth": 2,
            "linecolor": "white",
            "showbackground": true,
            "ticks": "",
            "zerolinecolor": "white"
           },
           "yaxis": {
            "backgroundcolor": "#E5ECF6",
            "gridcolor": "white",
            "gridwidth": 2,
            "linecolor": "white",
            "showbackground": true,
            "ticks": "",
            "zerolinecolor": "white"
           },
           "zaxis": {
            "backgroundcolor": "#E5ECF6",
            "gridcolor": "white",
            "gridwidth": 2,
            "linecolor": "white",
            "showbackground": true,
            "ticks": "",
            "zerolinecolor": "white"
           }
          },
          "shapedefaults": {
           "line": {
            "color": "#2a3f5f"
           }
          },
          "ternary": {
           "aaxis": {
            "gridcolor": "white",
            "linecolor": "white",
            "ticks": ""
           },
           "baxis": {
            "gridcolor": "white",
            "linecolor": "white",
            "ticks": ""
           },
           "bgcolor": "#E5ECF6",
           "caxis": {
            "gridcolor": "white",
            "linecolor": "white",
            "ticks": ""
           }
          },
          "title": {
           "x": 0.05
          },
          "xaxis": {
           "automargin": true,
           "gridcolor": "white",
           "linecolor": "white",
           "ticks": "",
           "title": {
            "standoff": 15
           },
           "zerolinecolor": "white",
           "zerolinewidth": 2
          },
          "yaxis": {
           "automargin": true,
           "gridcolor": "white",
           "linecolor": "white",
           "ticks": "",
           "title": {
            "standoff": 15
           },
           "zerolinecolor": "white",
           "zerolinewidth": 2
          }
         }
        },
        "xaxis": {
         "anchor": "y",
         "domain": [
          0,
          1
         ],
         "title": {
          "text": "generation_mwh"
         }
        },
        "yaxis": {
         "anchor": "x",
         "categoryarray": [
          "Other Residuals",
          "Domestic Residuals",
          "Pumping Turbine",
          "Non-renewable Residuals",
          "Other Renewables",
          "Carbon",
          "Photovoltaic Thermal",
          "Hydraulic No UGH",
          "Photovoltaic Solar",
          "Total Imports",
          "Hydraulic UGH",
          "Cogeneration",
          "Combined Cycle",
          "Nuclear",
          "Eolic"
         ],
         "categoryorder": "array",
         "domain": [
          0,
          1
         ],
         "title": {
          "text": "technology"
         }
        }
       }
      }
     },
     "metadata": {},
     "output_type": "display_data"
    }
   ],
   "source": [
    "px.bar(data_frame=dfres, x='generation_mwh', y='technology', color='technology') \n",
    "#if color is enabled the data is already sorted"
   ]
  },
  {
   "cell_type": "code",
   "execution_count": 16,
   "id": "d10ff824-6f7c-44cc-bfac-f0e5bab7440b",
   "metadata": {},
   "outputs": [
    {
     "data": {
      "application/vnd.plotly.v1+json": {
       "config": {
        "plotlyServerURL": "https://plot.ly"
       },
       "data": [
        {
         "alignmentgroup": "True",
         "hovertemplate": "generation_mwh=%{marker.color}<br>technology=%{y}<extra></extra>",
         "legendgroup": "",
         "marker": {
          "color": [
           59798598.5,
           54124826.1,
           37818619.7,
           26373562.5,
           24293665.7,
           21604101,
           20560541.2,
           5259688,
           5042200.9,
           5016801.7,
           4811035.1,
           2885383.4,
           2475511.7,
           1519093.9,
           1019779.2
          ],
          "coloraxis": "coloraxis",
          "pattern": {
           "shape": ""
          }
         },
         "name": "",
         "offsetgroup": "",
         "orientation": "h",
         "showlegend": false,
         "textposition": "auto",
         "type": "bar",
         "x": [
          59798598.5,
          54124826.1,
          37818619.7,
          26373562.5,
          24293665.7,
          21604101,
          20560541.2,
          5259688,
          5042200.9,
          5016801.7,
          4811035.1,
          2885383.4,
          2475511.7,
          1519093.9,
          1019779.2
         ],
         "xaxis": "x",
         "y": [
          "Eolic",
          "Nuclear",
          "Combined Cycle",
          "Cogeneration",
          "Hydraulic UGH",
          "Total Imports",
          "Photovoltaic Solar",
          "Hydraulic No UGH",
          "Photovoltaic Thermal",
          "Carbon",
          "Other Renewables",
          "Non-renewable Residuals",
          "Pumping Turbine",
          "Domestic Residuals",
          "Other Residuals"
         ],
         "yaxis": "y"
        }
       ],
       "layout": {
        "barmode": "relative",
        "coloraxis": {
         "colorbar": {
          "title": {
           "text": "generation_mwh"
          }
         },
         "colorscale": [
          [
           0,
           "#0d0887"
          ],
          [
           0.1111111111111111,
           "#46039f"
          ],
          [
           0.2222222222222222,
           "#7201a8"
          ],
          [
           0.3333333333333333,
           "#9c179e"
          ],
          [
           0.4444444444444444,
           "#bd3786"
          ],
          [
           0.5555555555555556,
           "#d8576b"
          ],
          [
           0.6666666666666666,
           "#ed7953"
          ],
          [
           0.7777777777777778,
           "#fb9f3a"
          ],
          [
           0.8888888888888888,
           "#fdca26"
          ],
          [
           1,
           "#f0f921"
          ]
         ]
        },
        "legend": {
         "tracegroupgap": 0
        },
        "margin": {
         "t": 60
        },
        "template": {
         "data": {
          "bar": [
           {
            "error_x": {
             "color": "#2a3f5f"
            },
            "error_y": {
             "color": "#2a3f5f"
            },
            "marker": {
             "line": {
              "color": "#E5ECF6",
              "width": 0.5
             },
             "pattern": {
              "fillmode": "overlay",
              "size": 10,
              "solidity": 0.2
             }
            },
            "type": "bar"
           }
          ],
          "barpolar": [
           {
            "marker": {
             "line": {
              "color": "#E5ECF6",
              "width": 0.5
             },
             "pattern": {
              "fillmode": "overlay",
              "size": 10,
              "solidity": 0.2
             }
            },
            "type": "barpolar"
           }
          ],
          "carpet": [
           {
            "aaxis": {
             "endlinecolor": "#2a3f5f",
             "gridcolor": "white",
             "linecolor": "white",
             "minorgridcolor": "white",
             "startlinecolor": "#2a3f5f"
            },
            "baxis": {
             "endlinecolor": "#2a3f5f",
             "gridcolor": "white",
             "linecolor": "white",
             "minorgridcolor": "white",
             "startlinecolor": "#2a3f5f"
            },
            "type": "carpet"
           }
          ],
          "choropleth": [
           {
            "colorbar": {
             "outlinewidth": 0,
             "ticks": ""
            },
            "type": "choropleth"
           }
          ],
          "contour": [
           {
            "colorbar": {
             "outlinewidth": 0,
             "ticks": ""
            },
            "colorscale": [
             [
              0,
              "#0d0887"
             ],
             [
              0.1111111111111111,
              "#46039f"
             ],
             [
              0.2222222222222222,
              "#7201a8"
             ],
             [
              0.3333333333333333,
              "#9c179e"
             ],
             [
              0.4444444444444444,
              "#bd3786"
             ],
             [
              0.5555555555555556,
              "#d8576b"
             ],
             [
              0.6666666666666666,
              "#ed7953"
             ],
             [
              0.7777777777777778,
              "#fb9f3a"
             ],
             [
              0.8888888888888888,
              "#fdca26"
             ],
             [
              1,
              "#f0f921"
             ]
            ],
            "type": "contour"
           }
          ],
          "contourcarpet": [
           {
            "colorbar": {
             "outlinewidth": 0,
             "ticks": ""
            },
            "type": "contourcarpet"
           }
          ],
          "heatmap": [
           {
            "colorbar": {
             "outlinewidth": 0,
             "ticks": ""
            },
            "colorscale": [
             [
              0,
              "#0d0887"
             ],
             [
              0.1111111111111111,
              "#46039f"
             ],
             [
              0.2222222222222222,
              "#7201a8"
             ],
             [
              0.3333333333333333,
              "#9c179e"
             ],
             [
              0.4444444444444444,
              "#bd3786"
             ],
             [
              0.5555555555555556,
              "#d8576b"
             ],
             [
              0.6666666666666666,
              "#ed7953"
             ],
             [
              0.7777777777777778,
              "#fb9f3a"
             ],
             [
              0.8888888888888888,
              "#fdca26"
             ],
             [
              1,
              "#f0f921"
             ]
            ],
            "type": "heatmap"
           }
          ],
          "heatmapgl": [
           {
            "colorbar": {
             "outlinewidth": 0,
             "ticks": ""
            },
            "colorscale": [
             [
              0,
              "#0d0887"
             ],
             [
              0.1111111111111111,
              "#46039f"
             ],
             [
              0.2222222222222222,
              "#7201a8"
             ],
             [
              0.3333333333333333,
              "#9c179e"
             ],
             [
              0.4444444444444444,
              "#bd3786"
             ],
             [
              0.5555555555555556,
              "#d8576b"
             ],
             [
              0.6666666666666666,
              "#ed7953"
             ],
             [
              0.7777777777777778,
              "#fb9f3a"
             ],
             [
              0.8888888888888888,
              "#fdca26"
             ],
             [
              1,
              "#f0f921"
             ]
            ],
            "type": "heatmapgl"
           }
          ],
          "histogram": [
           {
            "marker": {
             "pattern": {
              "fillmode": "overlay",
              "size": 10,
              "solidity": 0.2
             }
            },
            "type": "histogram"
           }
          ],
          "histogram2d": [
           {
            "colorbar": {
             "outlinewidth": 0,
             "ticks": ""
            },
            "colorscale": [
             [
              0,
              "#0d0887"
             ],
             [
              0.1111111111111111,
              "#46039f"
             ],
             [
              0.2222222222222222,
              "#7201a8"
             ],
             [
              0.3333333333333333,
              "#9c179e"
             ],
             [
              0.4444444444444444,
              "#bd3786"
             ],
             [
              0.5555555555555556,
              "#d8576b"
             ],
             [
              0.6666666666666666,
              "#ed7953"
             ],
             [
              0.7777777777777778,
              "#fb9f3a"
             ],
             [
              0.8888888888888888,
              "#fdca26"
             ],
             [
              1,
              "#f0f921"
             ]
            ],
            "type": "histogram2d"
           }
          ],
          "histogram2dcontour": [
           {
            "colorbar": {
             "outlinewidth": 0,
             "ticks": ""
            },
            "colorscale": [
             [
              0,
              "#0d0887"
             ],
             [
              0.1111111111111111,
              "#46039f"
             ],
             [
              0.2222222222222222,
              "#7201a8"
             ],
             [
              0.3333333333333333,
              "#9c179e"
             ],
             [
              0.4444444444444444,
              "#bd3786"
             ],
             [
              0.5555555555555556,
              "#d8576b"
             ],
             [
              0.6666666666666666,
              "#ed7953"
             ],
             [
              0.7777777777777778,
              "#fb9f3a"
             ],
             [
              0.8888888888888888,
              "#fdca26"
             ],
             [
              1,
              "#f0f921"
             ]
            ],
            "type": "histogram2dcontour"
           }
          ],
          "mesh3d": [
           {
            "colorbar": {
             "outlinewidth": 0,
             "ticks": ""
            },
            "type": "mesh3d"
           }
          ],
          "parcoords": [
           {
            "line": {
             "colorbar": {
              "outlinewidth": 0,
              "ticks": ""
             }
            },
            "type": "parcoords"
           }
          ],
          "pie": [
           {
            "automargin": true,
            "type": "pie"
           }
          ],
          "scatter": [
           {
            "fillpattern": {
             "fillmode": "overlay",
             "size": 10,
             "solidity": 0.2
            },
            "type": "scatter"
           }
          ],
          "scatter3d": [
           {
            "line": {
             "colorbar": {
              "outlinewidth": 0,
              "ticks": ""
             }
            },
            "marker": {
             "colorbar": {
              "outlinewidth": 0,
              "ticks": ""
             }
            },
            "type": "scatter3d"
           }
          ],
          "scattercarpet": [
           {
            "marker": {
             "colorbar": {
              "outlinewidth": 0,
              "ticks": ""
             }
            },
            "type": "scattercarpet"
           }
          ],
          "scattergeo": [
           {
            "marker": {
             "colorbar": {
              "outlinewidth": 0,
              "ticks": ""
             }
            },
            "type": "scattergeo"
           }
          ],
          "scattergl": [
           {
            "marker": {
             "colorbar": {
              "outlinewidth": 0,
              "ticks": ""
             }
            },
            "type": "scattergl"
           }
          ],
          "scattermapbox": [
           {
            "marker": {
             "colorbar": {
              "outlinewidth": 0,
              "ticks": ""
             }
            },
            "type": "scattermapbox"
           }
          ],
          "scatterpolar": [
           {
            "marker": {
             "colorbar": {
              "outlinewidth": 0,
              "ticks": ""
             }
            },
            "type": "scatterpolar"
           }
          ],
          "scatterpolargl": [
           {
            "marker": {
             "colorbar": {
              "outlinewidth": 0,
              "ticks": ""
             }
            },
            "type": "scatterpolargl"
           }
          ],
          "scatterternary": [
           {
            "marker": {
             "colorbar": {
              "outlinewidth": 0,
              "ticks": ""
             }
            },
            "type": "scatterternary"
           }
          ],
          "surface": [
           {
            "colorbar": {
             "outlinewidth": 0,
             "ticks": ""
            },
            "colorscale": [
             [
              0,
              "#0d0887"
             ],
             [
              0.1111111111111111,
              "#46039f"
             ],
             [
              0.2222222222222222,
              "#7201a8"
             ],
             [
              0.3333333333333333,
              "#9c179e"
             ],
             [
              0.4444444444444444,
              "#bd3786"
             ],
             [
              0.5555555555555556,
              "#d8576b"
             ],
             [
              0.6666666666666666,
              "#ed7953"
             ],
             [
              0.7777777777777778,
              "#fb9f3a"
             ],
             [
              0.8888888888888888,
              "#fdca26"
             ],
             [
              1,
              "#f0f921"
             ]
            ],
            "type": "surface"
           }
          ],
          "table": [
           {
            "cells": {
             "fill": {
              "color": "#EBF0F8"
             },
             "line": {
              "color": "white"
             }
            },
            "header": {
             "fill": {
              "color": "#C8D4E3"
             },
             "line": {
              "color": "white"
             }
            },
            "type": "table"
           }
          ]
         },
         "layout": {
          "annotationdefaults": {
           "arrowcolor": "#2a3f5f",
           "arrowhead": 0,
           "arrowwidth": 1
          },
          "autotypenumbers": "strict",
          "coloraxis": {
           "colorbar": {
            "outlinewidth": 0,
            "ticks": ""
           }
          },
          "colorscale": {
           "diverging": [
            [
             0,
             "#8e0152"
            ],
            [
             0.1,
             "#c51b7d"
            ],
            [
             0.2,
             "#de77ae"
            ],
            [
             0.3,
             "#f1b6da"
            ],
            [
             0.4,
             "#fde0ef"
            ],
            [
             0.5,
             "#f7f7f7"
            ],
            [
             0.6,
             "#e6f5d0"
            ],
            [
             0.7,
             "#b8e186"
            ],
            [
             0.8,
             "#7fbc41"
            ],
            [
             0.9,
             "#4d9221"
            ],
            [
             1,
             "#276419"
            ]
           ],
           "sequential": [
            [
             0,
             "#0d0887"
            ],
            [
             0.1111111111111111,
             "#46039f"
            ],
            [
             0.2222222222222222,
             "#7201a8"
            ],
            [
             0.3333333333333333,
             "#9c179e"
            ],
            [
             0.4444444444444444,
             "#bd3786"
            ],
            [
             0.5555555555555556,
             "#d8576b"
            ],
            [
             0.6666666666666666,
             "#ed7953"
            ],
            [
             0.7777777777777778,
             "#fb9f3a"
            ],
            [
             0.8888888888888888,
             "#fdca26"
            ],
            [
             1,
             "#f0f921"
            ]
           ],
           "sequentialminus": [
            [
             0,
             "#0d0887"
            ],
            [
             0.1111111111111111,
             "#46039f"
            ],
            [
             0.2222222222222222,
             "#7201a8"
            ],
            [
             0.3333333333333333,
             "#9c179e"
            ],
            [
             0.4444444444444444,
             "#bd3786"
            ],
            [
             0.5555555555555556,
             "#d8576b"
            ],
            [
             0.6666666666666666,
             "#ed7953"
            ],
            [
             0.7777777777777778,
             "#fb9f3a"
            ],
            [
             0.8888888888888888,
             "#fdca26"
            ],
            [
             1,
             "#f0f921"
            ]
           ]
          },
          "colorway": [
           "#636efa",
           "#EF553B",
           "#00cc96",
           "#ab63fa",
           "#FFA15A",
           "#19d3f3",
           "#FF6692",
           "#B6E880",
           "#FF97FF",
           "#FECB52"
          ],
          "font": {
           "color": "#2a3f5f"
          },
          "geo": {
           "bgcolor": "white",
           "lakecolor": "white",
           "landcolor": "#E5ECF6",
           "showlakes": true,
           "showland": true,
           "subunitcolor": "white"
          },
          "hoverlabel": {
           "align": "left"
          },
          "hovermode": "closest",
          "mapbox": {
           "style": "light"
          },
          "paper_bgcolor": "white",
          "plot_bgcolor": "#E5ECF6",
          "polar": {
           "angularaxis": {
            "gridcolor": "white",
            "linecolor": "white",
            "ticks": ""
           },
           "bgcolor": "#E5ECF6",
           "radialaxis": {
            "gridcolor": "white",
            "linecolor": "white",
            "ticks": ""
           }
          },
          "scene": {
           "xaxis": {
            "backgroundcolor": "#E5ECF6",
            "gridcolor": "white",
            "gridwidth": 2,
            "linecolor": "white",
            "showbackground": true,
            "ticks": "",
            "zerolinecolor": "white"
           },
           "yaxis": {
            "backgroundcolor": "#E5ECF6",
            "gridcolor": "white",
            "gridwidth": 2,
            "linecolor": "white",
            "showbackground": true,
            "ticks": "",
            "zerolinecolor": "white"
           },
           "zaxis": {
            "backgroundcolor": "#E5ECF6",
            "gridcolor": "white",
            "gridwidth": 2,
            "linecolor": "white",
            "showbackground": true,
            "ticks": "",
            "zerolinecolor": "white"
           }
          },
          "shapedefaults": {
           "line": {
            "color": "#2a3f5f"
           }
          },
          "ternary": {
           "aaxis": {
            "gridcolor": "white",
            "linecolor": "white",
            "ticks": ""
           },
           "baxis": {
            "gridcolor": "white",
            "linecolor": "white",
            "ticks": ""
           },
           "bgcolor": "#E5ECF6",
           "caxis": {
            "gridcolor": "white",
            "linecolor": "white",
            "ticks": ""
           }
          },
          "title": {
           "x": 0.05
          },
          "xaxis": {
           "automargin": true,
           "gridcolor": "white",
           "linecolor": "white",
           "ticks": "",
           "title": {
            "standoff": 15
           },
           "zerolinecolor": "white",
           "zerolinewidth": 2
          },
          "yaxis": {
           "automargin": true,
           "gridcolor": "white",
           "linecolor": "white",
           "ticks": "",
           "title": {
            "standoff": 15
           },
           "zerolinecolor": "white",
           "zerolinewidth": 2
          }
         }
        },
        "xaxis": {
         "anchor": "y",
         "domain": [
          0,
          1
         ],
         "title": {
          "text": "generation_mwh"
         }
        },
        "yaxis": {
         "anchor": "x",
         "domain": [
          0,
          1
         ],
         "title": {
          "text": "technology"
         }
        }
       }
      }
     },
     "metadata": {},
     "output_type": "display_data"
    }
   ],
   "source": [
    "px.bar(data_frame=dfres, x='generation_mwh', y='technology', color='generation_mwh') #also added color"
   ]
  },
  {
   "cell_type": "markdown",
   "id": "5dc904d8-6f0a-48b8-9931-7039c637f091",
   "metadata": {},
   "source": [
    "### Is a pie plot better for this data?"
   ]
  },
  {
   "cell_type": "code",
   "execution_count": 17,
   "id": "f0f9cd0e-ab31-423b-a845-ea1a4800195f",
   "metadata": {},
   "outputs": [
    {
     "data": {
      "application/vnd.plotly.v1+json": {
       "config": {
        "plotlyServerURL": "https://plot.ly"
       },
       "data": [
        {
         "domain": {
          "x": [
           0,
           1
          ],
          "y": [
           0,
           1
          ]
         },
         "hovertemplate": "technology=%{label}<br>generation_mwh=%{value}<extra></extra>",
         "labels": [
          "Eolic",
          "Nuclear",
          "Combined Cycle",
          "Cogeneration",
          "Hydraulic UGH",
          "Total Imports",
          "Photovoltaic Solar",
          "Hydraulic No UGH",
          "Photovoltaic Thermal",
          "Carbon",
          "Other Renewables",
          "Non-renewable Residuals",
          "Pumping Turbine",
          "Domestic Residuals",
          "Other Residuals"
         ],
         "legendgroup": "",
         "name": "",
         "showlegend": true,
         "type": "pie",
         "values": [
          59798598.5,
          54124826.1,
          37818619.7,
          26373562.5,
          24293665.7,
          21604101,
          20560541.2,
          5259688,
          5042200.9,
          5016801.7,
          4811035.1,
          2885383.4,
          2475511.7,
          1519093.9,
          1019779.2
         ]
        }
       ],
       "layout": {
        "legend": {
         "tracegroupgap": 0
        },
        "margin": {
         "t": 60
        },
        "template": {
         "data": {
          "bar": [
           {
            "error_x": {
             "color": "#2a3f5f"
            },
            "error_y": {
             "color": "#2a3f5f"
            },
            "marker": {
             "line": {
              "color": "#E5ECF6",
              "width": 0.5
             },
             "pattern": {
              "fillmode": "overlay",
              "size": 10,
              "solidity": 0.2
             }
            },
            "type": "bar"
           }
          ],
          "barpolar": [
           {
            "marker": {
             "line": {
              "color": "#E5ECF6",
              "width": 0.5
             },
             "pattern": {
              "fillmode": "overlay",
              "size": 10,
              "solidity": 0.2
             }
            },
            "type": "barpolar"
           }
          ],
          "carpet": [
           {
            "aaxis": {
             "endlinecolor": "#2a3f5f",
             "gridcolor": "white",
             "linecolor": "white",
             "minorgridcolor": "white",
             "startlinecolor": "#2a3f5f"
            },
            "baxis": {
             "endlinecolor": "#2a3f5f",
             "gridcolor": "white",
             "linecolor": "white",
             "minorgridcolor": "white",
             "startlinecolor": "#2a3f5f"
            },
            "type": "carpet"
           }
          ],
          "choropleth": [
           {
            "colorbar": {
             "outlinewidth": 0,
             "ticks": ""
            },
            "type": "choropleth"
           }
          ],
          "contour": [
           {
            "colorbar": {
             "outlinewidth": 0,
             "ticks": ""
            },
            "colorscale": [
             [
              0,
              "#0d0887"
             ],
             [
              0.1111111111111111,
              "#46039f"
             ],
             [
              0.2222222222222222,
              "#7201a8"
             ],
             [
              0.3333333333333333,
              "#9c179e"
             ],
             [
              0.4444444444444444,
              "#bd3786"
             ],
             [
              0.5555555555555556,
              "#d8576b"
             ],
             [
              0.6666666666666666,
              "#ed7953"
             ],
             [
              0.7777777777777778,
              "#fb9f3a"
             ],
             [
              0.8888888888888888,
              "#fdca26"
             ],
             [
              1,
              "#f0f921"
             ]
            ],
            "type": "contour"
           }
          ],
          "contourcarpet": [
           {
            "colorbar": {
             "outlinewidth": 0,
             "ticks": ""
            },
            "type": "contourcarpet"
           }
          ],
          "heatmap": [
           {
            "colorbar": {
             "outlinewidth": 0,
             "ticks": ""
            },
            "colorscale": [
             [
              0,
              "#0d0887"
             ],
             [
              0.1111111111111111,
              "#46039f"
             ],
             [
              0.2222222222222222,
              "#7201a8"
             ],
             [
              0.3333333333333333,
              "#9c179e"
             ],
             [
              0.4444444444444444,
              "#bd3786"
             ],
             [
              0.5555555555555556,
              "#d8576b"
             ],
             [
              0.6666666666666666,
              "#ed7953"
             ],
             [
              0.7777777777777778,
              "#fb9f3a"
             ],
             [
              0.8888888888888888,
              "#fdca26"
             ],
             [
              1,
              "#f0f921"
             ]
            ],
            "type": "heatmap"
           }
          ],
          "heatmapgl": [
           {
            "colorbar": {
             "outlinewidth": 0,
             "ticks": ""
            },
            "colorscale": [
             [
              0,
              "#0d0887"
             ],
             [
              0.1111111111111111,
              "#46039f"
             ],
             [
              0.2222222222222222,
              "#7201a8"
             ],
             [
              0.3333333333333333,
              "#9c179e"
             ],
             [
              0.4444444444444444,
              "#bd3786"
             ],
             [
              0.5555555555555556,
              "#d8576b"
             ],
             [
              0.6666666666666666,
              "#ed7953"
             ],
             [
              0.7777777777777778,
              "#fb9f3a"
             ],
             [
              0.8888888888888888,
              "#fdca26"
             ],
             [
              1,
              "#f0f921"
             ]
            ],
            "type": "heatmapgl"
           }
          ],
          "histogram": [
           {
            "marker": {
             "pattern": {
              "fillmode": "overlay",
              "size": 10,
              "solidity": 0.2
             }
            },
            "type": "histogram"
           }
          ],
          "histogram2d": [
           {
            "colorbar": {
             "outlinewidth": 0,
             "ticks": ""
            },
            "colorscale": [
             [
              0,
              "#0d0887"
             ],
             [
              0.1111111111111111,
              "#46039f"
             ],
             [
              0.2222222222222222,
              "#7201a8"
             ],
             [
              0.3333333333333333,
              "#9c179e"
             ],
             [
              0.4444444444444444,
              "#bd3786"
             ],
             [
              0.5555555555555556,
              "#d8576b"
             ],
             [
              0.6666666666666666,
              "#ed7953"
             ],
             [
              0.7777777777777778,
              "#fb9f3a"
             ],
             [
              0.8888888888888888,
              "#fdca26"
             ],
             [
              1,
              "#f0f921"
             ]
            ],
            "type": "histogram2d"
           }
          ],
          "histogram2dcontour": [
           {
            "colorbar": {
             "outlinewidth": 0,
             "ticks": ""
            },
            "colorscale": [
             [
              0,
              "#0d0887"
             ],
             [
              0.1111111111111111,
              "#46039f"
             ],
             [
              0.2222222222222222,
              "#7201a8"
             ],
             [
              0.3333333333333333,
              "#9c179e"
             ],
             [
              0.4444444444444444,
              "#bd3786"
             ],
             [
              0.5555555555555556,
              "#d8576b"
             ],
             [
              0.6666666666666666,
              "#ed7953"
             ],
             [
              0.7777777777777778,
              "#fb9f3a"
             ],
             [
              0.8888888888888888,
              "#fdca26"
             ],
             [
              1,
              "#f0f921"
             ]
            ],
            "type": "histogram2dcontour"
           }
          ],
          "mesh3d": [
           {
            "colorbar": {
             "outlinewidth": 0,
             "ticks": ""
            },
            "type": "mesh3d"
           }
          ],
          "parcoords": [
           {
            "line": {
             "colorbar": {
              "outlinewidth": 0,
              "ticks": ""
             }
            },
            "type": "parcoords"
           }
          ],
          "pie": [
           {
            "automargin": true,
            "type": "pie"
           }
          ],
          "scatter": [
           {
            "fillpattern": {
             "fillmode": "overlay",
             "size": 10,
             "solidity": 0.2
            },
            "type": "scatter"
           }
          ],
          "scatter3d": [
           {
            "line": {
             "colorbar": {
              "outlinewidth": 0,
              "ticks": ""
             }
            },
            "marker": {
             "colorbar": {
              "outlinewidth": 0,
              "ticks": ""
             }
            },
            "type": "scatter3d"
           }
          ],
          "scattercarpet": [
           {
            "marker": {
             "colorbar": {
              "outlinewidth": 0,
              "ticks": ""
             }
            },
            "type": "scattercarpet"
           }
          ],
          "scattergeo": [
           {
            "marker": {
             "colorbar": {
              "outlinewidth": 0,
              "ticks": ""
             }
            },
            "type": "scattergeo"
           }
          ],
          "scattergl": [
           {
            "marker": {
             "colorbar": {
              "outlinewidth": 0,
              "ticks": ""
             }
            },
            "type": "scattergl"
           }
          ],
          "scattermapbox": [
           {
            "marker": {
             "colorbar": {
              "outlinewidth": 0,
              "ticks": ""
             }
            },
            "type": "scattermapbox"
           }
          ],
          "scatterpolar": [
           {
            "marker": {
             "colorbar": {
              "outlinewidth": 0,
              "ticks": ""
             }
            },
            "type": "scatterpolar"
           }
          ],
          "scatterpolargl": [
           {
            "marker": {
             "colorbar": {
              "outlinewidth": 0,
              "ticks": ""
             }
            },
            "type": "scatterpolargl"
           }
          ],
          "scatterternary": [
           {
            "marker": {
             "colorbar": {
              "outlinewidth": 0,
              "ticks": ""
             }
            },
            "type": "scatterternary"
           }
          ],
          "surface": [
           {
            "colorbar": {
             "outlinewidth": 0,
             "ticks": ""
            },
            "colorscale": [
             [
              0,
              "#0d0887"
             ],
             [
              0.1111111111111111,
              "#46039f"
             ],
             [
              0.2222222222222222,
              "#7201a8"
             ],
             [
              0.3333333333333333,
              "#9c179e"
             ],
             [
              0.4444444444444444,
              "#bd3786"
             ],
             [
              0.5555555555555556,
              "#d8576b"
             ],
             [
              0.6666666666666666,
              "#ed7953"
             ],
             [
              0.7777777777777778,
              "#fb9f3a"
             ],
             [
              0.8888888888888888,
              "#fdca26"
             ],
             [
              1,
              "#f0f921"
             ]
            ],
            "type": "surface"
           }
          ],
          "table": [
           {
            "cells": {
             "fill": {
              "color": "#EBF0F8"
             },
             "line": {
              "color": "white"
             }
            },
            "header": {
             "fill": {
              "color": "#C8D4E3"
             },
             "line": {
              "color": "white"
             }
            },
            "type": "table"
           }
          ]
         },
         "layout": {
          "annotationdefaults": {
           "arrowcolor": "#2a3f5f",
           "arrowhead": 0,
           "arrowwidth": 1
          },
          "autotypenumbers": "strict",
          "coloraxis": {
           "colorbar": {
            "outlinewidth": 0,
            "ticks": ""
           }
          },
          "colorscale": {
           "diverging": [
            [
             0,
             "#8e0152"
            ],
            [
             0.1,
             "#c51b7d"
            ],
            [
             0.2,
             "#de77ae"
            ],
            [
             0.3,
             "#f1b6da"
            ],
            [
             0.4,
             "#fde0ef"
            ],
            [
             0.5,
             "#f7f7f7"
            ],
            [
             0.6,
             "#e6f5d0"
            ],
            [
             0.7,
             "#b8e186"
            ],
            [
             0.8,
             "#7fbc41"
            ],
            [
             0.9,
             "#4d9221"
            ],
            [
             1,
             "#276419"
            ]
           ],
           "sequential": [
            [
             0,
             "#0d0887"
            ],
            [
             0.1111111111111111,
             "#46039f"
            ],
            [
             0.2222222222222222,
             "#7201a8"
            ],
            [
             0.3333333333333333,
             "#9c179e"
            ],
            [
             0.4444444444444444,
             "#bd3786"
            ],
            [
             0.5555555555555556,
             "#d8576b"
            ],
            [
             0.6666666666666666,
             "#ed7953"
            ],
            [
             0.7777777777777778,
             "#fb9f3a"
            ],
            [
             0.8888888888888888,
             "#fdca26"
            ],
            [
             1,
             "#f0f921"
            ]
           ],
           "sequentialminus": [
            [
             0,
             "#0d0887"
            ],
            [
             0.1111111111111111,
             "#46039f"
            ],
            [
             0.2222222222222222,
             "#7201a8"
            ],
            [
             0.3333333333333333,
             "#9c179e"
            ],
            [
             0.4444444444444444,
             "#bd3786"
            ],
            [
             0.5555555555555556,
             "#d8576b"
            ],
            [
             0.6666666666666666,
             "#ed7953"
            ],
            [
             0.7777777777777778,
             "#fb9f3a"
            ],
            [
             0.8888888888888888,
             "#fdca26"
            ],
            [
             1,
             "#f0f921"
            ]
           ]
          },
          "colorway": [
           "#636efa",
           "#EF553B",
           "#00cc96",
           "#ab63fa",
           "#FFA15A",
           "#19d3f3",
           "#FF6692",
           "#B6E880",
           "#FF97FF",
           "#FECB52"
          ],
          "font": {
           "color": "#2a3f5f"
          },
          "geo": {
           "bgcolor": "white",
           "lakecolor": "white",
           "landcolor": "#E5ECF6",
           "showlakes": true,
           "showland": true,
           "subunitcolor": "white"
          },
          "hoverlabel": {
           "align": "left"
          },
          "hovermode": "closest",
          "mapbox": {
           "style": "light"
          },
          "paper_bgcolor": "white",
          "plot_bgcolor": "#E5ECF6",
          "polar": {
           "angularaxis": {
            "gridcolor": "white",
            "linecolor": "white",
            "ticks": ""
           },
           "bgcolor": "#E5ECF6",
           "radialaxis": {
            "gridcolor": "white",
            "linecolor": "white",
            "ticks": ""
           }
          },
          "scene": {
           "xaxis": {
            "backgroundcolor": "#E5ECF6",
            "gridcolor": "white",
            "gridwidth": 2,
            "linecolor": "white",
            "showbackground": true,
            "ticks": "",
            "zerolinecolor": "white"
           },
           "yaxis": {
            "backgroundcolor": "#E5ECF6",
            "gridcolor": "white",
            "gridwidth": 2,
            "linecolor": "white",
            "showbackground": true,
            "ticks": "",
            "zerolinecolor": "white"
           },
           "zaxis": {
            "backgroundcolor": "#E5ECF6",
            "gridcolor": "white",
            "gridwidth": 2,
            "linecolor": "white",
            "showbackground": true,
            "ticks": "",
            "zerolinecolor": "white"
           }
          },
          "shapedefaults": {
           "line": {
            "color": "#2a3f5f"
           }
          },
          "ternary": {
           "aaxis": {
            "gridcolor": "white",
            "linecolor": "white",
            "ticks": ""
           },
           "baxis": {
            "gridcolor": "white",
            "linecolor": "white",
            "ticks": ""
           },
           "bgcolor": "#E5ECF6",
           "caxis": {
            "gridcolor": "white",
            "linecolor": "white",
            "ticks": ""
           }
          },
          "title": {
           "x": 0.05
          },
          "xaxis": {
           "automargin": true,
           "gridcolor": "white",
           "linecolor": "white",
           "ticks": "",
           "title": {
            "standoff": 15
           },
           "zerolinecolor": "white",
           "zerolinewidth": 2
          },
          "yaxis": {
           "automargin": true,
           "gridcolor": "white",
           "linecolor": "white",
           "ticks": "",
           "title": {
            "standoff": 15
           },
           "zerolinecolor": "white",
           "zerolinewidth": 2
          }
         }
        }
       }
      }
     },
     "metadata": {},
     "output_type": "display_data"
    }
   ],
   "source": [
    "px.pie(dfres, values='generation_mwh', names='technology')"
   ]
  },
  {
   "cell_type": "markdown",
   "id": "a16f12e5-8aab-4027-a67e-2d98d4c983bc",
   "metadata": {},
   "source": [
    "## [x] Which was the month that demanded more energy?\n",
    "\n",
    "### Data processing"
   ]
  },
  {
   "cell_type": "code",
   "execution_count": 18,
   "id": "4ef0a002-0435-46ec-8294-02085dea2aea",
   "metadata": {
    "tags": []
   },
   "outputs": [
    {
     "data": {
      "text/html": [
       "<div>\n",
       "<style scoped>\n",
       "    .dataframe tbody tr th:only-of-type {\n",
       "        vertical-align: middle;\n",
       "    }\n",
       "\n",
       "    .dataframe tbody tr th {\n",
       "        vertical-align: top;\n",
       "    }\n",
       "\n",
       "    .dataframe thead th {\n",
       "        text-align: right;\n",
       "    }\n",
       "</style>\n",
       "<table border=\"1\" class=\"dataframe\">\n",
       "  <thead>\n",
       "    <tr style=\"text-align: right;\">\n",
       "      <th></th>\n",
       "      <th>month</th>\n",
       "      <th>generation_mwh</th>\n",
       "    </tr>\n",
       "  </thead>\n",
       "  <tbody>\n",
       "    <tr>\n",
       "      <th>0</th>\n",
       "      <td>1</td>\n",
       "      <td>25555560.1</td>\n",
       "    </tr>\n",
       "    <tr>\n",
       "      <th>1</th>\n",
       "      <td>2</td>\n",
       "      <td>22094532.3</td>\n",
       "    </tr>\n",
       "    <tr>\n",
       "      <th>2</th>\n",
       "      <td>3</td>\n",
       "      <td>23219357.2</td>\n",
       "    </tr>\n",
       "    <tr>\n",
       "      <th>3</th>\n",
       "      <td>4</td>\n",
       "      <td>21268843.6</td>\n",
       "    </tr>\n",
       "    <tr>\n",
       "      <th>4</th>\n",
       "      <td>5</td>\n",
       "      <td>21847736.3</td>\n",
       "    </tr>\n",
       "    <tr>\n",
       "      <th>5</th>\n",
       "      <td>6</td>\n",
       "      <td>21387776.9</td>\n",
       "    </tr>\n",
       "    <tr>\n",
       "      <th>6</th>\n",
       "      <td>7</td>\n",
       "      <td>23703511.7</td>\n",
       "    </tr>\n",
       "    <tr>\n",
       "      <th>7</th>\n",
       "      <td>8</td>\n",
       "      <td>22988218.6</td>\n",
       "    </tr>\n",
       "    <tr>\n",
       "      <th>8</th>\n",
       "      <td>9</td>\n",
       "      <td>21589279.1</td>\n",
       "    </tr>\n",
       "    <tr>\n",
       "      <th>9</th>\n",
       "      <td>10</td>\n",
       "      <td>21394625.8</td>\n",
       "    </tr>\n",
       "    <tr>\n",
       "      <th>10</th>\n",
       "      <td>11</td>\n",
       "      <td>23250444.9</td>\n",
       "    </tr>\n",
       "    <tr>\n",
       "      <th>11</th>\n",
       "      <td>12</td>\n",
       "      <td>24303522.1</td>\n",
       "    </tr>\n",
       "  </tbody>\n",
       "</table>\n",
       "</div>"
      ],
      "text/plain": [
       "    month  generation_mwh\n",
       "0       1      25555560.1\n",
       "1       2      22094532.3\n",
       "2       3      23219357.2\n",
       "3       4      21268843.6\n",
       "4       5      21847736.3\n",
       "5       6      21387776.9\n",
       "6       7      23703511.7\n",
       "7       8      22988218.6\n",
       "8       9      21589279.1\n",
       "9      10      21394625.8\n",
       "10     11      23250444.9\n",
       "11     12      24303522.1"
      ]
     },
     "execution_count": 18,
     "metadata": {},
     "output_type": "execute_result"
    }
   ],
   "source": [
    "#1. Calculate the total generation by each technology\n",
    "dfres = df_energy.groupby('month').generation_mwh.sum().reset_index()\n",
    "dfres"
   ]
  },
  {
   "cell_type": "markdown",
   "id": "e4bb6b44-b9f4-4fe5-af66-49a4d198d4d0",
   "metadata": {},
   "source": [
    "### Data visualization"
   ]
  },
  {
   "cell_type": "code",
   "execution_count": 19,
   "id": "b74a39ac-7547-49a1-8706-cb3736a527a8",
   "metadata": {},
   "outputs": [
    {
     "data": {
      "application/vnd.plotly.v1+json": {
       "config": {
        "plotlyServerURL": "https://plot.ly"
       },
       "data": [
        {
         "alignmentgroup": "True",
         "hovertemplate": "month=%{marker.color}<br>generation_mwh=%{y}<extra></extra>",
         "legendgroup": "",
         "marker": {
          "color": [
           1,
           2,
           3,
           4,
           5,
           6,
           7,
           8,
           9,
           10,
           11,
           12
          ],
          "coloraxis": "coloraxis",
          "pattern": {
           "shape": ""
          }
         },
         "name": "",
         "offsetgroup": "",
         "orientation": "v",
         "showlegend": false,
         "textposition": "auto",
         "type": "bar",
         "x": [
          1,
          2,
          3,
          4,
          5,
          6,
          7,
          8,
          9,
          10,
          11,
          12
         ],
         "xaxis": "x",
         "y": [
          25555560.1,
          22094532.3,
          23219357.2,
          21268843.6,
          21847736.3,
          21387776.9,
          23703511.7,
          22988218.6,
          21589279.1,
          21394625.8,
          23250444.9,
          24303522.1
         ],
         "yaxis": "y"
        }
       ],
       "layout": {
        "barmode": "relative",
        "coloraxis": {
         "colorbar": {
          "title": {
           "text": "month"
          }
         },
         "colorscale": [
          [
           0,
           "#0d0887"
          ],
          [
           0.1111111111111111,
           "#46039f"
          ],
          [
           0.2222222222222222,
           "#7201a8"
          ],
          [
           0.3333333333333333,
           "#9c179e"
          ],
          [
           0.4444444444444444,
           "#bd3786"
          ],
          [
           0.5555555555555556,
           "#d8576b"
          ],
          [
           0.6666666666666666,
           "#ed7953"
          ],
          [
           0.7777777777777778,
           "#fb9f3a"
          ],
          [
           0.8888888888888888,
           "#fdca26"
          ],
          [
           1,
           "#f0f921"
          ]
         ]
        },
        "legend": {
         "tracegroupgap": 0
        },
        "margin": {
         "t": 60
        },
        "template": {
         "data": {
          "bar": [
           {
            "error_x": {
             "color": "#2a3f5f"
            },
            "error_y": {
             "color": "#2a3f5f"
            },
            "marker": {
             "line": {
              "color": "#E5ECF6",
              "width": 0.5
             },
             "pattern": {
              "fillmode": "overlay",
              "size": 10,
              "solidity": 0.2
             }
            },
            "type": "bar"
           }
          ],
          "barpolar": [
           {
            "marker": {
             "line": {
              "color": "#E5ECF6",
              "width": 0.5
             },
             "pattern": {
              "fillmode": "overlay",
              "size": 10,
              "solidity": 0.2
             }
            },
            "type": "barpolar"
           }
          ],
          "carpet": [
           {
            "aaxis": {
             "endlinecolor": "#2a3f5f",
             "gridcolor": "white",
             "linecolor": "white",
             "minorgridcolor": "white",
             "startlinecolor": "#2a3f5f"
            },
            "baxis": {
             "endlinecolor": "#2a3f5f",
             "gridcolor": "white",
             "linecolor": "white",
             "minorgridcolor": "white",
             "startlinecolor": "#2a3f5f"
            },
            "type": "carpet"
           }
          ],
          "choropleth": [
           {
            "colorbar": {
             "outlinewidth": 0,
             "ticks": ""
            },
            "type": "choropleth"
           }
          ],
          "contour": [
           {
            "colorbar": {
             "outlinewidth": 0,
             "ticks": ""
            },
            "colorscale": [
             [
              0,
              "#0d0887"
             ],
             [
              0.1111111111111111,
              "#46039f"
             ],
             [
              0.2222222222222222,
              "#7201a8"
             ],
             [
              0.3333333333333333,
              "#9c179e"
             ],
             [
              0.4444444444444444,
              "#bd3786"
             ],
             [
              0.5555555555555556,
              "#d8576b"
             ],
             [
              0.6666666666666666,
              "#ed7953"
             ],
             [
              0.7777777777777778,
              "#fb9f3a"
             ],
             [
              0.8888888888888888,
              "#fdca26"
             ],
             [
              1,
              "#f0f921"
             ]
            ],
            "type": "contour"
           }
          ],
          "contourcarpet": [
           {
            "colorbar": {
             "outlinewidth": 0,
             "ticks": ""
            },
            "type": "contourcarpet"
           }
          ],
          "heatmap": [
           {
            "colorbar": {
             "outlinewidth": 0,
             "ticks": ""
            },
            "colorscale": [
             [
              0,
              "#0d0887"
             ],
             [
              0.1111111111111111,
              "#46039f"
             ],
             [
              0.2222222222222222,
              "#7201a8"
             ],
             [
              0.3333333333333333,
              "#9c179e"
             ],
             [
              0.4444444444444444,
              "#bd3786"
             ],
             [
              0.5555555555555556,
              "#d8576b"
             ],
             [
              0.6666666666666666,
              "#ed7953"
             ],
             [
              0.7777777777777778,
              "#fb9f3a"
             ],
             [
              0.8888888888888888,
              "#fdca26"
             ],
             [
              1,
              "#f0f921"
             ]
            ],
            "type": "heatmap"
           }
          ],
          "heatmapgl": [
           {
            "colorbar": {
             "outlinewidth": 0,
             "ticks": ""
            },
            "colorscale": [
             [
              0,
              "#0d0887"
             ],
             [
              0.1111111111111111,
              "#46039f"
             ],
             [
              0.2222222222222222,
              "#7201a8"
             ],
             [
              0.3333333333333333,
              "#9c179e"
             ],
             [
              0.4444444444444444,
              "#bd3786"
             ],
             [
              0.5555555555555556,
              "#d8576b"
             ],
             [
              0.6666666666666666,
              "#ed7953"
             ],
             [
              0.7777777777777778,
              "#fb9f3a"
             ],
             [
              0.8888888888888888,
              "#fdca26"
             ],
             [
              1,
              "#f0f921"
             ]
            ],
            "type": "heatmapgl"
           }
          ],
          "histogram": [
           {
            "marker": {
             "pattern": {
              "fillmode": "overlay",
              "size": 10,
              "solidity": 0.2
             }
            },
            "type": "histogram"
           }
          ],
          "histogram2d": [
           {
            "colorbar": {
             "outlinewidth": 0,
             "ticks": ""
            },
            "colorscale": [
             [
              0,
              "#0d0887"
             ],
             [
              0.1111111111111111,
              "#46039f"
             ],
             [
              0.2222222222222222,
              "#7201a8"
             ],
             [
              0.3333333333333333,
              "#9c179e"
             ],
             [
              0.4444444444444444,
              "#bd3786"
             ],
             [
              0.5555555555555556,
              "#d8576b"
             ],
             [
              0.6666666666666666,
              "#ed7953"
             ],
             [
              0.7777777777777778,
              "#fb9f3a"
             ],
             [
              0.8888888888888888,
              "#fdca26"
             ],
             [
              1,
              "#f0f921"
             ]
            ],
            "type": "histogram2d"
           }
          ],
          "histogram2dcontour": [
           {
            "colorbar": {
             "outlinewidth": 0,
             "ticks": ""
            },
            "colorscale": [
             [
              0,
              "#0d0887"
             ],
             [
              0.1111111111111111,
              "#46039f"
             ],
             [
              0.2222222222222222,
              "#7201a8"
             ],
             [
              0.3333333333333333,
              "#9c179e"
             ],
             [
              0.4444444444444444,
              "#bd3786"
             ],
             [
              0.5555555555555556,
              "#d8576b"
             ],
             [
              0.6666666666666666,
              "#ed7953"
             ],
             [
              0.7777777777777778,
              "#fb9f3a"
             ],
             [
              0.8888888888888888,
              "#fdca26"
             ],
             [
              1,
              "#f0f921"
             ]
            ],
            "type": "histogram2dcontour"
           }
          ],
          "mesh3d": [
           {
            "colorbar": {
             "outlinewidth": 0,
             "ticks": ""
            },
            "type": "mesh3d"
           }
          ],
          "parcoords": [
           {
            "line": {
             "colorbar": {
              "outlinewidth": 0,
              "ticks": ""
             }
            },
            "type": "parcoords"
           }
          ],
          "pie": [
           {
            "automargin": true,
            "type": "pie"
           }
          ],
          "scatter": [
           {
            "fillpattern": {
             "fillmode": "overlay",
             "size": 10,
             "solidity": 0.2
            },
            "type": "scatter"
           }
          ],
          "scatter3d": [
           {
            "line": {
             "colorbar": {
              "outlinewidth": 0,
              "ticks": ""
             }
            },
            "marker": {
             "colorbar": {
              "outlinewidth": 0,
              "ticks": ""
             }
            },
            "type": "scatter3d"
           }
          ],
          "scattercarpet": [
           {
            "marker": {
             "colorbar": {
              "outlinewidth": 0,
              "ticks": ""
             }
            },
            "type": "scattercarpet"
           }
          ],
          "scattergeo": [
           {
            "marker": {
             "colorbar": {
              "outlinewidth": 0,
              "ticks": ""
             }
            },
            "type": "scattergeo"
           }
          ],
          "scattergl": [
           {
            "marker": {
             "colorbar": {
              "outlinewidth": 0,
              "ticks": ""
             }
            },
            "type": "scattergl"
           }
          ],
          "scattermapbox": [
           {
            "marker": {
             "colorbar": {
              "outlinewidth": 0,
              "ticks": ""
             }
            },
            "type": "scattermapbox"
           }
          ],
          "scatterpolar": [
           {
            "marker": {
             "colorbar": {
              "outlinewidth": 0,
              "ticks": ""
             }
            },
            "type": "scatterpolar"
           }
          ],
          "scatterpolargl": [
           {
            "marker": {
             "colorbar": {
              "outlinewidth": 0,
              "ticks": ""
             }
            },
            "type": "scatterpolargl"
           }
          ],
          "scatterternary": [
           {
            "marker": {
             "colorbar": {
              "outlinewidth": 0,
              "ticks": ""
             }
            },
            "type": "scatterternary"
           }
          ],
          "surface": [
           {
            "colorbar": {
             "outlinewidth": 0,
             "ticks": ""
            },
            "colorscale": [
             [
              0,
              "#0d0887"
             ],
             [
              0.1111111111111111,
              "#46039f"
             ],
             [
              0.2222222222222222,
              "#7201a8"
             ],
             [
              0.3333333333333333,
              "#9c179e"
             ],
             [
              0.4444444444444444,
              "#bd3786"
             ],
             [
              0.5555555555555556,
              "#d8576b"
             ],
             [
              0.6666666666666666,
              "#ed7953"
             ],
             [
              0.7777777777777778,
              "#fb9f3a"
             ],
             [
              0.8888888888888888,
              "#fdca26"
             ],
             [
              1,
              "#f0f921"
             ]
            ],
            "type": "surface"
           }
          ],
          "table": [
           {
            "cells": {
             "fill": {
              "color": "#EBF0F8"
             },
             "line": {
              "color": "white"
             }
            },
            "header": {
             "fill": {
              "color": "#C8D4E3"
             },
             "line": {
              "color": "white"
             }
            },
            "type": "table"
           }
          ]
         },
         "layout": {
          "annotationdefaults": {
           "arrowcolor": "#2a3f5f",
           "arrowhead": 0,
           "arrowwidth": 1
          },
          "autotypenumbers": "strict",
          "coloraxis": {
           "colorbar": {
            "outlinewidth": 0,
            "ticks": ""
           }
          },
          "colorscale": {
           "diverging": [
            [
             0,
             "#8e0152"
            ],
            [
             0.1,
             "#c51b7d"
            ],
            [
             0.2,
             "#de77ae"
            ],
            [
             0.3,
             "#f1b6da"
            ],
            [
             0.4,
             "#fde0ef"
            ],
            [
             0.5,
             "#f7f7f7"
            ],
            [
             0.6,
             "#e6f5d0"
            ],
            [
             0.7,
             "#b8e186"
            ],
            [
             0.8,
             "#7fbc41"
            ],
            [
             0.9,
             "#4d9221"
            ],
            [
             1,
             "#276419"
            ]
           ],
           "sequential": [
            [
             0,
             "#0d0887"
            ],
            [
             0.1111111111111111,
             "#46039f"
            ],
            [
             0.2222222222222222,
             "#7201a8"
            ],
            [
             0.3333333333333333,
             "#9c179e"
            ],
            [
             0.4444444444444444,
             "#bd3786"
            ],
            [
             0.5555555555555556,
             "#d8576b"
            ],
            [
             0.6666666666666666,
             "#ed7953"
            ],
            [
             0.7777777777777778,
             "#fb9f3a"
            ],
            [
             0.8888888888888888,
             "#fdca26"
            ],
            [
             1,
             "#f0f921"
            ]
           ],
           "sequentialminus": [
            [
             0,
             "#0d0887"
            ],
            [
             0.1111111111111111,
             "#46039f"
            ],
            [
             0.2222222222222222,
             "#7201a8"
            ],
            [
             0.3333333333333333,
             "#9c179e"
            ],
            [
             0.4444444444444444,
             "#bd3786"
            ],
            [
             0.5555555555555556,
             "#d8576b"
            ],
            [
             0.6666666666666666,
             "#ed7953"
            ],
            [
             0.7777777777777778,
             "#fb9f3a"
            ],
            [
             0.8888888888888888,
             "#fdca26"
            ],
            [
             1,
             "#f0f921"
            ]
           ]
          },
          "colorway": [
           "#636efa",
           "#EF553B",
           "#00cc96",
           "#ab63fa",
           "#FFA15A",
           "#19d3f3",
           "#FF6692",
           "#B6E880",
           "#FF97FF",
           "#FECB52"
          ],
          "font": {
           "color": "#2a3f5f"
          },
          "geo": {
           "bgcolor": "white",
           "lakecolor": "white",
           "landcolor": "#E5ECF6",
           "showlakes": true,
           "showland": true,
           "subunitcolor": "white"
          },
          "hoverlabel": {
           "align": "left"
          },
          "hovermode": "closest",
          "mapbox": {
           "style": "light"
          },
          "paper_bgcolor": "white",
          "plot_bgcolor": "#E5ECF6",
          "polar": {
           "angularaxis": {
            "gridcolor": "white",
            "linecolor": "white",
            "ticks": ""
           },
           "bgcolor": "#E5ECF6",
           "radialaxis": {
            "gridcolor": "white",
            "linecolor": "white",
            "ticks": ""
           }
          },
          "scene": {
           "xaxis": {
            "backgroundcolor": "#E5ECF6",
            "gridcolor": "white",
            "gridwidth": 2,
            "linecolor": "white",
            "showbackground": true,
            "ticks": "",
            "zerolinecolor": "white"
           },
           "yaxis": {
            "backgroundcolor": "#E5ECF6",
            "gridcolor": "white",
            "gridwidth": 2,
            "linecolor": "white",
            "showbackground": true,
            "ticks": "",
            "zerolinecolor": "white"
           },
           "zaxis": {
            "backgroundcolor": "#E5ECF6",
            "gridcolor": "white",
            "gridwidth": 2,
            "linecolor": "white",
            "showbackground": true,
            "ticks": "",
            "zerolinecolor": "white"
           }
          },
          "shapedefaults": {
           "line": {
            "color": "#2a3f5f"
           }
          },
          "ternary": {
           "aaxis": {
            "gridcolor": "white",
            "linecolor": "white",
            "ticks": ""
           },
           "baxis": {
            "gridcolor": "white",
            "linecolor": "white",
            "ticks": ""
           },
           "bgcolor": "#E5ECF6",
           "caxis": {
            "gridcolor": "white",
            "linecolor": "white",
            "ticks": ""
           }
          },
          "title": {
           "x": 0.05
          },
          "xaxis": {
           "automargin": true,
           "gridcolor": "white",
           "linecolor": "white",
           "ticks": "",
           "title": {
            "standoff": 15
           },
           "zerolinecolor": "white",
           "zerolinewidth": 2
          },
          "yaxis": {
           "automargin": true,
           "gridcolor": "white",
           "linecolor": "white",
           "ticks": "",
           "title": {
            "standoff": 15
           },
           "zerolinecolor": "white",
           "zerolinewidth": 2
          }
         }
        },
        "xaxis": {
         "anchor": "y",
         "domain": [
          0,
          1
         ],
         "title": {
          "text": "month"
         }
        },
        "yaxis": {
         "anchor": "x",
         "domain": [
          0,
          1
         ],
         "title": {
          "text": "generation_mwh"
         }
        }
       }
      }
     },
     "metadata": {},
     "output_type": "display_data"
    }
   ],
   "source": [
    "px.bar(data_frame=dfres, x='month', y='generation_mwh', color='month')"
   ]
  },
  {
   "cell_type": "markdown",
   "id": "ba22f773-ff82-408d-b97d-1a5f1edab404",
   "metadata": {},
   "source": [
    "## [ ] Which was the month-technology that generated more energy?"
   ]
  },
  {
   "cell_type": "markdown",
   "id": "54c99d69-4cee-46a3-a550-2333b2d49270",
   "metadata": {},
   "source": [
    "### Data processing"
   ]
  },
  {
   "cell_type": "code",
   "execution_count": 20,
   "id": "d0a8cdc7-c083-4c16-bfa3-92fe761fe954",
   "metadata": {},
   "outputs": [],
   "source": [
    "dfres = df_energy.groupby(['month', 'technology']).generation_mwh.sum().reset_index()"
   ]
  },
  {
   "cell_type": "code",
   "execution_count": 21,
   "id": "b297b434-bcff-4320-a2cb-54b7790d2f62",
   "metadata": {},
   "outputs": [
    {
     "data": {
      "text/html": [
       "<div>\n",
       "<style scoped>\n",
       "    .dataframe tbody tr th:only-of-type {\n",
       "        vertical-align: middle;\n",
       "    }\n",
       "\n",
       "    .dataframe tbody tr th {\n",
       "        vertical-align: top;\n",
       "    }\n",
       "\n",
       "    .dataframe thead th {\n",
       "        text-align: right;\n",
       "    }\n",
       "</style>\n",
       "<table border=\"1\" class=\"dataframe\">\n",
       "  <thead>\n",
       "    <tr style=\"text-align: right;\">\n",
       "      <th></th>\n",
       "      <th>month</th>\n",
       "      <th>technology</th>\n",
       "      <th>generation_mwh</th>\n",
       "    </tr>\n",
       "  </thead>\n",
       "  <tbody>\n",
       "    <tr>\n",
       "      <th>0</th>\n",
       "      <td>1</td>\n",
       "      <td>Carbon</td>\n",
       "      <td>569862.6</td>\n",
       "    </tr>\n",
       "    <tr>\n",
       "      <th>1</th>\n",
       "      <td>1</td>\n",
       "      <td>Cogeneration</td>\n",
       "      <td>2404774.2</td>\n",
       "    </tr>\n",
       "    <tr>\n",
       "      <th>2</th>\n",
       "      <td>1</td>\n",
       "      <td>Combined Cycle</td>\n",
       "      <td>2132026.7</td>\n",
       "    </tr>\n",
       "    <tr>\n",
       "      <th>3</th>\n",
       "      <td>1</td>\n",
       "      <td>Domestic Residuals</td>\n",
       "      <td>109129.0</td>\n",
       "    </tr>\n",
       "    <tr>\n",
       "      <th>4</th>\n",
       "      <td>1</td>\n",
       "      <td>Eolic</td>\n",
       "      <td>7039018.0</td>\n",
       "    </tr>\n",
       "    <tr>\n",
       "      <th>...</th>\n",
       "      <td>...</td>\n",
       "      <td>...</td>\n",
       "      <td>...</td>\n",
       "    </tr>\n",
       "    <tr>\n",
       "      <th>175</th>\n",
       "      <td>12</td>\n",
       "      <td>Other Residuals</td>\n",
       "      <td>79792.1</td>\n",
       "    </tr>\n",
       "    <tr>\n",
       "      <th>176</th>\n",
       "      <td>12</td>\n",
       "      <td>Photovoltaic Solar</td>\n",
       "      <td>1030980.8</td>\n",
       "    </tr>\n",
       "    <tr>\n",
       "      <th>177</th>\n",
       "      <td>12</td>\n",
       "      <td>Photovoltaic Thermal</td>\n",
       "      <td>117412.2</td>\n",
       "    </tr>\n",
       "    <tr>\n",
       "      <th>178</th>\n",
       "      <td>12</td>\n",
       "      <td>Pumping Turbine</td>\n",
       "      <td>239011.1</td>\n",
       "    </tr>\n",
       "    <tr>\n",
       "      <th>179</th>\n",
       "      <td>12</td>\n",
       "      <td>Total Imports</td>\n",
       "      <td>1180193.4</td>\n",
       "    </tr>\n",
       "  </tbody>\n",
       "</table>\n",
       "<p>180 rows × 3 columns</p>\n",
       "</div>"
      ],
      "text/plain": [
       "     month            technology  generation_mwh\n",
       "0        1                Carbon        569862.6\n",
       "1        1          Cogeneration       2404774.2\n",
       "2        1        Combined Cycle       2132026.7\n",
       "3        1    Domestic Residuals        109129.0\n",
       "4        1                 Eolic       7039018.0\n",
       "..     ...                   ...             ...\n",
       "175     12       Other Residuals         79792.1\n",
       "176     12    Photovoltaic Solar       1030980.8\n",
       "177     12  Photovoltaic Thermal        117412.2\n",
       "178     12       Pumping Turbine        239011.1\n",
       "179     12         Total Imports       1180193.4\n",
       "\n",
       "[180 rows x 3 columns]"
      ]
     },
     "execution_count": 21,
     "metadata": {},
     "output_type": "execute_result"
    }
   ],
   "source": [
    "dfres"
   ]
  },
  {
   "cell_type": "markdown",
   "id": "0971fc7b-de54-4f4d-a355-25538a2f50b9",
   "metadata": {},
   "source": [
    "### Data visualization"
   ]
  },
  {
   "cell_type": "markdown",
   "id": "9023afaf-cb77-488a-a02d-fa77abe99d67",
   "metadata": {},
   "source": [
    "#### Create a bar plot"
   ]
  },
  {
   "cell_type": "markdown",
   "id": "6370bf82-c444-47d9-a535-d1af4fe56723",
   "metadata": {},
   "source": [
    "##### Differentiate each technology with a `color`"
   ]
  },
  {
   "cell_type": "code",
   "execution_count": 22,
   "id": "f6230159-313c-495b-b778-bdec687a7ffd",
   "metadata": {},
   "outputs": [
    {
     "data": {
      "application/vnd.plotly.v1+json": {
       "config": {
        "plotlyServerURL": "https://plot.ly"
       },
       "data": [
        {
         "alignmentgroup": "True",
         "hovertemplate": "technology=Carbon<br>month=%{x}<br>generation_mwh=%{y}<extra></extra>",
         "legendgroup": "Carbon",
         "marker": {
          "color": "#636efa",
          "pattern": {
           "shape": ""
          }
         },
         "name": "Carbon",
         "offsetgroup": "Carbon",
         "orientation": "v",
         "showlegend": true,
         "textposition": "auto",
         "type": "bar",
         "x": [
          1,
          2,
          3,
          4,
          5,
          6,
          7,
          8,
          9,
          10,
          11,
          12
         ],
         "xaxis": "x",
         "y": [
          569862.6,
          186166,
          250334.3,
          275498.8,
          338188.1,
          433752.1,
          311105.2,
          327367.5,
          484822.4,
          534670.4,
          580637.8,
          724396.5
         ],
         "yaxis": "y"
        },
        {
         "alignmentgroup": "True",
         "hovertemplate": "technology=Cogeneration<br>month=%{x}<br>generation_mwh=%{y}<extra></extra>",
         "legendgroup": "Cogeneration",
         "marker": {
          "color": "#EF553B",
          "pattern": {
           "shape": ""
          }
         },
         "name": "Cogeneration",
         "offsetgroup": "Cogeneration",
         "orientation": "v",
         "showlegend": true,
         "textposition": "auto",
         "type": "bar",
         "x": [
          1,
          2,
          3,
          4,
          5,
          6,
          7,
          8,
          9,
          10,
          11,
          12
         ],
         "xaxis": "x",
         "y": [
          2404774.2,
          1852452.1,
          2258929.9,
          2212108.8,
          2235879.1,
          2222424.2,
          2305126.9,
          2149075,
          2191493.1,
          2160983.6,
          2184241.9,
          2196073.7
         ],
         "yaxis": "y"
        },
        {
         "alignmentgroup": "True",
         "hovertemplate": "technology=Combined Cycle<br>month=%{x}<br>generation_mwh=%{y}<extra></extra>",
         "legendgroup": "Combined Cycle",
         "marker": {
          "color": "#00cc96",
          "pattern": {
           "shape": ""
          }
         },
         "name": "Combined Cycle",
         "offsetgroup": "Combined Cycle",
         "orientation": "v",
         "showlegend": true,
         "textposition": "auto",
         "type": "bar",
         "x": [
          1,
          2,
          3,
          4,
          5,
          6,
          7,
          8,
          9,
          10,
          11,
          12
         ],
         "xaxis": "x",
         "y": [
          2132026.7,
          1036386.9,
          1626779.1,
          2900945.1,
          2011323.4,
          3219381.4,
          3062721.4,
          3339393.1,
          4314063.1,
          3820749.4,
          5783031.6,
          4571818.5
         ],
         "yaxis": "y"
        },
        {
         "alignmentgroup": "True",
         "hovertemplate": "technology=Domestic Residuals<br>month=%{x}<br>generation_mwh=%{y}<extra></extra>",
         "legendgroup": "Domestic Residuals",
         "marker": {
          "color": "#ab63fa",
          "pattern": {
           "shape": ""
          }
         },
         "name": "Domestic Residuals",
         "offsetgroup": "Domestic Residuals",
         "orientation": "v",
         "showlegend": true,
         "textposition": "auto",
         "type": "bar",
         "x": [
          1,
          2,
          3,
          4,
          5,
          6,
          7,
          8,
          9,
          10,
          11,
          12
         ],
         "xaxis": "x",
         "y": [
          109129,
          114266.7,
          125781.1,
          132297.7,
          107416.5,
          131201.1,
          150120.4,
          141866.6,
          107793.7,
          120196.9,
          132234.3,
          146789.9
         ],
         "yaxis": "y"
        },
        {
         "alignmentgroup": "True",
         "hovertemplate": "technology=Eolic<br>month=%{x}<br>generation_mwh=%{y}<extra></extra>",
         "legendgroup": "Eolic",
         "marker": {
          "color": "#FFA15A",
          "pattern": {
           "shape": ""
          }
         },
         "name": "Eolic",
         "offsetgroup": "Eolic",
         "orientation": "v",
         "showlegend": true,
         "textposition": "auto",
         "type": "bar",
         "x": [
          1,
          2,
          3,
          4,
          5,
          6,
          7,
          8,
          9,
          10,
          11,
          12
         ],
         "xaxis": "x",
         "y": [
          7039018,
          6240847.7,
          5534588.5,
          4187192.6,
          4667701.3,
          3548080.9,
          4127516.5,
          3640296.5,
          3189526.3,
          4338883.9,
          6397522.5,
          6887423.8
         ],
         "yaxis": "y"
        },
        {
         "alignmentgroup": "True",
         "hovertemplate": "technology=Hydraulic No UGH<br>month=%{x}<br>generation_mwh=%{y}<extra></extra>",
         "legendgroup": "Hydraulic No UGH",
         "marker": {
          "color": "#19d3f3",
          "pattern": {
           "shape": ""
          }
         },
         "name": "Hydraulic No UGH",
         "offsetgroup": "Hydraulic No UGH",
         "orientation": "v",
         "showlegend": true,
         "textposition": "auto",
         "type": "bar",
         "x": [
          1,
          2,
          3,
          4,
          5,
          6,
          7,
          8,
          9,
          10,
          11,
          12
         ],
         "xaxis": "x",
         "y": [
          688163.2,
          762889,
          609469.9,
          416865.1,
          498588.9,
          450602.7,
          356037.3,
          267556.1,
          214598.1,
          199206.8,
          267486.7,
          528224.2
         ],
         "yaxis": "y"
        },
        {
         "alignmentgroup": "True",
         "hovertemplate": "technology=Hydraulic UGH<br>month=%{x}<br>generation_mwh=%{y}<extra></extra>",
         "legendgroup": "Hydraulic UGH",
         "marker": {
          "color": "#FF6692",
          "pattern": {
           "shape": ""
          }
         },
         "name": "Hydraulic UGH",
         "offsetgroup": "Hydraulic UGH",
         "orientation": "v",
         "showlegend": true,
         "textposition": "auto",
         "type": "bar",
         "x": [
          1,
          2,
          3,
          4,
          5,
          6,
          7,
          8,
          9,
          10,
          11,
          12
         ],
         "xaxis": "x",
         "y": [
          3434033,
          3813742.3,
          3134665.2,
          2257334.9,
          1609724.3,
          1700697.8,
          1872495.3,
          1623821.6,
          1184314.8,
          796993.4,
          890757.4,
          1975085.7
         ],
         "yaxis": "y"
        },
        {
         "alignmentgroup": "True",
         "hovertemplate": "technology=Non-renewable Residuals<br>month=%{x}<br>generation_mwh=%{y}<extra></extra>",
         "legendgroup": "Non-renewable Residuals",
         "marker": {
          "color": "#B6E880",
          "pattern": {
           "shape": ""
          }
         },
         "name": "Non-renewable Residuals",
         "offsetgroup": "Non-renewable Residuals",
         "orientation": "v",
         "showlegend": true,
         "textposition": "auto",
         "type": "bar",
         "x": [
          1,
          2,
          3,
          4,
          5,
          6,
          7,
          8,
          9,
          10,
          11,
          12
         ],
         "xaxis": "x",
         "y": [
          230255.4,
          217513.1,
          238286.1,
          234489,
          217960.8,
          249733.4,
          276158.5,
          270212.1,
          226374.3,
          241774.4,
          237443.4,
          245182.9
         ],
         "yaxis": "y"
        },
        {
         "alignmentgroup": "True",
         "hovertemplate": "technology=Nuclear<br>month=%{x}<br>generation_mwh=%{y}<extra></extra>",
         "legendgroup": "Nuclear",
         "marker": {
          "color": "#FF97FF",
          "pattern": {
           "shape": ""
          }
         },
         "name": "Nuclear",
         "offsetgroup": "Nuclear",
         "orientation": "v",
         "showlegend": true,
         "textposition": "auto",
         "type": "bar",
         "x": [
          1,
          2,
          3,
          4,
          5,
          6,
          7,
          8,
          9,
          10,
          11,
          12
         ],
         "xaxis": "x",
         "y": [
          5190702.4,
          4358016.8,
          4830869.2,
          4210666.6,
          4386141.1,
          3710700.6,
          5120411.8,
          5153025.3,
          4896815.5,
          4755471.7,
          3580181.1,
          3931824
         ],
         "yaxis": "y"
        },
        {
         "alignmentgroup": "True",
         "hovertemplate": "technology=Other Renewables<br>month=%{x}<br>generation_mwh=%{y}<extra></extra>",
         "legendgroup": "Other Renewables",
         "marker": {
          "color": "#FECB52",
          "pattern": {
           "shape": ""
          }
         },
         "name": "Other Renewables",
         "offsetgroup": "Other Renewables",
         "orientation": "v",
         "showlegend": true,
         "textposition": "auto",
         "type": "bar",
         "x": [
          1,
          2,
          3,
          4,
          5,
          6,
          7,
          8,
          9,
          10,
          11,
          12
         ],
         "xaxis": "x",
         "y": [
          401117.1,
          373167.3,
          362607.7,
          396144.9,
          394773.9,
          362110.1,
          357337.5,
          423215.4,
          402941.6,
          443908.9,
          444397.4,
          449313.3
         ],
         "yaxis": "y"
        },
        {
         "alignmentgroup": "True",
         "hovertemplate": "technology=Other Residuals<br>month=%{x}<br>generation_mwh=%{y}<extra></extra>",
         "legendgroup": "Other Residuals",
         "marker": {
          "color": "#636efa",
          "pattern": {
           "shape": ""
          }
         },
         "name": "Other Residuals",
         "offsetgroup": "Other Residuals",
         "orientation": "v",
         "showlegend": true,
         "textposition": "auto",
         "type": "bar",
         "x": [
          1,
          2,
          3,
          4,
          5,
          6,
          7,
          8,
          9,
          10,
          11,
          12
         ],
         "xaxis": "x",
         "y": [
          87553.8,
          73758.5,
          83339.5,
          86318.2,
          80903.9,
          89919.4,
          92031.1,
          94337.9,
          85689.9,
          93806.1,
          72328.8,
          79792.1
         ],
         "yaxis": "y"
        },
        {
         "alignmentgroup": "True",
         "hovertemplate": "technology=Photovoltaic Solar<br>month=%{x}<br>generation_mwh=%{y}<extra></extra>",
         "legendgroup": "Photovoltaic Solar",
         "marker": {
          "color": "#EF553B",
          "pattern": {
           "shape": ""
          }
         },
         "name": "Photovoltaic Solar",
         "offsetgroup": "Photovoltaic Solar",
         "orientation": "v",
         "showlegend": true,
         "textposition": "auto",
         "type": "bar",
         "x": [
          1,
          2,
          3,
          4,
          5,
          6,
          7,
          8,
          9,
          10,
          11,
          12
         ],
         "xaxis": "x",
         "y": [
          843899.7,
          997655.7,
          1662926.4,
          1639621,
          2302711.6,
          2259174.8,
          2534332.7,
          2362610.3,
          1875933.4,
          1748139.4,
          1302555.4,
          1030980.8
         ],
         "yaxis": "y"
        },
        {
         "alignmentgroup": "True",
         "hovertemplate": "technology=Photovoltaic Thermal<br>month=%{x}<br>generation_mwh=%{y}<extra></extra>",
         "legendgroup": "Photovoltaic Thermal",
         "marker": {
          "color": "#00cc96",
          "pattern": {
           "shape": ""
          }
         },
         "name": "Photovoltaic Thermal",
         "offsetgroup": "Photovoltaic Thermal",
         "orientation": "v",
         "showlegend": true,
         "textposition": "auto",
         "type": "bar",
         "x": [
          1,
          2,
          3,
          4,
          5,
          6,
          7,
          8,
          9,
          10,
          11,
          12
         ],
         "xaxis": "x",
         "y": [
          111926.2,
          154610.6,
          400909.7,
          277217.4,
          693254.8,
          685230.8,
          880841.9,
          721081.3,
          453465.8,
          356167.2,
          190083,
          117412.2
         ],
         "yaxis": "y"
        },
        {
         "alignmentgroup": "True",
         "hovertemplate": "technology=Pumping Turbine<br>month=%{x}<br>generation_mwh=%{y}<extra></extra>",
         "legendgroup": "Pumping Turbine",
         "marker": {
          "color": "#ab63fa",
          "pattern": {
           "shape": ""
          }
         },
         "name": "Pumping Turbine",
         "offsetgroup": "Pumping Turbine",
         "orientation": "v",
         "showlegend": true,
         "textposition": "auto",
         "type": "bar",
         "x": [
          1,
          2,
          3,
          4,
          5,
          6,
          7,
          8,
          9,
          10,
          11,
          12
         ],
         "xaxis": "x",
         "y": [
          293685.6,
          357720.5,
          302402.5,
          155828.6,
          241419.8,
          106991.1,
          111986.2,
          156541.1,
          106930,
          210612.1,
          192383.1,
          239011.1
         ],
         "yaxis": "y"
        },
        {
         "alignmentgroup": "True",
         "hovertemplate": "technology=Total Imports<br>month=%{x}<br>generation_mwh=%{y}<extra></extra>",
         "legendgroup": "Total Imports",
         "marker": {
          "color": "#FFA15A",
          "pattern": {
           "shape": ""
          }
         },
         "name": "Total Imports",
         "offsetgroup": "Total Imports",
         "orientation": "v",
         "showlegend": true,
         "textposition": "auto",
         "type": "bar",
         "x": [
          1,
          2,
          3,
          4,
          5,
          6,
          7,
          8,
          9,
          10,
          11,
          12
         ],
         "xaxis": "x",
         "y": [
          2019413.2,
          1555339.1,
          1797468.1,
          1886314.9,
          2061748.8,
          2217776.5,
          2145289,
          2317818.8,
          1854517.1,
          1573061.6,
          995160.5,
          1180193.4
         ],
         "yaxis": "y"
        }
       ],
       "layout": {
        "barmode": "relative",
        "legend": {
         "title": {
          "text": "technology"
         },
         "tracegroupgap": 0
        },
        "margin": {
         "t": 60
        },
        "template": {
         "data": {
          "bar": [
           {
            "error_x": {
             "color": "#2a3f5f"
            },
            "error_y": {
             "color": "#2a3f5f"
            },
            "marker": {
             "line": {
              "color": "#E5ECF6",
              "width": 0.5
             },
             "pattern": {
              "fillmode": "overlay",
              "size": 10,
              "solidity": 0.2
             }
            },
            "type": "bar"
           }
          ],
          "barpolar": [
           {
            "marker": {
             "line": {
              "color": "#E5ECF6",
              "width": 0.5
             },
             "pattern": {
              "fillmode": "overlay",
              "size": 10,
              "solidity": 0.2
             }
            },
            "type": "barpolar"
           }
          ],
          "carpet": [
           {
            "aaxis": {
             "endlinecolor": "#2a3f5f",
             "gridcolor": "white",
             "linecolor": "white",
             "minorgridcolor": "white",
             "startlinecolor": "#2a3f5f"
            },
            "baxis": {
             "endlinecolor": "#2a3f5f",
             "gridcolor": "white",
             "linecolor": "white",
             "minorgridcolor": "white",
             "startlinecolor": "#2a3f5f"
            },
            "type": "carpet"
           }
          ],
          "choropleth": [
           {
            "colorbar": {
             "outlinewidth": 0,
             "ticks": ""
            },
            "type": "choropleth"
           }
          ],
          "contour": [
           {
            "colorbar": {
             "outlinewidth": 0,
             "ticks": ""
            },
            "colorscale": [
             [
              0,
              "#0d0887"
             ],
             [
              0.1111111111111111,
              "#46039f"
             ],
             [
              0.2222222222222222,
              "#7201a8"
             ],
             [
              0.3333333333333333,
              "#9c179e"
             ],
             [
              0.4444444444444444,
              "#bd3786"
             ],
             [
              0.5555555555555556,
              "#d8576b"
             ],
             [
              0.6666666666666666,
              "#ed7953"
             ],
             [
              0.7777777777777778,
              "#fb9f3a"
             ],
             [
              0.8888888888888888,
              "#fdca26"
             ],
             [
              1,
              "#f0f921"
             ]
            ],
            "type": "contour"
           }
          ],
          "contourcarpet": [
           {
            "colorbar": {
             "outlinewidth": 0,
             "ticks": ""
            },
            "type": "contourcarpet"
           }
          ],
          "heatmap": [
           {
            "colorbar": {
             "outlinewidth": 0,
             "ticks": ""
            },
            "colorscale": [
             [
              0,
              "#0d0887"
             ],
             [
              0.1111111111111111,
              "#46039f"
             ],
             [
              0.2222222222222222,
              "#7201a8"
             ],
             [
              0.3333333333333333,
              "#9c179e"
             ],
             [
              0.4444444444444444,
              "#bd3786"
             ],
             [
              0.5555555555555556,
              "#d8576b"
             ],
             [
              0.6666666666666666,
              "#ed7953"
             ],
             [
              0.7777777777777778,
              "#fb9f3a"
             ],
             [
              0.8888888888888888,
              "#fdca26"
             ],
             [
              1,
              "#f0f921"
             ]
            ],
            "type": "heatmap"
           }
          ],
          "heatmapgl": [
           {
            "colorbar": {
             "outlinewidth": 0,
             "ticks": ""
            },
            "colorscale": [
             [
              0,
              "#0d0887"
             ],
             [
              0.1111111111111111,
              "#46039f"
             ],
             [
              0.2222222222222222,
              "#7201a8"
             ],
             [
              0.3333333333333333,
              "#9c179e"
             ],
             [
              0.4444444444444444,
              "#bd3786"
             ],
             [
              0.5555555555555556,
              "#d8576b"
             ],
             [
              0.6666666666666666,
              "#ed7953"
             ],
             [
              0.7777777777777778,
              "#fb9f3a"
             ],
             [
              0.8888888888888888,
              "#fdca26"
             ],
             [
              1,
              "#f0f921"
             ]
            ],
            "type": "heatmapgl"
           }
          ],
          "histogram": [
           {
            "marker": {
             "pattern": {
              "fillmode": "overlay",
              "size": 10,
              "solidity": 0.2
             }
            },
            "type": "histogram"
           }
          ],
          "histogram2d": [
           {
            "colorbar": {
             "outlinewidth": 0,
             "ticks": ""
            },
            "colorscale": [
             [
              0,
              "#0d0887"
             ],
             [
              0.1111111111111111,
              "#46039f"
             ],
             [
              0.2222222222222222,
              "#7201a8"
             ],
             [
              0.3333333333333333,
              "#9c179e"
             ],
             [
              0.4444444444444444,
              "#bd3786"
             ],
             [
              0.5555555555555556,
              "#d8576b"
             ],
             [
              0.6666666666666666,
              "#ed7953"
             ],
             [
              0.7777777777777778,
              "#fb9f3a"
             ],
             [
              0.8888888888888888,
              "#fdca26"
             ],
             [
              1,
              "#f0f921"
             ]
            ],
            "type": "histogram2d"
           }
          ],
          "histogram2dcontour": [
           {
            "colorbar": {
             "outlinewidth": 0,
             "ticks": ""
            },
            "colorscale": [
             [
              0,
              "#0d0887"
             ],
             [
              0.1111111111111111,
              "#46039f"
             ],
             [
              0.2222222222222222,
              "#7201a8"
             ],
             [
              0.3333333333333333,
              "#9c179e"
             ],
             [
              0.4444444444444444,
              "#bd3786"
             ],
             [
              0.5555555555555556,
              "#d8576b"
             ],
             [
              0.6666666666666666,
              "#ed7953"
             ],
             [
              0.7777777777777778,
              "#fb9f3a"
             ],
             [
              0.8888888888888888,
              "#fdca26"
             ],
             [
              1,
              "#f0f921"
             ]
            ],
            "type": "histogram2dcontour"
           }
          ],
          "mesh3d": [
           {
            "colorbar": {
             "outlinewidth": 0,
             "ticks": ""
            },
            "type": "mesh3d"
           }
          ],
          "parcoords": [
           {
            "line": {
             "colorbar": {
              "outlinewidth": 0,
              "ticks": ""
             }
            },
            "type": "parcoords"
           }
          ],
          "pie": [
           {
            "automargin": true,
            "type": "pie"
           }
          ],
          "scatter": [
           {
            "fillpattern": {
             "fillmode": "overlay",
             "size": 10,
             "solidity": 0.2
            },
            "type": "scatter"
           }
          ],
          "scatter3d": [
           {
            "line": {
             "colorbar": {
              "outlinewidth": 0,
              "ticks": ""
             }
            },
            "marker": {
             "colorbar": {
              "outlinewidth": 0,
              "ticks": ""
             }
            },
            "type": "scatter3d"
           }
          ],
          "scattercarpet": [
           {
            "marker": {
             "colorbar": {
              "outlinewidth": 0,
              "ticks": ""
             }
            },
            "type": "scattercarpet"
           }
          ],
          "scattergeo": [
           {
            "marker": {
             "colorbar": {
              "outlinewidth": 0,
              "ticks": ""
             }
            },
            "type": "scattergeo"
           }
          ],
          "scattergl": [
           {
            "marker": {
             "colorbar": {
              "outlinewidth": 0,
              "ticks": ""
             }
            },
            "type": "scattergl"
           }
          ],
          "scattermapbox": [
           {
            "marker": {
             "colorbar": {
              "outlinewidth": 0,
              "ticks": ""
             }
            },
            "type": "scattermapbox"
           }
          ],
          "scatterpolar": [
           {
            "marker": {
             "colorbar": {
              "outlinewidth": 0,
              "ticks": ""
             }
            },
            "type": "scatterpolar"
           }
          ],
          "scatterpolargl": [
           {
            "marker": {
             "colorbar": {
              "outlinewidth": 0,
              "ticks": ""
             }
            },
            "type": "scatterpolargl"
           }
          ],
          "scatterternary": [
           {
            "marker": {
             "colorbar": {
              "outlinewidth": 0,
              "ticks": ""
             }
            },
            "type": "scatterternary"
           }
          ],
          "surface": [
           {
            "colorbar": {
             "outlinewidth": 0,
             "ticks": ""
            },
            "colorscale": [
             [
              0,
              "#0d0887"
             ],
             [
              0.1111111111111111,
              "#46039f"
             ],
             [
              0.2222222222222222,
              "#7201a8"
             ],
             [
              0.3333333333333333,
              "#9c179e"
             ],
             [
              0.4444444444444444,
              "#bd3786"
             ],
             [
              0.5555555555555556,
              "#d8576b"
             ],
             [
              0.6666666666666666,
              "#ed7953"
             ],
             [
              0.7777777777777778,
              "#fb9f3a"
             ],
             [
              0.8888888888888888,
              "#fdca26"
             ],
             [
              1,
              "#f0f921"
             ]
            ],
            "type": "surface"
           }
          ],
          "table": [
           {
            "cells": {
             "fill": {
              "color": "#EBF0F8"
             },
             "line": {
              "color": "white"
             }
            },
            "header": {
             "fill": {
              "color": "#C8D4E3"
             },
             "line": {
              "color": "white"
             }
            },
            "type": "table"
           }
          ]
         },
         "layout": {
          "annotationdefaults": {
           "arrowcolor": "#2a3f5f",
           "arrowhead": 0,
           "arrowwidth": 1
          },
          "autotypenumbers": "strict",
          "coloraxis": {
           "colorbar": {
            "outlinewidth": 0,
            "ticks": ""
           }
          },
          "colorscale": {
           "diverging": [
            [
             0,
             "#8e0152"
            ],
            [
             0.1,
             "#c51b7d"
            ],
            [
             0.2,
             "#de77ae"
            ],
            [
             0.3,
             "#f1b6da"
            ],
            [
             0.4,
             "#fde0ef"
            ],
            [
             0.5,
             "#f7f7f7"
            ],
            [
             0.6,
             "#e6f5d0"
            ],
            [
             0.7,
             "#b8e186"
            ],
            [
             0.8,
             "#7fbc41"
            ],
            [
             0.9,
             "#4d9221"
            ],
            [
             1,
             "#276419"
            ]
           ],
           "sequential": [
            [
             0,
             "#0d0887"
            ],
            [
             0.1111111111111111,
             "#46039f"
            ],
            [
             0.2222222222222222,
             "#7201a8"
            ],
            [
             0.3333333333333333,
             "#9c179e"
            ],
            [
             0.4444444444444444,
             "#bd3786"
            ],
            [
             0.5555555555555556,
             "#d8576b"
            ],
            [
             0.6666666666666666,
             "#ed7953"
            ],
            [
             0.7777777777777778,
             "#fb9f3a"
            ],
            [
             0.8888888888888888,
             "#fdca26"
            ],
            [
             1,
             "#f0f921"
            ]
           ],
           "sequentialminus": [
            [
             0,
             "#0d0887"
            ],
            [
             0.1111111111111111,
             "#46039f"
            ],
            [
             0.2222222222222222,
             "#7201a8"
            ],
            [
             0.3333333333333333,
             "#9c179e"
            ],
            [
             0.4444444444444444,
             "#bd3786"
            ],
            [
             0.5555555555555556,
             "#d8576b"
            ],
            [
             0.6666666666666666,
             "#ed7953"
            ],
            [
             0.7777777777777778,
             "#fb9f3a"
            ],
            [
             0.8888888888888888,
             "#fdca26"
            ],
            [
             1,
             "#f0f921"
            ]
           ]
          },
          "colorway": [
           "#636efa",
           "#EF553B",
           "#00cc96",
           "#ab63fa",
           "#FFA15A",
           "#19d3f3",
           "#FF6692",
           "#B6E880",
           "#FF97FF",
           "#FECB52"
          ],
          "font": {
           "color": "#2a3f5f"
          },
          "geo": {
           "bgcolor": "white",
           "lakecolor": "white",
           "landcolor": "#E5ECF6",
           "showlakes": true,
           "showland": true,
           "subunitcolor": "white"
          },
          "hoverlabel": {
           "align": "left"
          },
          "hovermode": "closest",
          "mapbox": {
           "style": "light"
          },
          "paper_bgcolor": "white",
          "plot_bgcolor": "#E5ECF6",
          "polar": {
           "angularaxis": {
            "gridcolor": "white",
            "linecolor": "white",
            "ticks": ""
           },
           "bgcolor": "#E5ECF6",
           "radialaxis": {
            "gridcolor": "white",
            "linecolor": "white",
            "ticks": ""
           }
          },
          "scene": {
           "xaxis": {
            "backgroundcolor": "#E5ECF6",
            "gridcolor": "white",
            "gridwidth": 2,
            "linecolor": "white",
            "showbackground": true,
            "ticks": "",
            "zerolinecolor": "white"
           },
           "yaxis": {
            "backgroundcolor": "#E5ECF6",
            "gridcolor": "white",
            "gridwidth": 2,
            "linecolor": "white",
            "showbackground": true,
            "ticks": "",
            "zerolinecolor": "white"
           },
           "zaxis": {
            "backgroundcolor": "#E5ECF6",
            "gridcolor": "white",
            "gridwidth": 2,
            "linecolor": "white",
            "showbackground": true,
            "ticks": "",
            "zerolinecolor": "white"
           }
          },
          "shapedefaults": {
           "line": {
            "color": "#2a3f5f"
           }
          },
          "ternary": {
           "aaxis": {
            "gridcolor": "white",
            "linecolor": "white",
            "ticks": ""
           },
           "baxis": {
            "gridcolor": "white",
            "linecolor": "white",
            "ticks": ""
           },
           "bgcolor": "#E5ECF6",
           "caxis": {
            "gridcolor": "white",
            "linecolor": "white",
            "ticks": ""
           }
          },
          "title": {
           "x": 0.05
          },
          "xaxis": {
           "automargin": true,
           "gridcolor": "white",
           "linecolor": "white",
           "ticks": "",
           "title": {
            "standoff": 15
           },
           "zerolinecolor": "white",
           "zerolinewidth": 2
          },
          "yaxis": {
           "automargin": true,
           "gridcolor": "white",
           "linecolor": "white",
           "ticks": "",
           "title": {
            "standoff": 15
           },
           "zerolinecolor": "white",
           "zerolinewidth": 2
          }
         }
        },
        "xaxis": {
         "anchor": "y",
         "domain": [
          0,
          1
         ],
         "title": {
          "text": "month"
         }
        },
        "yaxis": {
         "anchor": "x",
         "domain": [
          0,
          1
         ],
         "title": {
          "text": "generation_mwh"
         }
        }
       }
      }
     },
     "metadata": {},
     "output_type": "display_data"
    }
   ],
   "source": [
    "px.bar(data_frame=dfres, x='month', y='generation_mwh', color='technology')"
   ]
  },
  {
   "cell_type": "markdown",
   "id": "00dcf30a-79a2-48ad-83bc-20f534f95813",
   "metadata": {},
   "source": [
    "##### Differentiate each technology with a `facet_col`"
   ]
  },
  {
   "cell_type": "code",
   "execution_count": 23,
   "id": "f6db1fc1-feb3-4708-a5b1-8d9dda8477ef",
   "metadata": {},
   "outputs": [
    {
     "data": {
      "application/vnd.plotly.v1+json": {
       "config": {
        "plotlyServerURL": "https://plot.ly"
       },
       "data": [
        {
         "alignmentgroup": "True",
         "hovertemplate": "technology=Carbon<br>month=%{x}<br>generation_mwh=%{y}<extra></extra>",
         "legendgroup": "",
         "marker": {
          "color": "#636efa",
          "pattern": {
           "shape": ""
          }
         },
         "name": "",
         "offsetgroup": "",
         "orientation": "v",
         "showlegend": false,
         "textposition": "auto",
         "type": "bar",
         "x": [
          1,
          2,
          3,
          4,
          5,
          6,
          7,
          8,
          9,
          10,
          11,
          12
         ],
         "xaxis": "x",
         "y": [
          569862.6,
          186166,
          250334.3,
          275498.8,
          338188.1,
          433752.1,
          311105.2,
          327367.5,
          484822.4,
          534670.4,
          580637.8,
          724396.5
         ],
         "yaxis": "y"
        },
        {
         "alignmentgroup": "True",
         "hovertemplate": "technology=Cogeneration<br>month=%{x}<br>generation_mwh=%{y}<extra></extra>",
         "legendgroup": "",
         "marker": {
          "color": "#636efa",
          "pattern": {
           "shape": ""
          }
         },
         "name": "",
         "offsetgroup": "",
         "orientation": "v",
         "showlegend": false,
         "textposition": "auto",
         "type": "bar",
         "x": [
          1,
          2,
          3,
          4,
          5,
          6,
          7,
          8,
          9,
          10,
          11,
          12
         ],
         "xaxis": "x2",
         "y": [
          2404774.2,
          1852452.1,
          2258929.9,
          2212108.8,
          2235879.1,
          2222424.2,
          2305126.9,
          2149075,
          2191493.1,
          2160983.6,
          2184241.9,
          2196073.7
         ],
         "yaxis": "y2"
        },
        {
         "alignmentgroup": "True",
         "hovertemplate": "technology=Combined Cycle<br>month=%{x}<br>generation_mwh=%{y}<extra></extra>",
         "legendgroup": "",
         "marker": {
          "color": "#636efa",
          "pattern": {
           "shape": ""
          }
         },
         "name": "",
         "offsetgroup": "",
         "orientation": "v",
         "showlegend": false,
         "textposition": "auto",
         "type": "bar",
         "x": [
          1,
          2,
          3,
          4,
          5,
          6,
          7,
          8,
          9,
          10,
          11,
          12
         ],
         "xaxis": "x3",
         "y": [
          2132026.7,
          1036386.9,
          1626779.1,
          2900945.1,
          2011323.4,
          3219381.4,
          3062721.4,
          3339393.1,
          4314063.1,
          3820749.4,
          5783031.6,
          4571818.5
         ],
         "yaxis": "y3"
        },
        {
         "alignmentgroup": "True",
         "hovertemplate": "technology=Domestic Residuals<br>month=%{x}<br>generation_mwh=%{y}<extra></extra>",
         "legendgroup": "",
         "marker": {
          "color": "#636efa",
          "pattern": {
           "shape": ""
          }
         },
         "name": "",
         "offsetgroup": "",
         "orientation": "v",
         "showlegend": false,
         "textposition": "auto",
         "type": "bar",
         "x": [
          1,
          2,
          3,
          4,
          5,
          6,
          7,
          8,
          9,
          10,
          11,
          12
         ],
         "xaxis": "x4",
         "y": [
          109129,
          114266.7,
          125781.1,
          132297.7,
          107416.5,
          131201.1,
          150120.4,
          141866.6,
          107793.7,
          120196.9,
          132234.3,
          146789.9
         ],
         "yaxis": "y4"
        },
        {
         "alignmentgroup": "True",
         "hovertemplate": "technology=Eolic<br>month=%{x}<br>generation_mwh=%{y}<extra></extra>",
         "legendgroup": "",
         "marker": {
          "color": "#636efa",
          "pattern": {
           "shape": ""
          }
         },
         "name": "",
         "offsetgroup": "",
         "orientation": "v",
         "showlegend": false,
         "textposition": "auto",
         "type": "bar",
         "x": [
          1,
          2,
          3,
          4,
          5,
          6,
          7,
          8,
          9,
          10,
          11,
          12
         ],
         "xaxis": "x5",
         "y": [
          7039018,
          6240847.7,
          5534588.5,
          4187192.6,
          4667701.3,
          3548080.9,
          4127516.5,
          3640296.5,
          3189526.3,
          4338883.9,
          6397522.5,
          6887423.8
         ],
         "yaxis": "y5"
        },
        {
         "alignmentgroup": "True",
         "hovertemplate": "technology=Hydraulic No UGH<br>month=%{x}<br>generation_mwh=%{y}<extra></extra>",
         "legendgroup": "",
         "marker": {
          "color": "#636efa",
          "pattern": {
           "shape": ""
          }
         },
         "name": "",
         "offsetgroup": "",
         "orientation": "v",
         "showlegend": false,
         "textposition": "auto",
         "type": "bar",
         "x": [
          1,
          2,
          3,
          4,
          5,
          6,
          7,
          8,
          9,
          10,
          11,
          12
         ],
         "xaxis": "x6",
         "y": [
          688163.2,
          762889,
          609469.9,
          416865.1,
          498588.9,
          450602.7,
          356037.3,
          267556.1,
          214598.1,
          199206.8,
          267486.7,
          528224.2
         ],
         "yaxis": "y6"
        },
        {
         "alignmentgroup": "True",
         "hovertemplate": "technology=Hydraulic UGH<br>month=%{x}<br>generation_mwh=%{y}<extra></extra>",
         "legendgroup": "",
         "marker": {
          "color": "#636efa",
          "pattern": {
           "shape": ""
          }
         },
         "name": "",
         "offsetgroup": "",
         "orientation": "v",
         "showlegend": false,
         "textposition": "auto",
         "type": "bar",
         "x": [
          1,
          2,
          3,
          4,
          5,
          6,
          7,
          8,
          9,
          10,
          11,
          12
         ],
         "xaxis": "x7",
         "y": [
          3434033,
          3813742.3,
          3134665.2,
          2257334.9,
          1609724.3,
          1700697.8,
          1872495.3,
          1623821.6,
          1184314.8,
          796993.4,
          890757.4,
          1975085.7
         ],
         "yaxis": "y7"
        },
        {
         "alignmentgroup": "True",
         "hovertemplate": "technology=Non-renewable Residuals<br>month=%{x}<br>generation_mwh=%{y}<extra></extra>",
         "legendgroup": "",
         "marker": {
          "color": "#636efa",
          "pattern": {
           "shape": ""
          }
         },
         "name": "",
         "offsetgroup": "",
         "orientation": "v",
         "showlegend": false,
         "textposition": "auto",
         "type": "bar",
         "x": [
          1,
          2,
          3,
          4,
          5,
          6,
          7,
          8,
          9,
          10,
          11,
          12
         ],
         "xaxis": "x8",
         "y": [
          230255.4,
          217513.1,
          238286.1,
          234489,
          217960.8,
          249733.4,
          276158.5,
          270212.1,
          226374.3,
          241774.4,
          237443.4,
          245182.9
         ],
         "yaxis": "y8"
        },
        {
         "alignmentgroup": "True",
         "hovertemplate": "technology=Nuclear<br>month=%{x}<br>generation_mwh=%{y}<extra></extra>",
         "legendgroup": "",
         "marker": {
          "color": "#636efa",
          "pattern": {
           "shape": ""
          }
         },
         "name": "",
         "offsetgroup": "",
         "orientation": "v",
         "showlegend": false,
         "textposition": "auto",
         "type": "bar",
         "x": [
          1,
          2,
          3,
          4,
          5,
          6,
          7,
          8,
          9,
          10,
          11,
          12
         ],
         "xaxis": "x9",
         "y": [
          5190702.4,
          4358016.8,
          4830869.2,
          4210666.6,
          4386141.1,
          3710700.6,
          5120411.8,
          5153025.3,
          4896815.5,
          4755471.7,
          3580181.1,
          3931824
         ],
         "yaxis": "y9"
        },
        {
         "alignmentgroup": "True",
         "hovertemplate": "technology=Other Renewables<br>month=%{x}<br>generation_mwh=%{y}<extra></extra>",
         "legendgroup": "",
         "marker": {
          "color": "#636efa",
          "pattern": {
           "shape": ""
          }
         },
         "name": "",
         "offsetgroup": "",
         "orientation": "v",
         "showlegend": false,
         "textposition": "auto",
         "type": "bar",
         "x": [
          1,
          2,
          3,
          4,
          5,
          6,
          7,
          8,
          9,
          10,
          11,
          12
         ],
         "xaxis": "x10",
         "y": [
          401117.1,
          373167.3,
          362607.7,
          396144.9,
          394773.9,
          362110.1,
          357337.5,
          423215.4,
          402941.6,
          443908.9,
          444397.4,
          449313.3
         ],
         "yaxis": "y10"
        },
        {
         "alignmentgroup": "True",
         "hovertemplate": "technology=Other Residuals<br>month=%{x}<br>generation_mwh=%{y}<extra></extra>",
         "legendgroup": "",
         "marker": {
          "color": "#636efa",
          "pattern": {
           "shape": ""
          }
         },
         "name": "",
         "offsetgroup": "",
         "orientation": "v",
         "showlegend": false,
         "textposition": "auto",
         "type": "bar",
         "x": [
          1,
          2,
          3,
          4,
          5,
          6,
          7,
          8,
          9,
          10,
          11,
          12
         ],
         "xaxis": "x11",
         "y": [
          87553.8,
          73758.5,
          83339.5,
          86318.2,
          80903.9,
          89919.4,
          92031.1,
          94337.9,
          85689.9,
          93806.1,
          72328.8,
          79792.1
         ],
         "yaxis": "y11"
        },
        {
         "alignmentgroup": "True",
         "hovertemplate": "technology=Photovoltaic Solar<br>month=%{x}<br>generation_mwh=%{y}<extra></extra>",
         "legendgroup": "",
         "marker": {
          "color": "#636efa",
          "pattern": {
           "shape": ""
          }
         },
         "name": "",
         "offsetgroup": "",
         "orientation": "v",
         "showlegend": false,
         "textposition": "auto",
         "type": "bar",
         "x": [
          1,
          2,
          3,
          4,
          5,
          6,
          7,
          8,
          9,
          10,
          11,
          12
         ],
         "xaxis": "x12",
         "y": [
          843899.7,
          997655.7,
          1662926.4,
          1639621,
          2302711.6,
          2259174.8,
          2534332.7,
          2362610.3,
          1875933.4,
          1748139.4,
          1302555.4,
          1030980.8
         ],
         "yaxis": "y12"
        },
        {
         "alignmentgroup": "True",
         "hovertemplate": "technology=Photovoltaic Thermal<br>month=%{x}<br>generation_mwh=%{y}<extra></extra>",
         "legendgroup": "",
         "marker": {
          "color": "#636efa",
          "pattern": {
           "shape": ""
          }
         },
         "name": "",
         "offsetgroup": "",
         "orientation": "v",
         "showlegend": false,
         "textposition": "auto",
         "type": "bar",
         "x": [
          1,
          2,
          3,
          4,
          5,
          6,
          7,
          8,
          9,
          10,
          11,
          12
         ],
         "xaxis": "x13",
         "y": [
          111926.2,
          154610.6,
          400909.7,
          277217.4,
          693254.8,
          685230.8,
          880841.9,
          721081.3,
          453465.8,
          356167.2,
          190083,
          117412.2
         ],
         "yaxis": "y13"
        },
        {
         "alignmentgroup": "True",
         "hovertemplate": "technology=Pumping Turbine<br>month=%{x}<br>generation_mwh=%{y}<extra></extra>",
         "legendgroup": "",
         "marker": {
          "color": "#636efa",
          "pattern": {
           "shape": ""
          }
         },
         "name": "",
         "offsetgroup": "",
         "orientation": "v",
         "showlegend": false,
         "textposition": "auto",
         "type": "bar",
         "x": [
          1,
          2,
          3,
          4,
          5,
          6,
          7,
          8,
          9,
          10,
          11,
          12
         ],
         "xaxis": "x14",
         "y": [
          293685.6,
          357720.5,
          302402.5,
          155828.6,
          241419.8,
          106991.1,
          111986.2,
          156541.1,
          106930,
          210612.1,
          192383.1,
          239011.1
         ],
         "yaxis": "y14"
        },
        {
         "alignmentgroup": "True",
         "hovertemplate": "technology=Total Imports<br>month=%{x}<br>generation_mwh=%{y}<extra></extra>",
         "legendgroup": "",
         "marker": {
          "color": "#636efa",
          "pattern": {
           "shape": ""
          }
         },
         "name": "",
         "offsetgroup": "",
         "orientation": "v",
         "showlegend": false,
         "textposition": "auto",
         "type": "bar",
         "x": [
          1,
          2,
          3,
          4,
          5,
          6,
          7,
          8,
          9,
          10,
          11,
          12
         ],
         "xaxis": "x15",
         "y": [
          2019413.2,
          1555339.1,
          1797468.1,
          1886314.9,
          2061748.8,
          2217776.5,
          2145289,
          2317818.8,
          1854517.1,
          1573061.6,
          995160.5,
          1180193.4
         ],
         "yaxis": "y15"
        }
       ],
       "layout": {
        "annotations": [
         {
          "font": {},
          "showarrow": false,
          "text": "technology=Carbon",
          "x": 0.024,
          "xanchor": "center",
          "xref": "paper",
          "y": 1,
          "yanchor": "bottom",
          "yref": "paper"
         },
         {
          "font": {},
          "showarrow": false,
          "text": "technology=Cogeneration",
          "x": 0.092,
          "xanchor": "center",
          "xref": "paper",
          "y": 1,
          "yanchor": "bottom",
          "yref": "paper"
         },
         {
          "font": {},
          "showarrow": false,
          "text": "technology=Combined Cycle",
          "x": 0.16,
          "xanchor": "center",
          "xref": "paper",
          "y": 1,
          "yanchor": "bottom",
          "yref": "paper"
         },
         {
          "font": {},
          "showarrow": false,
          "text": "technology=Domestic Residuals",
          "x": 0.228,
          "xanchor": "center",
          "xref": "paper",
          "y": 1,
          "yanchor": "bottom",
          "yref": "paper"
         },
         {
          "font": {},
          "showarrow": false,
          "text": "technology=Eolic",
          "x": 0.29600000000000004,
          "xanchor": "center",
          "xref": "paper",
          "y": 1,
          "yanchor": "bottom",
          "yref": "paper"
         },
         {
          "font": {},
          "showarrow": false,
          "text": "technology=Hydraulic No UGH",
          "x": 0.364,
          "xanchor": "center",
          "xref": "paper",
          "y": 1,
          "yanchor": "bottom",
          "yref": "paper"
         },
         {
          "font": {},
          "showarrow": false,
          "text": "technology=Hydraulic UGH",
          "x": 0.43199999999999994,
          "xanchor": "center",
          "xref": "paper",
          "y": 1,
          "yanchor": "bottom",
          "yref": "paper"
         },
         {
          "font": {},
          "showarrow": false,
          "text": "technology=Non-renewable Residuals",
          "x": 0.5,
          "xanchor": "center",
          "xref": "paper",
          "y": 1,
          "yanchor": "bottom",
          "yref": "paper"
         },
         {
          "font": {},
          "showarrow": false,
          "text": "technology=Nuclear",
          "x": 0.568,
          "xanchor": "center",
          "xref": "paper",
          "y": 1,
          "yanchor": "bottom",
          "yref": "paper"
         },
         {
          "font": {},
          "showarrow": false,
          "text": "technology=Other Renewables",
          "x": 0.6359999999999999,
          "xanchor": "center",
          "xref": "paper",
          "y": 1,
          "yanchor": "bottom",
          "yref": "paper"
         },
         {
          "font": {},
          "showarrow": false,
          "text": "technology=Other Residuals",
          "x": 0.704,
          "xanchor": "center",
          "xref": "paper",
          "y": 1,
          "yanchor": "bottom",
          "yref": "paper"
         },
         {
          "font": {},
          "showarrow": false,
          "text": "technology=Photovoltaic Solar",
          "x": 0.7719999999999999,
          "xanchor": "center",
          "xref": "paper",
          "y": 1,
          "yanchor": "bottom",
          "yref": "paper"
         },
         {
          "font": {},
          "showarrow": false,
          "text": "technology=Photovoltaic Thermal",
          "x": 0.84,
          "xanchor": "center",
          "xref": "paper",
          "y": 1,
          "yanchor": "bottom",
          "yref": "paper"
         },
         {
          "font": {},
          "showarrow": false,
          "text": "technology=Pumping Turbine",
          "x": 0.908,
          "xanchor": "center",
          "xref": "paper",
          "y": 1,
          "yanchor": "bottom",
          "yref": "paper"
         },
         {
          "font": {},
          "showarrow": false,
          "text": "technology=Total Imports",
          "x": 0.976,
          "xanchor": "center",
          "xref": "paper",
          "y": 1,
          "yanchor": "bottom",
          "yref": "paper"
         }
        ],
        "barmode": "relative",
        "legend": {
         "tracegroupgap": 0
        },
        "margin": {
         "t": 60
        },
        "template": {
         "data": {
          "bar": [
           {
            "error_x": {
             "color": "#2a3f5f"
            },
            "error_y": {
             "color": "#2a3f5f"
            },
            "marker": {
             "line": {
              "color": "#E5ECF6",
              "width": 0.5
             },
             "pattern": {
              "fillmode": "overlay",
              "size": 10,
              "solidity": 0.2
             }
            },
            "type": "bar"
           }
          ],
          "barpolar": [
           {
            "marker": {
             "line": {
              "color": "#E5ECF6",
              "width": 0.5
             },
             "pattern": {
              "fillmode": "overlay",
              "size": 10,
              "solidity": 0.2
             }
            },
            "type": "barpolar"
           }
          ],
          "carpet": [
           {
            "aaxis": {
             "endlinecolor": "#2a3f5f",
             "gridcolor": "white",
             "linecolor": "white",
             "minorgridcolor": "white",
             "startlinecolor": "#2a3f5f"
            },
            "baxis": {
             "endlinecolor": "#2a3f5f",
             "gridcolor": "white",
             "linecolor": "white",
             "minorgridcolor": "white",
             "startlinecolor": "#2a3f5f"
            },
            "type": "carpet"
           }
          ],
          "choropleth": [
           {
            "colorbar": {
             "outlinewidth": 0,
             "ticks": ""
            },
            "type": "choropleth"
           }
          ],
          "contour": [
           {
            "colorbar": {
             "outlinewidth": 0,
             "ticks": ""
            },
            "colorscale": [
             [
              0,
              "#0d0887"
             ],
             [
              0.1111111111111111,
              "#46039f"
             ],
             [
              0.2222222222222222,
              "#7201a8"
             ],
             [
              0.3333333333333333,
              "#9c179e"
             ],
             [
              0.4444444444444444,
              "#bd3786"
             ],
             [
              0.5555555555555556,
              "#d8576b"
             ],
             [
              0.6666666666666666,
              "#ed7953"
             ],
             [
              0.7777777777777778,
              "#fb9f3a"
             ],
             [
              0.8888888888888888,
              "#fdca26"
             ],
             [
              1,
              "#f0f921"
             ]
            ],
            "type": "contour"
           }
          ],
          "contourcarpet": [
           {
            "colorbar": {
             "outlinewidth": 0,
             "ticks": ""
            },
            "type": "contourcarpet"
           }
          ],
          "heatmap": [
           {
            "colorbar": {
             "outlinewidth": 0,
             "ticks": ""
            },
            "colorscale": [
             [
              0,
              "#0d0887"
             ],
             [
              0.1111111111111111,
              "#46039f"
             ],
             [
              0.2222222222222222,
              "#7201a8"
             ],
             [
              0.3333333333333333,
              "#9c179e"
             ],
             [
              0.4444444444444444,
              "#bd3786"
             ],
             [
              0.5555555555555556,
              "#d8576b"
             ],
             [
              0.6666666666666666,
              "#ed7953"
             ],
             [
              0.7777777777777778,
              "#fb9f3a"
             ],
             [
              0.8888888888888888,
              "#fdca26"
             ],
             [
              1,
              "#f0f921"
             ]
            ],
            "type": "heatmap"
           }
          ],
          "heatmapgl": [
           {
            "colorbar": {
             "outlinewidth": 0,
             "ticks": ""
            },
            "colorscale": [
             [
              0,
              "#0d0887"
             ],
             [
              0.1111111111111111,
              "#46039f"
             ],
             [
              0.2222222222222222,
              "#7201a8"
             ],
             [
              0.3333333333333333,
              "#9c179e"
             ],
             [
              0.4444444444444444,
              "#bd3786"
             ],
             [
              0.5555555555555556,
              "#d8576b"
             ],
             [
              0.6666666666666666,
              "#ed7953"
             ],
             [
              0.7777777777777778,
              "#fb9f3a"
             ],
             [
              0.8888888888888888,
              "#fdca26"
             ],
             [
              1,
              "#f0f921"
             ]
            ],
            "type": "heatmapgl"
           }
          ],
          "histogram": [
           {
            "marker": {
             "pattern": {
              "fillmode": "overlay",
              "size": 10,
              "solidity": 0.2
             }
            },
            "type": "histogram"
           }
          ],
          "histogram2d": [
           {
            "colorbar": {
             "outlinewidth": 0,
             "ticks": ""
            },
            "colorscale": [
             [
              0,
              "#0d0887"
             ],
             [
              0.1111111111111111,
              "#46039f"
             ],
             [
              0.2222222222222222,
              "#7201a8"
             ],
             [
              0.3333333333333333,
              "#9c179e"
             ],
             [
              0.4444444444444444,
              "#bd3786"
             ],
             [
              0.5555555555555556,
              "#d8576b"
             ],
             [
              0.6666666666666666,
              "#ed7953"
             ],
             [
              0.7777777777777778,
              "#fb9f3a"
             ],
             [
              0.8888888888888888,
              "#fdca26"
             ],
             [
              1,
              "#f0f921"
             ]
            ],
            "type": "histogram2d"
           }
          ],
          "histogram2dcontour": [
           {
            "colorbar": {
             "outlinewidth": 0,
             "ticks": ""
            },
            "colorscale": [
             [
              0,
              "#0d0887"
             ],
             [
              0.1111111111111111,
              "#46039f"
             ],
             [
              0.2222222222222222,
              "#7201a8"
             ],
             [
              0.3333333333333333,
              "#9c179e"
             ],
             [
              0.4444444444444444,
              "#bd3786"
             ],
             [
              0.5555555555555556,
              "#d8576b"
             ],
             [
              0.6666666666666666,
              "#ed7953"
             ],
             [
              0.7777777777777778,
              "#fb9f3a"
             ],
             [
              0.8888888888888888,
              "#fdca26"
             ],
             [
              1,
              "#f0f921"
             ]
            ],
            "type": "histogram2dcontour"
           }
          ],
          "mesh3d": [
           {
            "colorbar": {
             "outlinewidth": 0,
             "ticks": ""
            },
            "type": "mesh3d"
           }
          ],
          "parcoords": [
           {
            "line": {
             "colorbar": {
              "outlinewidth": 0,
              "ticks": ""
             }
            },
            "type": "parcoords"
           }
          ],
          "pie": [
           {
            "automargin": true,
            "type": "pie"
           }
          ],
          "scatter": [
           {
            "fillpattern": {
             "fillmode": "overlay",
             "size": 10,
             "solidity": 0.2
            },
            "type": "scatter"
           }
          ],
          "scatter3d": [
           {
            "line": {
             "colorbar": {
              "outlinewidth": 0,
              "ticks": ""
             }
            },
            "marker": {
             "colorbar": {
              "outlinewidth": 0,
              "ticks": ""
             }
            },
            "type": "scatter3d"
           }
          ],
          "scattercarpet": [
           {
            "marker": {
             "colorbar": {
              "outlinewidth": 0,
              "ticks": ""
             }
            },
            "type": "scattercarpet"
           }
          ],
          "scattergeo": [
           {
            "marker": {
             "colorbar": {
              "outlinewidth": 0,
              "ticks": ""
             }
            },
            "type": "scattergeo"
           }
          ],
          "scattergl": [
           {
            "marker": {
             "colorbar": {
              "outlinewidth": 0,
              "ticks": ""
             }
            },
            "type": "scattergl"
           }
          ],
          "scattermapbox": [
           {
            "marker": {
             "colorbar": {
              "outlinewidth": 0,
              "ticks": ""
             }
            },
            "type": "scattermapbox"
           }
          ],
          "scatterpolar": [
           {
            "marker": {
             "colorbar": {
              "outlinewidth": 0,
              "ticks": ""
             }
            },
            "type": "scatterpolar"
           }
          ],
          "scatterpolargl": [
           {
            "marker": {
             "colorbar": {
              "outlinewidth": 0,
              "ticks": ""
             }
            },
            "type": "scatterpolargl"
           }
          ],
          "scatterternary": [
           {
            "marker": {
             "colorbar": {
              "outlinewidth": 0,
              "ticks": ""
             }
            },
            "type": "scatterternary"
           }
          ],
          "surface": [
           {
            "colorbar": {
             "outlinewidth": 0,
             "ticks": ""
            },
            "colorscale": [
             [
              0,
              "#0d0887"
             ],
             [
              0.1111111111111111,
              "#46039f"
             ],
             [
              0.2222222222222222,
              "#7201a8"
             ],
             [
              0.3333333333333333,
              "#9c179e"
             ],
             [
              0.4444444444444444,
              "#bd3786"
             ],
             [
              0.5555555555555556,
              "#d8576b"
             ],
             [
              0.6666666666666666,
              "#ed7953"
             ],
             [
              0.7777777777777778,
              "#fb9f3a"
             ],
             [
              0.8888888888888888,
              "#fdca26"
             ],
             [
              1,
              "#f0f921"
             ]
            ],
            "type": "surface"
           }
          ],
          "table": [
           {
            "cells": {
             "fill": {
              "color": "#EBF0F8"
             },
             "line": {
              "color": "white"
             }
            },
            "header": {
             "fill": {
              "color": "#C8D4E3"
             },
             "line": {
              "color": "white"
             }
            },
            "type": "table"
           }
          ]
         },
         "layout": {
          "annotationdefaults": {
           "arrowcolor": "#2a3f5f",
           "arrowhead": 0,
           "arrowwidth": 1
          },
          "autotypenumbers": "strict",
          "coloraxis": {
           "colorbar": {
            "outlinewidth": 0,
            "ticks": ""
           }
          },
          "colorscale": {
           "diverging": [
            [
             0,
             "#8e0152"
            ],
            [
             0.1,
             "#c51b7d"
            ],
            [
             0.2,
             "#de77ae"
            ],
            [
             0.3,
             "#f1b6da"
            ],
            [
             0.4,
             "#fde0ef"
            ],
            [
             0.5,
             "#f7f7f7"
            ],
            [
             0.6,
             "#e6f5d0"
            ],
            [
             0.7,
             "#b8e186"
            ],
            [
             0.8,
             "#7fbc41"
            ],
            [
             0.9,
             "#4d9221"
            ],
            [
             1,
             "#276419"
            ]
           ],
           "sequential": [
            [
             0,
             "#0d0887"
            ],
            [
             0.1111111111111111,
             "#46039f"
            ],
            [
             0.2222222222222222,
             "#7201a8"
            ],
            [
             0.3333333333333333,
             "#9c179e"
            ],
            [
             0.4444444444444444,
             "#bd3786"
            ],
            [
             0.5555555555555556,
             "#d8576b"
            ],
            [
             0.6666666666666666,
             "#ed7953"
            ],
            [
             0.7777777777777778,
             "#fb9f3a"
            ],
            [
             0.8888888888888888,
             "#fdca26"
            ],
            [
             1,
             "#f0f921"
            ]
           ],
           "sequentialminus": [
            [
             0,
             "#0d0887"
            ],
            [
             0.1111111111111111,
             "#46039f"
            ],
            [
             0.2222222222222222,
             "#7201a8"
            ],
            [
             0.3333333333333333,
             "#9c179e"
            ],
            [
             0.4444444444444444,
             "#bd3786"
            ],
            [
             0.5555555555555556,
             "#d8576b"
            ],
            [
             0.6666666666666666,
             "#ed7953"
            ],
            [
             0.7777777777777778,
             "#fb9f3a"
            ],
            [
             0.8888888888888888,
             "#fdca26"
            ],
            [
             1,
             "#f0f921"
            ]
           ]
          },
          "colorway": [
           "#636efa",
           "#EF553B",
           "#00cc96",
           "#ab63fa",
           "#FFA15A",
           "#19d3f3",
           "#FF6692",
           "#B6E880",
           "#FF97FF",
           "#FECB52"
          ],
          "font": {
           "color": "#2a3f5f"
          },
          "geo": {
           "bgcolor": "white",
           "lakecolor": "white",
           "landcolor": "#E5ECF6",
           "showlakes": true,
           "showland": true,
           "subunitcolor": "white"
          },
          "hoverlabel": {
           "align": "left"
          },
          "hovermode": "closest",
          "mapbox": {
           "style": "light"
          },
          "paper_bgcolor": "white",
          "plot_bgcolor": "#E5ECF6",
          "polar": {
           "angularaxis": {
            "gridcolor": "white",
            "linecolor": "white",
            "ticks": ""
           },
           "bgcolor": "#E5ECF6",
           "radialaxis": {
            "gridcolor": "white",
            "linecolor": "white",
            "ticks": ""
           }
          },
          "scene": {
           "xaxis": {
            "backgroundcolor": "#E5ECF6",
            "gridcolor": "white",
            "gridwidth": 2,
            "linecolor": "white",
            "showbackground": true,
            "ticks": "",
            "zerolinecolor": "white"
           },
           "yaxis": {
            "backgroundcolor": "#E5ECF6",
            "gridcolor": "white",
            "gridwidth": 2,
            "linecolor": "white",
            "showbackground": true,
            "ticks": "",
            "zerolinecolor": "white"
           },
           "zaxis": {
            "backgroundcolor": "#E5ECF6",
            "gridcolor": "white",
            "gridwidth": 2,
            "linecolor": "white",
            "showbackground": true,
            "ticks": "",
            "zerolinecolor": "white"
           }
          },
          "shapedefaults": {
           "line": {
            "color": "#2a3f5f"
           }
          },
          "ternary": {
           "aaxis": {
            "gridcolor": "white",
            "linecolor": "white",
            "ticks": ""
           },
           "baxis": {
            "gridcolor": "white",
            "linecolor": "white",
            "ticks": ""
           },
           "bgcolor": "#E5ECF6",
           "caxis": {
            "gridcolor": "white",
            "linecolor": "white",
            "ticks": ""
           }
          },
          "title": {
           "x": 0.05
          },
          "xaxis": {
           "automargin": true,
           "gridcolor": "white",
           "linecolor": "white",
           "ticks": "",
           "title": {
            "standoff": 15
           },
           "zerolinecolor": "white",
           "zerolinewidth": 2
          },
          "yaxis": {
           "automargin": true,
           "gridcolor": "white",
           "linecolor": "white",
           "ticks": "",
           "title": {
            "standoff": 15
           },
           "zerolinecolor": "white",
           "zerolinewidth": 2
          }
         }
        },
        "xaxis": {
         "anchor": "y",
         "domain": [
          0,
          0.048
         ],
         "title": {
          "text": "month"
         }
        },
        "xaxis10": {
         "anchor": "y10",
         "domain": [
          0.6119999999999999,
          0.6599999999999999
         ],
         "matches": "x",
         "title": {
          "text": "month"
         }
        },
        "xaxis11": {
         "anchor": "y11",
         "domain": [
          0.6799999999999999,
          0.728
         ],
         "matches": "x",
         "title": {
          "text": "month"
         }
        },
        "xaxis12": {
         "anchor": "y12",
         "domain": [
          0.7479999999999999,
          0.7959999999999999
         ],
         "matches": "x",
         "title": {
          "text": "month"
         }
        },
        "xaxis13": {
         "anchor": "y13",
         "domain": [
          0.816,
          0.864
         ],
         "matches": "x",
         "title": {
          "text": "month"
         }
        },
        "xaxis14": {
         "anchor": "y14",
         "domain": [
          0.884,
          0.932
         ],
         "matches": "x",
         "title": {
          "text": "month"
         }
        },
        "xaxis15": {
         "anchor": "y15",
         "domain": [
          0.9520000000000001,
          1
         ],
         "matches": "x",
         "title": {
          "text": "month"
         }
        },
        "xaxis2": {
         "anchor": "y2",
         "domain": [
          0.068,
          0.116
         ],
         "matches": "x",
         "title": {
          "text": "month"
         }
        },
        "xaxis3": {
         "anchor": "y3",
         "domain": [
          0.136,
          0.184
         ],
         "matches": "x",
         "title": {
          "text": "month"
         }
        },
        "xaxis4": {
         "anchor": "y4",
         "domain": [
          0.20400000000000001,
          0.252
         ],
         "matches": "x",
         "title": {
          "text": "month"
         }
        },
        "xaxis5": {
         "anchor": "y5",
         "domain": [
          0.272,
          0.32
         ],
         "matches": "x",
         "title": {
          "text": "month"
         }
        },
        "xaxis6": {
         "anchor": "y6",
         "domain": [
          0.33999999999999997,
          0.38799999999999996
         ],
         "matches": "x",
         "title": {
          "text": "month"
         }
        },
        "xaxis7": {
         "anchor": "y7",
         "domain": [
          0.408,
          0.45599999999999996
         ],
         "matches": "x",
         "title": {
          "text": "month"
         }
        },
        "xaxis8": {
         "anchor": "y8",
         "domain": [
          0.476,
          0.524
         ],
         "matches": "x",
         "title": {
          "text": "month"
         }
        },
        "xaxis9": {
         "anchor": "y9",
         "domain": [
          0.5439999999999999,
          0.592
         ],
         "matches": "x",
         "title": {
          "text": "month"
         }
        },
        "yaxis": {
         "anchor": "x",
         "domain": [
          0,
          1
         ],
         "title": {
          "text": "generation_mwh"
         }
        },
        "yaxis10": {
         "anchor": "x10",
         "domain": [
          0,
          1
         ],
         "matches": "y",
         "showticklabels": false
        },
        "yaxis11": {
         "anchor": "x11",
         "domain": [
          0,
          1
         ],
         "matches": "y",
         "showticklabels": false
        },
        "yaxis12": {
         "anchor": "x12",
         "domain": [
          0,
          1
         ],
         "matches": "y",
         "showticklabels": false
        },
        "yaxis13": {
         "anchor": "x13",
         "domain": [
          0,
          1
         ],
         "matches": "y",
         "showticklabels": false
        },
        "yaxis14": {
         "anchor": "x14",
         "domain": [
          0,
          1
         ],
         "matches": "y",
         "showticklabels": false
        },
        "yaxis15": {
         "anchor": "x15",
         "domain": [
          0,
          1
         ],
         "matches": "y",
         "showticklabels": false
        },
        "yaxis2": {
         "anchor": "x2",
         "domain": [
          0,
          1
         ],
         "matches": "y",
         "showticklabels": false
        },
        "yaxis3": {
         "anchor": "x3",
         "domain": [
          0,
          1
         ],
         "matches": "y",
         "showticklabels": false
        },
        "yaxis4": {
         "anchor": "x4",
         "domain": [
          0,
          1
         ],
         "matches": "y",
         "showticklabels": false
        },
        "yaxis5": {
         "anchor": "x5",
         "domain": [
          0,
          1
         ],
         "matches": "y",
         "showticklabels": false
        },
        "yaxis6": {
         "anchor": "x6",
         "domain": [
          0,
          1
         ],
         "matches": "y",
         "showticklabels": false
        },
        "yaxis7": {
         "anchor": "x7",
         "domain": [
          0,
          1
         ],
         "matches": "y",
         "showticklabels": false
        },
        "yaxis8": {
         "anchor": "x8",
         "domain": [
          0,
          1
         ],
         "matches": "y",
         "showticklabels": false
        },
        "yaxis9": {
         "anchor": "x9",
         "domain": [
          0,
          1
         ],
         "matches": "y",
         "showticklabels": false
        }
       }
      }
     },
     "metadata": {},
     "output_type": "display_data"
    }
   ],
   "source": [
    "px.bar(data_frame=dfres, x='month', y='generation_mwh', facet_col='technology')"
   ]
  },
  {
   "cell_type": "code",
   "execution_count": 24,
   "id": "2dd91cb5-2d32-48ce-b4e6-9f339d0d4803",
   "metadata": {
    "tags": []
   },
   "outputs": [
    {
     "data": {
      "application/vnd.plotly.v1+json": {
       "config": {
        "plotlyServerURL": "https://plot.ly"
       },
       "data": [
        {
         "alignmentgroup": "True",
         "hovertemplate": "technology=Carbon<br>month=%{x}<br>generation_mwh=%{y}<extra></extra>",
         "legendgroup": "Carbon",
         "marker": {
          "color": "#636efa",
          "pattern": {
           "shape": ""
          }
         },
         "name": "Carbon",
         "offsetgroup": "Carbon",
         "orientation": "v",
         "showlegend": true,
         "textposition": "auto",
         "type": "bar",
         "x": [
          1,
          2,
          3,
          4,
          5,
          6,
          7,
          8,
          9,
          10,
          11,
          12
         ],
         "xaxis": "x11",
         "y": [
          569862.6,
          186166,
          250334.3,
          275498.8,
          338188.1,
          433752.1,
          311105.2,
          327367.5,
          484822.4,
          534670.4,
          580637.8,
          724396.5
         ],
         "yaxis": "y11"
        },
        {
         "alignmentgroup": "True",
         "hovertemplate": "technology=Cogeneration<br>month=%{x}<br>generation_mwh=%{y}<extra></extra>",
         "legendgroup": "Cogeneration",
         "marker": {
          "color": "#EF553B",
          "pattern": {
           "shape": ""
          }
         },
         "name": "Cogeneration",
         "offsetgroup": "Cogeneration",
         "orientation": "v",
         "showlegend": true,
         "textposition": "auto",
         "type": "bar",
         "x": [
          1,
          2,
          3,
          4,
          5,
          6,
          7,
          8,
          9,
          10,
          11,
          12
         ],
         "xaxis": "x12",
         "y": [
          2404774.2,
          1852452.1,
          2258929.9,
          2212108.8,
          2235879.1,
          2222424.2,
          2305126.9,
          2149075,
          2191493.1,
          2160983.6,
          2184241.9,
          2196073.7
         ],
         "yaxis": "y12"
        },
        {
         "alignmentgroup": "True",
         "hovertemplate": "technology=Combined Cycle<br>month=%{x}<br>generation_mwh=%{y}<extra></extra>",
         "legendgroup": "Combined Cycle",
         "marker": {
          "color": "#00cc96",
          "pattern": {
           "shape": ""
          }
         },
         "name": "Combined Cycle",
         "offsetgroup": "Combined Cycle",
         "orientation": "v",
         "showlegend": true,
         "textposition": "auto",
         "type": "bar",
         "x": [
          1,
          2,
          3,
          4,
          5,
          6,
          7,
          8,
          9,
          10,
          11,
          12
         ],
         "xaxis": "x13",
         "y": [
          2132026.7,
          1036386.9,
          1626779.1,
          2900945.1,
          2011323.4,
          3219381.4,
          3062721.4,
          3339393.1,
          4314063.1,
          3820749.4,
          5783031.6,
          4571818.5
         ],
         "yaxis": "y13"
        },
        {
         "alignmentgroup": "True",
         "hovertemplate": "technology=Domestic Residuals<br>month=%{x}<br>generation_mwh=%{y}<extra></extra>",
         "legendgroup": "Domestic Residuals",
         "marker": {
          "color": "#ab63fa",
          "pattern": {
           "shape": ""
          }
         },
         "name": "Domestic Residuals",
         "offsetgroup": "Domestic Residuals",
         "orientation": "v",
         "showlegend": true,
         "textposition": "auto",
         "type": "bar",
         "x": [
          1,
          2,
          3,
          4,
          5,
          6,
          7,
          8,
          9,
          10,
          11,
          12
         ],
         "xaxis": "x14",
         "y": [
          109129,
          114266.7,
          125781.1,
          132297.7,
          107416.5,
          131201.1,
          150120.4,
          141866.6,
          107793.7,
          120196.9,
          132234.3,
          146789.9
         ],
         "yaxis": "y14"
        },
        {
         "alignmentgroup": "True",
         "hovertemplate": "technology=Eolic<br>month=%{x}<br>generation_mwh=%{y}<extra></extra>",
         "legendgroup": "Eolic",
         "marker": {
          "color": "#FFA15A",
          "pattern": {
           "shape": ""
          }
         },
         "name": "Eolic",
         "offsetgroup": "Eolic",
         "orientation": "v",
         "showlegend": true,
         "textposition": "auto",
         "type": "bar",
         "x": [
          1,
          2,
          3,
          4,
          5,
          6,
          7,
          8,
          9,
          10,
          11,
          12
         ],
         "xaxis": "x15",
         "y": [
          7039018,
          6240847.7,
          5534588.5,
          4187192.6,
          4667701.3,
          3548080.9,
          4127516.5,
          3640296.5,
          3189526.3,
          4338883.9,
          6397522.5,
          6887423.8
         ],
         "yaxis": "y15"
        },
        {
         "alignmentgroup": "True",
         "hovertemplate": "technology=Hydraulic No UGH<br>month=%{x}<br>generation_mwh=%{y}<extra></extra>",
         "legendgroup": "Hydraulic No UGH",
         "marker": {
          "color": "#19d3f3",
          "pattern": {
           "shape": ""
          }
         },
         "name": "Hydraulic No UGH",
         "offsetgroup": "Hydraulic No UGH",
         "orientation": "v",
         "showlegend": true,
         "textposition": "auto",
         "type": "bar",
         "x": [
          1,
          2,
          3,
          4,
          5,
          6,
          7,
          8,
          9,
          10,
          11,
          12
         ],
         "xaxis": "x6",
         "y": [
          688163.2,
          762889,
          609469.9,
          416865.1,
          498588.9,
          450602.7,
          356037.3,
          267556.1,
          214598.1,
          199206.8,
          267486.7,
          528224.2
         ],
         "yaxis": "y6"
        },
        {
         "alignmentgroup": "True",
         "hovertemplate": "technology=Hydraulic UGH<br>month=%{x}<br>generation_mwh=%{y}<extra></extra>",
         "legendgroup": "Hydraulic UGH",
         "marker": {
          "color": "#FF6692",
          "pattern": {
           "shape": ""
          }
         },
         "name": "Hydraulic UGH",
         "offsetgroup": "Hydraulic UGH",
         "orientation": "v",
         "showlegend": true,
         "textposition": "auto",
         "type": "bar",
         "x": [
          1,
          2,
          3,
          4,
          5,
          6,
          7,
          8,
          9,
          10,
          11,
          12
         ],
         "xaxis": "x7",
         "y": [
          3434033,
          3813742.3,
          3134665.2,
          2257334.9,
          1609724.3,
          1700697.8,
          1872495.3,
          1623821.6,
          1184314.8,
          796993.4,
          890757.4,
          1975085.7
         ],
         "yaxis": "y7"
        },
        {
         "alignmentgroup": "True",
         "hovertemplate": "technology=Non-renewable Residuals<br>month=%{x}<br>generation_mwh=%{y}<extra></extra>",
         "legendgroup": "Non-renewable Residuals",
         "marker": {
          "color": "#B6E880",
          "pattern": {
           "shape": ""
          }
         },
         "name": "Non-renewable Residuals",
         "offsetgroup": "Non-renewable Residuals",
         "orientation": "v",
         "showlegend": true,
         "textposition": "auto",
         "type": "bar",
         "x": [
          1,
          2,
          3,
          4,
          5,
          6,
          7,
          8,
          9,
          10,
          11,
          12
         ],
         "xaxis": "x8",
         "y": [
          230255.4,
          217513.1,
          238286.1,
          234489,
          217960.8,
          249733.4,
          276158.5,
          270212.1,
          226374.3,
          241774.4,
          237443.4,
          245182.9
         ],
         "yaxis": "y8"
        },
        {
         "alignmentgroup": "True",
         "hovertemplate": "technology=Nuclear<br>month=%{x}<br>generation_mwh=%{y}<extra></extra>",
         "legendgroup": "Nuclear",
         "marker": {
          "color": "#FF97FF",
          "pattern": {
           "shape": ""
          }
         },
         "name": "Nuclear",
         "offsetgroup": "Nuclear",
         "orientation": "v",
         "showlegend": true,
         "textposition": "auto",
         "type": "bar",
         "x": [
          1,
          2,
          3,
          4,
          5,
          6,
          7,
          8,
          9,
          10,
          11,
          12
         ],
         "xaxis": "x9",
         "y": [
          5190702.4,
          4358016.8,
          4830869.2,
          4210666.6,
          4386141.1,
          3710700.6,
          5120411.8,
          5153025.3,
          4896815.5,
          4755471.7,
          3580181.1,
          3931824
         ],
         "yaxis": "y9"
        },
        {
         "alignmentgroup": "True",
         "hovertemplate": "technology=Other Renewables<br>month=%{x}<br>generation_mwh=%{y}<extra></extra>",
         "legendgroup": "Other Renewables",
         "marker": {
          "color": "#FECB52",
          "pattern": {
           "shape": ""
          }
         },
         "name": "Other Renewables",
         "offsetgroup": "Other Renewables",
         "orientation": "v",
         "showlegend": true,
         "textposition": "auto",
         "type": "bar",
         "x": [
          1,
          2,
          3,
          4,
          5,
          6,
          7,
          8,
          9,
          10,
          11,
          12
         ],
         "xaxis": "x10",
         "y": [
          401117.1,
          373167.3,
          362607.7,
          396144.9,
          394773.9,
          362110.1,
          357337.5,
          423215.4,
          402941.6,
          443908.9,
          444397.4,
          449313.3
         ],
         "yaxis": "y10"
        },
        {
         "alignmentgroup": "True",
         "hovertemplate": "technology=Other Residuals<br>month=%{x}<br>generation_mwh=%{y}<extra></extra>",
         "legendgroup": "Other Residuals",
         "marker": {
          "color": "#636efa",
          "pattern": {
           "shape": ""
          }
         },
         "name": "Other Residuals",
         "offsetgroup": "Other Residuals",
         "orientation": "v",
         "showlegend": true,
         "textposition": "auto",
         "type": "bar",
         "x": [
          1,
          2,
          3,
          4,
          5,
          6,
          7,
          8,
          9,
          10,
          11,
          12
         ],
         "xaxis": "x",
         "y": [
          87553.8,
          73758.5,
          83339.5,
          86318.2,
          80903.9,
          89919.4,
          92031.1,
          94337.9,
          85689.9,
          93806.1,
          72328.8,
          79792.1
         ],
         "yaxis": "y"
        },
        {
         "alignmentgroup": "True",
         "hovertemplate": "technology=Photovoltaic Solar<br>month=%{x}<br>generation_mwh=%{y}<extra></extra>",
         "legendgroup": "Photovoltaic Solar",
         "marker": {
          "color": "#EF553B",
          "pattern": {
           "shape": ""
          }
         },
         "name": "Photovoltaic Solar",
         "offsetgroup": "Photovoltaic Solar",
         "orientation": "v",
         "showlegend": true,
         "textposition": "auto",
         "type": "bar",
         "x": [
          1,
          2,
          3,
          4,
          5,
          6,
          7,
          8,
          9,
          10,
          11,
          12
         ],
         "xaxis": "x2",
         "y": [
          843899.7,
          997655.7,
          1662926.4,
          1639621,
          2302711.6,
          2259174.8,
          2534332.7,
          2362610.3,
          1875933.4,
          1748139.4,
          1302555.4,
          1030980.8
         ],
         "yaxis": "y2"
        },
        {
         "alignmentgroup": "True",
         "hovertemplate": "technology=Photovoltaic Thermal<br>month=%{x}<br>generation_mwh=%{y}<extra></extra>",
         "legendgroup": "Photovoltaic Thermal",
         "marker": {
          "color": "#00cc96",
          "pattern": {
           "shape": ""
          }
         },
         "name": "Photovoltaic Thermal",
         "offsetgroup": "Photovoltaic Thermal",
         "orientation": "v",
         "showlegend": true,
         "textposition": "auto",
         "type": "bar",
         "x": [
          1,
          2,
          3,
          4,
          5,
          6,
          7,
          8,
          9,
          10,
          11,
          12
         ],
         "xaxis": "x3",
         "y": [
          111926.2,
          154610.6,
          400909.7,
          277217.4,
          693254.8,
          685230.8,
          880841.9,
          721081.3,
          453465.8,
          356167.2,
          190083,
          117412.2
         ],
         "yaxis": "y3"
        },
        {
         "alignmentgroup": "True",
         "hovertemplate": "technology=Pumping Turbine<br>month=%{x}<br>generation_mwh=%{y}<extra></extra>",
         "legendgroup": "Pumping Turbine",
         "marker": {
          "color": "#ab63fa",
          "pattern": {
           "shape": ""
          }
         },
         "name": "Pumping Turbine",
         "offsetgroup": "Pumping Turbine",
         "orientation": "v",
         "showlegend": true,
         "textposition": "auto",
         "type": "bar",
         "x": [
          1,
          2,
          3,
          4,
          5,
          6,
          7,
          8,
          9,
          10,
          11,
          12
         ],
         "xaxis": "x4",
         "y": [
          293685.6,
          357720.5,
          302402.5,
          155828.6,
          241419.8,
          106991.1,
          111986.2,
          156541.1,
          106930,
          210612.1,
          192383.1,
          239011.1
         ],
         "yaxis": "y4"
        },
        {
         "alignmentgroup": "True",
         "hovertemplate": "technology=Total Imports<br>month=%{x}<br>generation_mwh=%{y}<extra></extra>",
         "legendgroup": "Total Imports",
         "marker": {
          "color": "#FFA15A",
          "pattern": {
           "shape": ""
          }
         },
         "name": "Total Imports",
         "offsetgroup": "Total Imports",
         "orientation": "v",
         "showlegend": true,
         "textposition": "auto",
         "type": "bar",
         "x": [
          1,
          2,
          3,
          4,
          5,
          6,
          7,
          8,
          9,
          10,
          11,
          12
         ],
         "xaxis": "x5",
         "y": [
          2019413.2,
          1555339.1,
          1797468.1,
          1886314.9,
          2061748.8,
          2217776.5,
          2145289,
          2317818.8,
          1854517.1,
          1573061.6,
          995160.5,
          1180193.4
         ],
         "yaxis": "y5"
        }
       ],
       "layout": {
        "annotations": [
         {
          "font": {},
          "showarrow": false,
          "text": "technology=Other Residuals",
          "x": 0.09200000000000001,
          "xanchor": "center",
          "xref": "paper",
          "y": 0.2866666666666666,
          "yanchor": "bottom",
          "yref": "paper"
         },
         {
          "font": {},
          "showarrow": false,
          "text": "technology=Photovoltaic Solar",
          "x": 0.29600000000000004,
          "xanchor": "center",
          "xref": "paper",
          "y": 0.2866666666666666,
          "yanchor": "bottom",
          "yref": "paper"
         },
         {
          "font": {},
          "showarrow": false,
          "text": "technology=Photovoltaic Thermal",
          "x": 0.5,
          "xanchor": "center",
          "xref": "paper",
          "y": 0.2866666666666666,
          "yanchor": "bottom",
          "yref": "paper"
         },
         {
          "font": {},
          "showarrow": false,
          "text": "technology=Pumping Turbine",
          "x": 0.7040000000000002,
          "xanchor": "center",
          "xref": "paper",
          "y": 0.2866666666666666,
          "yanchor": "bottom",
          "yref": "paper"
         },
         {
          "font": {},
          "showarrow": false,
          "text": "technology=Total Imports",
          "x": 0.908,
          "xanchor": "center",
          "xref": "paper",
          "y": 0.2866666666666666,
          "yanchor": "bottom",
          "yref": "paper"
         },
         {
          "font": {},
          "showarrow": false,
          "text": "technology=Hydraulic No UGH",
          "x": 0.09200000000000001,
          "xanchor": "center",
          "xref": "paper",
          "y": 0.6433333333333333,
          "yanchor": "bottom",
          "yref": "paper"
         },
         {
          "font": {},
          "showarrow": false,
          "text": "technology=Hydraulic UGH",
          "x": 0.29600000000000004,
          "xanchor": "center",
          "xref": "paper",
          "y": 0.6433333333333333,
          "yanchor": "bottom",
          "yref": "paper"
         },
         {
          "font": {},
          "showarrow": false,
          "text": "technology=Non-renewable Residuals",
          "x": 0.5,
          "xanchor": "center",
          "xref": "paper",
          "y": 0.6433333333333333,
          "yanchor": "bottom",
          "yref": "paper"
         },
         {
          "font": {},
          "showarrow": false,
          "text": "technology=Nuclear",
          "x": 0.7040000000000002,
          "xanchor": "center",
          "xref": "paper",
          "y": 0.6433333333333333,
          "yanchor": "bottom",
          "yref": "paper"
         },
         {
          "font": {},
          "showarrow": false,
          "text": "technology=Other Renewables",
          "x": 0.908,
          "xanchor": "center",
          "xref": "paper",
          "y": 0.6433333333333333,
          "yanchor": "bottom",
          "yref": "paper"
         },
         {
          "font": {},
          "showarrow": false,
          "text": "technology=Carbon",
          "x": 0.09200000000000001,
          "xanchor": "center",
          "xref": "paper",
          "y": 0.9999999999999999,
          "yanchor": "bottom",
          "yref": "paper"
         },
         {
          "font": {},
          "showarrow": false,
          "text": "technology=Cogeneration",
          "x": 0.29600000000000004,
          "xanchor": "center",
          "xref": "paper",
          "y": 0.9999999999999999,
          "yanchor": "bottom",
          "yref": "paper"
         },
         {
          "font": {},
          "showarrow": false,
          "text": "technology=Combined Cycle",
          "x": 0.5,
          "xanchor": "center",
          "xref": "paper",
          "y": 0.9999999999999999,
          "yanchor": "bottom",
          "yref": "paper"
         },
         {
          "font": {},
          "showarrow": false,
          "text": "technology=Domestic Residuals",
          "x": 0.7040000000000002,
          "xanchor": "center",
          "xref": "paper",
          "y": 0.9999999999999999,
          "yanchor": "bottom",
          "yref": "paper"
         },
         {
          "font": {},
          "showarrow": false,
          "text": "technology=Eolic",
          "x": 0.908,
          "xanchor": "center",
          "xref": "paper",
          "y": 0.9999999999999999,
          "yanchor": "bottom",
          "yref": "paper"
         }
        ],
        "barmode": "relative",
        "height": 750,
        "legend": {
         "title": {
          "text": "technology"
         },
         "tracegroupgap": 0
        },
        "margin": {
         "t": 60
        },
        "template": {
         "data": {
          "bar": [
           {
            "error_x": {
             "color": "#2a3f5f"
            },
            "error_y": {
             "color": "#2a3f5f"
            },
            "marker": {
             "line": {
              "color": "#E5ECF6",
              "width": 0.5
             },
             "pattern": {
              "fillmode": "overlay",
              "size": 10,
              "solidity": 0.2
             }
            },
            "type": "bar"
           }
          ],
          "barpolar": [
           {
            "marker": {
             "line": {
              "color": "#E5ECF6",
              "width": 0.5
             },
             "pattern": {
              "fillmode": "overlay",
              "size": 10,
              "solidity": 0.2
             }
            },
            "type": "barpolar"
           }
          ],
          "carpet": [
           {
            "aaxis": {
             "endlinecolor": "#2a3f5f",
             "gridcolor": "white",
             "linecolor": "white",
             "minorgridcolor": "white",
             "startlinecolor": "#2a3f5f"
            },
            "baxis": {
             "endlinecolor": "#2a3f5f",
             "gridcolor": "white",
             "linecolor": "white",
             "minorgridcolor": "white",
             "startlinecolor": "#2a3f5f"
            },
            "type": "carpet"
           }
          ],
          "choropleth": [
           {
            "colorbar": {
             "outlinewidth": 0,
             "ticks": ""
            },
            "type": "choropleth"
           }
          ],
          "contour": [
           {
            "colorbar": {
             "outlinewidth": 0,
             "ticks": ""
            },
            "colorscale": [
             [
              0,
              "#0d0887"
             ],
             [
              0.1111111111111111,
              "#46039f"
             ],
             [
              0.2222222222222222,
              "#7201a8"
             ],
             [
              0.3333333333333333,
              "#9c179e"
             ],
             [
              0.4444444444444444,
              "#bd3786"
             ],
             [
              0.5555555555555556,
              "#d8576b"
             ],
             [
              0.6666666666666666,
              "#ed7953"
             ],
             [
              0.7777777777777778,
              "#fb9f3a"
             ],
             [
              0.8888888888888888,
              "#fdca26"
             ],
             [
              1,
              "#f0f921"
             ]
            ],
            "type": "contour"
           }
          ],
          "contourcarpet": [
           {
            "colorbar": {
             "outlinewidth": 0,
             "ticks": ""
            },
            "type": "contourcarpet"
           }
          ],
          "heatmap": [
           {
            "colorbar": {
             "outlinewidth": 0,
             "ticks": ""
            },
            "colorscale": [
             [
              0,
              "#0d0887"
             ],
             [
              0.1111111111111111,
              "#46039f"
             ],
             [
              0.2222222222222222,
              "#7201a8"
             ],
             [
              0.3333333333333333,
              "#9c179e"
             ],
             [
              0.4444444444444444,
              "#bd3786"
             ],
             [
              0.5555555555555556,
              "#d8576b"
             ],
             [
              0.6666666666666666,
              "#ed7953"
             ],
             [
              0.7777777777777778,
              "#fb9f3a"
             ],
             [
              0.8888888888888888,
              "#fdca26"
             ],
             [
              1,
              "#f0f921"
             ]
            ],
            "type": "heatmap"
           }
          ],
          "heatmapgl": [
           {
            "colorbar": {
             "outlinewidth": 0,
             "ticks": ""
            },
            "colorscale": [
             [
              0,
              "#0d0887"
             ],
             [
              0.1111111111111111,
              "#46039f"
             ],
             [
              0.2222222222222222,
              "#7201a8"
             ],
             [
              0.3333333333333333,
              "#9c179e"
             ],
             [
              0.4444444444444444,
              "#bd3786"
             ],
             [
              0.5555555555555556,
              "#d8576b"
             ],
             [
              0.6666666666666666,
              "#ed7953"
             ],
             [
              0.7777777777777778,
              "#fb9f3a"
             ],
             [
              0.8888888888888888,
              "#fdca26"
             ],
             [
              1,
              "#f0f921"
             ]
            ],
            "type": "heatmapgl"
           }
          ],
          "histogram": [
           {
            "marker": {
             "pattern": {
              "fillmode": "overlay",
              "size": 10,
              "solidity": 0.2
             }
            },
            "type": "histogram"
           }
          ],
          "histogram2d": [
           {
            "colorbar": {
             "outlinewidth": 0,
             "ticks": ""
            },
            "colorscale": [
             [
              0,
              "#0d0887"
             ],
             [
              0.1111111111111111,
              "#46039f"
             ],
             [
              0.2222222222222222,
              "#7201a8"
             ],
             [
              0.3333333333333333,
              "#9c179e"
             ],
             [
              0.4444444444444444,
              "#bd3786"
             ],
             [
              0.5555555555555556,
              "#d8576b"
             ],
             [
              0.6666666666666666,
              "#ed7953"
             ],
             [
              0.7777777777777778,
              "#fb9f3a"
             ],
             [
              0.8888888888888888,
              "#fdca26"
             ],
             [
              1,
              "#f0f921"
             ]
            ],
            "type": "histogram2d"
           }
          ],
          "histogram2dcontour": [
           {
            "colorbar": {
             "outlinewidth": 0,
             "ticks": ""
            },
            "colorscale": [
             [
              0,
              "#0d0887"
             ],
             [
              0.1111111111111111,
              "#46039f"
             ],
             [
              0.2222222222222222,
              "#7201a8"
             ],
             [
              0.3333333333333333,
              "#9c179e"
             ],
             [
              0.4444444444444444,
              "#bd3786"
             ],
             [
              0.5555555555555556,
              "#d8576b"
             ],
             [
              0.6666666666666666,
              "#ed7953"
             ],
             [
              0.7777777777777778,
              "#fb9f3a"
             ],
             [
              0.8888888888888888,
              "#fdca26"
             ],
             [
              1,
              "#f0f921"
             ]
            ],
            "type": "histogram2dcontour"
           }
          ],
          "mesh3d": [
           {
            "colorbar": {
             "outlinewidth": 0,
             "ticks": ""
            },
            "type": "mesh3d"
           }
          ],
          "parcoords": [
           {
            "line": {
             "colorbar": {
              "outlinewidth": 0,
              "ticks": ""
             }
            },
            "type": "parcoords"
           }
          ],
          "pie": [
           {
            "automargin": true,
            "type": "pie"
           }
          ],
          "scatter": [
           {
            "fillpattern": {
             "fillmode": "overlay",
             "size": 10,
             "solidity": 0.2
            },
            "type": "scatter"
           }
          ],
          "scatter3d": [
           {
            "line": {
             "colorbar": {
              "outlinewidth": 0,
              "ticks": ""
             }
            },
            "marker": {
             "colorbar": {
              "outlinewidth": 0,
              "ticks": ""
             }
            },
            "type": "scatter3d"
           }
          ],
          "scattercarpet": [
           {
            "marker": {
             "colorbar": {
              "outlinewidth": 0,
              "ticks": ""
             }
            },
            "type": "scattercarpet"
           }
          ],
          "scattergeo": [
           {
            "marker": {
             "colorbar": {
              "outlinewidth": 0,
              "ticks": ""
             }
            },
            "type": "scattergeo"
           }
          ],
          "scattergl": [
           {
            "marker": {
             "colorbar": {
              "outlinewidth": 0,
              "ticks": ""
             }
            },
            "type": "scattergl"
           }
          ],
          "scattermapbox": [
           {
            "marker": {
             "colorbar": {
              "outlinewidth": 0,
              "ticks": ""
             }
            },
            "type": "scattermapbox"
           }
          ],
          "scatterpolar": [
           {
            "marker": {
             "colorbar": {
              "outlinewidth": 0,
              "ticks": ""
             }
            },
            "type": "scatterpolar"
           }
          ],
          "scatterpolargl": [
           {
            "marker": {
             "colorbar": {
              "outlinewidth": 0,
              "ticks": ""
             }
            },
            "type": "scatterpolargl"
           }
          ],
          "scatterternary": [
           {
            "marker": {
             "colorbar": {
              "outlinewidth": 0,
              "ticks": ""
             }
            },
            "type": "scatterternary"
           }
          ],
          "surface": [
           {
            "colorbar": {
             "outlinewidth": 0,
             "ticks": ""
            },
            "colorscale": [
             [
              0,
              "#0d0887"
             ],
             [
              0.1111111111111111,
              "#46039f"
             ],
             [
              0.2222222222222222,
              "#7201a8"
             ],
             [
              0.3333333333333333,
              "#9c179e"
             ],
             [
              0.4444444444444444,
              "#bd3786"
             ],
             [
              0.5555555555555556,
              "#d8576b"
             ],
             [
              0.6666666666666666,
              "#ed7953"
             ],
             [
              0.7777777777777778,
              "#fb9f3a"
             ],
             [
              0.8888888888888888,
              "#fdca26"
             ],
             [
              1,
              "#f0f921"
             ]
            ],
            "type": "surface"
           }
          ],
          "table": [
           {
            "cells": {
             "fill": {
              "color": "#EBF0F8"
             },
             "line": {
              "color": "white"
             }
            },
            "header": {
             "fill": {
              "color": "#C8D4E3"
             },
             "line": {
              "color": "white"
             }
            },
            "type": "table"
           }
          ]
         },
         "layout": {
          "annotationdefaults": {
           "arrowcolor": "#2a3f5f",
           "arrowhead": 0,
           "arrowwidth": 1
          },
          "autotypenumbers": "strict",
          "coloraxis": {
           "colorbar": {
            "outlinewidth": 0,
            "ticks": ""
           }
          },
          "colorscale": {
           "diverging": [
            [
             0,
             "#8e0152"
            ],
            [
             0.1,
             "#c51b7d"
            ],
            [
             0.2,
             "#de77ae"
            ],
            [
             0.3,
             "#f1b6da"
            ],
            [
             0.4,
             "#fde0ef"
            ],
            [
             0.5,
             "#f7f7f7"
            ],
            [
             0.6,
             "#e6f5d0"
            ],
            [
             0.7,
             "#b8e186"
            ],
            [
             0.8,
             "#7fbc41"
            ],
            [
             0.9,
             "#4d9221"
            ],
            [
             1,
             "#276419"
            ]
           ],
           "sequential": [
            [
             0,
             "#0d0887"
            ],
            [
             0.1111111111111111,
             "#46039f"
            ],
            [
             0.2222222222222222,
             "#7201a8"
            ],
            [
             0.3333333333333333,
             "#9c179e"
            ],
            [
             0.4444444444444444,
             "#bd3786"
            ],
            [
             0.5555555555555556,
             "#d8576b"
            ],
            [
             0.6666666666666666,
             "#ed7953"
            ],
            [
             0.7777777777777778,
             "#fb9f3a"
            ],
            [
             0.8888888888888888,
             "#fdca26"
            ],
            [
             1,
             "#f0f921"
            ]
           ],
           "sequentialminus": [
            [
             0,
             "#0d0887"
            ],
            [
             0.1111111111111111,
             "#46039f"
            ],
            [
             0.2222222222222222,
             "#7201a8"
            ],
            [
             0.3333333333333333,
             "#9c179e"
            ],
            [
             0.4444444444444444,
             "#bd3786"
            ],
            [
             0.5555555555555556,
             "#d8576b"
            ],
            [
             0.6666666666666666,
             "#ed7953"
            ],
            [
             0.7777777777777778,
             "#fb9f3a"
            ],
            [
             0.8888888888888888,
             "#fdca26"
            ],
            [
             1,
             "#f0f921"
            ]
           ]
          },
          "colorway": [
           "#636efa",
           "#EF553B",
           "#00cc96",
           "#ab63fa",
           "#FFA15A",
           "#19d3f3",
           "#FF6692",
           "#B6E880",
           "#FF97FF",
           "#FECB52"
          ],
          "font": {
           "color": "#2a3f5f"
          },
          "geo": {
           "bgcolor": "white",
           "lakecolor": "white",
           "landcolor": "#E5ECF6",
           "showlakes": true,
           "showland": true,
           "subunitcolor": "white"
          },
          "hoverlabel": {
           "align": "left"
          },
          "hovermode": "closest",
          "mapbox": {
           "style": "light"
          },
          "paper_bgcolor": "white",
          "plot_bgcolor": "#E5ECF6",
          "polar": {
           "angularaxis": {
            "gridcolor": "white",
            "linecolor": "white",
            "ticks": ""
           },
           "bgcolor": "#E5ECF6",
           "radialaxis": {
            "gridcolor": "white",
            "linecolor": "white",
            "ticks": ""
           }
          },
          "scene": {
           "xaxis": {
            "backgroundcolor": "#E5ECF6",
            "gridcolor": "white",
            "gridwidth": 2,
            "linecolor": "white",
            "showbackground": true,
            "ticks": "",
            "zerolinecolor": "white"
           },
           "yaxis": {
            "backgroundcolor": "#E5ECF6",
            "gridcolor": "white",
            "gridwidth": 2,
            "linecolor": "white",
            "showbackground": true,
            "ticks": "",
            "zerolinecolor": "white"
           },
           "zaxis": {
            "backgroundcolor": "#E5ECF6",
            "gridcolor": "white",
            "gridwidth": 2,
            "linecolor": "white",
            "showbackground": true,
            "ticks": "",
            "zerolinecolor": "white"
           }
          },
          "shapedefaults": {
           "line": {
            "color": "#2a3f5f"
           }
          },
          "ternary": {
           "aaxis": {
            "gridcolor": "white",
            "linecolor": "white",
            "ticks": ""
           },
           "baxis": {
            "gridcolor": "white",
            "linecolor": "white",
            "ticks": ""
           },
           "bgcolor": "#E5ECF6",
           "caxis": {
            "gridcolor": "white",
            "linecolor": "white",
            "ticks": ""
           }
          },
          "title": {
           "x": 0.05
          },
          "xaxis": {
           "automargin": true,
           "gridcolor": "white",
           "linecolor": "white",
           "ticks": "",
           "title": {
            "standoff": 15
           },
           "zerolinecolor": "white",
           "zerolinewidth": 2
          },
          "yaxis": {
           "automargin": true,
           "gridcolor": "white",
           "linecolor": "white",
           "ticks": "",
           "title": {
            "standoff": 15
           },
           "zerolinecolor": "white",
           "zerolinewidth": 2
          }
         }
        },
        "xaxis": {
         "anchor": "y",
         "domain": [
          0,
          0.18400000000000002
         ],
         "title": {
          "text": "month"
         }
        },
        "xaxis10": {
         "anchor": "y10",
         "domain": [
          0.8160000000000001,
          1
         ],
         "matches": "x",
         "showticklabels": false
        },
        "xaxis11": {
         "anchor": "y11",
         "domain": [
          0,
          0.18400000000000002
         ],
         "matches": "x",
         "showticklabels": false
        },
        "xaxis12": {
         "anchor": "y12",
         "domain": [
          0.20400000000000001,
          0.388
         ],
         "matches": "x",
         "showticklabels": false
        },
        "xaxis13": {
         "anchor": "y13",
         "domain": [
          0.40800000000000003,
          0.5920000000000001
         ],
         "matches": "x",
         "showticklabels": false
        },
        "xaxis14": {
         "anchor": "y14",
         "domain": [
          0.6120000000000001,
          0.7960000000000002
         ],
         "matches": "x",
         "showticklabels": false
        },
        "xaxis15": {
         "anchor": "y15",
         "domain": [
          0.8160000000000001,
          1
         ],
         "matches": "x",
         "showticklabels": false
        },
        "xaxis2": {
         "anchor": "y2",
         "domain": [
          0.20400000000000001,
          0.388
         ],
         "matches": "x",
         "title": {
          "text": "month"
         }
        },
        "xaxis3": {
         "anchor": "y3",
         "domain": [
          0.40800000000000003,
          0.5920000000000001
         ],
         "matches": "x",
         "title": {
          "text": "month"
         }
        },
        "xaxis4": {
         "anchor": "y4",
         "domain": [
          0.6120000000000001,
          0.7960000000000002
         ],
         "matches": "x",
         "title": {
          "text": "month"
         }
        },
        "xaxis5": {
         "anchor": "y5",
         "domain": [
          0.8160000000000001,
          1
         ],
         "matches": "x",
         "title": {
          "text": "month"
         }
        },
        "xaxis6": {
         "anchor": "y6",
         "domain": [
          0,
          0.18400000000000002
         ],
         "matches": "x",
         "showticklabels": false
        },
        "xaxis7": {
         "anchor": "y7",
         "domain": [
          0.20400000000000001,
          0.388
         ],
         "matches": "x",
         "showticklabels": false
        },
        "xaxis8": {
         "anchor": "y8",
         "domain": [
          0.40800000000000003,
          0.5920000000000001
         ],
         "matches": "x",
         "showticklabels": false
        },
        "xaxis9": {
         "anchor": "y9",
         "domain": [
          0.6120000000000001,
          0.7960000000000002
         ],
         "matches": "x",
         "showticklabels": false
        },
        "yaxis": {
         "anchor": "x",
         "domain": [
          0,
          0.2866666666666666
         ],
         "title": {
          "text": "generation_mwh"
         }
        },
        "yaxis10": {
         "anchor": "x10",
         "domain": [
          0.35666666666666663,
          0.6433333333333333
         ],
         "matches": "y",
         "showticklabels": false
        },
        "yaxis11": {
         "anchor": "x11",
         "domain": [
          0.7133333333333333,
          0.9999999999999999
         ],
         "matches": "y",
         "title": {
          "text": "generation_mwh"
         }
        },
        "yaxis12": {
         "anchor": "x12",
         "domain": [
          0.7133333333333333,
          0.9999999999999999
         ],
         "matches": "y",
         "showticklabels": false
        },
        "yaxis13": {
         "anchor": "x13",
         "domain": [
          0.7133333333333333,
          0.9999999999999999
         ],
         "matches": "y",
         "showticklabels": false
        },
        "yaxis14": {
         "anchor": "x14",
         "domain": [
          0.7133333333333333,
          0.9999999999999999
         ],
         "matches": "y",
         "showticklabels": false
        },
        "yaxis15": {
         "anchor": "x15",
         "domain": [
          0.7133333333333333,
          0.9999999999999999
         ],
         "matches": "y",
         "showticklabels": false
        },
        "yaxis2": {
         "anchor": "x2",
         "domain": [
          0,
          0.2866666666666666
         ],
         "matches": "y",
         "showticklabels": false
        },
        "yaxis3": {
         "anchor": "x3",
         "domain": [
          0,
          0.2866666666666666
         ],
         "matches": "y",
         "showticklabels": false
        },
        "yaxis4": {
         "anchor": "x4",
         "domain": [
          0,
          0.2866666666666666
         ],
         "matches": "y",
         "showticklabels": false
        },
        "yaxis5": {
         "anchor": "x5",
         "domain": [
          0,
          0.2866666666666666
         ],
         "matches": "y",
         "showticklabels": false
        },
        "yaxis6": {
         "anchor": "x6",
         "domain": [
          0.35666666666666663,
          0.6433333333333333
         ],
         "matches": "y",
         "title": {
          "text": "generation_mwh"
         }
        },
        "yaxis7": {
         "anchor": "x7",
         "domain": [
          0.35666666666666663,
          0.6433333333333333
         ],
         "matches": "y",
         "showticklabels": false
        },
        "yaxis8": {
         "anchor": "x8",
         "domain": [
          0.35666666666666663,
          0.6433333333333333
         ],
         "matches": "y",
         "showticklabels": false
        },
        "yaxis9": {
         "anchor": "x9",
         "domain": [
          0.35666666666666663,
          0.6433333333333333
         ],
         "matches": "y",
         "showticklabels": false
        }
       }
      }
     },
     "metadata": {},
     "output_type": "display_data"
    }
   ],
   "source": [
    "px.bar(data_frame=dfres, x='month', y='generation_mwh', facet_col='technology', facet_col_wrap=5, height=750, color='technology')"
   ]
  },
  {
   "cell_type": "markdown",
   "id": "7db9ac67-2f2d-45dd-b2f0-66c5fe33afd1",
   "metadata": {},
   "source": [
    "#### Create an area plot"
   ]
  },
  {
   "cell_type": "code",
   "execution_count": 25,
   "id": "82b17d39-0867-4568-945f-e69a36b26538",
   "metadata": {
    "tags": []
   },
   "outputs": [
    {
     "data": {
      "application/vnd.plotly.v1+json": {
       "config": {
        "plotlyServerURL": "https://plot.ly"
       },
       "data": [
        {
         "fillpattern": {
          "shape": ""
         },
         "hovertemplate": "technology=Carbon<br>month=%{x}<br>generation_mwh=%{y}<extra></extra>",
         "legendgroup": "Carbon",
         "line": {
          "color": "#636efa"
         },
         "marker": {
          "symbol": "circle"
         },
         "mode": "lines",
         "name": "Carbon",
         "orientation": "v",
         "showlegend": true,
         "stackgroup": "1",
         "type": "scatter",
         "x": [
          1,
          2,
          3,
          4,
          5,
          6,
          7,
          8,
          9,
          10,
          11,
          12
         ],
         "xaxis": "x",
         "y": [
          569862.6,
          186166,
          250334.3,
          275498.8,
          338188.1,
          433752.1,
          311105.2,
          327367.5,
          484822.4,
          534670.4,
          580637.8,
          724396.5
         ],
         "yaxis": "y"
        },
        {
         "fillpattern": {
          "shape": ""
         },
         "hovertemplate": "technology=Cogeneration<br>month=%{x}<br>generation_mwh=%{y}<extra></extra>",
         "legendgroup": "Cogeneration",
         "line": {
          "color": "#EF553B"
         },
         "marker": {
          "symbol": "circle"
         },
         "mode": "lines",
         "name": "Cogeneration",
         "orientation": "v",
         "showlegend": true,
         "stackgroup": "1",
         "type": "scatter",
         "x": [
          1,
          2,
          3,
          4,
          5,
          6,
          7,
          8,
          9,
          10,
          11,
          12
         ],
         "xaxis": "x",
         "y": [
          2404774.2,
          1852452.1,
          2258929.9,
          2212108.8,
          2235879.1,
          2222424.2,
          2305126.9,
          2149075,
          2191493.1,
          2160983.6,
          2184241.9,
          2196073.7
         ],
         "yaxis": "y"
        },
        {
         "fillpattern": {
          "shape": ""
         },
         "hovertemplate": "technology=Combined Cycle<br>month=%{x}<br>generation_mwh=%{y}<extra></extra>",
         "legendgroup": "Combined Cycle",
         "line": {
          "color": "#00cc96"
         },
         "marker": {
          "symbol": "circle"
         },
         "mode": "lines",
         "name": "Combined Cycle",
         "orientation": "v",
         "showlegend": true,
         "stackgroup": "1",
         "type": "scatter",
         "x": [
          1,
          2,
          3,
          4,
          5,
          6,
          7,
          8,
          9,
          10,
          11,
          12
         ],
         "xaxis": "x",
         "y": [
          2132026.7,
          1036386.9,
          1626779.1,
          2900945.1,
          2011323.4,
          3219381.4,
          3062721.4,
          3339393.1,
          4314063.1,
          3820749.4,
          5783031.6,
          4571818.5
         ],
         "yaxis": "y"
        },
        {
         "fillpattern": {
          "shape": ""
         },
         "hovertemplate": "technology=Domestic Residuals<br>month=%{x}<br>generation_mwh=%{y}<extra></extra>",
         "legendgroup": "Domestic Residuals",
         "line": {
          "color": "#ab63fa"
         },
         "marker": {
          "symbol": "circle"
         },
         "mode": "lines",
         "name": "Domestic Residuals",
         "orientation": "v",
         "showlegend": true,
         "stackgroup": "1",
         "type": "scatter",
         "x": [
          1,
          2,
          3,
          4,
          5,
          6,
          7,
          8,
          9,
          10,
          11,
          12
         ],
         "xaxis": "x",
         "y": [
          109129,
          114266.7,
          125781.1,
          132297.7,
          107416.5,
          131201.1,
          150120.4,
          141866.6,
          107793.7,
          120196.9,
          132234.3,
          146789.9
         ],
         "yaxis": "y"
        },
        {
         "fillpattern": {
          "shape": ""
         },
         "hovertemplate": "technology=Eolic<br>month=%{x}<br>generation_mwh=%{y}<extra></extra>",
         "legendgroup": "Eolic",
         "line": {
          "color": "#FFA15A"
         },
         "marker": {
          "symbol": "circle"
         },
         "mode": "lines",
         "name": "Eolic",
         "orientation": "v",
         "showlegend": true,
         "stackgroup": "1",
         "type": "scatter",
         "x": [
          1,
          2,
          3,
          4,
          5,
          6,
          7,
          8,
          9,
          10,
          11,
          12
         ],
         "xaxis": "x",
         "y": [
          7039018,
          6240847.7,
          5534588.5,
          4187192.6,
          4667701.3,
          3548080.9,
          4127516.5,
          3640296.5,
          3189526.3,
          4338883.9,
          6397522.5,
          6887423.8
         ],
         "yaxis": "y"
        },
        {
         "fillpattern": {
          "shape": ""
         },
         "hovertemplate": "technology=Hydraulic No UGH<br>month=%{x}<br>generation_mwh=%{y}<extra></extra>",
         "legendgroup": "Hydraulic No UGH",
         "line": {
          "color": "#19d3f3"
         },
         "marker": {
          "symbol": "circle"
         },
         "mode": "lines",
         "name": "Hydraulic No UGH",
         "orientation": "v",
         "showlegend": true,
         "stackgroup": "1",
         "type": "scatter",
         "x": [
          1,
          2,
          3,
          4,
          5,
          6,
          7,
          8,
          9,
          10,
          11,
          12
         ],
         "xaxis": "x",
         "y": [
          688163.2,
          762889,
          609469.9,
          416865.1,
          498588.9,
          450602.7,
          356037.3,
          267556.1,
          214598.1,
          199206.8,
          267486.7,
          528224.2
         ],
         "yaxis": "y"
        },
        {
         "fillpattern": {
          "shape": ""
         },
         "hovertemplate": "technology=Hydraulic UGH<br>month=%{x}<br>generation_mwh=%{y}<extra></extra>",
         "legendgroup": "Hydraulic UGH",
         "line": {
          "color": "#FF6692"
         },
         "marker": {
          "symbol": "circle"
         },
         "mode": "lines",
         "name": "Hydraulic UGH",
         "orientation": "v",
         "showlegend": true,
         "stackgroup": "1",
         "type": "scatter",
         "x": [
          1,
          2,
          3,
          4,
          5,
          6,
          7,
          8,
          9,
          10,
          11,
          12
         ],
         "xaxis": "x",
         "y": [
          3434033,
          3813742.3,
          3134665.2,
          2257334.9,
          1609724.3,
          1700697.8,
          1872495.3,
          1623821.6,
          1184314.8,
          796993.4,
          890757.4,
          1975085.7
         ],
         "yaxis": "y"
        },
        {
         "fillpattern": {
          "shape": ""
         },
         "hovertemplate": "technology=Non-renewable Residuals<br>month=%{x}<br>generation_mwh=%{y}<extra></extra>",
         "legendgroup": "Non-renewable Residuals",
         "line": {
          "color": "#B6E880"
         },
         "marker": {
          "symbol": "circle"
         },
         "mode": "lines",
         "name": "Non-renewable Residuals",
         "orientation": "v",
         "showlegend": true,
         "stackgroup": "1",
         "type": "scatter",
         "x": [
          1,
          2,
          3,
          4,
          5,
          6,
          7,
          8,
          9,
          10,
          11,
          12
         ],
         "xaxis": "x",
         "y": [
          230255.4,
          217513.1,
          238286.1,
          234489,
          217960.8,
          249733.4,
          276158.5,
          270212.1,
          226374.3,
          241774.4,
          237443.4,
          245182.9
         ],
         "yaxis": "y"
        },
        {
         "fillpattern": {
          "shape": ""
         },
         "hovertemplate": "technology=Nuclear<br>month=%{x}<br>generation_mwh=%{y}<extra></extra>",
         "legendgroup": "Nuclear",
         "line": {
          "color": "#FF97FF"
         },
         "marker": {
          "symbol": "circle"
         },
         "mode": "lines",
         "name": "Nuclear",
         "orientation": "v",
         "showlegend": true,
         "stackgroup": "1",
         "type": "scatter",
         "x": [
          1,
          2,
          3,
          4,
          5,
          6,
          7,
          8,
          9,
          10,
          11,
          12
         ],
         "xaxis": "x",
         "y": [
          5190702.4,
          4358016.8,
          4830869.2,
          4210666.6,
          4386141.1,
          3710700.6,
          5120411.8,
          5153025.3,
          4896815.5,
          4755471.7,
          3580181.1,
          3931824
         ],
         "yaxis": "y"
        },
        {
         "fillpattern": {
          "shape": ""
         },
         "hovertemplate": "technology=Other Renewables<br>month=%{x}<br>generation_mwh=%{y}<extra></extra>",
         "legendgroup": "Other Renewables",
         "line": {
          "color": "#FECB52"
         },
         "marker": {
          "symbol": "circle"
         },
         "mode": "lines",
         "name": "Other Renewables",
         "orientation": "v",
         "showlegend": true,
         "stackgroup": "1",
         "type": "scatter",
         "x": [
          1,
          2,
          3,
          4,
          5,
          6,
          7,
          8,
          9,
          10,
          11,
          12
         ],
         "xaxis": "x",
         "y": [
          401117.1,
          373167.3,
          362607.7,
          396144.9,
          394773.9,
          362110.1,
          357337.5,
          423215.4,
          402941.6,
          443908.9,
          444397.4,
          449313.3
         ],
         "yaxis": "y"
        },
        {
         "fillpattern": {
          "shape": ""
         },
         "hovertemplate": "technology=Other Residuals<br>month=%{x}<br>generation_mwh=%{y}<extra></extra>",
         "legendgroup": "Other Residuals",
         "line": {
          "color": "#636efa"
         },
         "marker": {
          "symbol": "circle"
         },
         "mode": "lines",
         "name": "Other Residuals",
         "orientation": "v",
         "showlegend": true,
         "stackgroup": "1",
         "type": "scatter",
         "x": [
          1,
          2,
          3,
          4,
          5,
          6,
          7,
          8,
          9,
          10,
          11,
          12
         ],
         "xaxis": "x",
         "y": [
          87553.8,
          73758.5,
          83339.5,
          86318.2,
          80903.9,
          89919.4,
          92031.1,
          94337.9,
          85689.9,
          93806.1,
          72328.8,
          79792.1
         ],
         "yaxis": "y"
        },
        {
         "fillpattern": {
          "shape": ""
         },
         "hovertemplate": "technology=Photovoltaic Solar<br>month=%{x}<br>generation_mwh=%{y}<extra></extra>",
         "legendgroup": "Photovoltaic Solar",
         "line": {
          "color": "#EF553B"
         },
         "marker": {
          "symbol": "circle"
         },
         "mode": "lines",
         "name": "Photovoltaic Solar",
         "orientation": "v",
         "showlegend": true,
         "stackgroup": "1",
         "type": "scatter",
         "x": [
          1,
          2,
          3,
          4,
          5,
          6,
          7,
          8,
          9,
          10,
          11,
          12
         ],
         "xaxis": "x",
         "y": [
          843899.7,
          997655.7,
          1662926.4,
          1639621,
          2302711.6,
          2259174.8,
          2534332.7,
          2362610.3,
          1875933.4,
          1748139.4,
          1302555.4,
          1030980.8
         ],
         "yaxis": "y"
        },
        {
         "fillpattern": {
          "shape": ""
         },
         "hovertemplate": "technology=Photovoltaic Thermal<br>month=%{x}<br>generation_mwh=%{y}<extra></extra>",
         "legendgroup": "Photovoltaic Thermal",
         "line": {
          "color": "#00cc96"
         },
         "marker": {
          "symbol": "circle"
         },
         "mode": "lines",
         "name": "Photovoltaic Thermal",
         "orientation": "v",
         "showlegend": true,
         "stackgroup": "1",
         "type": "scatter",
         "x": [
          1,
          2,
          3,
          4,
          5,
          6,
          7,
          8,
          9,
          10,
          11,
          12
         ],
         "xaxis": "x",
         "y": [
          111926.2,
          154610.6,
          400909.7,
          277217.4,
          693254.8,
          685230.8,
          880841.9,
          721081.3,
          453465.8,
          356167.2,
          190083,
          117412.2
         ],
         "yaxis": "y"
        },
        {
         "fillpattern": {
          "shape": ""
         },
         "hovertemplate": "technology=Pumping Turbine<br>month=%{x}<br>generation_mwh=%{y}<extra></extra>",
         "legendgroup": "Pumping Turbine",
         "line": {
          "color": "#ab63fa"
         },
         "marker": {
          "symbol": "circle"
         },
         "mode": "lines",
         "name": "Pumping Turbine",
         "orientation": "v",
         "showlegend": true,
         "stackgroup": "1",
         "type": "scatter",
         "x": [
          1,
          2,
          3,
          4,
          5,
          6,
          7,
          8,
          9,
          10,
          11,
          12
         ],
         "xaxis": "x",
         "y": [
          293685.6,
          357720.5,
          302402.5,
          155828.6,
          241419.8,
          106991.1,
          111986.2,
          156541.1,
          106930,
          210612.1,
          192383.1,
          239011.1
         ],
         "yaxis": "y"
        },
        {
         "fillpattern": {
          "shape": ""
         },
         "hovertemplate": "technology=Total Imports<br>month=%{x}<br>generation_mwh=%{y}<extra></extra>",
         "legendgroup": "Total Imports",
         "line": {
          "color": "#FFA15A"
         },
         "marker": {
          "symbol": "circle"
         },
         "mode": "lines",
         "name": "Total Imports",
         "orientation": "v",
         "showlegend": true,
         "stackgroup": "1",
         "type": "scatter",
         "x": [
          1,
          2,
          3,
          4,
          5,
          6,
          7,
          8,
          9,
          10,
          11,
          12
         ],
         "xaxis": "x",
         "y": [
          2019413.2,
          1555339.1,
          1797468.1,
          1886314.9,
          2061748.8,
          2217776.5,
          2145289,
          2317818.8,
          1854517.1,
          1573061.6,
          995160.5,
          1180193.4
         ],
         "yaxis": "y"
        }
       ],
       "layout": {
        "legend": {
         "title": {
          "text": "technology"
         },
         "tracegroupgap": 0
        },
        "margin": {
         "t": 60
        },
        "template": {
         "data": {
          "bar": [
           {
            "error_x": {
             "color": "#2a3f5f"
            },
            "error_y": {
             "color": "#2a3f5f"
            },
            "marker": {
             "line": {
              "color": "#E5ECF6",
              "width": 0.5
             },
             "pattern": {
              "fillmode": "overlay",
              "size": 10,
              "solidity": 0.2
             }
            },
            "type": "bar"
           }
          ],
          "barpolar": [
           {
            "marker": {
             "line": {
              "color": "#E5ECF6",
              "width": 0.5
             },
             "pattern": {
              "fillmode": "overlay",
              "size": 10,
              "solidity": 0.2
             }
            },
            "type": "barpolar"
           }
          ],
          "carpet": [
           {
            "aaxis": {
             "endlinecolor": "#2a3f5f",
             "gridcolor": "white",
             "linecolor": "white",
             "minorgridcolor": "white",
             "startlinecolor": "#2a3f5f"
            },
            "baxis": {
             "endlinecolor": "#2a3f5f",
             "gridcolor": "white",
             "linecolor": "white",
             "minorgridcolor": "white",
             "startlinecolor": "#2a3f5f"
            },
            "type": "carpet"
           }
          ],
          "choropleth": [
           {
            "colorbar": {
             "outlinewidth": 0,
             "ticks": ""
            },
            "type": "choropleth"
           }
          ],
          "contour": [
           {
            "colorbar": {
             "outlinewidth": 0,
             "ticks": ""
            },
            "colorscale": [
             [
              0,
              "#0d0887"
             ],
             [
              0.1111111111111111,
              "#46039f"
             ],
             [
              0.2222222222222222,
              "#7201a8"
             ],
             [
              0.3333333333333333,
              "#9c179e"
             ],
             [
              0.4444444444444444,
              "#bd3786"
             ],
             [
              0.5555555555555556,
              "#d8576b"
             ],
             [
              0.6666666666666666,
              "#ed7953"
             ],
             [
              0.7777777777777778,
              "#fb9f3a"
             ],
             [
              0.8888888888888888,
              "#fdca26"
             ],
             [
              1,
              "#f0f921"
             ]
            ],
            "type": "contour"
           }
          ],
          "contourcarpet": [
           {
            "colorbar": {
             "outlinewidth": 0,
             "ticks": ""
            },
            "type": "contourcarpet"
           }
          ],
          "heatmap": [
           {
            "colorbar": {
             "outlinewidth": 0,
             "ticks": ""
            },
            "colorscale": [
             [
              0,
              "#0d0887"
             ],
             [
              0.1111111111111111,
              "#46039f"
             ],
             [
              0.2222222222222222,
              "#7201a8"
             ],
             [
              0.3333333333333333,
              "#9c179e"
             ],
             [
              0.4444444444444444,
              "#bd3786"
             ],
             [
              0.5555555555555556,
              "#d8576b"
             ],
             [
              0.6666666666666666,
              "#ed7953"
             ],
             [
              0.7777777777777778,
              "#fb9f3a"
             ],
             [
              0.8888888888888888,
              "#fdca26"
             ],
             [
              1,
              "#f0f921"
             ]
            ],
            "type": "heatmap"
           }
          ],
          "heatmapgl": [
           {
            "colorbar": {
             "outlinewidth": 0,
             "ticks": ""
            },
            "colorscale": [
             [
              0,
              "#0d0887"
             ],
             [
              0.1111111111111111,
              "#46039f"
             ],
             [
              0.2222222222222222,
              "#7201a8"
             ],
             [
              0.3333333333333333,
              "#9c179e"
             ],
             [
              0.4444444444444444,
              "#bd3786"
             ],
             [
              0.5555555555555556,
              "#d8576b"
             ],
             [
              0.6666666666666666,
              "#ed7953"
             ],
             [
              0.7777777777777778,
              "#fb9f3a"
             ],
             [
              0.8888888888888888,
              "#fdca26"
             ],
             [
              1,
              "#f0f921"
             ]
            ],
            "type": "heatmapgl"
           }
          ],
          "histogram": [
           {
            "marker": {
             "pattern": {
              "fillmode": "overlay",
              "size": 10,
              "solidity": 0.2
             }
            },
            "type": "histogram"
           }
          ],
          "histogram2d": [
           {
            "colorbar": {
             "outlinewidth": 0,
             "ticks": ""
            },
            "colorscale": [
             [
              0,
              "#0d0887"
             ],
             [
              0.1111111111111111,
              "#46039f"
             ],
             [
              0.2222222222222222,
              "#7201a8"
             ],
             [
              0.3333333333333333,
              "#9c179e"
             ],
             [
              0.4444444444444444,
              "#bd3786"
             ],
             [
              0.5555555555555556,
              "#d8576b"
             ],
             [
              0.6666666666666666,
              "#ed7953"
             ],
             [
              0.7777777777777778,
              "#fb9f3a"
             ],
             [
              0.8888888888888888,
              "#fdca26"
             ],
             [
              1,
              "#f0f921"
             ]
            ],
            "type": "histogram2d"
           }
          ],
          "histogram2dcontour": [
           {
            "colorbar": {
             "outlinewidth": 0,
             "ticks": ""
            },
            "colorscale": [
             [
              0,
              "#0d0887"
             ],
             [
              0.1111111111111111,
              "#46039f"
             ],
             [
              0.2222222222222222,
              "#7201a8"
             ],
             [
              0.3333333333333333,
              "#9c179e"
             ],
             [
              0.4444444444444444,
              "#bd3786"
             ],
             [
              0.5555555555555556,
              "#d8576b"
             ],
             [
              0.6666666666666666,
              "#ed7953"
             ],
             [
              0.7777777777777778,
              "#fb9f3a"
             ],
             [
              0.8888888888888888,
              "#fdca26"
             ],
             [
              1,
              "#f0f921"
             ]
            ],
            "type": "histogram2dcontour"
           }
          ],
          "mesh3d": [
           {
            "colorbar": {
             "outlinewidth": 0,
             "ticks": ""
            },
            "type": "mesh3d"
           }
          ],
          "parcoords": [
           {
            "line": {
             "colorbar": {
              "outlinewidth": 0,
              "ticks": ""
             }
            },
            "type": "parcoords"
           }
          ],
          "pie": [
           {
            "automargin": true,
            "type": "pie"
           }
          ],
          "scatter": [
           {
            "fillpattern": {
             "fillmode": "overlay",
             "size": 10,
             "solidity": 0.2
            },
            "type": "scatter"
           }
          ],
          "scatter3d": [
           {
            "line": {
             "colorbar": {
              "outlinewidth": 0,
              "ticks": ""
             }
            },
            "marker": {
             "colorbar": {
              "outlinewidth": 0,
              "ticks": ""
             }
            },
            "type": "scatter3d"
           }
          ],
          "scattercarpet": [
           {
            "marker": {
             "colorbar": {
              "outlinewidth": 0,
              "ticks": ""
             }
            },
            "type": "scattercarpet"
           }
          ],
          "scattergeo": [
           {
            "marker": {
             "colorbar": {
              "outlinewidth": 0,
              "ticks": ""
             }
            },
            "type": "scattergeo"
           }
          ],
          "scattergl": [
           {
            "marker": {
             "colorbar": {
              "outlinewidth": 0,
              "ticks": ""
             }
            },
            "type": "scattergl"
           }
          ],
          "scattermapbox": [
           {
            "marker": {
             "colorbar": {
              "outlinewidth": 0,
              "ticks": ""
             }
            },
            "type": "scattermapbox"
           }
          ],
          "scatterpolar": [
           {
            "marker": {
             "colorbar": {
              "outlinewidth": 0,
              "ticks": ""
             }
            },
            "type": "scatterpolar"
           }
          ],
          "scatterpolargl": [
           {
            "marker": {
             "colorbar": {
              "outlinewidth": 0,
              "ticks": ""
             }
            },
            "type": "scatterpolargl"
           }
          ],
          "scatterternary": [
           {
            "marker": {
             "colorbar": {
              "outlinewidth": 0,
              "ticks": ""
             }
            },
            "type": "scatterternary"
           }
          ],
          "surface": [
           {
            "colorbar": {
             "outlinewidth": 0,
             "ticks": ""
            },
            "colorscale": [
             [
              0,
              "#0d0887"
             ],
             [
              0.1111111111111111,
              "#46039f"
             ],
             [
              0.2222222222222222,
              "#7201a8"
             ],
             [
              0.3333333333333333,
              "#9c179e"
             ],
             [
              0.4444444444444444,
              "#bd3786"
             ],
             [
              0.5555555555555556,
              "#d8576b"
             ],
             [
              0.6666666666666666,
              "#ed7953"
             ],
             [
              0.7777777777777778,
              "#fb9f3a"
             ],
             [
              0.8888888888888888,
              "#fdca26"
             ],
             [
              1,
              "#f0f921"
             ]
            ],
            "type": "surface"
           }
          ],
          "table": [
           {
            "cells": {
             "fill": {
              "color": "#EBF0F8"
             },
             "line": {
              "color": "white"
             }
            },
            "header": {
             "fill": {
              "color": "#C8D4E3"
             },
             "line": {
              "color": "white"
             }
            },
            "type": "table"
           }
          ]
         },
         "layout": {
          "annotationdefaults": {
           "arrowcolor": "#2a3f5f",
           "arrowhead": 0,
           "arrowwidth": 1
          },
          "autotypenumbers": "strict",
          "coloraxis": {
           "colorbar": {
            "outlinewidth": 0,
            "ticks": ""
           }
          },
          "colorscale": {
           "diverging": [
            [
             0,
             "#8e0152"
            ],
            [
             0.1,
             "#c51b7d"
            ],
            [
             0.2,
             "#de77ae"
            ],
            [
             0.3,
             "#f1b6da"
            ],
            [
             0.4,
             "#fde0ef"
            ],
            [
             0.5,
             "#f7f7f7"
            ],
            [
             0.6,
             "#e6f5d0"
            ],
            [
             0.7,
             "#b8e186"
            ],
            [
             0.8,
             "#7fbc41"
            ],
            [
             0.9,
             "#4d9221"
            ],
            [
             1,
             "#276419"
            ]
           ],
           "sequential": [
            [
             0,
             "#0d0887"
            ],
            [
             0.1111111111111111,
             "#46039f"
            ],
            [
             0.2222222222222222,
             "#7201a8"
            ],
            [
             0.3333333333333333,
             "#9c179e"
            ],
            [
             0.4444444444444444,
             "#bd3786"
            ],
            [
             0.5555555555555556,
             "#d8576b"
            ],
            [
             0.6666666666666666,
             "#ed7953"
            ],
            [
             0.7777777777777778,
             "#fb9f3a"
            ],
            [
             0.8888888888888888,
             "#fdca26"
            ],
            [
             1,
             "#f0f921"
            ]
           ],
           "sequentialminus": [
            [
             0,
             "#0d0887"
            ],
            [
             0.1111111111111111,
             "#46039f"
            ],
            [
             0.2222222222222222,
             "#7201a8"
            ],
            [
             0.3333333333333333,
             "#9c179e"
            ],
            [
             0.4444444444444444,
             "#bd3786"
            ],
            [
             0.5555555555555556,
             "#d8576b"
            ],
            [
             0.6666666666666666,
             "#ed7953"
            ],
            [
             0.7777777777777778,
             "#fb9f3a"
            ],
            [
             0.8888888888888888,
             "#fdca26"
            ],
            [
             1,
             "#f0f921"
            ]
           ]
          },
          "colorway": [
           "#636efa",
           "#EF553B",
           "#00cc96",
           "#ab63fa",
           "#FFA15A",
           "#19d3f3",
           "#FF6692",
           "#B6E880",
           "#FF97FF",
           "#FECB52"
          ],
          "font": {
           "color": "#2a3f5f"
          },
          "geo": {
           "bgcolor": "white",
           "lakecolor": "white",
           "landcolor": "#E5ECF6",
           "showlakes": true,
           "showland": true,
           "subunitcolor": "white"
          },
          "hoverlabel": {
           "align": "left"
          },
          "hovermode": "closest",
          "mapbox": {
           "style": "light"
          },
          "paper_bgcolor": "white",
          "plot_bgcolor": "#E5ECF6",
          "polar": {
           "angularaxis": {
            "gridcolor": "white",
            "linecolor": "white",
            "ticks": ""
           },
           "bgcolor": "#E5ECF6",
           "radialaxis": {
            "gridcolor": "white",
            "linecolor": "white",
            "ticks": ""
           }
          },
          "scene": {
           "xaxis": {
            "backgroundcolor": "#E5ECF6",
            "gridcolor": "white",
            "gridwidth": 2,
            "linecolor": "white",
            "showbackground": true,
            "ticks": "",
            "zerolinecolor": "white"
           },
           "yaxis": {
            "backgroundcolor": "#E5ECF6",
            "gridcolor": "white",
            "gridwidth": 2,
            "linecolor": "white",
            "showbackground": true,
            "ticks": "",
            "zerolinecolor": "white"
           },
           "zaxis": {
            "backgroundcolor": "#E5ECF6",
            "gridcolor": "white",
            "gridwidth": 2,
            "linecolor": "white",
            "showbackground": true,
            "ticks": "",
            "zerolinecolor": "white"
           }
          },
          "shapedefaults": {
           "line": {
            "color": "#2a3f5f"
           }
          },
          "ternary": {
           "aaxis": {
            "gridcolor": "white",
            "linecolor": "white",
            "ticks": ""
           },
           "baxis": {
            "gridcolor": "white",
            "linecolor": "white",
            "ticks": ""
           },
           "bgcolor": "#E5ECF6",
           "caxis": {
            "gridcolor": "white",
            "linecolor": "white",
            "ticks": ""
           }
          },
          "title": {
           "x": 0.05
          },
          "xaxis": {
           "automargin": true,
           "gridcolor": "white",
           "linecolor": "white",
           "ticks": "",
           "title": {
            "standoff": 15
           },
           "zerolinecolor": "white",
           "zerolinewidth": 2
          },
          "yaxis": {
           "automargin": true,
           "gridcolor": "white",
           "linecolor": "white",
           "ticks": "",
           "title": {
            "standoff": 15
           },
           "zerolinecolor": "white",
           "zerolinewidth": 2
          }
         }
        },
        "xaxis": {
         "anchor": "y",
         "domain": [
          0,
          1
         ],
         "title": {
          "text": "month"
         }
        },
        "yaxis": {
         "anchor": "x",
         "domain": [
          0,
          1
         ],
         "title": {
          "text": "generation_mwh"
         }
        }
       }
      }
     },
     "metadata": {},
     "output_type": "display_data"
    }
   ],
   "source": [
    "px.area(data_frame=dfres, x='month', y='generation_mwh', color='technology')"
   ]
  },
  {
   "cell_type": "markdown",
   "id": "14329d54-913a-4d02-a5cb-942fdcee8d9e",
   "metadata": {},
   "source": [
    "## [ ] How much energy was generated each hour of the year?"
   ]
  },
  {
   "cell_type": "markdown",
   "id": "35d4bb61-1a12-40ec-a876-f459a6888091",
   "metadata": {},
   "source": [
    "### Data Processing"
   ]
  },
  {
   "cell_type": "code",
   "execution_count": 26,
   "id": "f09bcc85-0e21-4729-880b-3d1181b8da3f",
   "metadata": {
    "tags": []
   },
   "outputs": [],
   "source": [
    "#res = resullt / #dfres = result as a dataframe / #reset_index(drop=True) / #sort_values(ascending=False) -> common pattern / #use mask technique to filter data"
   ]
  },
  {
   "cell_type": "code",
   "execution_count": 27,
   "id": "aca71f99-e9df-4e79-a3fc-d7fb0da3cdb1",
   "metadata": {},
   "outputs": [
    {
     "data": {
      "text/plain": [
       "month  day  hour\n",
       "1      1    0       27984.6\n",
       "            1       28001.7\n",
       "            2       27175.4\n",
       "            3       26634.0\n",
       "            4       26163.3\n",
       "                     ...   \n",
       "12     31   19      29118.6\n",
       "            20      28781.2\n",
       "            21      28310.3\n",
       "            22      25336.1\n",
       "            23      24480.4\n",
       "Name: generation_mwh, Length: 8759, dtype: float64"
      ]
     },
     "execution_count": 27,
     "metadata": {},
     "output_type": "execute_result"
    }
   ],
   "source": [
    "res = df_energy.groupby(['month', 'day', 'hour']).generation_mwh.sum()\n",
    "res"
   ]
  },
  {
   "cell_type": "markdown",
   "id": "5c885ad6-e540-4369-8a0e-d69f682743c2",
   "metadata": {},
   "source": [
    "### Data visualization"
   ]
  },
  {
   "cell_type": "markdown",
   "id": "688e5430-50df-41b4-a6df-fd313e201260",
   "metadata": {},
   "source": [
    "#### Create a histogram"
   ]
  },
  {
   "cell_type": "code",
   "execution_count": 28,
   "id": "4b747115-cb02-4463-b0a3-656c0911320c",
   "metadata": {},
   "outputs": [
    {
     "data": {
      "application/vnd.plotly.v1+json": {
       "config": {
        "plotlyServerURL": "https://plot.ly"
       },
       "data": [
        {
         "alignmentgroup": "True",
         "bingroup": "x",
         "hovertemplate": "x=%{x}<br>count=%{y}<extra></extra>",
         "legendgroup": "",
         "marker": {
          "color": "#636efa",
          "pattern": {
           "shape": ""
          }
         },
         "name": "",
         "offsetgroup": "",
         "orientation": "v",
         "showlegend": false,
         "type": "histogram",
         "x": [
          27984.6,
          28001.7,
          27175.4,
          26634,
          26163.3,
          25966,
          26200.8,
          26736.1,
          26840.3,
          28565.6,
          30448.7,
          31121.5,
          32638.6,
          33506.1,
          33948.3,
          32452.4,
          30947.6,
          29471.2,
          31306.1,
          32013.3,
          33087.5,
          31523.399999999998,
          31410.9,
          30098.5,
          26518.5,
          26966.3,
          26408.4,
          26645.8,
          27292.100000000002,
          27360.800000000003,
          27674,
          27911.8,
          28462.899999999998,
          30708,
          33212.2,
          35005.5,
          35836.4,
          36258.700000000004,
          35969.1,
          35811.3,
          35041.299999999996,
          35003.7,
          36597.1,
          37220.299999999996,
          36441.4,
          35766.8,
          35685.9,
          33617.9,
          30766.2,
          28814.2,
          27267.5,
          27139.9,
          26812.9,
          26662.9,
          26998.8,
          27480.3,
          27333.1,
          29307.5,
          32997.1,
          35236.7,
          36240.6,
          36434.3,
          34988.6,
          33839.9,
          32794.4,
          32884.3,
          34273.8,
          34992.5,
          37562.1,
          37695.1,
          35435.5,
          33018.1,
          29535.1,
          27346.3,
          25557.4,
          25502.600000000002,
          25367.399999999998,
          26326.4,
          27959.899999999998,
          31311.2,
          34444.7,
          36882.1,
          38411.1,
          38995,
          38809.2,
          39801.8,
          39079.7,
          39440.7,
          37282.9,
          37643.200000000004,
          38252.9,
          39115.3,
          39288.6,
          39322.4,
          37342.6,
          34412.200000000004,
          30333.7,
          28263.5,
          27009.7,
          26490.5,
          26179.100000000002,
          27262.4,
          28442.8,
          29978.8,
          33599.3,
          36234.3,
          38029,
          38143.6,
          37979.5,
          38176.5,
          37368.4,
          37664.3,
          36415.1,
          35854.2,
          37116.700000000004,
          37581.4,
          38318.8,
          38027.6,
          35113,
          32026.6,
          29312.9,
          27835.6,
          26240.1,
          25584.2,
          25204.5,
          25557.1,
          26311,
          27426.3,
          28166.2,
          29747.100000000002,
          32556.7,
          33428.5,
          33276.2,
          31846.7,
          30545.3,
          29908.8,
          30465,
          33116.2,
          34768.6,
          36624.7,
          34547.7,
          35790.2,
          34458.7,
          31519,
          28401.5,
          28299.7,
          27561.7,
          26841.3,
          27424.9,
          28030.699999999997,
          29384,
          32300.1,
          35649,
          37772.799999999996,
          40698.4,
          41676.9,
          42002.200000000004,
          42733.2,
          42209,
          41716.3,
          40747.1,
          41153.7,
          42639.3,
          42053,
          41662.8,
          41174.3,
          36748.1,
          33358.1,
          31672.1,
          31177.1,
          29830.9,
          29352.4,
          29442.3,
          30907.6,
          32209.4,
          33573.8,
          36954.6,
          38914.299999999996,
          41259,
          42091.7,
          42398.3,
          42169,
          42579,
          42581.2,
          40812.5,
          39325,
          39879,
          40560.8,
          40204,
          38779.9,
          36598.1,
          35021,
          32960.9,
          31222.2,
          30296.3,
          28727.2,
          29391,
          29894,
          29599.800000000003,
          30311.100000000002,
          32361.7,
          33138.7,
          34538.9,
          35843.7,
          36627.6,
          36952,
          36994.7,
          36060.3,
          34645.2,
          34330.8,
          34895.9,
          36467.9,
          36699.2,
          36902.7,
          35432.7,
          34201.8,
          32042.600000000002,
          30367.2,
          28815.800000000003,
          29106.5,
          28800,
          27874.2,
          27760.100000000002,
          28960.9,
          29494.7,
          31389.8,
          34040.2,
          35253.2,
          35744.1,
          36477.8,
          36893.4,
          36927.200000000004,
          35975.3,
          34972.4,
          35461.200000000004,
          37109.5,
          38151.200000000004,
          37760.1,
          37103.6,
          35085.9,
          31118.7,
          30166.699999999997,
          29556.1,
          28604.9,
          28355.899999999998,
          28702.7,
          30120.5,
          33125.1,
          35915.7,
          38049.6,
          39779.9,
          40005.9,
          40432,
          40849.4,
          40176.5,
          39269.4,
          37938,
          36949.8,
          38372.5,
          41015,
          41261.700000000004,
          39954.7,
          37615.7,
          33937.3,
          30906.4,
          29433.9,
          28760.5,
          28264,
          28180.8,
          28941.1,
          30160.600000000002,
          34458.1,
          37322.4,
          39529.9,
          41129.8,
          41653.4,
          42059.799999999996,
          42500.2,
          42589.9,
          42046.6,
          40760.200000000004,
          42087.9,
          43019.8,
          43009.5,
          43175.3,
          43024.8,
          40062.9,
          36526.700000000004,
          31648.6,
          31284.9,
          30804.5,
          30679.2,
          31093.5,
          31279.399999999998,
          32410.9,
          35536.2,
          39408.8,
          40249.4,
          41030,
          41077.9,
          41509.799999999996,
          42058.7,
          40538,
          39971.8,
          38553.1,
          38012.6,
          39539.4,
          40991.6,
          41705.700000000004,
          40446.6,
          37522.4,
          33892.6,
          31146.8,
          30185.3,
          30234.5,
          29856.2,
          30428.2,
          30954.4,
          31872.5,
          34492.7,
          37784.6,
          38916.9,
          39862.8,
          40625.3,
          41078.9,
          41454.8,
          40060.5,
          39959.3,
          38745.6,
          38216,
          38940.1,
          41186.9,
          41594.5,
          40427.6,
          38358.3,
          35267.4,
          33791.9,
          32121.8,
          32145,
          32047.4,
          32412.7,
          32788.1,
          33410,
          36367.7,
          38351.1,
          41072.8,
          41581.7,
          41948.5,
          43361.700000000004,
          43781.7,
          41708.2,
          40250.5,
          39720.200000000004,
          38214.299999999996,
          38587,
          39653.4,
          39903.1,
          39298.9,
          39012.8,
          36684.6,
          32755.7,
          31054.6,
          30522.8,
          31373.3,
          31285,
          31153.6,
          31711.4,
          32541.5,
          31238.7,
          33913,
          35733.2,
          36892.5,
          37076,
          37459.6,
          36578.1,
          35742.4,
          34748.7,
          33598.8,
          34881.2,
          37353.9,
          37412.1,
          37173.7,
          36001,
          34133.6,
          30170.9,
          28526.3,
          28495.2,
          28345.6,
          28254.2,
          28220.2,
          28597.3,
          29539.5,
          29930.4,
          30960.4,
          32716.8,
          33427.7,
          34431.6,
          35287.4,
          35406.700000000004,
          36055.9,
          34527.6,
          31665.8,
          33172.6,
          34694.9,
          35458.1,
          35651,
          34887,
          32000.4,
          29754.100000000002,
          28364.3,
          27339.9,
          26709.9,
          27581.8,
          28342.3,
          29873.2,
          34065.1,
          38166.7,
          39034.7,
          40107.9,
          39434.6,
          40363.4,
          39587.2,
          38738.9,
          38142.4,
          37828.6,
          36809.8,
          38406.700000000004,
          40394,
          41181.9,
          39942.3,
          36267.4,
          33992,
          29646.4,
          27483.5,
          27175.6,
          27549.7,
          27487.8,
          27716.2,
          29667.199999999997,
          34243,
          37005.7,
          38890.2,
          39724.7,
          39182.5,
          38826.6,
          39234.1,
          38273.1,
          37782.1,
          37280.3,
          36953.3,
          38723.4,
          40254.3,
          41481.7,
          40327.6,
          36895.5,
          33345.799999999996,
          30364.5,
          28848.4,
          28669.2,
          29148.7,
          29700.1,
          30289.100000000002,
          30127.3,
          32939.3,
          36400.1,
          38325.9,
          38986.8,
          40780.799999999996,
          40596,
          41062.1,
          40029.5,
          40441.5,
          38956.8,
          38979.7,
          39821.6,
          39900.4,
          39943.3,
          38933.3,
          36560.3,
          35070.3,
          33510,
          32097.1,
          31429.8,
          30647.5,
          31264.8,
          31445.800000000003,
          31723,
          35446.5,
          37976.4,
          39700.799999999996,
          40592.8,
          39959.9,
          38893.5,
          39747.3,
          39059.4,
          38543.8,
          38006.2,
          37535,
          39870.600000000006,
          39626.9,
          39394.200000000004,
          38286.4,
          36202.200000000004,
          33346.3,
          32433.9,
          32184.600000000002,
          31979.6,
          32111.199999999997,
          32351.9,
          32717,
          33209.3,
          35861.700000000004,
          39396.3,
          41211.7,
          40723.2,
          40013.5,
          40141.9,
          39946.3,
          39717.700000000004,
          39269.7,
          38107.5,
          36609.799999999996,
          38262.6,
          38999.100000000006,
          38326.7,
          37480.5,
          35964.3,
          33654.200000000004,
          33837.3,
          32943.7,
          32350.3,
          31508.4,
          31443.7,
          31254.8,
          31597,
          31914.3,
          33042.2,
          34600.7,
          36223.2,
          36900.7,
          37012.4,
          36613.700000000004,
          36573.7,
          35899.8,
          35108.3,
          34540,
          35735.5,
          36397.4,
          37626.3,
          37925.4,
          36292.9,
          34694.3,
          33526.9,
          32545.8,
          31598.5,
          30563.8,
          30551,
          29723.6,
          29979.5,
          29619.8,
          30065.300000000003,
          30570.5,
          32431.100000000002,
          34346.9,
          35494.8,
          35137.6,
          35424.1,
          34285.5,
          32862.3,
          31676,
          32322.2,
          34585.3,
          35333.8,
          33520.7,
          32491.5,
          30272.2,
          29398.6,
          29729.4,
          29037.4,
          28651.2,
          28949.6,
          29394.5,
          30171.7,
          35468.1,
          37971.1,
          40079.5,
          40914,
          40521.3,
          40296.9,
          40049.799999999996,
          40188.799999999996,
          39806.2,
          38594,
          37966.5,
          37730.4,
          37519.5,
          38363.4,
          37802.9,
          35067,
          32136.2,
          30035.6,
          28905.8,
          28226,
          28491,
          28733.8,
          28187.699999999997,
          29407.3,
          32226.8,
          34826.3,
          36151.5,
          37140.1,
          36987.6,
          37228.4,
          37772.4,
          36530.8,
          37099.299999999996,
          35405.1,
          34970.9,
          36128.9,
          38250.2,
          37253.3,
          36323.2,
          34262.8,
          31714.1,
          29676.2,
          28094.4,
          27867.9,
          27796.4,
          27279.699999999997,
          27734.300000000003,
          28896.3,
          32407.8,
          34253.700000000004,
          35087,
          35537,
          35868.2,
          36140.9,
          37524.4,
          36864.3,
          35912.2,
          34369.9,
          34246.3,
          35285.6,
          36529.6,
          36724.6,
          35715,
          35285.1,
          32640.8,
          30388.2,
          28777.2,
          28201.6,
          28283.899999999998,
          28679.300000000003,
          28629.3,
          29318,
          33354.7,
          36078.6,
          36120.9,
          36057.4,
          36319.4,
          35470.8,
          35363.7,
          36251.5,
          35853,
          35368.4,
          32609,
          33766.9,
          35727.9,
          35824.8,
          35354.7,
          34302.8,
          31361.800000000003,
          30068.3,
          29133.2,
          29270.5,
          28712,
          29043.6,
          28827.2,
          28971.9,
          31385.4,
          33602.3,
          34477.6,
          34930.1,
          35128.3,
          35827.2,
          36813,
          36059.5,
          34876.8,
          33473.8,
          34193.5,
          34747.1,
          35344.2,
          34883,
          34709.9,
          33572.2,
          31802.8,
          31881,
          31248.100000000002,
          30118.1,
          29684.5,
          30121.4,
          30056.4,
          30154.4,
          31222.1,
          31948.7,
          34151.9,
          36269.6,
          36730.8,
          36877.7,
          37391.7,
          36512.2,
          34882.1,
          33495.8,
          32568.9,
          34334.1,
          35965.1,
          36153.200000000004,
          35690.2,
          34915.200000000004,
          33470.6,
          30386.6,
          29181.5,
          28224.8,
          27401.100000000002,
          27344.100000000002,
          27255.4,
          27382.6,
          26501,
          27124.9,
          28727.399999999998,
          31192.1,
          32647.4,
          33120.9,
          33204.700000000004,
          33677.1,
          32123.2,
          30750.9,
          30220.800000000003,
          31788.7,
          34104.1,
          35482.4,
          34911.9,
          33179.4,
          31009.7,
          29733.8,
          28406.6,
          27920.1,
          27354,
          26934.1,
          27480.4,
          28816.7,
          33098.2,
          34896.4,
          36490,
          37677.7,
          37592,
          38529.3,
          38393.1,
          37703,
          38020.1,
          37077.5,
          36193,
          35627.6,
          37133.700000000004,
          38058.799999999996,
          36782.8,
          35126.9,
          32731.2,
          31853.6,
          30999,
          30669.6,
          30445.600000000002,
          30074,
          30718.899999999998,
          31024.5,
          33294.700000000004,
          35123.6,
          36121.799999999996,
          36327.1,
          36315,
          36150.7,
          36445.9,
          35363.3,
          34624.3,
          34376.700000000004,
          34286.5,
          35166.5,
          37338.5,
          37247.3,
          36010.9,
          33636.9,
          31730.2,
          31134.100000000002,
          30963.5,
          30392.8,
          30373.399999999998,
          29801,
          30123.100000000002,
          31426.7,
          33514.2,
          35487.200000000004,
          36385.200000000004,
          36310.5,
          36107.5,
          35898.6,
          36264.1,
          35226.9,
          34979.5,
          33378.2,
          34228,
          33120.6,
          34777.6,
          35395.4,
          34542.5,
          31879.7,
          28901.2,
          28649.100000000002,
          28418.7,
          27908.6,
          27925.7,
          27034,
          25965.8,
          27493.7,
          32350.1,
          33703.1,
          34472,
          34216.1,
          34793.8,
          33523,
          33725,
          32962.6,
          33119.700000000004,
          33547.2,
          33358.4,
          34951,
          35620.6,
          35450.6,
          34084.1,
          31485.100000000002,
          28646,
          27544.1,
          26468.100000000002,
          25669.5,
          25839.4,
          25836.5,
          25038.4,
          27585,
          31677.9,
          35153.2,
          36355,
          36345.6,
          37180.5,
          38795.5,
          38829.4,
          37437.6,
          37522.9,
          36240.5,
          34114,
          34466.1,
          35241.2,
          34450.6,
          34439.4,
          33168.8,
          30708.2,
          29462.6,
          27769.6,
          27534.100000000002,
          27596.2,
          27291.3,
          27099.6,
          28424,
          27692.7,
          29048.2,
          30746.4,
          32870.4,
          33563.7,
          34052.2,
          33722.6,
          33483.2,
          32621.5,
          31398.8,
          30518.5,
          31627.9,
          33304.1,
          33298.6,
          34672.2,
          33610.6,
          30595.9,
          27778.2,
          27189.800000000003,
          26348.1,
          27204.6,
          26783.600000000002,
          26781.4,
          26919.6,
          26944.8,
          27174.4,
          29809,
          31858,
          33297.8,
          34537,
          35761.7,
          35516,
          33859.6,
          32656.7,
          31781.7,
          32797.4,
          34513.9,
          35684.700000000004,
          35120.4,
          33730.2,
          31422.300000000003,
          30628.4,
          29029.2,
          28186.3,
          28046,
          28159,
          29317.5,
          31219.600000000002,
          33477.8,
          35852.4,
          37715,
          39202.5,
          37809.5,
          37623.8,
          37809.6,
          37890.4,
          37667.9,
          36558.4,
          36097.1,
          36336.1,
          38133.4,
          39025.4,
          37608.5,
          35457.3,
          33851.2,
          32543.300000000003,
          31676.3,
          31005.100000000002,
          30777.600000000002,
          30827.5,
          31265.5,
          31872.100000000002,
          34608.6,
          36622,
          38194.3,
          39245.5,
          38900.1,
          39137.1,
          38760.9,
          39246.8,
          37738.5,
          37436.5,
          37097.9,
          37843.7,
          40292.8,
          40106.2,
          38580.2,
          35802.1,
          33614.8,
          34196.6,
          32284.6,
          31467.1,
          30703.600000000002,
          30905.9,
          31264.3,
          33650.4,
          36227.9,
          37560.1,
          39101.4,
          39157.5,
          37919.4,
          38804.5,
          38542.1,
          38274,
          37175.8,
          35105.9,
          34557,
          34999.9,
          37088.1,
          36492.7,
          36900.1,
          34106.4,
          31310.5,
          29846.5,
          31550.5,
          30717.4,
          30151,
          30554.600000000002,
          31453.3,
          31006.600000000002,
          33526.9,
          35117.8,
          36405.2,
          36773.4,
          36226.700000000004,
          36672.8,
          37061.3,
          36590.1,
          35543.2,
          35253.4,
          34242.1,
          35255.4,
          37300.700000000004,
          37989.8,
          36729.9,
          33718.4,
          30533.9,
          30681.8,
          30834.699999999997,
          30314.899999999998,
          29668,
          29684.7,
          30303.5,
          31227.5,
          33130.8,
          34789.8,
          36125.5,
          36424.9,
          36015.9,
          38569.2,
          39342.4,
          38549.2,
          37660.4,
          37189.3,
          35249.7,
          35024.7,
          36141.3,
          35810.5,
          35726,
          33712.3,
          31890.9,
          31078.7,
          29934.199999999997,
          28850.5,
          28614.6,
          28689.9,
          27959.7,
          28440.8,
          28065.499999999996,
          29230.3,
          30375.3,
          32681.7,
          33245.9,
          33856.1,
          33984.4,
          33292.299999999996,
          31549.399999999998,
          29906.8,
          29252.7,
          29804.1,
          31913.9,
          32721.8,
          33587.4,
          32575.9,
          29705.1,
          28247.4,
          27145.3,
          26033.4,
          25292.9,
          25525,
          25876.8,
          26530.1,
          26908.2,
          27913.5,
          29554.7,
          31569.7,
          32236.8,
          32357.2,
          33272.5,
          33365.9,
          32434.8,
          31236.5,
          30122.8,
          30166.600000000002,
          32865.1,
          34269.2,
          34026.2,
          32573.7,
          30709.9,
          28666.7,
          26839.9,
          26639.8,
          26712.5,
          26714.199999999997,
          27987.4,
          29735.899999999998,
          33163.2,
          35409.9,
          37080.9,
          38455.3,
          36623.1,
          36688.7,
          37300,
          36688.700000000004,
          35550.299999999996,
          34702.4,
          33668.9,
          35552.4,
          37744.5,
          38549,
          37966.4,
          34586.1,
          31609.3,
          31143.1,
          30028.7,
          29267.9,
          28852.4,
          29030.5,
          29590,
          31034.199999999997,
          33136.6,
          35025.9,
          36383.3,
          37094.7,
          35809,
          36604.8,
          37813.1,
          36971.1,
          35484.1,
          35063.4,
          33685.1,
          33687.9,
          35729.9,
          36280.3,
          35345.3,
          32883.9,
          31332.3,
          28093,
          27501.7,
          27299.5,
          26921.2,
          28617.5,
          27383.7,
          28978.5,
          32047.2,
          34298,
          35713,
          37272.1,
          36871.2,
          36742.6,
          37056.3,
          35867.3,
          36875.4,
          36580.8,
          34086.6,
          34371.7,
          36979.4,
          37163.3,
          36435.7,
          33410.8,
          31115.6,
          30883.100000000002,
          30427.3,
          29813.6,
          29559.1,
          29526.1,
          29483.3,
          30291.399999999998,
          33481.2,
          35863.299999999996,
          37203.1,
          37312,
          37365.7,
          36420.7,
          36332.9,
          34723.2,
          34772.8,
          34120,
          33388.7,
          34017.8,
          35902.7,
          36532,
          34968.1,
          32563.6,
          30348.9,
          29548.600000000002,
          29220,
          28565.5,
          28454.2,
          28648.9,
          29055,
          30136.3,
          33630.1,
          36007.2,
          37423.7,
          37772.6,
          37200.8,
          37197,
          37996.1,
          37136.299999999996,
          35831.2,
          35366.299999999996,
          34436,
          34618.799999999996,
          36698.9,
          37751,
          37075.9,
          34850.4,
          32321.600000000002,
          32065,
          30824.9,
          29966.6,
          29239.600000000002,
          29987.7,
          30085.600000000002,
          30709.8,
          30555.2,
          31508.100000000002,
          33888.1,
          35996,
          36929.1,
          37482.6,
          37260.8,
          36309.1,
          35183.8,
          34186.1,
          33186.8,
          33164.7,
          34148.1,
          34490.1,
          34401.3,
          32828.8,
          30664.5,
          28628,
          27933.7,
          26883.8,
          26733.6,
          26934.6,
          27032.8,
          27599.100000000002,
          27033.4,
          27818.4,
          29507.6,
          31557,
          32233.8,
          32507.8,
          34043.1,
          34712.5,
          32456.100000000002,
          31670.2,
          30707.9,
          30696.7,
          33027.8,
          34861.6,
          34042.6,
          32376.399999999998,
          30322.9,
          28957.199999999997,
          27851.9,
          27566.1,
          27661.8,
          28070.100000000002,
          28196.4,
          28982.7,
          32734.800000000003,
          35510.2,
          37232.200000000004,
          38244.2,
          37396,
          37092.7,
          37109.7,
          36174.9,
          35610.1,
          34898.3,
          34794.4,
          35342.8,
          35297.200000000004,
          36746.3,
          35656.7,
          32156.5,
          29854.8,
          27640.3,
          26372,
          25456.3,
          25250.2,
          26123.5,
          27296,
          28331.300000000003,
          31942.600000000002,
          33978,
          35036.3,
          34689.9,
          34982.6,
          36031,
          36268.7,
          36616.7,
          36423.1,
          35952.1,
          33772.9,
          33748.7,
          34849.1,
          35379.6,
          34667,
          32513.600000000002,
          30957.2,
          29200,
          28901.5,
          28307,
          28296.4,
          28641.5,
          28884.2,
          30088.3,
          33710.6,
          35513.1,
          36784.1,
          37539.7,
          37593.2,
          38262.7,
          39417.4,
          38501.9,
          37878,
          36750.3,
          35585.6,
          34850.1,
          37285.7,
          36692,
          34728.7,
          33559,
          30085.5,
          30300.5,
          28777.1,
          28039.7,
          28222.8,
          27286.6,
          27524.3,
          29492.8,
          32851.3,
          33367.6,
          34431.4,
          34310.3,
          35109.5,
          35268.5,
          34954.8,
          33592.7,
          33944.5,
          34222.9,
          33413.7,
          35228.9,
          35095.1,
          36246.5,
          34885.3,
          35050.6,
          31748.6,
          29360.3,
          28150.800000000003,
          27909.6,
          27677,
          27818.9,
          28437.5,
          30464,
          33116.1,
          35666.2,
          35890.8,
          35755.1,
          35843.2,
          35369.2,
          35727.4,
          34531.5,
          33327.8,
          32744.8,
          33497,
          33899.3,
          34222.2,
          35239.1,
          34467.9,
          31842.2,
          29469.300000000003,
          29863.1,
          28230.899999999998,
          27919.5,
          28093.3,
          27263.8,
          27268.7,
          27420.199999999997,
          27738.100000000002,
          29535,
          31452,
          33274.4,
          33348.4,
          33829.6,
          34077.2,
          34081.6,
          33242.3,
          32670.300000000003,
          31507,
          30634.7,
          33018.5,
          34255.9,
          34204.9,
          32001.2,
          30147.5,
          29277.5,
          28473.5,
          27547.3,
          26351.6,
          25589.899999999998,
          25465.100000000002,
          25682,
          25894,
          27286,
          29708.3,
          32202.4,
          32897.7,
          33129.8,
          33109,
          32619.7,
          32634.2,
          31540.399999999998,
          30123.1,
          29024,
          31593.899999999998,
          32902.7,
          33219,
          31972.100000000002,
          30468.4,
          27868.4,
          27443,
          26943.3,
          26268.2,
          26092.3,
          26700.3,
          27804.5,
          30977.7,
          33966.4,
          36320.8,
          37031.6,
          37631.5,
          37048.5,
          36476.4,
          35933.8,
          34780.1,
          35105.1,
          34028.4,
          34427.8,
          36431.8,
          35977.9,
          35164.5,
          32819.3,
          31010.3,
          27023,
          25658.2,
          25771.8,
          25716.6,
          25131.899999999998,
          24833.9,
          29588.600000000002,
          33136.9,
          35429.3,
          36736.1,
          37593.9,
          37536.2,
          37225.7,
          36820.2,
          35925.6,
          35234.9,
          35440.2,
          35302.7,
          34993.6,
          36838,
          36185.1,
          35605.799999999996,
          32456.600000000002,
          29200.2,
          27111.2,
          26717.600000000002,
          25793.600000000002,
          25712.4,
          24757,
          25963.5,
          27768.5,
          32004.3,
          34513.8,
          35603.6,
          36244.2,
          36893.9,
          37103,
          36754.2,
          35949.8,
          34947.1,
          34186.7,
          33941.7,
          34452.5,
          34944.1,
          36284.7,
          34767.9,
          31912.2,
          29264.899999999998,
          26864,
          25762.1,
          24901.5,
          24731.5,
          24821.3,
          24769.399999999998,
          28273.100000000002,
          32103.7,
          34221.8,
          35652.9,
          35797.4,
          35371.9,
          35054.2,
          34547.3,
          34535.9,
          33926.8,
          32821.7,
          32284,
          32303,
          35120.8,
          36257.5,
          34327.3,
          32291.5,
          29176.8,
          26770.1,
          25836.3,
          25525.8,
          25562.6,
          25931.399999999998,
          25708.3,
          27276.9,
          32014.5,
          33772.5,
          34667.4,
          35241.6,
          35442.6,
          35421.700000000004,
          34431.6,
          33296.5,
          33038.3,
          32300.8,
          32606,
          34064.1,
          35378.8,
          35256,
          34031.799999999996,
          31706.899999999998,
          28820.3,
          29098.7,
          27442,
          26527.1,
          26040.7,
          25528.2,
          25790.7,
          26101.8,
          26955.899999999998,
          27953.7,
          28904.8,
          30254.600000000002,
          32136,
          31501.2,
          31898.7,
          31804.399999999998,
          31839.3,
          29351.3,
          27672.5,
          29601.7,
          29944.2,
          31354.5,
          30851.1,
          29801.9,
          27714.3,
          25407.5,
          23904.1,
          22768.399999999998,
          22366.6,
          22448.5,
          22736.8,
          23291.8,
          23562.4,
          24345.9,
          27237.8,
          29043.9,
          29379.6,
          28969,
          28602.6,
          28830.399999999998,
          29148.100000000002,
          27982,
          27393.3,
          28963.899999999998,
          29789.2,
          30623.1,
          31182.8,
          30350.8,
          27758.600000000002,
          25131.6,
          24080.1,
          23804.2,
          24396.5,
          24678.7,
          24690.5,
          27760.8,
          31045.199999999997,
          33800.2,
          35985.3,
          36814.5,
          36702.6,
          35742,
          35061.5,
          33936.3,
          33515.5,
          33826.9,
          33700.1,
          34479,
          36767.6,
          38143,
          34930.9,
          33135.1,
          30043.300000000003,
          27842.6,
          27009.399999999998,
          27226.800000000003,
          27201.600000000002,
          27075.4,
          27228.9,
          28945.4,
          32997.7,
          35522.2,
          36843.3,
          36982.6,
          35159.1,
          35638.1,
          35590.3,
          34700.200000000004,
          32997.3,
          33606.3,
          33511.7,
          34000.1,
          36766.4,
          36412.3,
          35489.1,
          33386.1,
          31194.7,
          27639.7,
          25927.2,
          25354.9,
          25079.7,
          25031.6,
          25102.3,
          28874.100000000002,
          33013.6,
          35335.3,
          35522,
          35264.8,
          35581,
          35120.9,
          35181.4,
          34637.7,
          33864.8,
          32677.4,
          30657.1,
          31674.4,
          34770.5,
          37346.8,
          35728.1,
          32955,
          29878.5,
          27381,
          27450.4,
          27167.7,
          28345.7,
          26698.9,
          27759.9,
          28951.1,
          30822.8,
          33822.8,
          34948.3,
          35446.4,
          35194.1,
          35358.5,
          35392.8,
          35283.700000000004,
          34438,
          33148.5,
          32301.5,
          31324.9,
          34317.9,
          35303.7,
          34787.2,
          33046.5,
          29702,
          28174.5,
          27879.8,
          26992.9,
          26760,
          27106.3,
          27111.3,
          28022.9,
          32104,
          34476.3,
          33704.3,
          34284.1,
          35419.3,
          35348.4,
          37129.299999999996,
          36341.6,
          34658.2,
          33121.3,
          31345.3,
          30468.5,
          32136.399999999998,
          34445.1,
          34494.5,
          31240.1,
          29794,
          26756.3,
          26083.7,
          26047.1,
          25771.7,
          24837.4,
          24621.8,
          25066.8,
          25233.899999999998,
          26605,
          29676.6,
          32870.7,
          33961,
          33290.1,
          34941.700000000004,
          33876.5,
          33406.6,
          31992.2,
          30543.7,
          27748.4,
          29470.600000000002,
          31675,
          30992.8,
          31392.5,
          29264.600000000002,
          26237,
          24745.1,
          23468.7,
          24284.4,
          24128.100000000002,
          24465.9,
          23538.6,
          23997.7,
          25739.3,
          28221.7,
          31329.4,
          33316.2,
          34010.6,
          34352.200000000004,
          33954.2,
          33326.9,
          29375.8,
          28839.5,
          27751.7,
          30013.1,
          30860.6,
          32162.4,
          30144.7,
          27257.3,
          25790.9,
          24104.6,
          23261.5,
          23411.9,
          23568.8,
          24741,
          28461.100000000002,
          31363.5,
          35111.200000000004,
          36054.1,
          35843.4,
          36150.6,
          36672,
          37826.5,
          36343.6,
          35186.9,
          34575.6,
          33268.4,
          32763.8,
          35167.2,
          37557.8,
          36859.3,
          34058.4,
          30653.100000000002,
          30561.600000000002,
          28573.100000000002,
          27837.500000000004,
          27361.7,
          27822.800000000003,
          28648.9,
          29182.4,
          32007.9,
          34505.9,
          35481.7,
          36025.1,
          36311.1,
          36187.8,
          36332.1,
          36146,
          35958.8,
          35098.6,
          34502,
          34444.4,
          36242.8,
          37825.9,
          37009.8,
          33834.3,
          31270.3,
          29818.3,
          28712.9,
          28705.3,
          28757.2,
          28956.7,
          29012.8,
          29830.5,
          33086,
          35259,
          36204.6,
          36701.1,
          37133.7,
          38062.1,
          38248.9,
          38560,
          38323.4,
          37422.9,
          35862.9,
          33482.7,
          34890.9,
          37105.1,
          37136,
          34890.6,
          31228.7,
          29774.3,
          28497.6,
          27601.4,
          27413.6,
          27140.4,
          28198.7,
          29647.600000000002,
          32983.2,
          35710.200000000004,
          36195.700000000004,
          37152.4,
          37197.4,
          37682.799999999996,
          37662.9,
          37230.5,
          35819.700000000004,
          36430,
          34538.4,
          35003.1,
          36211.8,
          38233.1,
          37435,
          34268,
          31799.2,
          29986.899999999998,
          28213.9,
          27181.8,
          26925.7,
          27009.600000000002,
          27356.2,
          27412,
          29098.5,
          31668.2,
          34011.7,
          35737.299999999996,
          35938.8,
          36991.4,
          37274.8,
          36216.3,
          36057.6,
          35343.9,
          33664.1,
          32536.600000000002,
          34647.3,
          36764.7,
          35735.6,
          34127.9,
          31553.4,
          29569.4,
          28635.100000000002,
          28038.9,
          28316.600000000002,
          28799.1,
          28842.9,
          29481.3,
          29094.6,
          31475.7,
          34039.7,
          35721.5,
          36675.9,
          36958,
          37684.2,
          37592,
          36934.1,
          36334.7,
          34167.1,
          31009.399999999998,
          33160.299999999996,
          35214.3,
          35583.8,
          33242.4,
          31644.6,
          29271.199999999997,
          27673.9,
          27125.7,
          26139,
          26222.2,
          26062,
          26089,
          26020.5,
          27368.3,
          30662.7,
          33545.5,
          34428.1,
          34699.3,
          34526.4,
          34224.2,
          33431.7,
          32316.2,
          30762.600000000002,
          29472.2,
          32091.1,
          33894.4,
          32945.5,
          32817.8,
          30894.2,
          27624.100000000002,
          27581.7,
          27237.2,
          27135.9,
          26392.4,
          27263.8,
          28457.800000000003,
          32242.8,
          34516.1,
          35839.2,
          36006.4,
          36006.6,
          36377.1,
          36004.3,
          34684.2,
          34578.200000000004,
          33220.2,
          33083.8,
          33251.5,
          35567.3,
          35956.1,
          35372.3,
          34196.5,
          30925.9,
          26511.6,
          25784.7,
          24952.4,
          24698.899999999998,
          24964.6,
          25461.8,
          28013.800000000003,
          31884.4,
          34679.2,
          35335.4,
          34930.2,
          34408,
          33651.1,
          33774.8,
          32664.1,
          32407.1,
          31317,
          33008.1,
          33258.8,
          34140.3,
          34855.5,
          34743.9,
          32021.9,
          28820.2,
          26938.6,
          25298,
          24280.300000000003,
          23878.8,
          24109.5,
          25246.899999999998,
          27154.8,
          30463,
          33182.1,
          34614,
          34893.8,
          34098.3,
          33697.2,
          33534.5,
          32532.2,
          31762.3,
          31424.8,
          31363.3,
          33595.6,
          34654.7,
          35197.9,
          34997.6,
          32265.3,
          28959.4,
          26685.6,
          25505.300000000003,
          24757,
          24219.2,
          24388.9,
          25337.8,
          28226,
          30241.7,
          32502.1,
          34340.5,
          33927.9,
          33326,
          33280.9,
          32861.3,
          32315.7,
          31861.8,
          31154.7,
          30498.9,
          31987.7,
          32077.6,
          34366.9,
          34145.8,
          31793,
          28331.1,
          26300.7,
          24800.9,
          23616.5,
          23357.5,
          23411.9,
          24121.1,
          26569.3,
          29515.5,
          32889,
          33906.9,
          33808.1,
          34466.4,
          34197.5,
          33257.6,
          33220.1,
          33192,
          33305.3,
          31498.9,
          32654.3,
          34094.6,
          33538.299999999996,
          32251.8,
          30929.9,
          28172.6,
          26688.7,
          26231.899999999998,
          24692.4,
          26816.8,
          26570,
          26727.399999999998,
          26766.9,
          27136.5,
          30150.600000000002,
          31273,
          33107.1,
          33531.700000000004,
          31318.4,
          32660.1,
          33150.6,
          32075.1,
          31571.1,
          27840.699999999997,
          27177,
          29332.1,
          30066,
          30150.8,
          28661.7,
          27827.2,
          25094.3,
          24134.600000000002,
          23516.699999999997,
          23614.2,
          23021.4,
          22818.2,
          23698.1,
          24395.4,
          26534.6,
          27863.7,
          28783.3,
          30220.7,
          30429,
          30774.5,
          30772,
          29874.1,
          29230.9,
          27312.899999999998,
          27068.1,
          29316.2,
          30913.100000000002,
          29551,
          28797.600000000002,
          26156.7,
          26119.8,
          26029.1,
          25261.8,
          25103.3,
          25253.4,
          27795.1,
          31608.4,
          33123,
          34102.8,
          33681,
          32451.8,
          33762.4,
          35784.5,
          38675.3,
          37925.1,
          37621,
          37148.4,
          34483.1,
          34163.9,
          34825.8,
          34093.9,
          31822.2,
          28152.2,
          27476.9,
          25915.8,
          24840.1,
          24514.9,
          24324.4,
          24913.399999999998,
          28500.2,
          32482,
          33233.200000000004,
          34558.5,
          32496.1,
          36021.2,
          35977.1,
          34714.7,
          33534.3,
          32817.3,
          33147.3,
          33863.299999999996,
          33604.9,
          33325.6,
          34798.7,
          35479.2,
          31949.9,
          28884.1,
          26578.100000000002,
          25378.399999999998,
          23512.6,
          23918.5,
          23599.7,
          24140.6,
          29373.2,
          31947.9,
          32656.5,
          34638.7,
          33014.2,
          34782.4,
          33791.9,
          32979.8,
          32909.1,
          32835.1,
          32615.8,
          31726,
          31599.1,
          32042.899999999998,
          32583,
          33644.9,
          31764.5,
          29121.9,
          27409.7,
          26552,
          26375.9,
          25961.5,
          26348.7,
          25546.1,
          25305,
          26442.399999999998,
          27349.1,
          28853.8,
          29296.8,
          31223.4,
          31173.3,
          32062.8,
          32497.7,
          31216.4,
          28462,
          26474.600000000002,
          25980.5,
          26530.8,
          26761.7,
          28675.8,
          27653.5,
          25766.5,
          24256.2,
          23037.1,
          22491.3,
          22238,
          22342.8,
          22351.1,
          21993.8,
          22284.6,
          23641.6,
          24960.3,
          26776.4,
          28594.6,
          28800.7,
          29307.3,
          30346.899999999998,
          30756.7,
          29872.300000000003,
          29292.6,
          26545.6,
          26353.100000000002,
          26977,
          29430.7,
          29091.3,
          27878.5,
          25066.9,
          23789,
          23085.7,
          23394.7,
          23439.9,
          23890.9,
          23337.9,
          23182.6,
          24046.399999999998,
          25643.6,
          28060.2,
          31150.6,
          32695.7,
          33514.1,
          32692.600000000002,
          31658.5,
          31382.600000000002,
          30180.3,
          29581,
          29217.7,
          28351.7,
          28496.6,
          28143.1,
          27698.5,
          26819.9,
          25991.1,
          25080.2,
          24637.9,
          24533.4,
          24459.6,
          24606.5,
          24433.300000000003,
          25055.3,
          27207.1,
          28031.1,
          29444.4,
          30138,
          31347.1,
          31380.5,
          30374.3,
          29338.6,
          27576.1,
          26408.7,
          26147.899999999998,
          26381.6,
          29045.1,
          27903.5,
          26671.6,
          24104,
          23232.2,
          22571,
          22005.9,
          21813.6,
          21957,
          22478.1,
          24538.800000000003,
          25811.6,
          27820.7,
          30102.8,
          29598,
          30039.600000000002,
          29698.100000000002,
          29554.600000000002,
          29718.7,
          29946.7,
          29801.5,
          29361.399999999998,
          27897.7,
          27789.6,
          29773.9,
          29142.3,
          27902.4,
          24680.5,
          25606.8,
          25149,
          24931.8,
          24734.6,
          25563,
          26985.7,
          30435.000000000004,
          32820.5,
          34285.3,
          34571.799999999996,
          34930.5,
          35183.6,
          35494.5,
          35428.3,
          35525,
          35131.6,
          34720.8,
          33147.5,
          32150.300000000003,
          33847.6,
          35206.3,
          32616.6,
          30348.4,
          30182.9,
          29322.7,
          28571.4,
          27775.6,
          27329.6,
          27381,
          28135.4,
          30900.199999999997,
          32596.8,
          34038.7,
          33842,
          34056.1,
          34895.2,
          33633.6,
          32827.6,
          32430.5,
          31911.5,
          31267.6,
          32738.9,
          32466.600000000002,
          34269.2,
          36133.6,
          33800.8,
          30081,
          28364.100000000002,
          27057.899999999998,
          26306.7,
          25993.7,
          25559.100000000002,
          25721.2,
          28586.800000000003,
          31993.7,
          33994.9,
          35334.7,
          35141.7,
          34519,
          33581,
          33949.5,
          33224.7,
          31171.5,
          31159.5,
          31655.2,
          32980.200000000004,
          32707.5,
          34155.1,
          33484.7,
          31796.600000000002,
          29083.6,
          27354.3,
          24566.3,
          23678.9,
          23159.3,
          22998.3,
          24536.1,
          29079.5,
          31018.1,
          32234.800000000003,
          34911,
          34371.8,
          33506.6,
          33946.6,
          34274.200000000004,
          33815.9,
          32710.1,
          31611.2,
          31515.9,
          32418.600000000002,
          32578.5,
          34554,
          32586.3,
          29662.6,
          27648,
          26144.5,
          25717.399999999998,
          24395.3,
          23316.4,
          23192.4,
          22930.4,
          23908.2,
          24593.3,
          26546.3,
          28884.2,
          29830.6,
          30684.3,
          29901.7,
          29336.1,
          29522.7,
          29263.9,
          28331.199999999997,
          26807.6,
          26575.6,
          26326.6,
          28696.5,
          30387.1,
          29266.9,
          26888.1,
          25370.2,
          24681.1,
          23678.9,
          23374.8,
          22858.5,
          22778,
          22779.6,
          22997.899999999998,
          24040.8,
          25596.7,
          27153.4,
          29286.3,
          31416.4,
          31490.600000000002,
          32936.1,
          32625.499999999996,
          32642.5,
          32202.8,
          31192,
          30080.3,
          30404.9,
          33377,
          31717,
          29795.3,
          28330.399999999998,
          27095.4,
          26136,
          25833.3,
          25699.3,
          25730.2,
          27739.500000000004,
          30909.8,
          33724,
          34470,
          34480.8,
          34907.3,
          35375.5,
          35082.8,
          34794.200000000004,
          33644.8,
          33439.8,
          31456.3,
          31429,
          31513.2,
          35065.7,
          35786.5,
          33698.6,
          30744.9,
          26557.2,
          25591.6,
          25144.899999999998,
          24499.9,
          24437.9,
          25005.3,
          28944.2,
          31546.7,
          33553.1,
          34666.9,
          35262.6,
          35811.5,
          35327.1,
          33786.6,
          32187,
          31747.7,
          31769.1,
          32605.6,
          32483.3,
          34411.5,
          35144.4,
          34507.4,
          32430.100000000002,
          29557.8,
          26713.7,
          24996.7,
          24055.3,
          23684.6,
          24094.1,
          25585,
          28806,
          32329,
          33925.1,
          35318.8,
          35705.9,
          34565.9,
          33430.8,
          32568.4,
          32198.3,
          31292.6,
          31341.2,
          31336.399999999998,
          33637.1,
          33952.1,
          35443.1,
          37224.2,
          33534.1,
          31178.3,
          28296.5,
          27221.1,
          27556.699999999997,
          26882.1,
          27139.9,
          27952.8,
          29214.1,
          31924.5,
          33323.9,
          35080.4,
          35568.9,
          34890.8,
          34197.5,
          34057.2,
          34746.9,
          34752.7,
          33973.4,
          33256.7,
          31515,
          33235.4,
          35903.4,
          36317.7,
          33880.8,
          30614.1,
          28063,
          25913.3,
          25418.2,
          24941.7,
          24759.5,
          26213.5,
          30261.7,
          31926.5,
          34197.2,
          34692.2,
          35309,
          35004.3,
          35108.3,
          34323.6,
          34052.6,
          32882.4,
          32633.9,
          33531.2,
          32807.9,
          31821.1,
          34035.5,
          33738.1,
          33037.5,
          30890.3,
          29273.6,
          26745.9,
          25327.1,
          23807.5,
          23064.5,
          24006.3,
          25779.4,
          26291.399999999998,
          28610.5,
          29316.5,
          30243.6,
          31078.899999999998,
          31875.9,
          32094.399999999998,
          33587.5,
          32117.3,
          32189.5,
          31840.3,
          29845.100000000002,
          29514.3,
          29434.5,
          31222,
          30696.899999999998,
          28753.2,
          26885.4,
          24907.4,
          23593.399999999998,
          23168.1,
          23020.6,
          23130.8,
          23870.5,
          23817.2,
          23924.5,
          25437,
          27959.2,
          29089.600000000002,
          29554.1,
          31342.9,
          31117.9,
          31246.4,
          29667.4,
          27743.9,
          27437.2,
          27376.5,
          27446.4,
          29376.3,
          29051.899999999998,
          26522.9,
          25367.7,
          24170,
          23868,
          23712.100000000002,
          23668.7,
          24374.9,
          27508.6,
          31163.699999999997,
          33810.2,
          34541.3,
          35355.2,
          35904.1,
          34245.1,
          32400.1,
          31620.8,
          31424.5,
          30909.9,
          31762.7,
          32234,
          33057,
          34958.3,
          35128.7,
          32072.1,
          29434.100000000002,
          25674.7,
          24748.3,
          24082.7,
          24112.4,
          24205,
          24871.7,
          29821,
          31910.6,
          34124.9,
          34732.1,
          35018.1,
          32733.8,
          33020.2,
          32322.3,
          32356.6,
          32680.7,
          31959,
          31434.3,
          32365.3,
          32110,
          33806.8,
          35333.9,
          31619.9,
          27580.8,
          26839.1,
          25605.5,
          24216.5,
          23905.2,
          23802.8,
          24446.5,
          27367,
          31762.4,
          32790.7,
          32872.1,
          33523.4,
          33899.3,
          33227.4,
          33723,
          33511.9,
          33041,
          32695.6,
          31585.2,
          31339.7,
          32561.8,
          32223.6,
          33853.1,
          31200.399999999998,
          28991.100000000002,
          26137.8,
          24928.6,
          24427.3,
          24153,
          24000.8,
          24680.3,
          27323,
          31654.199999999997,
          33157.3,
          33685.6,
          34135.3,
          34207,
          34864.3,
          35350.6,
          35094.2,
          33995.1,
          32212.3,
          30933.899999999998,
          31227.5,
          32621.1,
          33610.5,
          33658.2,
          31335.6,
          28144,
          26183.6,
          24793.4,
          23388.5,
          23040.5,
          23548.2,
          23575.2,
          27974.1,
          31410.899999999998,
          33887.8,
          32985.7,
          33423.7,
          33775,
          34439.5,
          34718,
          32727.1,
          32223.100000000002,
          31811.100000000002,
          32320.4,
          30138.3,
          31174.9,
          30853.2,
          32478.9,
          29971.4,
          28028.1,
          25463.7,
          24820.8,
          24086,
          24828.100000000002,
          24288.800000000003,
          24586.7,
          23152.6,
          23595.8,
          25216.6,
          27684.2,
          29413.4,
          31013.3,
          31844.6,
          32248.2,
          31684,
          31867.3,
          31199.1,
          30681.7,
          29551.199999999997,
          27479.1,
          29086.1,
          31327.3,
          29004.6,
          28003.3,
          24882.2,
          24401.3,
          23961.100000000002,
          23751.2,
          22700.5,
          22034.2,
          21986.6,
          22641.9,
          23752.699999999997,
          25405.3,
          27507.7,
          28913.1,
          29772.2,
          30202.9,
          30705.7,
          30416.8,
          29440.2,
          29443.9,
          29104.8,
          28342.1,
          28560.7,
          29809,
          29241.9,
          27366.7,
          24872.1,
          23740.6,
          22904.3,
          22886.699999999997,
          23230.8,
          23983.7,
          25828.1,
          28248.1,
          30659.5,
          32537.800000000003,
          33352.7,
          34758.8,
          34807.2,
          33875.4,
          33079,
          32078.2,
          31297.100000000002,
          31989.3,
          31901.4,
          30120.2,
          32325.3,
          32823.5,
          30946.8,
          28509.3,
          25427,
          23991.7,
          23306.1,
          23284.2,
          23619.800000000003,
          23932.1,
          25943.2,
          28730.5,
          32069.6,
          33829.4,
          34829.1,
          35361,
          34553.7,
          34638.6,
          33685.3,
          33278.6,
          33101.5,
          34667.7,
          33112,
          33699.3,
          35137.4,
          35003.4,
          32219.6,
          29019.6,
          25776.5,
          25254.4,
          24801.4,
          24183.1,
          24257.7,
          24236,
          25917.899999999998,
          29536.7,
          31616.100000000002,
          32048.4,
          33137.3,
          33388.1,
          34081.9,
          34139.6,
          33209.9,
          32377.3,
          32299,
          32099.5,
          31802.399999999998,
          30990.8,
          31297.3,
          32953.2,
          31611.600000000002,
          28610.5,
          25776.4,
          25597.8,
          24944.1,
          24291.4,
          24613.600000000002,
          24965,
          25780.1,
          29411.4,
          31613.5,
          32431.6,
          34259.7,
          33668.8,
          33900,
          34454.2,
          33626.3,
          33665.8,
          33631.6,
          33364.7,
          32129.3,
          30623.6,
          32617,
          32789,
          31265.399999999998,
          27882.7,
          26493.7,
          25381,
          24647.600000000002,
          24303.1,
          23760.7,
          25082.1,
          27076.5,
          29523.4,
          31602.800000000003,
          32455,
          33418.600000000006,
          32866.8,
          33264.6,
          33384.2,
          31989.8,
          32743,
          32199.8,
          32274,
          31289.1,
          28974.6,
          30266.3,
          30691.6,
          29018.8,
          28196.899999999998,
          25717.5,
          24710.8,
          23822.5,
          23222.5,
          23623.1,
          23847.2,
          23449,
          23801.8,
          25439.2,
          28487.9,
          30869.2,
          31775.3,
          32454.6,
          33733.9,
          33534.1,
          32027.399999999998,
          30114,
          28885,
          28409.399999999998,
          27795.7,
          27733.1,
          28390,
          28213.3,
          26580.8,
          25329.4,
          25185.9,
          24139.7,
          24339.4,
          23714.5,
          23897.3,
          23997.3,
          24523,
          25235.9,
          27259.8,
          29573.399999999998,
          30073.6,
          29555.8,
          29981.8,
          30355.8,
          30286.2,
          29232.9,
          28778.9,
          28806.4,
          27377.8,
          28051.2,
          28224.3,
          30865.8,
          28134.9,
          25698.3,
          26191.199999999997,
          25739.5,
          25587.5,
          24687.9,
          23869.5,
          24665.5,
          29334.8,
          30912.899999999998,
          31276.5,
          31187.5,
          31244.3,
          31658.2,
          31657.1,
          32244.6,
          32755.399999999998,
          32281.6,
          30392.7,
          29458.399999999998,
          29793.1,
          30888,
          31474.5,
          30197.3,
          27715.7,
          24940.5,
          23825.9,
          22933.7,
          22749.8,
          23065.6,
          23788.1,
          26098.8,
          28360.8,
          30890.8,
          31503.7,
          32025,
          32309,
          33017.5,
          32690,
          32117.6,
          31903.2,
          31459.6,
          31133,
          30422.9,
          28880.7,
          30818.3,
          31814.2,
          30949.8,
          27773.6,
          25579.4,
          24194.9,
          22992,
          22864.1,
          22729.7,
          23173.8,
          26383.199999999997,
          30672.3,
          32777.2,
          33537.1,
          32519,
          32103.2,
          33890.1,
          33719,
          33237.1,
          32754,
          31666.5,
          31043.6,
          29950.3,
          28829.3,
          32745,
          33938.9,
          32781.7,
          29582.899999999998,
          26278.3,
          24343,
          23913.2,
          23360.2,
          23484.1,
          24527.1,
          28031.3,
          30456.8,
          32307.899999999998,
          33326.799999999996,
          33187,
          33248.6,
          37029.6,
          34850.700000000004,
          33787.6,
          33203.8,
          32893,
          32256.899999999998,
          31836.8,
          31332.8,
          33056.8,
          33046.5,
          31302.1,
          28513.800000000003,
          25823.7,
          25506.2,
          24609.8,
          24696.1,
          24660.1,
          24271.5,
          26214.5,
          29951.5,
          31784.899999999998,
          31870.4,
          32398.3,
          32958.799999999996,
          33653,
          33782.2,
          32994.3,
          32526.6,
          32363,
          31444.399999999998,
          30466.1,
          29392.4,
          30035.2,
          31399.8,
          29222.1,
          27418.4,
          26231.5,
          25903.7,
          25261.3,
          24525.2,
          24029.3,
          23983.1,
          24130.600000000002,
          24622.5,
          26333.8,
          28672.7,
          32363.300000000003,
          34063.8,
          34872.5,
          34302.1,
          34498.3,
          32837.6,
          32432.7,
          32632.6,
          31666.3,
          30659.2,
          28865,
          31885.3,
          31504.6,
          30093.7,
          28214.2,
          26864.5,
          25365.8,
          25581.399999999998,
          24575.3,
          26095.5,
          25391.800000000003,
          24304.3,
          26306.5,
          28192.6,
          29826,
          31397.7,
          34232.2,
          33208.299999999996,
          32086.9,
          29617.7,
          27219.2,
          29111.8,
          30625.7,
          30559.7,
          30330.9,
          32967.3,
          31852.3,
          30639.100000000002,
          25800.4,
          24249.1,
          24480,
          25099.3,
          24801.7,
          25513.8,
          27598.6,
          29608.1,
          30202.3,
          32221.100000000002,
          33920.6,
          33942.4,
          34923.2,
          35214.3,
          34629.2,
          34209.6,
          32485.5,
          31146.4,
          31461.7,
          31125.2,
          31781.3,
          33246.9,
          31255,
          28468.9,
          27159.8,
          26670.9,
          26851.3,
          27275.1,
          27633.4,
          28025.899999999998,
          29136.9,
          30446.7,
          32889.700000000004,
          35780.6,
          37460.8,
          38707.5,
          39232.3,
          39632.5,
          39051.6,
          38640.9,
          37337.8,
          36093,
          34317.3,
          32418.3,
          32380.2,
          31984.7,
          30145.1,
          27513.5,
          26986.3,
          25647.5,
          25819.1,
          25990.699999999997,
          25889.3,
          26230.8,
          27719.3,
          30069.600000000002,
          32333.8,
          32972.5,
          33353.6,
          34479.4,
          35584.3,
          36539.2,
          37356.3,
          34665.2,
          33768.5,
          34197.9,
          36692.1,
          35778,
          34421.7,
          33263.8,
          30932.399999999998,
          29590.2,
          26977.8,
          25950.100000000002,
          25253.600000000002,
          24924,
          25393.600000000002,
          25125.2,
          27459.5,
          28921.6,
          30134.2,
          31960.4,
          33462.2,
          34359.8,
          35165.3,
          35500.8,
          35146.3,
          35565,
          35181.8,
          34505.3,
          34315.8,
          33316.2,
          32883.4,
          31946.5,
          31906.3,
          30473.5,
          28679.399999999998,
          26714.3,
          25853.7,
          24929.1,
          24994.5,
          25077,
          27332.1,
          29040.5,
          31074.600000000002,
          33520.6,
          34142.8,
          33852.8,
          33988.2,
          34983.3,
          34692,
          33679.5,
          32965.3,
          32412.899999999998,
          33296.9,
          32924.5,
          30375.7,
          30811.7,
          29614.8,
          28779.2,
          26806.1,
          24840.600000000002,
          24318.4,
          23974.4,
          23634.9,
          23545.7,
          23618.3,
          24607.600000000002,
          27005.7,
          29620.7,
          32665.6,
          34187.200000000004,
          36059.8,
          36658.8,
          36425.1,
          35540,
          34612,
          33555.5,
          33378.6,
          31738.4,
          29875.8,
          30657.899999999998,
          30101.3,
          29024.8,
          28687.3,
          26838.9,
          26458.399999999998,
          25357.1,
          25198.6,
          24745.5,
          24952.199999999997,
          26194.4,
          27570.600000000002,
          30322.600000000002,
          32625.3,
          33593.5,
          35487.5,
          35359.200000000004,
          34753.2,
          31881.3,
          31067,
          31093.1,
          30381.8,
          30530.2,
          30116.9,
          30019,
          28892.8,
          27314.800000000003,
          25818.3,
          24309.7,
          23583.4,
          23242.7,
          22976.2,
          22972.899999999998,
          24186.899999999998,
          27427.3,
          28608.4,
          30199.2,
          30855.8,
          31704.5,
          32635.8,
          32786,
          32331.2,
          32834.3,
          31912.8,
          31424,
          29976.100000000002,
          28252.5,
          29418.4,
          30724.3,
          30481.9,
          27425.9,
          25221.899999999998,
          24032.399999999998,
          23807.6,
          23231.3,
          23177.5,
          23589.6,
          27148.8,
          29444.2,
          31423.6,
          32501.6,
          34464.3,
          34384.8,
          34760.4,
          34592.9,
          33501.9,
          33533.7,
          33520.6,
          33234.6,
          33165.7,
          32011.1,
          31625.1,
          31692.7,
          32264.1,
          28769.100000000002,
          25603.1,
          24444.5,
          24337.8,
          23404.8,
          23220.300000000003,
          23745.8,
          26147.5,
          28461.3,
          30929.100000000002,
          30984.3,
          32208.9,
          33184.1,
          33129.8,
          33811.9,
          33439.7,
          33510.6,
          33670.7,
          32311.399999999998,
          31096.6,
          31666.6,
          30698.8,
          32147.9,
          31780.2,
          29383.3,
          26893.899999999998,
          25557.3,
          24779.4,
          24213,
          24507.9,
          24792,
          25937.8,
          28523.1,
          30083.1,
          33069.1,
          32527.4,
          33192.3,
          33411,
          33416.5,
          32938.3,
          32563.1,
          32387.9,
          32205.7,
          31487.6,
          31281.6,
          30649.5,
          31732.3,
          30371.5,
          28075.6,
          25530.7,
          24577.7,
          24265,
          24058,
          23102.7,
          23099,
          24647.2,
          27350.7,
          29923.1,
          31078.3,
          31999,
          32331.8,
          32882.9,
          33611.6,
          34211.9,
          35479.5,
          35219.4,
          34806.3,
          35253.9,
          34260.5,
          31949.1,
          32225.800000000003,
          30569.899999999998,
          27628.3,
          26694.1,
          25907.8,
          24601.5,
          23894.1,
          23085.3,
          23143.600000000002,
          23180.2,
          23167.4,
          25283.8,
          27827.5,
          29179,
          30423.3,
          30340.5,
          31507.3,
          31399.3,
          31683.7,
          30885,
          31602.5,
          31247.2,
          29000,
          29155.9,
          28649.8,
          28019.1,
          27050.2,
          24741.2,
          23574.2,
          22788.7,
          21804.4,
          21039.1,
          20867.8,
          21050.4,
          21046.5,
          22583.2,
          25597.5,
          27263.5,
          27245.6,
          27273.4,
          28185.1,
          27787,
          27670.4,
          27750.1,
          27031.2,
          26755.7,
          25860.5,
          25576.1,
          27240,
          27628.1,
          26292.4,
          24403.5,
          24162.8,
          24188.4,
          24112.7,
          24529.800000000003,
          24780,
          25280.300000000003,
          27215.3,
          29835.1,
          31991.3,
          32864.7,
          33611,
          35110.3,
          34509.6,
          33756.2,
          34133.3,
          33539,
          33104.8,
          32830.5,
          31373,
          29520.5,
          29934.1,
          28659.100000000002,
          26840.2,
          24394.5,
          23427.100000000002,
          22909.2,
          22583.4,
          22760.5,
          23522.3,
          25304.5,
          28208.7,
          29905.5,
          31988.5,
          31843.3,
          32898.700000000004,
          34516.5,
          34125.1,
          33267.1,
          32728.399999999998,
          32319.7,
          32115.3,
          32769.1,
          32849,
          32871.7,
          32733.8,
          32608.3,
          29102.9,
          26523.9,
          26075.899999999998,
          25267.2,
          23993,
          25013.7,
          24994,
          25991.2,
          28960.1,
          30091.100000000002,
          31123.5,
          32209.8,
          32945.5,
          33321.9,
          33652.5,
          33274.6,
          32762.9,
          31789,
          31589.7,
          31294.2,
          30999.6,
          30950.2,
          31906.8,
          30404.6,
          28464,
          26390.2,
          25429,
          24844,
          23920.3,
          24021.6,
          24132.5,
          25336.8,
          28353.3,
          30230.4,
          31975.3,
          35070.7,
          36507.7,
          36604.4,
          36435.4,
          35758.1,
          34821.7,
          34999.8,
          34427.4,
          33226.2,
          32189.8,
          31618.5,
          32525.7,
          31220.3,
          28154.4,
          26158.3,
          24662.2,
          23776,
          23052.600000000002,
          22953,
          23349.9,
          25236.5,
          28063.7,
          29824.199999999997,
          31171.5,
          31423.600000000002,
          32226.8,
          33281.3,
          33309,
          32905.8,
          32104.8,
          31534.2,
          31466.1,
          30682.4,
          30710.8,
          29789.1,
          30464.6,
          28938.1,
          27020.5,
          25384.4,
          24124.2,
          23223.4,
          22678.5,
          23807.2,
          23799.9,
          24070.6,
          24290.4,
          25758,
          28202.100000000002,
          29929.300000000003,
          30320.8,
          30749.699999999997,
          30814.6,
          30370.5,
          29939.5,
          29912.9,
          29988.4,
          28404.4,
          27484.2,
          26894.1,
          27277.7,
          27540.8,
          26958,
          25578.4,
          24026.5,
          23061.7,
          22370.800000000003,
          21984.1,
          22319.2,
          22321.8,
          21991.8,
          24137.1,
          26828.399999999998,
          28106.6,
          28920,
          30435.5,
          30937.399999999998,
          30588.6,
          31881,
          31875.3,
          30759.4,
          29787.5,
          27771.6,
          25675.7,
          25945.899999999998,
          26806.4,
          25576.5,
          24953,
          24116.5,
          23589.300000000003,
          22581.4,
          22911,
          23487.600000000002,
          24775.5,
          26420.300000000003,
          29981,
          31838.3,
          31993.3,
          33478.8,
          32968.8,
          33434.5,
          33884.1,
          33146.2,
          33724.4,
          33327.3,
          32299.9,
          31396.300000000003,
          30341,
          30790.5,
          30012.3,
          28519.800000000003,
          26320,
          25537.7,
          24579.399999999998,
          24179.899999999998,
          23832.899999999998,
          24048.7,
          26011,
          29127,
          31044.4,
          32058,
          33931.6,
          35107.8,
          35258.1,
          35369,
          34251,
          33610.9,
          34067.5,
          33655.299999999996,
          31652.199999999997,
          29579.3,
          30759,
          30783.100000000002,
          30020.3,
          27850.3,
          26534.8,
          25626.5,
          25006.9,
          24442.8,
          24278.100000000002,
          24724.6,
          26813.3,
          28784.7,
          30596,
          31654.5,
          32128.2,
          33167.2,
          33736.9,
          34015.5,
          33326.6,
          33215.5,
          32610.6,
          32010.8,
          30705.9,
          30080.3,
          30385,
          31070.2,
          30654.5,
          28640.4,
          26632.5,
          25477.3,
          23934.5,
          24112.3,
          23745.899999999998,
          24227.9,
          26196.899999999998,
          29069.5,
          30440.1,
          30765.8,
          31375.5,
          32004.600000000002,
          32618.300000000003,
          33002.1,
          33159.3,
          33643.2,
          33608.1,
          31734,
          30986.4,
          30054.5,
          30452.3,
          30450.5,
          31027.3,
          28902,
          27271.2,
          25028.8,
          24416.2,
          24220.1,
          23790.7,
          24406.7,
          26215.6,
          28739.3,
          31117.399999999998,
          31430.6,
          30885.6,
          31510.2,
          32049.3,
          31913,
          32167,
          31807.6,
          33042.8,
          31696.3,
          30101.2,
          29857.8,
          29809.6,
          29856.8,
          30012,
          28816.1,
          25625.5,
          24742.1,
          23880.5,
          23272.1,
          23406.5,
          23203.9,
          23607.2,
          24700.7,
          25289,
          26438.7,
          27529.800000000003,
          28315,
          28978.3,
          29276.2,
          28438.9,
          28057.399999999998,
          26678.2,
          26942.600000000002,
          28504.9,
          28244.2,
          27262,
          28596.5,
          27606.5,
          26414.7,
          24140.7,
          23362.8,
          22637.8,
          22395.4,
          22670.600000000002,
          22681.3,
          22836.4,
          23499.100000000002,
          25266.3,
          27822.2,
          29290.3,
          30440.6,
          31092.9,
          31609.600000000002,
          31523.8,
          31425.6,
          30907,
          30083.100000000002,
          29877.600000000002,
          27042.2,
          28045.2,
          28170.399999999998,
          28537.5,
          28700.6,
          26147.8,
          26168.3,
          25240.8,
          24562.899999999998,
          24105.3,
          24038.5,
          25461.4,
          27787,
          30219.6,
          31604.899999999998,
          31841.1,
          33230.9,
          33399.1,
          33173.3,
          33652.3,
          33704.5,
          32310.8,
          32340.6,
          30938,
          31778.8,
          30487.899999999998,
          31002.1,
          30517.5,
          28956.199999999997,
          26921.4,
          25490,
          24597.4,
          23931.7,
          23907.5,
          24216.1,
          26051.5,
          28599.5,
          29825.4,
          31408,
          32197.4,
          33601,
          34418.9,
          35236.5,
          34965,
          34850.1,
          34422.2,
          33463.1,
          31054.1,
          31836.2,
          31129.6,
          31571.100000000002,
          30813.7,
          28409.100000000002,
          26745.9,
          25287.899999999998,
          24559.4,
          25130.5,
          25005,
          25111,
          26507.9,
          28798.1,
          30921.7,
          32759.8,
          33865.7,
          34859.5,
          35927,
          36266.4,
          35767.4,
          35653.3,
          35292.3,
          33914.8,
          32391,
          32550.800000000003,
          31668.4,
          31150.2,
          31271.6,
          30318.100000000002,
          27353.5,
          26493.3,
          24871.1,
          24927.9,
          24752.9,
          25141.3,
          26916.6,
          28972.1,
          30938.5,
          32222.399999999998,
          32085.9,
          32888.5,
          34060.5,
          34581.6,
          34521.1,
          33939.5,
          33275.5,
          32910.9,
          32475.7,
          34259.4,
          32196.8,
          32295.7,
          32679.7,
          30525.4,
          27948.1,
          26445.9,
          25405.2,
          24589.5,
          24946,
          25221,
          27751.5,
          28650.3,
          30912.2,
          33429.2,
          33051.1,
          33205.5,
          34361,
          35159.9,
          35429.9,
          34518.9,
          33969.6,
          35327.5,
          33873.8,
          31788.3,
          31421.9,
          31849.3,
          31608.6,
          29287.5,
          28387.2,
          27426.5,
          26425.3,
          25487.1,
          24291.6,
          23915.9,
          23451.399999999998,
          24497.5,
          26182.2,
          28413.2,
          30349.9,
          31261.6,
          31530.2,
          32218.2,
          31970.6,
          31693.1,
          32140,
          31717.199999999997,
          30977.8,
          30992.5,
          30231.399999999998,
          29367.5,
          28394.7,
          27407.6,
          25745.100000000002,
          24382.5,
          23625.7,
          22868,
          22375.5,
          22795.6,
          23235,
          23101.1,
          24044,
          26505.3,
          28172.2,
          29392.9,
          31063.9,
          31019.8,
          30819.5,
          30855.7,
          31033.3,
          30596.800000000003,
          29914.7,
          29927.100000000002,
          28481.2,
          28435.9,
          29464.6,
          28230.8,
          26092.2,
          24793.5,
          23909.4,
          23064.3,
          23192.1,
          23594.4,
          26751.6,
          28281.7,
          30356.6,
          31470.1,
          32405.5,
          33130.1,
          34152.1,
          34567.8,
          34838.4,
          34569.6,
          35349.1,
          35113.7,
          34761.5,
          34256.299999999996,
          33263.6,
          32831.5,
          33223.4,
          30599.9,
          27374.1,
          26038.4,
          26058.3,
          26213.1,
          26085.8,
          26123.4,
          26904.4,
          29079.8,
          30809.4,
          33160.9,
          33330.2,
          34051.4,
          35469.5,
          36514.9,
          36802.4,
          35878.8,
          35087.4,
          34233.7,
          33588.2,
          34088.3,
          33186.9,
          32401.2,
          32464.4,
          29237,
          27184.3,
          25978,
          25442.4,
          25910.1,
          25979.3,
          26949.1,
          28166.3,
          31508.8,
          32417.2,
          33486.7,
          34418.4,
          34691.1,
          35324.4,
          35667.1,
          35094.1,
          35031.5,
          34962.1,
          33646.1,
          34212.5,
          33998,
          33345.1,
          32253.8,
          31804.2,
          29394.899999999998,
          26702.5,
          25422.9,
          25447.100000000002,
          25008.9,
          25589.1,
          25811.5,
          27283.100000000002,
          29453.600000000002,
          31061.6,
          33683.7,
          34535.2,
          34947.299999999996,
          34858.9,
          35461.6,
          34724.1,
          33567.4,
          33913.7,
          33192.8,
          33321.4,
          33689.9,
          33719.8,
          31554.600000000002,
          31854.1,
          29363.4,
          27236.1,
          25601.4,
          24929.8,
          24202.6,
          24219.9,
          24609.1,
          26034.8,
          29547.7,
          32362.9,
          33963,
          32709.7,
          32856.3,
          32737.7,
          33076.8,
          33359.3,
          33231,
          32897.9,
          32544.899999999998,
          31007.300000000003,
          30579.8,
          29154.1,
          29713.2,
          28881.8,
          27174.5,
          26617.8,
          26373.9,
          25088.8,
          23964,
          24305.3,
          23705.2,
          24145,
          24662.4,
          26126.9,
          28431.2,
          30277,
          31406.4,
          31379.2,
          31861.7,
          31311.399999999998,
          30821.3,
          31180.899999999998,
          29779.199999999997,
          29292.8,
          27136.2,
          25745.1,
          27206.3,
          27255.399999999998,
          26281.9,
          25658.6,
          24356.4,
          23869.2,
          24840.6,
          24206,
          23933.8,
          24290.6,
          24708.399999999998,
          26470.699999999997,
          27816.8,
          30614.3,
          32026.800000000003,
          32213.7,
          32922.5,
          31600,
          31140.7,
          30121.4,
          30221.399999999998,
          29689.5,
          30050.1,
          29196.3,
          27807.7,
          28967.3,
          27201.199999999997,
          25777,
          26661.699999999997,
          26805.4,
          26221.4,
          25986.5,
          25564,
          25681,
          29767,
          31847.5,
          32118.5,
          33244.5,
          32841,
          34070,
          34447.4,
          34230.1,
          34918.1,
          34752.4,
          32922.6,
          31829.9,
          31777,
          29538,
          30249.399999999998,
          30041.3,
          27718.7,
          26424.1,
          25093.1,
          24364.7,
          23761.4,
          23364.6,
          24119.5,
          26129.5,
          28990,
          30943.100000000002,
          31850.3,
          32253.6,
          32754,
          33480.200000000004,
          34018.3,
          33817,
          32851.8,
          33860.6,
          33139.2,
          32537.9,
          33284.9,
          29931.2,
          30921.7,
          30055.5,
          28009.6,
          26815.399999999998,
          25466.3,
          25642.2,
          25062.5,
          23951.3,
          24161.8,
          25448.6,
          28673.8,
          30933.2,
          32080.8,
          32124.7,
          33088.4,
          36392.6,
          35876.7,
          34737.4,
          32913.8,
          32545.8,
          31745.2,
          31846.5,
          30112.8,
          30188.8,
          30095.1,
          29594.8,
          28798.6,
          26356.399999999998,
          26064.5,
          25130.2,
          24312.399999999998,
          23743.9,
          23523.5,
          25116.3,
          27052.3,
          28557.3,
          29466.6,
          30658.6,
          30602.3,
          31623.2,
          33075.1,
          32940.7,
          31815.5,
          31463.3,
          30473.1,
          30742.9,
          30270.8,
          28753.1,
          28756.9,
          29074.9,
          29510.5,
          27576.899999999998,
          26587.2,
          25320.7,
          24802.2,
          24586.9,
          24878.5,
          25625.8,
          29052.300000000003,
          31601.2,
          31591.3,
          31822,
          32837.4,
          34092.5,
          34875.1,
          34425,
          33392.5,
          32918.3,
          32277.4,
          31842.9,
          32125.6,
          30887,
          30517.8,
          30234.5,
          28963.5,
          27478.2,
          26542.6,
          25904.5,
          24547.9,
          23841,
          23908.9,
          23963.8,
          24037.9,
          25933,
          29031.9,
          31092.100000000002,
          31671.5,
          32960.9,
          34081.5,
          33502,
          33025.3,
          32598.9,
          31747.5,
          29808.3,
          29375.7,
          28121.9,
          28740.5,
          29524.5,
          29581.2,
          27533.2,
          25501.5,
          24804.100000000002,
          23583.5,
          23244.7,
          23251.100000000002,
          23499.3,
          23012.7,
          25182.9,
          28784.5,
          30519.8,
          31865.5,
          33108.7,
          33902.8,
          33611.5,
          33443.1,
          33997.2,
          33776.6,
          34264.3,
          32761.3,
          30177,
          29352.2,
          28402.2,
          29035.7,
          27377.2,
          25743,
          25355.7,
          25178.1,
          24911.1,
          24019.8,
          25308.100000000002,
          27638.2,
          29773.9,
          30817,
          32020,
          33411.2,
          34501.9,
          34977.9,
          35333,
          36193.3,
          35063.3,
          34280.4,
          34059.8,
          33453.3,
          33608,
          32576.3,
          31190.100000000002,
          29311.1,
          27144.3,
          26104.4,
          25316.7,
          24946.8,
          25051,
          25703,
          27636.4,
          29232.5,
          32592.6,
          34213.4,
          34266.1,
          34756.6,
          35005,
          35780.2,
          35310.1,
          35666,
          34625.3,
          32842.7,
          32451.3,
          33403.3,
          31209.5,
          30852.6,
          33201,
          31871.2,
          27813.1,
          27213.6,
          26531.5,
          26177.4,
          26481.7,
          26067.9,
          27101.100000000002,
          29110.899999999998,
          31250.3,
          32874,
          33200.7,
          34223.5,
          34957.6,
          36015.9,
          39773.1,
          37976.9,
          36942.5,
          35908.1,
          34837.9,
          34890.2,
          33021.2,
          32846.6,
          32286.7,
          30215.9,
          28844.6,
          27531.3,
          26069.1,
          26160.6,
          25427.2,
          25828.1,
          27325.7,
          29437.7,
          32478.9,
          34953.9,
          35509.4,
          35779.4,
          36455.6,
          36218.2,
          36983.4,
          36868.5,
          36854.1,
          36050.5,
          36411.8,
          35634.7,
          33632.9,
          33522.2,
          32678.9,
          31836.5,
          28808.8,
          27456.100000000002,
          26737.3,
          26119.5,
          26023.9,
          26648.399999999998,
          28249.6,
          31235.1,
          33273.9,
          34711.9,
          34355.5,
          35342.9,
          36343.9,
          37595.9,
          37450.8,
          36504.3,
          36293.4,
          35275.200000000004,
          34977.7,
          34660.4,
          33853,
          34408.7,
          33720.9,
          30915,
          29763,
          28888.5,
          26812.5,
          25672.8,
          25101.800000000003,
          25006.5,
          25577.7,
          26459.9,
          26901.9,
          30244.5,
          32476.9,
          33291.4,
          34346.6,
          34470.9,
          33564.299999999996,
          33922.9,
          32172.800000000003,
          31125.2,
          32286.600000000002,
          31906.1,
          29764.6,
          29742.6,
          30071,
          30157.1,
          27589.100000000002,
          26057.5,
          25316.5,
          24803.7,
          24727.8,
          25568.2,
          25140.1,
          24814.2,
          26492,
          28418.4,
          31348.4,
          32808.7,
          34328.8,
          34378.3,
          34157,
          34471.1,
          34081.4,
          34026.2,
          33439,
          31835.3,
          30814.4,
          29784.1,
          30425.7,
          29966.6,
          28715.3,
          27280.300000000003,
          26062.3,
          25530.3,
          25512.4,
          25744,
          27467.2,
          28636.399999999998,
          30510.1,
          32620,
          34568.7,
          36411.1,
          38032.7,
          38850.700000000004,
          38984,
          38236.4,
          39234.5,
          38959.6,
          39099.2,
          36177.7,
          35495.2,
          33129.3,
          32816.8,
          31420.6,
          30272.5,
          28509.399999999998,
          27847.4,
          27452.899999999998,
          27559.1,
          27911.4,
          29422.3,
          30870.2,
          32706.4,
          34801.5,
          36402.6,
          36849.5,
          37116.700000000004,
          37593.5,
          38036.6,
          38274,
          38086.2,
          37641.1,
          36053.5,
          35810.2,
          34883.4,
          34774,
          33787.8,
          31229.1,
          30161.100000000002,
          28289.899999999998,
          26883.5,
          26406.2,
          26032.4,
          26102.5,
          27544.6,
          30694,
          32812.8,
          34838.5,
          35104.9,
          34578.700000000004,
          35153.3,
          36071.299999999996,
          35870.2,
          35028.2,
          34799.200000000004,
          34881.2,
          33520.4,
          33301.4,
          33296.6,
          33695.2,
          33302,
          30223.5,
          29368.2,
          27271.2,
          25814.6,
          25410.7,
          24967.1,
          25755.5,
          27630.199999999997,
          29421.5,
          32472.6,
          34775.9,
          35888.5,
          35048.5,
          36002.9,
          35614.9,
          35779,
          35226.3,
          34836.1,
          34805.7,
          34738.9,
          33595.9,
          32541.5,
          31717.3,
          33664.8,
          29702.4,
          29244.7,
          27554.100000000002,
          26523.7,
          26168.3,
          26656.600000000002,
          26374.8,
          27772.1,
          30172.9,
          32383.2,
          34924.5,
          33919,
          35834.3,
          36041.799999999996,
          36788.1,
          36786.3,
          36391.3,
          36305.799999999996,
          35458.3,
          34052.9,
          33315.4,
          32377.2,
          32356.9,
          32340.2,
          30628.8,
          28692.4,
          27925.699999999997,
          26005.8,
          25241.3,
          24418.8,
          24049.5,
          24271.699999999997,
          24214.8,
          26402.8,
          29759.4,
          31732.6,
          33031.5,
          33373.9,
          34144.1,
          33806.200000000004,
          33818.8,
          33644.6,
          32305.5,
          32140.5,
          31932.2,
          31632,
          31979.6,
          32918.2,
          31922.4,
          28757.8,
          27726.5,
          25764.8,
          24556.1,
          23834.8,
          23013.1,
          23329.5,
          23097.6,
          25489.7,
          28178.2,
          31289.7,
          33033.2,
          33692.5,
          35191.1,
          35955.1,
          37055.9,
          37030.3,
          34561.1,
          30517.4,
          31146.100000000002,
          30148.699999999997,
          30605.8,
          32212.9,
          31128.1,
          30503.9,
          28711.5,
          26850.5,
          26871.3,
          26843.3,
          25147.9,
          27842,
          31660.9,
          34208.799999999996,
          36214.3,
          37556.8,
          37168.3,
          38409.8,
          38645.3,
          39297.1,
          39351.4,
          39764.2,
          39747.2,
          39047.9,
          37718.4,
          35261.4,
          34503.2,
          33094.9,
          31725.7,
          29779,
          28068.3,
          26828.6,
          25960.8,
          25537.6,
          26034.6,
          27974,
          30412.7,
          34224.4,
          35337.700000000004,
          35744.4,
          35048.1,
          35533.3,
          35322.9,
          35809.200000000004,
          35890,
          35222.9,
          35372.2,
          34297.9,
          32887.3,
          31196.9,
          32378.1,
          32979.8,
          31168.6,
          29366.5,
          28573.9,
          27373,
          26596.9,
          26499.6,
          26867.7,
          27606.6,
          30010.7,
          31606.600000000002,
          34374.7,
          34883.1,
          35337.9,
          35659.5,
          37310.799999999996,
          37322.4,
          36947.8,
          36899.6,
          37000,
          36712.2,
          34776.7,
          34487.1,
          34079.2,
          33859,
          31113,
          29986.2,
          29645.2,
          29210.5,
          28482.5,
          28841.6,
          28292.1,
          28194.4,
          29447,
          31709,
          33433.4,
          34642.7,
          34972.6,
          36812.3,
          38295.6,
          36687.1,
          36050.1,
          36369.6,
          36393.3,
          36234,
          35112.9,
          35585.9,
          35030.5,
          35473.3,
          34391.7,
          31416.6,
          30036.300000000003,
          29234.6,
          28144,
          27167.1,
          27672.3,
          28553.3,
          29949.7,
          31444.5,
          32041.7,
          34641.6,
          36794.700000000004,
          37974.1,
          37763.6,
          37936.5,
          37412.8,
          37028.5,
          36997.7,
          35432,
          34572.2,
          33298.6,
          33526.2,
          33886.6,
          32754.699999999997,
          30918,
          29349.699999999997,
          27602.3,
          26022.6,
          25278,
          25209.1,
          25761.8,
          26265.2,
          27436.9,
          29687.1,
          31080.9,
          32529.6,
          33104.7,
          33029.7,
          33429.8,
          33340,
          33025.3,
          32796.4,
          33015.8,
          32398.7,
          31548.899999999998,
          31710.5,
          30759.4,
          29644,
          28300.4,
          27632.9,
          26049.2,
          24995,
          24454.3,
          23892.300000000003,
          23830.100000000002,
          23532.1,
          26079.7,
          28640.399999999998,
          30648.9,
          32137.100000000002,
          33691.1,
          33653.1,
          33769,
          33778.200000000004,
          33103.6,
          32898.3,
          32920.8,
          30959.2,
          30846.7,
          31576.5,
          31572.9,
          30966.9,
          28212.8,
          26851.2,
          25953.8,
          25105.5,
          24583.1,
          25010.2,
          27500.3,
          29513.8,
          31283,
          33852.7,
          34602,
          34849.3,
          35769.9,
          36913.8,
          36879.1,
          36033.4,
          36270.9,
          36506.3,
          35662,
          35683.3,
          34138.4,
          33546.5,
          34437.3,
          32003.600000000002,
          29623.199999999997,
          28158.9,
          27256.1,
          26701.5,
          25852.7,
          26171.1,
          27767,
          30048.8,
          31729.7,
          33922.4,
          35191,
          35648.4,
          36019.6,
          36078.6,
          36388.1,
          36160.3,
          36185.1,
          35768.3,
          34316.2,
          36414.1,
          34046.4,
          33962.3,
          33158.4,
          30946.3,
          30244.8,
          29131.8,
          27921.1,
          27332,
          27100.3,
          28002.5,
          30062.3,
          31105.8,
          32728.600000000002,
          34610.5,
          36027.5,
          36608.2,
          37524.5,
          37825.700000000004,
          38399,
          38392.799999999996,
          37133,
          36661.700000000004,
          35743.5,
          35138.1,
          33843.4,
          34116.7,
          34583.9,
          32421.5,
          30364.600000000002,
          28450.100000000002,
          27497.3,
          26245.2,
          26473.3,
          27025.7,
          29003.300000000003,
          30267.2,
          31674.7,
          32884.9,
          34334.4,
          35689.200000000004,
          37325.200000000004,
          38245.5,
          38265.5,
          37846.3,
          37793.6,
          37564.8,
          37405.4,
          35851.9,
          35638.1,
          35406.5,
          34278,
          32093,
          30553.8,
          28971.7,
          27118.5,
          26804,
          26792.7,
          26902,
          28427.8,
          30441.1,
          32102.9,
          34023,
          36660.6,
          37616.299999999996,
          38037,
          39082.2,
          40826.7,
          40979.5,
          41321.9,
          38762,
          37454.9,
          35642.5,
          34580.3,
          34323,
          33856.3,
          32074.8,
          30762,
          29046.8,
          28366,
          27193,
          26325.3,
          25837.3,
          25725.1,
          25545.3,
          26882.699999999997,
          29477.3,
          31371.899999999998,
          32459.1,
          33417.5,
          33985.7,
          34160.2,
          34359.8,
          34390.700000000004,
          33251.4,
          32121.3,
          32016.100000000002,
          32089.4,
          31894.7,
          32583.9,
          31070.9,
          28970.2,
          26968.1,
          26193.4,
          25509.399999999998,
          24597.9,
          24901.5,
          24686.8,
          24410.9,
          25585.7,
          27635.7,
          29425.6,
          30759.8,
          32234.2,
          32097.100000000002,
          31857.2,
          31010.9,
          31907.7,
          31999,
          30901.8,
          29739.7,
          29785.7,
          29652.3,
          30798.600000000002,
          29127.2,
          27564.8,
          26493.5,
          25692.3,
          25037.100000000002,
          24866.600000000002,
          25012.4,
          27369,
          29430.2,
          31147.2,
          32313.6,
          32906.4,
          34124.4,
          34917.9,
          35813.2,
          35776.7,
          34976,
          34319,
          33999.5,
          32983.4,
          33172.2,
          32317.2,
          31795.4,
          31566.6,
          29367.7,
          28738.1,
          26472.399999999998,
          25988,
          25155.9,
          25444.1,
          25627.9,
          27227.1,
          29793,
          31417.1,
          31909.6,
          33355.299999999996,
          35043.7,
          35972.1,
          36079.5,
          36192.8,
          36179.2,
          36214.8,
          37265.4,
          34653.5,
          33924.9,
          33802.1,
          33318.7,
          32948.6,
          30769.2,
          29962.1,
          28942.2,
          27229,
          26369,
          25943.6,
          26001.6,
          27009.8,
          28726.7,
          30488.399999999998,
          31694.1,
          33186.9,
          34572.4,
          35712.4,
          35964.4,
          36199.5,
          36468.700000000004,
          35706.200000000004,
          35436.6,
          35807.1,
          35175.9,
          34174.2,
          33315.6,
          33505.4,
          31841.2,
          30582.5,
          28960.7,
          27635.5,
          26823.5,
          26083.3,
          26088.2,
          27609.600000000002,
          29135.5,
          31069.399999999998,
          32740.8,
          34819.1,
          35786.5,
          37061.4,
          38180.8,
          38451.299999999996,
          38166.9,
          37401.5,
          36996.5,
          36368,
          35326.2,
          33529.799999999996,
          33915,
          34179.9,
          31003.2,
          30158.6,
          28679.7,
          26654.399999999998,
          26566,
          27206.6,
          27838.1,
          28850.1,
          29698.8,
          31498.5,
          33128.6,
          34810.7,
          35968.4,
          37481.5,
          37622.8,
          37044.1,
          37210.1,
          36338.5,
          36309.299999999996,
          36791.2,
          35715.4,
          33257.7,
          32124.1,
          32253.1,
          30628.7,
          30191.4,
          28771.9,
          27913.1,
          27165.8,
          26053.399999999998,
          25720.9,
          25490.1,
          25884.3,
          27534.3,
          30666,
          33131.7,
          34256.8,
          35512.1,
          36098.4,
          36001.700000000004,
          36123.9,
          36932,
          34817.6,
          33727,
          31295.9,
          30044.6,
          29792.8,
          30358.6,
          29662.5,
          27269.4,
          25906.7,
          25215.2,
          24429.4,
          23915.7,
          23682.9,
          23830.7,
          23743.1,
          24726.9,
          27283.6,
          29605.7,
          30492.7,
          31548.4,
          31521.1,
          31506.3,
          31470.2,
          31240.2,
          30572.5,
          30201.9,
          28425.2,
          28460.2,
          28517.7,
          30022.5,
          28746.4,
          27109.2,
          25930.1,
          24633.899999999998,
          23966.9,
          23910.1,
          24289,
          25870.2,
          27664.2,
          28635,
          30241.1,
          31472.3,
          32368.3,
          33154.2,
          33595.8,
          33582.4,
          33311.8,
          33167.7,
          31928.4,
          31995.3,
          31051,
          30427.7,
          31266.1,
          31582,
          30419.5,
          28730.6,
          27718.9,
          26659.9,
          26041,
          25966.4,
          25843.4,
          25915.4,
          27225.3,
          28925.5,
          30617.800000000003,
          31716.3,
          33042.8,
          33644,
          34386.8,
          34667.9,
          34122.7,
          33325.9,
          32991.9,
          32689.1,
          31531.3,
          30476.2,
          32181.100000000002,
          31821.300000000003,
          30130.6,
          27483.100000000002,
          26218.8,
          24902.9,
          24179.5,
          24037.6,
          24567.6,
          26443.3,
          27850.2,
          29376.5,
          31039.7,
          32718.5,
          34020.299999999996,
          35006.7,
          35879.5,
          35486.1,
          36544.7,
          35276.2,
          33914.2,
          33123.7,
          32185.8,
          30765.3,
          31019.9,
          30974.4,
          28722.9,
          28303.2,
          26395.1,
          25536.1,
          25025.4,
          24768.1,
          25130.2,
          26212.199999999997,
          28041.6,
          29162.7,
          30528.3,
          32918.1,
          35303.5,
          35931.2,
          36247.6,
          36407,
          36606.7,
          35961.9,
          35522.7,
          33881.8,
          33569.4,
          31761.5,
          32058.8,
          32550.7,
          31324,
          29599.899999999998,
          28843.8,
          26865.8,
          26271.3,
          26085.8,
          26483.2,
          27347.3,
          28177.2,
          29099.5,
          31069.7,
          33216.1,
          34667.7,
          35792,
          36379.5,
          35575.1,
          35032.5,
          34771.6,
          34708.5,
          34102.3,
          33404.5,
          32495.1,
          32344.2,
          32437.699999999997,
          30450.3,
          29139.5,
          28324.7,
          27305.3,
          26348.8,
          25512.6,
          25175.7,
          25205.1,
          25233.6,
          26708.8,
          29734.600000000002,
          31896.7,
          33700.2,
          34894.2,
          36182.9,
          36532.3,
          36338.6,
          35793.3,
          35132.3,
          33281.5,
          31569.300000000003,
          29891.2,
          30897.4,
          30794.1,
          28211.6,
          26350.4,
          25416.899999999998,
          24788.7,
          23688.2,
          23015.3,
          23079.2,
          23124,
          22979.8,
          23893,
          26394,
          28802.5,
          29606.699999999997,
          30906.6,
          30769.5,
          30443.899999999998,
          30304,
          30164.199999999997,
          29466.3,
          28589.1,
          27489.8,
          27562.5,
          29451.1,
          29743,
          28414.1,
          26910.5,
          25790.3,
          24697.9,
          24341.9,
          24259.4,
          24293.4,
          24792.399999999998,
          26477.9,
          28157.1,
          29600.7,
          31465.8,
          32675,
          33658.4,
          34284.1,
          34369.7,
          33941.6,
          33608.3,
          32559.100000000002,
          31859.4,
          30855.3,
          31110.6,
          31063.7,
          30227.5,
          28610.5,
          27827.199999999997,
          26814.2,
          25765.1,
          25035.9,
          25002.899999999998,
          24633.2,
          25690.2,
          27047.2,
          27914.3,
          30345.899999999998,
          32530.8,
          33217.5,
          33912,
          35014.2,
          35186.299999999996,
          35667.4,
          35205.2,
          34779,
          34258.3,
          31390.6,
          32090.6,
          32517.7,
          32036.5,
          29941.8,
          28460.8,
          26422.7,
          25799.5,
          25017.9,
          25148.6,
          25232.899999999998,
          26888.8,
          28748.2,
          29547.3,
          30655.2,
          32122.4,
          33586.6,
          34738.7,
          35592.9,
          36430.5,
          36308.8,
          36350.8,
          35089.7,
          33412,
          34346.5,
          33407.2,
          33327.8,
          34627.2,
          30865.1,
          28139.2,
          26653.3,
          25785.5,
          24621.9,
          24557.2,
          24779.5,
          26043.600000000002,
          28067,
          29788.8,
          31468.8,
          33490,
          34319,
          36375.3,
          37436.7,
          37695,
          38151,
          36965.6,
          36469.9,
          34188.700000000004,
          36014.700000000004,
          34431.1,
          34954.4,
          34626,
          33086.6,
          30786.6,
          30102.2,
          28743.7,
          28012.2,
          26827.1,
          27013.9,
          27658.1,
          28868.8,
          29574.100000000002,
          32050.600000000002,
          34291.5,
          35590.700000000004,
          36524.4,
          37087,
          37573.5,
          37610.6,
          37295.9,
          36770.200000000004,
          36119.8,
          35389.7,
          34727.6,
          35204.6,
          34944.4,
          32559.4,
          30506.2,
          28289,
          27732.8,
          27174.7,
          27150.7,
          26669.2,
          26940.600000000002,
          26234.399999999998,
          27148.2,
          29933.4,
          32312.6,
          33867.9,
          35822.8,
          36631.3,
          37144.7,
          37072.1,
          36432.8,
          35072.3,
          34893,
          33730.2,
          33012.5,
          33028,
          33423.6,
          31645.2,
          30731.1,
          27932.2,
          26835.2,
          26080.5,
          25447.100000000002,
          24578.3,
          24054.1,
          24183.4,
          24972.7,
          26605.3,
          28413.7,
          31023.1,
          32717,
          34365.6,
          34538.700000000004,
          34951.8,
          35643.1,
          35167.7,
          34414.8,
          33034.7,
          32404.899999999998,
          32999.9,
          33135.7,
          32699.7,
          30567.1,
          29174.4,
          29039.8,
          29112.9,
          28224.600000000002,
          28518.8,
          28821.4,
          30074.399999999998,
          30158.8,
          32483.199999999997,
          34310.1,
          36072.6,
          37708,
          38421.4,
          37942.1,
          38569.3,
          38231.2,
          38295.4,
          38198.9,
          36963,
          35639.2,
          35874.1,
          35409.1,
          32914.7,
          30521.5,
          30218.399999999998,
          29539,
          29157.1,
          28752.9,
          28605,
          29101.6,
          29421.8,
          30775.8,
          33596.4,
          35174.7,
          35661,
          36945.7,
          36528.5,
          36967.6,
          37206.9,
          37398.5,
          37116,
          36012.3,
          34275.6,
          35610.4,
          36340.9,
          35435.1,
          32894.2,
          30284.5,
          29044.100000000002,
          28028.5,
          27250.4,
          27138.5,
          27794.1,
          28805.8,
          29207.9,
          30780.5,
          32590.4,
          34150.5,
          35028.700000000004,
          36088.3,
          37019,
          36235.9,
          35581.8,
          35381.5,
          34766.5,
          34244.4,
          33010.1,
          32965.6,
          33807.700000000004,
          33123.1,
          31746.7,
          31065.8,
          29849.7,
          28415.300000000003,
          27701,
          27589.399999999998,
          27554.600000000002,
          28111.100000000002,
          27907.1,
          28596.9,
          30591.6,
          33113.9,
          33975.3,
          35174.3,
          34541.7,
          34607.4,
          34682.7,
          34418.2,
          33780.2,
          33480.3,
          32155.5,
          31121.5,
          32054.8,
          31654.6,
          30046.7,
          29008.8,
          27139.5,
          26156.8,
          25295.5,
          25587.2,
          25395.8,
          25922.699999999997,
          27042.8,
          27942.4,
          29360.3,
          31650.3,
          33149.1,
          34384.8,
          35054.299999999996,
          34873.4,
          34865.6,
          34396,
          33729,
          32808.1,
          30628,
          30790.8,
          31890.8,
          31096.3,
          29516.7,
          28265,
          27490,
          25818.9,
          24816.4,
          24702.6,
          24362.8,
          24510.7,
          24757.2,
          25636.3,
          27381.9,
          30016.1,
          30878.399999999998,
          31657.1,
          32259.3,
          32312.8,
          32850.8,
          32338.5,
          30660,
          30444.7,
          30687.6,
          30662.8,
          31716,
          31066.8,
          29714,
          27379.600000000002,
          26675.2,
          25578.8,
          24390.4,
          24158.9,
          24172,
          24162.5,
          23932.2,
          24461.9,
          26662.2,
          28344.9,
          29199.800000000003,
          30099.399999999998,
          31214.6,
          31200.7,
          31840.8,
          32106.9,
          31129.5,
          31479,
          30376.4,
          30878.9,
          32427.2,
          32778.2,
          31710.5,
          30067,
          29629.2,
          28025.199999999997,
          27308.899999999998,
          27539.4,
          27348,
          27996.6,
          28319.9,
          29272,
          31231.3,
          33798.3,
          35509.5,
          36444.7,
          38507.6,
          38259.3,
          37769.7,
          37187,
          36851.8,
          35994.4,
          35499.200000000004,
          34468.9,
          34784.3,
          33691.6,
          32083.5,
          31210.4,
          30374,
          28822.8,
          28047.2,
          28114.7,
          28261.1,
          29158.300000000003,
          29637.5,
          30633,
          33295.6,
          34667.1,
          35350.6,
          36314.9,
          37727.5,
          38229.4,
          37699.1,
          37043.5,
          36568.9,
          35621,
          35091.5,
          34864.3,
          35374.8,
          34629.600000000006,
          32106.5,
          29204.4,
          28253.2,
          26810.9,
          26303.7,
          25352.8,
          24758.2,
          26933.3,
          28601.7,
          29573.8,
          31283.3,
          32850.799999999996,
          34106.3,
          35005.6,
          36123.9,
          35385.2,
          34513,
          33645.3,
          33423.4,
          32748.6,
          32353.3,
          32400.4,
          33259.7,
          31655.7,
          30496.8,
          27961.3,
          26577.4,
          25603.7,
          25080.6,
          25034.5,
          25346.899999999998,
          26575.1,
          28399.2,
          31349.5,
          32832.6,
          34736.2,
          35117.9,
          35026,
          35661,
          35606.7,
          35934.9,
          35323.1,
          34652.1,
          33339.9,
          32227.8,
          32477.6,
          33258.2,
          31826.4,
          30116.100000000002,
          28717.1,
          27699.8,
          26868.2,
          26348,
          26222.5,
          26301,
          27905.7,
          29131.5,
          30217.3,
          31377.3,
          33383.299999999996,
          33976.3,
          35140.1,
          35845.3,
          36525.8,
          36395.6,
          36339.4,
          35465.4,
          35250.8,
          33681.4,
          33493.8,
          33690.3,
          32002.6,
          29964,
          28717.100000000002,
          27914.3,
          26940.5,
          26641.2,
          26116.7,
          25649.1,
          25778.1,
          26025.8,
          27241.1,
          28830.4,
          30723.8,
          32194.6,
          33826.1,
          34101.2,
          34132.700000000004,
          34409.4,
          33975.9,
          33850.8,
          33586.5,
          32189.5,
          32151.3,
          32467.7,
          32123.7,
          30262.600000000002,
          28043.4,
          27592.2,
          26359.7,
          25292.600000000002,
          25212.9,
          24923.5,
          24035.6,
          23922.9,
          24215.9,
          25912.5,
          28667.5,
          29757.3,
          31166,
          31092,
          31157.2,
          31338.7,
          30925.3,
          30248.7,
          29309.2,
          29303,
          29865.800000000003,
          31469.6,
          32111.9,
          30203,
          27985.899999999998,
          26990.6,
          25829.5,
          24806,
          24539.5,
          24589.2,
          26472.8,
          28285.3,
          29779.8,
          31492.2,
          33295.8,
          34774.700000000004,
          34805.5,
          35171.9,
          35331.2,
          34347.2,
          33924.6,
          33194.799999999996,
          33240.2,
          31557,
          31242.2,
          33586.7,
          32394.6,
          30989.8,
          28768.8,
          27545.5,
          26838.9,
          26234.9,
          25813.2,
          25433.1,
          26505.8,
          28920.9,
          30283,
          31707.6,
          33111.6,
          34522.200000000004,
          36901.1,
          37590.8,
          36916.8,
          36534.7,
          36092.5,
          35149.6,
          33850.6,
          32921.4,
          32912.3,
          34149.4,
          32721.8,
          30981.5,
          28424.1,
          27660.4,
          26640.9,
          26306.9,
          26646.3,
          26351.6,
          26909.5,
          29080.2,
          30618.8,
          31769.7,
          33178.3,
          33981.6,
          35995.200000000004,
          36726.8,
          36475.5,
          35696.4,
          35652.1,
          34313.9,
          31832.5,
          31171.600000000002,
          31246.6,
          32414.7,
          30708.5,
          28817.4,
          26848,
          25654.6,
          25997.8,
          25537,
          25313.399999999998,
          25922.8,
          27492.6,
          29258.2,
          30419.3,
          31491.1,
          32168.7,
          33043.4,
          34171,
          34805.6,
          34500.5,
          34014.2,
          33461.3,
          33097.4,
          32798,
          31579,
          31847,
          32529.5,
          30887.5,
          28891.899999999998,
          27908,
          27316.1,
          25934.399999999998,
          25205.8,
          24710.1,
          24957.5,
          26767.1,
          28680.2,
          30022,
          31371,
          32869.1,
          34357.8,
          34861.9,
          35026.5,
          34901,
          34354.9,
          34470.200000000004,
          34271.3,
          32337.1,
          30844.2,
          31393.4,
          32605.4,
          30595.600000000002,
          28687.600000000002,
          27571.7,
          26547.2,
          25859,
          24886.9,
          24750,
          24563.9,
          24529.2,
          24645.2,
          26061.3,
          28536.7,
          30444.5,
          31620.3,
          32182.4,
          32442.7,
          33234.9,
          32589.9,
          32366.100000000002,
          31511.8,
          30195.9,
          30380.5,
          30098.5,
          31494.9,
          30841.800000000003,
          29869.8,
          28109.399999999998,
          26334.9,
          25149.2,
          24183,
          23996.1,
          23808.4,
          23736.8,
          23494.699999999997,
          24580.1,
          26469.5,
          28901.2,
          30773.4,
          31869.3,
          32069,
          32468.199999999997,
          31956.1,
          31649.899999999998,
          31115.6,
          30490.9,
          30576.199999999997,
          31718.6,
          32604.899999999998,
          32188.4,
          30768.899999999998,
          27842.9,
          26672.300000000003,
          25887.3,
          25198.7,
          25684.5,
          26357.2,
          26937.4,
          28655.2,
          30159.4,
          32916,
          34496.8,
          35270.3,
          35710.1,
          36877.6,
          36884.4,
          36581.2,
          36067.700000000004,
          35002.4,
          34077.700000000004,
          34106.700000000004,
          33340.3,
          35621.8,
          33844.6,
          31425.7,
          29210,
          27510,
          26901.7,
          27018.7,
          27165.6,
          26230.899999999998,
          27556.3,
          29422.7,
          30712.6,
          33723.9,
          35976.299999999996,
          37528.8,
          37493.9,
          37675.799999999996,
          38148,
          37264.1,
          37319.6,
          36404.4,
          36339.1,
          34243.6,
          33712.1,
          35886.8,
          33725,
          31610.100000000002,
          29216,
          27455.5,
          26706.6,
          25764,
          25221.2,
          26080.3,
          28105.3,
          30069.7,
          30875.7,
          33972.1,
          35348.8,
          35424.3,
          36992.4,
          36648.3,
          36420.6,
          36297.700000000004,
          35460.6,
          34838.8,
          34349.4,
          33838.3,
          33384.5,
          34203.5,
          32430.2,
          30160.4,
          29402.8,
          28832.7,
          27513.9,
          27004.7,
          26907.7,
          27249.2,
          29239,
          30129.7,
          31574.699999999997,
          34895.6,
          35009,
          35591.4,
          36086.5,
          35778.5,
          35795.5,
          34670.2,
          35007.6,
          33875.1,
          33696.5,
          32545.7,
          32682,
          32964,
          31387.699999999997,
          29574.2,
          27982.6,
          26256.6,
          25378.2,
          25253.5,
          25986.699999999997,
          26551.6,
          28303.3,
          30495.5,
          31794,
          33366.3,
          34112.8,
          34904.7,
          36184.2,
          36310.5,
          35552.799999999996,
          34657.2,
          34525.299999999996,
          33864.2,
          33163,
          31605,
          32152.4,
          32751,
          31311.3,
          29241.7,
          27850,
          26910.9,
          26321.7,
          25682.199999999997,
          25171.8,
          24931.7,
          24615.1,
          24873.3,
          25615.5,
          27556.2,
          29344.8,
          30382.2,
          31010.399999999998,
          31685.9,
          31483.6,
          31185.2,
          30796.100000000002,
          30642.8,
          29702.1,
          29026,
          29246.8,
          31581.3,
          29627.3,
          27764.3,
          25835.9,
          24947.5,
          24428,
          23722.6,
          23561.2,
          23591.2,
          23458.2,
          23806.7,
          24293.7,
          25690.7,
          27629.600000000002,
          29363.5,
          31515.7,
          31884.9,
          31686.5,
          31952.300000000003,
          31128.7,
          30483.4,
          29919.600000000002,
          30125.3,
          30751.9,
          32711.3,
          31574.2,
          30318,
          28626.9,
          26554.600000000002,
          25220.7,
          25015,
          25360.2,
          25700.2,
          26966.3,
          28844.6,
          30516.399999999998,
          32334,
          34409.6,
          34832.6,
          34649.8,
          35107.299999999996,
          35148.9,
          34438.8,
          35183.3,
          34034.8,
          33969.299999999996,
          33871.7,
          34382.8,
          34870.1,
          32267.5,
          29212.5,
          28059.5,
          28114.5,
          27382,
          27357.6,
          27617.6,
          27163.7,
          29188.6,
          30564.800000000003,
          31986.1,
          34806.2,
          35665.2,
          36468.9,
          36469.5,
          36419,
          35573.299999999996,
          35741.2,
          36435.9,
          36344.8,
          34718.3,
          33579.3,
          35114.1,
          34226.7,
          33203.6,
          30891.899999999998,
          28588.9,
          27618.5,
          26780.2,
          26132.1,
          25687.5,
          26892.7,
          28909,
          32475.8,
          33780,
          35335.9,
          35204.6,
          35112.8,
          35635.3,
          35746.6,
          35976.2,
          36099.1,
          36014.6,
          35161.3,
          35066.299999999996,
          34653.5,
          36095,
          34243.9,
          31416,
          28918.9,
          26608.2,
          25470.5,
          24816.7,
          24789.1,
          24733.9,
          25384.8,
          26851.3,
          29990.2,
          31570.6,
          32851,
          34334.4,
          34748.7,
          35040.7,
          35388,
          34473.5,
          34023.6,
          33574.2,
          34396.9,
          32271.4,
          32520.7,
          32738.4,
          32605,
          30282.600000000002,
          28570.4,
          27569.600000000002,
          26118.1,
          25473.7,
          24983.2,
          24981.8,
          25453.6,
          26731.1,
          28992.1,
          30969.5,
          31821.6,
          33065.4,
          33434,
          34499.6,
          35281.6,
          34766.1,
          34540.7,
          32396.399999999998,
          32439.399999999998,
          32098.399999999998,
          31169.1,
          32147.5,
          31976.8,
          29934.1,
          28717.7,
          27183.6,
          25667.5,
          24853,
          24066.1,
          23967.899999999998,
          23778.7,
          24065.9,
          24407.8,
          25301,
          27047.2,
          29353.6,
          31332.1,
          32123,
          31872.4,
          33020.799999999996,
          32542.5,
          32022.7,
          30991.9,
          29696.3,
          27688,
          30019.3,
          30343,
          28535.8,
          27279.2,
          25441.3,
          24055.1,
          23123.7,
          22353.3,
          22311.8,
          22243.5,
          22813.7,
          22752.899999999998,
          24292.5,
          26782.2,
          28914.7,
          30436.2,
          31642.6,
          32267.7,
          32535.399999999998,
          31829.7,
          30379.7,
          29654.7,
          28799.4,
          27719.3,
          28600.7,
          29954.8,
          28496,
          27057.1,
          25385.6,
          24591.3,
          24080.3,
          23989.6,
          24307.2,
          25321.1,
          25751.3,
          28302.3,
          29962.5,
          31655.5,
          32901.9,
          34092.7,
          34571.5,
          34418.8,
          34472.9,
          34624.2,
          33926.4,
          33292.8,
          32011.4,
          30848.5,
          30674.5,
          31914.2,
          30492.7,
          28761.3,
          27476.8,
          26434.2,
          26059.699999999997,
          25874.3,
          25590,
          25333.300000000003,
          25468.6,
          28931.399999999998,
          30619.2,
          30229.2,
          31813.8,
          32677.1,
          32459.1,
          33482.5,
          33453.1,
          33284.3,
          31723,
          32716.5,
          33038.2,
          30367.3,
          32457.2,
          32627.800000000003,
          30983,
          28212.9,
          25977,
          24689.8,
          23961.8,
          23393.5,
          23465.8,
          24041.9,
          25815.2,
          28086.3,
          29008.2,
          30507,
          30422.800000000003,
          31667.5,
          32072.8,
          32340.300000000003,
          32736.600000000002,
          32611.7,
          31778.8,
          30839.1,
          29917.4,
          30422.5,
          31620.4,
          32055.9,
          29303.8,
          26713.5,
          25619.9,
          24705.3,
          25166.9,
          25374.7,
          25275.3,
          25189.5,
          25572.3,
          28405.899999999998,
          29630.2,
          30637.5,
          30842.6,
          31401.8,
          32091.1,
          32627.4,
          33046.200000000004,
          33031.7,
          32756.5,
          32028.2,
          32620.1,
          30083.2,
          31666.1,
          31970.600000000002,
          30127,
          28609.4,
          27301.3,
          26639.2,
          25281,
          24408.5,
          24167.100000000002,
          24504.7,
          26443.2,
          29854.2,
          30720.6,
          32036.9,
          32247.4,
          32688.9,
          33177.9,
          32572.5,
          31783,
          30731.3,
          29997.2,
          29302.800000000003,
          30150.5,
          30385.7,
          31322.4,
          31931,
          30591.4,
          28091.7,
          24952.9,
          24232.1,
          23505.2,
          22908.4,
          22312.3,
          22224.9,
          22663.100000000002,
          23523.6,
          24365.3,
          25990.5,
          27925.4,
          29607.9,
          31776.8,
          33150.1,
          33077.4,
          32040.7,
          29813.7,
          29545.399999999998,
          27450.8,
          27087.600000000002,
          28865.1,
          30317.800000000003,
          28632.9,
          28129.7,
          25926.6,
          24706.6,
          23593.5,
          23301.8,
          22886,
          22742.399999999998,
          22840.899999999998,
          23072.899999999998,
          23147.899999999998,
          25088.8,
          27263.2,
          29189.399999999998,
          30986.2,
          30848.3,
          30746.5,
          30726.2,
          30216.4,
          29318.8,
          27594,
          26126.5,
          27655.8,
          28254.6,
          27474.600000000002,
          26256.8,
          24700.7,
          24596.3,
          24742.2,
          25042.199999999997,
          24665.8,
          24349.5,
          24446.7,
          27862.8,
          29160.2,
          30125.7,
          31022.4,
          31578,
          32361.2,
          32696.600000000002,
          32435.2,
          32381.100000000002,
          31888.6,
          31440.2,
          31312.8,
          31241.600000000002,
          32671,
          32486,
          30003.3,
          27847.1,
          25306.2,
          24377.8,
          23963.9,
          23179.1,
          23200.1,
          23722.7,
          25723,
          29106.7,
          30122.8,
          30528,
          30436.8,
          31827.2,
          32776.2,
          33288.3,
          32565.3,
          31805.600000000002,
          32284.9,
          30676.1,
          30721.2,
          31199,
          33941.6,
          32510.100000000002,
          30899.8,
          27769.2,
          26680.7,
          24979.5,
          24027.3,
          24188,
          23694.8,
          23344.9,
          25989.5,
          28562.8,
          30078.6,
          30544.100000000002,
          30895.2,
          32326.399999999998,
          33298.1,
          33149.4,
          33107.1,
          33258.6,
          32950,
          32840.1,
          31797.3,
          30402.6,
          32311.8,
          32299.8,
          29937.6,
          28447.8,
          27157.3,
          26087.4,
          25840.8,
          25354,
          25085.3,
          24926.8,
          26259.9,
          29037.7,
          29982.4,
          31185.9,
          31889.5,
          32517.8,
          34121.2,
          33756.6,
          33444.4,
          33106.4,
          32817.8,
          31726.9,
          30596.3,
          31208.4,
          32811.6,
          32584.4,
          30663.7,
          28457.2,
          25574.2,
          24560.9,
          23975,
          23546.9,
          23846.2,
          24328.5,
          25817.2,
          29623.8,
          30737.4,
          31383.6,
          32240.6,
          32330,
          33497.8,
          33600,
          33395.9,
          32825.9,
          32102,
          31344.600000000002,
          32171.9,
          31766.7,
          33410.2,
          33007.8,
          30711.7,
          28568.4,
          26331.6,
          25118.4,
          24339.7,
          23519.7,
          22766.5,
          22744.3,
          22937.7,
          24072.4,
          24722.399999999998,
          26731.7,
          29295.8,
          31555.5,
          33475.5,
          34754.8,
          34193.2,
          33264.6,
          32525,
          32303.3,
          31776.2,
          30112.100000000002,
          30784.5,
          30628.7,
          28992.3,
          29807.2,
          27382,
          26380.300000000003,
          25347.899999999998,
          25067.4,
          25028.9,
          24935.3,
          24662,
          24046.7,
          24514.2,
          25962.2,
          27163.600000000002,
          28455.9,
          30041.7,
          30362.300000000003,
          30237.5,
          30033.1,
          27932.9,
          26639.7,
          26513.2,
          26532.1,
          27539.600000000002,
          28889.4,
          27877.3,
          27480.1,
          25876.7,
          24789.5,
          24912.3,
          24391.5,
          24848.3,
          24996.899999999998,
          25915.7,
          28244.399999999998,
          28490.9,
          30499.1,
          33317.6,
          34256.4,
          34402.9,
          34051.4,
          33993,
          33831.7,
          32173.2,
          31469,
          29218.8,
          29067.1,
          31028.399999999998,
          31088.2,
          29303.7,
          27360.1,
          26504.2,
          25118.8,
          25092,
          25408.9,
          25198.8,
          25608.300000000003,
          26434.2,
          29037,
          29865.4,
          31034.1,
          32216.8,
          32998.4,
          35187.8,
          34827.6,
          34463.6,
          34413.9,
          33899.6,
          33328.9,
          32915.3,
          31438.3,
          32343.1,
          31817.7,
          29925.399999999998,
          28435.7,
          25641.5,
          24275.899999999998,
          24002.899999999998,
          23726.4,
          23639,
          24094.3,
          26274.2,
          28901.100000000002,
          31184.4,
          31692.4,
          32669.3,
          34077,
          34679.6,
          36375.8,
          35210.1,
          33954.2,
          33469.6,
          31497.6,
          30689.7,
          30918.600000000002,
          34018.7,
          33143.7,
          31679,
          29978.7,
          27118.6,
          25663.2,
          24696,
          24225.2,
          24614.6,
          25404.6,
          28392.7,
          29394.8,
          30854.2,
          31778.100000000002,
          31801.8,
          33415.2,
          34000.2,
          34246.8,
          33754.6,
          32665.8,
          32359.300000000003,
          31363.2,
          30084.9,
          30537.8,
          33078.1,
          32446.7,
          29678.399999999998,
          27471.1,
          25617.5,
          24822.7,
          24160.2,
          24091.6,
          24243.9,
          24397.2,
          26632.199999999997,
          30785.6,
          31583.7,
          31732.6,
          30798.399999999998,
          31506.7,
          32734.600000000002,
          32852.9,
          33182.5,
          32444.5,
          31471.6,
          30175.5,
          29452.8,
          29415.399999999998,
          32595,
          30895.2,
          29043.3,
          27354,
          25481.2,
          24585.7,
          23634.600000000002,
          23858.4,
          24701.2,
          24383.5,
          24595.7,
          25200.8,
          25259.5,
          26204.1,
          28373,
          29370.6,
          30073,
          30600,
          30375.9,
          30059.9,
          29858,
          28514.8,
          27754.7,
          27726,
          29225,
          29153.9,
          27940.100000000002,
          27722.5,
          26785,
          25871.7,
          25407,
          25458.1,
          25200.6,
          24996.100000000002,
          24531.9,
          24678.1,
          24822.2,
          27348.6,
          29238.1,
          29827.100000000002,
          30604.800000000003,
          30670.3,
          29946.9,
          29934.399999999998,
          29806.8,
          28863.2,
          26621.2,
          27193.8,
          28631,
          28894.1,
          27869.5,
          27622.2,
          25316.8,
          25239.2,
          25094.4,
          24458,
          24194.5,
          24058,
          23865,
          25061.2,
          26550.6,
          26983.6,
          28373.4,
          29291.2,
          29948.9,
          31060,
          30785.4,
          31037.9,
          30933.5,
          29493.600000000002,
          28476.9,
          27618.1,
          30285.3,
          30141.6,
          27808.3,
          25891.2,
          25706.600000000002,
          25395.600000000002,
          24468.7,
          23549.6,
          23511.9,
          23783.5,
          24158.4,
          24103.5,
          23808,
          25120.7,
          27389.7,
          28988.2,
          30015.5,
          30305.7,
          31045.9,
          30798.1,
          29955.8,
          29533.6,
          28006.9,
          27396.4,
          30561.100000000002,
          30754.9,
          29163.7,
          28461.5,
          26939.300000000003,
          26194.6,
          25476.3,
          25711.9,
          24975.9,
          24773.199999999997,
          25291,
          27989.4,
          29581.3,
          29953.6,
          31251.2,
          32044.2,
          32218.1,
          32421.9,
          33149.700000000004,
          32573,
          31938,
          30540.9,
          28816.7,
          29320.1,
          32716.7,
          32247,
          31004,
          28121.8,
          25796,
          25089.199999999997,
          24243.8,
          24152.1,
          24133.5,
          24323.8,
          26252.899999999998,
          28404.7,
          30644.1,
          30928,
          31752.1,
          31827.8,
          33278.8,
          33288,
          33645.2,
          32681.399999999998,
          32119.4,
          31427.3,
          29897.2,
          29858.3,
          32112.9,
          31588.8,
          29095.4,
          27426,
          25347.8,
          24994,
          23894.2,
          24103.8,
          23972.2,
          23386.7,
          24968,
          28444.3,
          29835.3,
          30545,
          31077.2,
          31259.8,
          32112.3,
          33468.8,
          32379.5,
          31406.100000000002,
          30409.7,
          29409.600000000002,
          29050.3,
          31390.5,
          31574.6,
          30464.5,
          27870.4,
          26615.8,
          25257.6,
          23578.3,
          22766.1,
          22286.8,
          21985.6,
          21994.6,
          22117.5,
          23326.3,
          24076.2,
          26567.5,
          27911.3,
          29035.5,
          29439.8,
          29272.7,
          28923.6,
          29096.1,
          28092.3,
          27837.7,
          25565.7,
          25980.8,
          28374.600000000002,
          27864.899999999998,
          25527,
          24206,
          23173.7,
          22918.1,
          22501.5,
          22480.1,
          22325.3,
          22036.2,
          22549.9,
          22135.6,
          23195.1,
          24618.1,
          26027.399999999998,
          27641.3,
          28409.5,
          28639.8,
          28889.6,
          28366.6,
          27090.8,
          26090.3,
          24637,
          25525,
          28091.600000000002,
          28094.6,
          26736.7,
          25539.3,
          23761.7,
          23567.3,
          23311.1,
          23254.1,
          23553.8,
          24110.5,
          26301.6,
          29537.5,
          30760.100000000002,
          30977.1,
          31878.800000000003,
          32502,
          33602.9,
          34041.2,
          33271.4,
          32933.1,
          31585.9,
          30810.9,
          29485.1,
          30181.7,
          32075,
          30938.3,
          28735.7,
          26109.9,
          25102,
          25099.3,
          24936.9,
          24996.5,
          25403.6,
          25482.3,
          26342.4,
          28695.4,
          30380.899999999998,
          31250.5,
          31686.600000000002,
          32586.8,
          33256.7,
          35160.6,
          35036.3,
          34787.200000000004,
          34594,
          33609.3,
          31420.300000000003,
          32488.2,
          33856.9,
          32838.8,
          30139.9,
          29690.399999999998,
          28211.399999999998,
          27519.6,
          26976.3,
          26351.9,
          25716.899999999998,
          24743.1,
          25969.5,
          28878.9,
          30106.9,
          30963.3,
          30951,
          32104.5,
          35268.5,
          36114.8,
          35606.799999999996,
          35729.799999999996,
          36077.1,
          34680.3,
          33664.2,
          31535.8,
          31929.2,
          30974.1,
          28826.8,
          26586.4,
          25130.9,
          24430.1,
          23531,
          23212.8,
          23188.3,
          23672.5,
          26319.5,
          29220.8,
          29786.2,
          30643.7,
          32285,
          34192.7,
          33288.7,
          32896.9,
          33322.8,
          33397.3,
          33058.4,
          31391.600000000002,
          30102.6,
          30962.399999999998,
          32734.2,
          31304.7,
          29488.6,
          26514.2,
          24897.3,
          24615,
          24294.9,
          23476.2,
          23849.3,
          24476.1,
          25904.4,
          29508.4,
          31411.9,
          32285.4,
          31827.4,
          32243,
          32624.4,
          32889.1,
          33327.7,
          33731.7,
          32600.8,
          31461.3,
          29033.3,
          30078.4,
          31338.8,
          30720.7,
          28350.8,
          26173.5,
          25522,
          24663.4,
          24757.6,
          24322.2,
          23462.8,
          23150.8,
          22547.5,
          23906,
          25779.7,
          26747.8,
          28227.3,
          28788.1,
          28738.6,
          30453.3,
          29900.4,
          29808.4,
          29114,
          26463,
          25732.5,
          27375.2,
          28274.2,
          27556.4,
          26048.9,
          25138.2,
          22976.7,
          22237.3,
          21420,
          21064.2,
          20967,
          21151.4,
          22008.1,
          21343.3,
          22142.1,
          23934.4,
          27929.6,
          29328.2,
          30129.600000000002,
          29866.7,
          29893.7,
          29665.9,
          29025.8,
          26799.8,
          25330.3,
          26047.5,
          27455.6,
          28168.3,
          26330.199999999997,
          24949.4,
          23221.6,
          22809.2,
          22135.399999999998,
          21998.8,
          21813.7,
          22533.4,
          24808.1,
          27153.8,
          29929.3,
          30641.6,
          31106.6,
          31739.800000000003,
          33027.3,
          32961,
          32140.5,
          31577.5,
          31119,
          30469,
          29290.4,
          30253.300000000003,
          32286.6,
          32102.5,
          31118.3,
          27905.6,
          26584.2,
          25278.5,
          24887.8,
          24621.6,
          25036.6,
          24719.5,
          26485,
          29323.699999999997,
          30845.7,
          31577.7,
          32984,
          33424.7,
          33620.2,
          33642.7,
          33720.5,
          33708.6,
          32729.8,
          31408.7,
          30306.1,
          30952.2,
          33080.5,
          33018.2,
          30772.3,
          28754.7,
          26754.1,
          25603.600000000002,
          24757.1,
          24553.5,
          24304.6,
          24568.1,
          26498.5,
          28871,
          31212,
          32019.2,
          33748.3,
          33912.5,
          33583.5,
          34436.5,
          34242.5,
          35061,
          33754.5,
          32390,
          31290.9,
          31173.600000000002,
          32868.4,
          32801.6,
          30719.8,
          28564.7,
          27808.5,
          26031.2,
          25324.2,
          25611.7,
          25522.7,
          26122.600000000002,
          26760.3,
          30119.100000000002,
          31477.4,
          32530.9,
          33771.5,
          33007.6,
          33679.5,
          33883.7,
          34234.8,
          34729.9,
          33648.4,
          30629.8,
          30964.2,
          32519,
          33088.6,
          33175.8,
          30664.9,
          29656.7,
          28476.4,
          28008.399999999998,
          27157,
          26773.9,
          26206.5,
          26450.3,
          25908.5,
          28926.5,
          30581.7,
          31233.3,
          32220.9,
          32695.8,
          33847.4,
          33775.1,
          33074.1,
          33061.200000000004,
          32754.6,
          32075,
          30412.4,
          31545,
          33425.3,
          33289.7,
          30699.4,
          28764.600000000002,
          27673.6,
          27073.8,
          26817.5,
          26694.9,
          27421,
          27943.1,
          27622.9,
          28026.2,
          27969.3,
          28213.5,
          29591.2,
          31436,
          33044.2,
          32718,
          31730.1,
          31128.1,
          30162.8,
          29279.600000000002,
          29651.6,
          29014.5,
          30029.4,
          29960.100000000002,
          30335.3,
          28361.1,
          25097.6,
          24177.8,
          50856,
          23833.399999999998,
          23706.4,
          24217,
          24543.7,
          25720.699999999997,
          27479.899999999998,
          29007.3,
          29429.600000000002,
          29373.1,
          31011.9,
          31604.3,
          31598,
          30315.8,
          29114,
          27778.2,
          28203.2,
          28585.4,
          29010.8,
          28970.3,
          28047.5,
          26515.3,
          27159,
          26750.6,
          26417.7,
          25988.5,
          24671.5,
          24732.6,
          25304.3,
          26529.7,
          26866.6,
          29003.2,
          29661.899999999998,
          30220.2,
          31078.2,
          32166.7,
          32605.100000000002,
          30350,
          28351.8,
          27678.6,
          28609.5,
          29937,
          31274.6,
          30669.7,
          29642.2,
          28058.7,
          28486.5,
          27756.5,
          27332.2,
          27712.7,
          27793.899999999998,
          27147.8,
          28422.3,
          31035.4,
          32857.3,
          34435.7,
          34149.700000000004,
          34518,
          34916.5,
          34640.4,
          34636.2,
          34496.8,
          33752.9,
          33372.3,
          33872.6,
          34991.1,
          34947,
          34072.4,
          31482,
          30515.4,
          26998.4,
          26957.3,
          26990,
          26512.699999999997,
          27056.9,
          27819.5,
          28906.9,
          32214.7,
          33997.4,
          34006.2,
          34133.4,
          34910.6,
          36322.2,
          38453.6,
          37188.6,
          36640,
          35084.6,
          33192.9,
          34098.1,
          35820.600000000006,
          36000,
          34758.700000000004,
          31357.7,
          30581.9,
          26731.5,
          25666.2,
          25880.7,
          25330.7,
          24770.3,
          24752,
          28636,
          31475.899999999998,
          33966,
          34020.2,
          34246.9,
          33818.7,
          34942.8,
          35738.5,
          35458.6,
          34871.700000000004,
          33852.4,
          33398,
          34423.9,
          35515.799999999996,
          35283.8,
          32612,
          29893.899999999998,
          28339.100000000002,
          26533.4,
          26362.6,
          26751.8,
          26398.8,
          25983,
          26866.4,
          29252.600000000002,
          32523.000000000004,
          34469.1,
          34227.299999999996,
          35546.3,
          35117.8,
          35252,
          35700.6,
          35662.5,
          34649.9,
          33274.6,
          32228.1,
          33425.1,
          35317.2,
          35284.7,
          34037.6,
          31496.8,
          29323.1,
          28651.1,
          27181.9,
          26130.8,
          25130.8,
          24921.5,
          25211.199999999997,
          26242.2,
          26599.399999999998,
          29080.3,
          30865.5,
          33203.299999999996,
          33973.4,
          34627.8,
          35366.6,
          35223.4,
          34949.2,
          33180.5,
          31956.1,
          31996.1,
          34056.9,
          33156.4,
          33437.3,
          31821.100000000002,
          29488.600000000002,
          27880.6,
          28134.1,
          27437.4,
          26772,
          26810.2,
          26520.9,
          27347.899999999998,
          27185,
          28301.1,
          31483.8,
          33089,
          33529.3,
          33912.3,
          34081.7,
          33963.8,
          33998.6,
          31875.2,
          30171.8,
          30286.9,
          31256.2,
          30868.5,
          30564.2,
          29995.899999999998,
          29229.2,
          28120.399999999998,
          27546.300000000003,
          26930.4,
          27105.3,
          27093.100000000002,
          26925.300000000003,
          28590.699999999997,
          31297.7,
          33412.2,
          35338.2,
          35968.5,
          37110.3,
          37018.5,
          36919.6,
          36943.3,
          35636.9,
          34699.1,
          34497,
          35119.6,
          35873,
          35932.4,
          35605,
          33214.7,
          31338.800000000003,
          29251.5,
          28881.3,
          28092,
          27768.199999999997,
          27409.7,
          27610.3,
          28534.100000000002,
          31468.6,
          33475.1,
          34350.3,
          35060.1,
          35349.4,
          35475.3,
          35707.2,
          35508.9,
          35349.299999999996,
          34763.7,
          33507.6,
          36324.9,
          37498.8,
          36478.4,
          34229.6,
          31928.399999999998,
          29402.100000000002,
          27399.4,
          26397.2,
          25941.9,
          25700.2,
          24662.2,
          24408.6,
          30380.3,
          33233,
          35007.9,
          35474.4,
          35118.8,
          35859.9,
          35817.4,
          35832.5,
          35565.6,
          35055.4,
          34555.1,
          34065.200000000004,
          35518.5,
          36691.6,
          37274.6,
          36501.1,
          32694.3,
          29522.6,
          27537.4,
          27080,
          26301.4,
          26199.8,
          26703.600000000002,
          27224.1,
          28789.8,
          33103.7,
          34287.4,
          35034.4,
          35753.6,
          36044.3,
          37346,
          37652.1,
          36714.700000000004,
          36091,
          34776.6,
          35457.2,
          36444.700000000004,
          36146.6,
          35960.9,
          34649.7,
          31902.300000000003,
          30233.2,
          27224.6,
          26084.7,
          25445.8,
          25065.4,
          25885.4,
          25367.300000000003,
          28446.6,
          34393.7,
          35118.6,
          35581.2,
          35731.3,
          35698.5,
          36955.5,
          36866,
          36709.6,
          35529.6,
          35414,
          34358.8,
          36981.1,
          36516,
          34693.1,
          33866.6,
          31690.300000000003,
          29131,
          28178.1,
          26435.7,
          25305.600000000002,
          25073.2,
          24827.600000000002,
          24994.7,
          25428.7,
          25987.9,
          27841.4,
          30402.399999999998,
          31190.7,
          32399.4,
          33266.3,
          32608.4,
          31706.4,
          31079.3,
          31048.1,
          29755.4,
          30468.3,
          31637.600000000002,
          32199.5,
          32083.8,
          31062.3,
          28575.5,
          25542.6,
          24218.5,
          23326.3,
          23740.8,
          24920.6,
          25242.899999999998,
          25118.1,
          24600.899999999998,
          25747.2,
          28493.899999999998,
          30212,
          30855,
          31117.1,
          31815.6,
          32286.9,
          32118.8,
          30218.899999999998,
          27989.399999999998,
          29970,
          31914.5,
          32857.3,
          31772.3,
          30899.9,
          28899.8,
          25785.2,
          25529.3,
          25915.1,
          26493,
          25943.399999999998,
          26884.8,
          28744.5,
          31927.399999999998,
          34591,
          35034.9,
          35897.2,
          36515.299999999996,
          36820.1,
          37316.4,
          36273.9,
          36430.1,
          34541.9,
          34113.5,
          36579.8,
          36606.5,
          36633.9,
          33467.5,
          32008,
          29601.5,
          27130.6,
          25815.1,
          25134.3,
          25826.7,
          25980.6,
          25593.899999999998,
          29026,
          32073.600000000002,
          33968.8,
          35072.7,
          35668.1,
          36521.1,
          36493.4,
          36223.5,
          36254.4,
          35241.4,
          34545,
          33479.7,
          36814.9,
          37537.8,
          38275.4,
          35187.4,
          31879.600000000002,
          29914.6,
          26916.9,
          25431,
          25281,
          25229.1,
          25810.600000000002,
          26660.100000000002,
          28797.4,
          32509.7,
          34120.2,
          34736.9,
          34503.7,
          35603.3,
          36299.1,
          36464.700000000004,
          36233.700000000004,
          35513,
          34193,
          33872.6,
          36117.5,
          38100.2,
          36682,
          35097.1,
          33895.1,
          31284.4,
          29444.399999999998,
          28051.899999999998,
          27995.899999999998,
          26552.6,
          26732,
          28062.7,
          28612.4,
          32382.3,
          34326.5,
          34578,
          34618.7,
          34737,
          35820.5,
          36886.9,
          36885.3,
          36449.8,
          35578.2,
          35443.4,
          36893,
          37725.6,
          36430.2,
          35580.8,
          32862.1,
          29264.6,
          27417.8,
          27128.1,
          24597,
          24965.4,
          25095.3,
          26140.899999999998,
          29045.399999999998,
          32777.3,
          34361,
          35823.299999999996,
          35758.2,
          34985.299999999996,
          35914.1,
          36149.9,
          35762.3,
          35827.6,
          34814.7,
          35476.1,
          36700.5,
          37202.6,
          36567.1,
          34155.2,
          32738.1,
          30740.1,
          29740.4,
          29066.100000000002,
          27735.899999999998,
          26845.399999999998,
          26474.4,
          26019.6,
          27014.7,
          26985.1,
          27586.1,
          30653.7,
          32228.3,
          32115.7,
          32463.199999999997,
          31815.8,
          31825.2,
          30896.9,
          31838.3,
          30000.2,
          31514,
          32099.1,
          32196.6,
          30400.399999999998,
          29267.3,
          26707.7,
          26982.1,
          25713,
          24941.300000000003,
          25174.3,
          25036,
          25070.899999999998,
          26144.4,
          26380.600000000002,
          27563.2,
          28930.5,
          30904.4,
          31871.5,
          32567.5,
          32832.7,
          32975.1,
          31241.8,
          30676.3,
          28998.7,
          30184,
          31441.5,
          33167.4,
          32777.5,
          31851.100000000002,
          29532.2,
          26597.600000000002,
          26014.600000000002,
          25899.4,
          25368.2,
          26313.1,
          26376,
          27718.4,
          32090.2,
          34079.8,
          36061.5,
          36446.7,
          35751.5,
          37632.7,
          37765.200000000004,
          37613.6,
          36680.9,
          35743.9,
          36414.9,
          37789.3,
          38518.6,
          38534.7,
          35655,
          33596.1,
          30011.1,
          28565,
          28287.5,
          28452.300000000003,
          27519.2,
          28524.8,
          28495.1,
          30002.5,
          33822.9,
          36075.9,
          36634,
          37060.4,
          37865,
          37500.5,
          38340.3,
          38215.7,
          38300,
          38495.7,
          38332,
          39297.3,
          39176.4,
          39370.5,
          36720.5,
          33834.8,
          31650.8,
          29251.699999999997,
          27168.2,
          26584.4,
          26841.899999999998,
          27020.3,
          27675.399999999998,
          30950.9,
          34524.299999999996,
          36588.5,
          38035.7,
          39871.7,
          39824.6,
          40027.4,
          40294.4,
          39346.9,
          38588.6,
          37560.4,
          37066.1,
          38440,
          38203.8,
          37789.5,
          37756,
          35028.9,
          32332.7,
          31282.5,
          29629.7,
          28726.2,
          28028.9,
          28552.1,
          28160.9,
          30038.100000000002,
          34168.799999999996,
          36356.9,
          38022.2,
          38624.6,
          39202.4,
          39972.8,
          39933.9,
          39617.7,
          38426.299999999996,
          38322,
          38040,
          38858.8,
          39131.4,
          39073.7,
          38349.6,
          35797.8,
          31969.8,
          30906.7,
          28835.3,
          27938.7,
          27985.100000000002,
          27904.8,
          27753.8,
          29587.3,
          34217.1,
          36893.7,
          37671.2,
          38030.3,
          38237.700000000004,
          39182.7,
          38495.2,
          37875.5,
          37415.2,
          35768.2,
          35280.5,
          37401.8,
          37768.5,
          37592.1,
          36420,
          35882.9,
          33248.6,
          31140.5,
          30100.9,
          29805.7,
          29451.8,
          30596,
          30442.399999999998,
          30171.2,
          29697,
          30310.6,
          32342.399999999998,
          33982,
          34886.6,
          36800.200000000004,
          37622.6,
          37858.2,
          36875.700000000004,
          34109.700000000004,
          33051.9,
          35105.5,
          36228.2,
          35577.5,
          35218.5,
          33406.5,
          32187.7,
          29838.9,
          29357.1,
          29164.9,
          28728.7,
          28746.9,
          28337.6,
          28182.399999999998,
          29024.399999999998,
          28982.9,
          30317.4,
          32865,
          34106,
          35027.8,
          36598,
          36276.1,
          35149.3,
          33789.6,
          33115.8,
          35013.1,
          36656.3,
          37527.6,
          35398.5,
          35058.5,
          33496.9,
          32008.200000000004,
          30555.7,
          31246.5,
          31098.500000000004,
          31220.100000000002,
          29837.6,
          31102.7,
          33972.4,
          36166.6,
          37200.2,
          37749.1,
          38387.5,
          38196.4,
          38358.200000000004,
          38401.7,
          38337.1,
          37227.4,
          37396.799999999996,
          37789.8,
          38619.1,
          39330.6,
          37701.799999999996,
          35257.2,
          34422,
          30826.399999999998,
          30002.4,
          28475.2,
          27773.3,
          28677.2,
          29330.3,
          32331.5,
          35227.5,
          37626.2,
          38579.4,
          38128.3,
          38888.6,
          38149.700000000004,
          38363.5,
          37752.5,
          36599.7,
          34487.7,
          35498.7,
          38601,
          37823.6,
          38604.7,
          37939.5,
          36303.3,
          33911.9,
          30200.9,
          28647.7,
          28037.7,
          27471.3,
          28476.4,
          28937.5,
          29628.800000000003,
          35126.7,
          37120.4,
          39267.700000000004,
          39614.2,
          38358.9,
          37985.799999999996,
          38230.799999999996,
          37537.3,
          37419.5,
          37553.8,
          38031.3,
          39617,
          39692.5,
          40017.6,
          38835,
          36934,
          34473.6,
          32345.9,
          31453.4,
          30204.5,
          29640.1,
          29926.899999999998,
          29872.4,
          32065.9,
          34872.2,
          37409.2,
          38086.1,
          38702.3,
          39416,
          40159.2,
          40659.9,
          41468.9,
          40629.3,
          38808.3,
          38789.3,
          39353.6,
          40090.1,
          40328.5,
          38987.4,
          35877.9,
          34300.7,
          32712.3,
          31070.2,
          30311.2,
          29895.8,
          30088.3,
          30663.5,
          32281.8,
          35712.1,
          38447.9,
          39785.2,
          39965.5,
          39328,
          39935.4,
          40147.9,
          40182.3,
          39103.7,
          38495.8,
          35862.3,
          37878.7,
          38446.1,
          37982.9,
          37749.200000000004,
          37125.6,
          34268,
          30716.7,
          30317.100000000002,
          29119.2,
          29432.8,
          28962.6,
          29132.6,
          29661,
          29299.4,
          30158.5,
          32360.3,
          33612.6,
          34679.1,
          34959.6,
          35543,
          35903.1,
          35073.6,
          33153,
          32541.9,
          35330.9,
          33797.4,
          33873.7,
          33958.9,
          33033.7,
          32236.5,
          30307.1,
          30021.5,
          29834.1,
          29796,
          29701.2,
          29634.6,
          29661.4,
          29961.9,
          30723.9,
          32684.5,
          35854.8,
          37855.9,
          38337.5,
          38628.2,
          38388.2,
          37063.7,
          35777.8,
          33937.8,
          34690.6,
          35078.7,
          34696.4,
          34148.4,
          33747.2,
          32500,
          30028.7,
          29356.2,
          29135.1,
          28839.5,
          28749.6,
          29358.9,
          29692.399999999998,
          30180.3,
          30659.4,
          33212.7,
          34453.2,
          34677.7,
          35099.4,
          35198.6,
          34860.1,
          33945.8,
          32849.3,
          32124.6,
          32757.3,
          33944,
          34927.1,
          33677.7,
          33309,
          31327,
          28350.3,
          27007.9,
          25685.4,
          25438.3,
          26108.7,
          26994.4,
          27305.4,
          30375.7,
          31937.9,
          32975.5,
          34797.1,
          34309.3,
          34315.8,
          35193,
          35520.6,
          35021.9,
          34076.5,
          33417.3,
          35511.6,
          36085.9,
          36185.7,
          35489.7,
          34533.1,
          33893.8,
          31917.799999999996,
          31335.2,
          30480.2,
          29718.1,
          29915.9,
          30580.300000000003,
          32019.600000000002,
          32911,
          32688.399999999998,
          33840.8,
          35982.9,
          36890.9,
          37383.8,
          38285.2,
          38344.5,
          36627.2,
          35245.1,
          34608,
          35856.2,
          37177,
          36328.7,
          35405,
          33984.200000000004,
          31987.600000000002,
          30489.3,
          29670.5,
          30026.2,
          30090.899999999998,
          30606.6,
          30541.9,
          31616.600000000002,
          35151.5,
          36911.8,
          37803,
          38146.299999999996,
          38280.5,
          38091.1,
          37660.2,
          36912.8,
          38508.8,
          37158.3,
          37063.3,
          38920.4,
          38937.8,
          39416.299999999996,
          38803,
          36313.1,
          34702.6,
          34933.8,
          33722.200000000004,
          33234.3,
          32723.4,
          32370.5,
          32641.5,
          33671.3,
          35045.6,
          36674.6,
          37564.6,
          38231.4,
          38369.9,
          39307.4,
          38469.2,
          38693.6,
          38034.9,
          36521.1,
          36552.700000000004,
          38016.100000000006,
          38142.4,
          38140.5,
          38289.3,
          34848.5,
          33530.5,
          33094.2,
          31722,
          30954.8,
          30407.7,
          30170.7,
          30379.4,
          30434.6,
          30555.7,
          31135.5,
          32396.7,
          33907.3,
          33909.6,
          34718.9,
          35090,
          34703.2,
          33395.7,
          32016,
          31694.5,
          32436.2,
          32254.9,
          32096.7,
          31666.5,
          31157.2,
          30107.1,
          29069.4,
          27493.7,
          26793.2,
          26706.2,
          27068.6,
          26891.2,
          25868.399999999998,
          25652.3,
          26570.5,
          27712.4,
          29808.7,
          30559.6,
          30628,
          31144.5,
          31329.100000000002,
          30781.5,
          29869.5,
          29642.600000000002,
          31602.699999999997,
          32120.2,
          32885.8,
          33139.4,
          31445.5,
          29470.5,
          26965,
          26527.5,
          25619.2,
          25543.7,
          26112.6,
          26798,
          30108.8,
          33614.9,
          35981.1,
          36889.8,
          37972.3,
          37886.5,
          38590.6,
          38735.6,
          37833.9,
          37265.8,
          36594.4,
          36483.5,
          37154.3,
          38115.7,
          38658.2,
          37913.6,
          35342.6,
          32392.8,
          28727.4,
          27734.3,
          27568.2,
          25407.9,
          26438.5,
          27141.1,
          30717.3,
          34087.3,
          36499.1,
          36917.7,
          37260.4,
          38811.4,
          39221.5,
          38880.4,
          38413.1,
          38027.1,
          36814.4,
          36175.3,
          37819.8,
          38673,
          39208.6,
          37842,
          35133.7,
          32733.4,
          29544.4,
          27554.1,
          27031.7,
          26540.3,
          27254.8,
          28931.399999999998,
          30540.8,
          34771.7,
          36672.6,
          37730.1,
          37861.6,
          37900.3,
          38348.2,
          38543.3,
          37992,
          37787.7,
          36704.4,
          35905.8,
          37929.1,
          38872.6,
          38910.7,
          37683.8,
          34864.4,
          32404.5,
          29334.5,
          27312.4,
          27505.8,
          27712.6,
          28573.8,
          29349.2,
          30730.7,
          35628.1,
          37692.8,
          37263.6,
          38445.7,
          38651.4,
          39177.7,
          39333.7,
          38956.9,
          38914.8,
          38586.8,
          38082,
          38546.8,
          39972.1,
          39747.7,
          37100.6,
          34019.7,
          31726.5,
          28219.100000000002,
          28089.9,
          27823.8,
          27159.8,
          26808.6,
          27389.4,
          29889.9,
          34958.4,
          36450.1,
          37315.8,
          37974.7,
          38311.1,
          38720.5,
          38750.8,
          38245.6,
          38237.4,
          37573.7,
          37611.6,
          38212.9,
          39344.8,
          39080.2,
          38123.1,
          36336.5,
          33953.1,
          30616.3,
          28355.5,
          27308.199999999997,
          27216,
          26275.1,
          26246.399999999998,
          27594.9,
          28884.899999999998,
          29886,
          32244.399999999998,
          34883.5,
          35343.8,
          35382.5,
          35551.6,
          35634.3,
          35924.8,
          34410.2,
          33181,
          34995,
          35846.7,
          36193.1,
          34341.4,
          33530.7,
          31670.8,
          28942.5,
          27327.3,
          26056.3,
          25187.2,
          24344.8,
          24855.6,
          26023.1,
          27568.6,
          27765.8,
          30271.2,
          31933.1,
          31478.5,
          32003.3,
          33010.8,
          33055.1,
          32405.9,
          31915,
          31167.6,
          34288.7,
          34648.4,
          36037.3,
          33898.7,
          32430.8,
          32199.7,
          26633,
          26007.1,
          26367.6,
          25334.9,
          25284.899999999998,
          26780.7,
          28943.2,
          34302.8,
          36354.9,
          37403.3,
          38311.299999999996,
          38941.5,
          38899.5,
          38377.9,
          37662.1,
          37808.4,
          37355.5,
          37891.1,
          39686.8,
          40421.200000000004,
          40448.6,
          39336.8,
          36118.1,
          33454.7,
          32117.100000000002,
          30472.199999999997,
          29920.8,
          29718.399999999998,
          29415.4,
          29883.1,
          32089,
          35382,
          37626.7,
          38570.2,
          39647.4,
          39229.5,
          39197.5,
          38970.6,
          38760.6,
          37942.7,
          37385.4,
          37664.2,
          39896.4,
          39962.9,
          40451.8,
          39862.8,
          36844.2,
          33592.4,
          32259.8,
          29827.4,
          28749.6,
          28228.899999999998,
          28200.3,
          28934.8,
          29729.5,
          32834.5,
          35186.6,
          36146.2,
          37703.4,
          37625.4,
          37277.6,
          36789.3,
          37155.7,
          36633.9,
          36090.299999999996,
          35682.5,
          36981.4,
          37949.5,
          38016.5,
          37083.9,
          33720.3,
          32043.8,
          30295.4,
          28279.100000000002,
          27161.2,
          26829.5,
          26552.5,
          27425.9,
          28699.9,
          32509.6,
          34300.4,
          35375.4,
          37108.299999999996,
          37070,
          36814.1,
          37012.6,
          37384.2,
          37462.6,
          36097.2,
          35755.3,
          37297.100000000006,
          36990.4,
          36798.7,
          34452.5,
          32565,
          31133.3,
          29537.7,
          27463.1,
          27817.3,
          28336.7,
          27974.8,
          27747.6,
          26966.5,
          29442.8,
          30457.2,
          30907.3,
          32546.3,
          32939.7,
          32361.5,
          32609.8,
          32537.800000000003,
          31877.1,
          31116.1,
          29796.8,
          30371.8,
          29975.6,
          29793.7,
          28803.5,
          28130.3,
          28074.3,
          28263.800000000003,
          27707.300000000003,
          25997.4,
          24406,
          24438.7,
          24079.3,
          23224.4,
          23523.7,
          23381.399999999998,
          26184.4,
          27235,
          26431.2,
          26416.8,
          27989.8,
          28033.6,
          26135.9,
          24916.3,
          25795.100000000002,
          27857.4,
          28509.2,
          27939,
          28017.8,
          27966.1,
          25570.7,
          24791.5,
          25394.300000000003,
          24899.2,
          25144,
          25622.7,
          25592.8,
          25953.6,
          26398.6,
          26239.7,
          24706,
          25406.899999999998,
          27346.1,
          28811.6,
          29847.6,
          29986.5,
          30184.100000000002,
          29501.1,
          29207.7,
          30143.699999999997,
          30993.5,
          31973.7,
          32366.9,
          32220.5,
          31355,
          30482.6,
          29772,
          28567.1,
          27950.6,
          28155.600000000002,
          29249.5,
          30248,
          30768.5,
          30590.4,
          32733.5,
          33831.3,
          35696.1,
          37055.7,
          36955.1,
          37204.8,
          36342.9,
          34796.5,
          33718.9,
          34347.9,
          35375.6,
          35264.9,
          34754.7,
          32653.8,
          32463.899999999998,
          31688.899999999998,
          30925.300000000003,
          30441.5,
          30006.6,
          29944.3,
          30280.3,
          30353.899999999998,
          30609.9,
          31346.3,
          32091.3,
          33163.4,
          33861.4,
          34313.2,
          35852.1,
          36355.899999999994,
          35851,
          33988.8,
          33212.6,
          34439.8,
          34039,
          34289.2,
          33709.8,
          33859.8,
          31637.7,
          28463.3,
          27857.8,
          27640.3,
          27008.899999999998,
          26610.2,
          26113.3,
          26676.9,
          27394.9,
          28658.5,
          30291.7,
          31448.300000000003,
          31200,
          31482,
          31916.8,
          32041.9,
          31310.100000000002,
          29766.1,
          29340.4,
          30325,
          31328.399999999998,
          31478.4,
          30822.7,
          28990.9,
          27132.3,
          24999.9,
          23629,
          23184.5,
          23519.5,
          23417.2,
          23538,
          24471.5,
          27034.6,
          27986.3,
          29733.3,
          30583,
          31111.9,
          31973.1,
          31511.8,
          31776.8,
          30853.3,
          29340.3,
          29122.8,
          31022,
          31315.1,
          31329.5,
          30998,
          28872.7,
          26886.9,
          25053.5,
          24443.100000000002,
          24095.9,
          23386.7,
          23458.6,
          23472.4,
          23439.7,
          24914.5,
          25704.5,
          28185.9,
          28989.3,
          29812.2,
          29609,
          29889.399999999998,
          27305.9,
          26949.7,
          25970.8,
          26827.899999999998,
          29067,
          29118.6,
          28781.2,
          28310.3,
          25336.1,
          24480.4
         ],
         "xaxis": "x",
         "yaxis": "y"
        }
       ],
       "layout": {
        "barmode": "relative",
        "legend": {
         "tracegroupgap": 0
        },
        "margin": {
         "t": 60
        },
        "template": {
         "data": {
          "bar": [
           {
            "error_x": {
             "color": "#2a3f5f"
            },
            "error_y": {
             "color": "#2a3f5f"
            },
            "marker": {
             "line": {
              "color": "#E5ECF6",
              "width": 0.5
             },
             "pattern": {
              "fillmode": "overlay",
              "size": 10,
              "solidity": 0.2
             }
            },
            "type": "bar"
           }
          ],
          "barpolar": [
           {
            "marker": {
             "line": {
              "color": "#E5ECF6",
              "width": 0.5
             },
             "pattern": {
              "fillmode": "overlay",
              "size": 10,
              "solidity": 0.2
             }
            },
            "type": "barpolar"
           }
          ],
          "carpet": [
           {
            "aaxis": {
             "endlinecolor": "#2a3f5f",
             "gridcolor": "white",
             "linecolor": "white",
             "minorgridcolor": "white",
             "startlinecolor": "#2a3f5f"
            },
            "baxis": {
             "endlinecolor": "#2a3f5f",
             "gridcolor": "white",
             "linecolor": "white",
             "minorgridcolor": "white",
             "startlinecolor": "#2a3f5f"
            },
            "type": "carpet"
           }
          ],
          "choropleth": [
           {
            "colorbar": {
             "outlinewidth": 0,
             "ticks": ""
            },
            "type": "choropleth"
           }
          ],
          "contour": [
           {
            "colorbar": {
             "outlinewidth": 0,
             "ticks": ""
            },
            "colorscale": [
             [
              0,
              "#0d0887"
             ],
             [
              0.1111111111111111,
              "#46039f"
             ],
             [
              0.2222222222222222,
              "#7201a8"
             ],
             [
              0.3333333333333333,
              "#9c179e"
             ],
             [
              0.4444444444444444,
              "#bd3786"
             ],
             [
              0.5555555555555556,
              "#d8576b"
             ],
             [
              0.6666666666666666,
              "#ed7953"
             ],
             [
              0.7777777777777778,
              "#fb9f3a"
             ],
             [
              0.8888888888888888,
              "#fdca26"
             ],
             [
              1,
              "#f0f921"
             ]
            ],
            "type": "contour"
           }
          ],
          "contourcarpet": [
           {
            "colorbar": {
             "outlinewidth": 0,
             "ticks": ""
            },
            "type": "contourcarpet"
           }
          ],
          "heatmap": [
           {
            "colorbar": {
             "outlinewidth": 0,
             "ticks": ""
            },
            "colorscale": [
             [
              0,
              "#0d0887"
             ],
             [
              0.1111111111111111,
              "#46039f"
             ],
             [
              0.2222222222222222,
              "#7201a8"
             ],
             [
              0.3333333333333333,
              "#9c179e"
             ],
             [
              0.4444444444444444,
              "#bd3786"
             ],
             [
              0.5555555555555556,
              "#d8576b"
             ],
             [
              0.6666666666666666,
              "#ed7953"
             ],
             [
              0.7777777777777778,
              "#fb9f3a"
             ],
             [
              0.8888888888888888,
              "#fdca26"
             ],
             [
              1,
              "#f0f921"
             ]
            ],
            "type": "heatmap"
           }
          ],
          "heatmapgl": [
           {
            "colorbar": {
             "outlinewidth": 0,
             "ticks": ""
            },
            "colorscale": [
             [
              0,
              "#0d0887"
             ],
             [
              0.1111111111111111,
              "#46039f"
             ],
             [
              0.2222222222222222,
              "#7201a8"
             ],
             [
              0.3333333333333333,
              "#9c179e"
             ],
             [
              0.4444444444444444,
              "#bd3786"
             ],
             [
              0.5555555555555556,
              "#d8576b"
             ],
             [
              0.6666666666666666,
              "#ed7953"
             ],
             [
              0.7777777777777778,
              "#fb9f3a"
             ],
             [
              0.8888888888888888,
              "#fdca26"
             ],
             [
              1,
              "#f0f921"
             ]
            ],
            "type": "heatmapgl"
           }
          ],
          "histogram": [
           {
            "marker": {
             "pattern": {
              "fillmode": "overlay",
              "size": 10,
              "solidity": 0.2
             }
            },
            "type": "histogram"
           }
          ],
          "histogram2d": [
           {
            "colorbar": {
             "outlinewidth": 0,
             "ticks": ""
            },
            "colorscale": [
             [
              0,
              "#0d0887"
             ],
             [
              0.1111111111111111,
              "#46039f"
             ],
             [
              0.2222222222222222,
              "#7201a8"
             ],
             [
              0.3333333333333333,
              "#9c179e"
             ],
             [
              0.4444444444444444,
              "#bd3786"
             ],
             [
              0.5555555555555556,
              "#d8576b"
             ],
             [
              0.6666666666666666,
              "#ed7953"
             ],
             [
              0.7777777777777778,
              "#fb9f3a"
             ],
             [
              0.8888888888888888,
              "#fdca26"
             ],
             [
              1,
              "#f0f921"
             ]
            ],
            "type": "histogram2d"
           }
          ],
          "histogram2dcontour": [
           {
            "colorbar": {
             "outlinewidth": 0,
             "ticks": ""
            },
            "colorscale": [
             [
              0,
              "#0d0887"
             ],
             [
              0.1111111111111111,
              "#46039f"
             ],
             [
              0.2222222222222222,
              "#7201a8"
             ],
             [
              0.3333333333333333,
              "#9c179e"
             ],
             [
              0.4444444444444444,
              "#bd3786"
             ],
             [
              0.5555555555555556,
              "#d8576b"
             ],
             [
              0.6666666666666666,
              "#ed7953"
             ],
             [
              0.7777777777777778,
              "#fb9f3a"
             ],
             [
              0.8888888888888888,
              "#fdca26"
             ],
             [
              1,
              "#f0f921"
             ]
            ],
            "type": "histogram2dcontour"
           }
          ],
          "mesh3d": [
           {
            "colorbar": {
             "outlinewidth": 0,
             "ticks": ""
            },
            "type": "mesh3d"
           }
          ],
          "parcoords": [
           {
            "line": {
             "colorbar": {
              "outlinewidth": 0,
              "ticks": ""
             }
            },
            "type": "parcoords"
           }
          ],
          "pie": [
           {
            "automargin": true,
            "type": "pie"
           }
          ],
          "scatter": [
           {
            "fillpattern": {
             "fillmode": "overlay",
             "size": 10,
             "solidity": 0.2
            },
            "type": "scatter"
           }
          ],
          "scatter3d": [
           {
            "line": {
             "colorbar": {
              "outlinewidth": 0,
              "ticks": ""
             }
            },
            "marker": {
             "colorbar": {
              "outlinewidth": 0,
              "ticks": ""
             }
            },
            "type": "scatter3d"
           }
          ],
          "scattercarpet": [
           {
            "marker": {
             "colorbar": {
              "outlinewidth": 0,
              "ticks": ""
             }
            },
            "type": "scattercarpet"
           }
          ],
          "scattergeo": [
           {
            "marker": {
             "colorbar": {
              "outlinewidth": 0,
              "ticks": ""
             }
            },
            "type": "scattergeo"
           }
          ],
          "scattergl": [
           {
            "marker": {
             "colorbar": {
              "outlinewidth": 0,
              "ticks": ""
             }
            },
            "type": "scattergl"
           }
          ],
          "scattermapbox": [
           {
            "marker": {
             "colorbar": {
              "outlinewidth": 0,
              "ticks": ""
             }
            },
            "type": "scattermapbox"
           }
          ],
          "scatterpolar": [
           {
            "marker": {
             "colorbar": {
              "outlinewidth": 0,
              "ticks": ""
             }
            },
            "type": "scatterpolar"
           }
          ],
          "scatterpolargl": [
           {
            "marker": {
             "colorbar": {
              "outlinewidth": 0,
              "ticks": ""
             }
            },
            "type": "scatterpolargl"
           }
          ],
          "scatterternary": [
           {
            "marker": {
             "colorbar": {
              "outlinewidth": 0,
              "ticks": ""
             }
            },
            "type": "scatterternary"
           }
          ],
          "surface": [
           {
            "colorbar": {
             "outlinewidth": 0,
             "ticks": ""
            },
            "colorscale": [
             [
              0,
              "#0d0887"
             ],
             [
              0.1111111111111111,
              "#46039f"
             ],
             [
              0.2222222222222222,
              "#7201a8"
             ],
             [
              0.3333333333333333,
              "#9c179e"
             ],
             [
              0.4444444444444444,
              "#bd3786"
             ],
             [
              0.5555555555555556,
              "#d8576b"
             ],
             [
              0.6666666666666666,
              "#ed7953"
             ],
             [
              0.7777777777777778,
              "#fb9f3a"
             ],
             [
              0.8888888888888888,
              "#fdca26"
             ],
             [
              1,
              "#f0f921"
             ]
            ],
            "type": "surface"
           }
          ],
          "table": [
           {
            "cells": {
             "fill": {
              "color": "#EBF0F8"
             },
             "line": {
              "color": "white"
             }
            },
            "header": {
             "fill": {
              "color": "#C8D4E3"
             },
             "line": {
              "color": "white"
             }
            },
            "type": "table"
           }
          ]
         },
         "layout": {
          "annotationdefaults": {
           "arrowcolor": "#2a3f5f",
           "arrowhead": 0,
           "arrowwidth": 1
          },
          "autotypenumbers": "strict",
          "coloraxis": {
           "colorbar": {
            "outlinewidth": 0,
            "ticks": ""
           }
          },
          "colorscale": {
           "diverging": [
            [
             0,
             "#8e0152"
            ],
            [
             0.1,
             "#c51b7d"
            ],
            [
             0.2,
             "#de77ae"
            ],
            [
             0.3,
             "#f1b6da"
            ],
            [
             0.4,
             "#fde0ef"
            ],
            [
             0.5,
             "#f7f7f7"
            ],
            [
             0.6,
             "#e6f5d0"
            ],
            [
             0.7,
             "#b8e186"
            ],
            [
             0.8,
             "#7fbc41"
            ],
            [
             0.9,
             "#4d9221"
            ],
            [
             1,
             "#276419"
            ]
           ],
           "sequential": [
            [
             0,
             "#0d0887"
            ],
            [
             0.1111111111111111,
             "#46039f"
            ],
            [
             0.2222222222222222,
             "#7201a8"
            ],
            [
             0.3333333333333333,
             "#9c179e"
            ],
            [
             0.4444444444444444,
             "#bd3786"
            ],
            [
             0.5555555555555556,
             "#d8576b"
            ],
            [
             0.6666666666666666,
             "#ed7953"
            ],
            [
             0.7777777777777778,
             "#fb9f3a"
            ],
            [
             0.8888888888888888,
             "#fdca26"
            ],
            [
             1,
             "#f0f921"
            ]
           ],
           "sequentialminus": [
            [
             0,
             "#0d0887"
            ],
            [
             0.1111111111111111,
             "#46039f"
            ],
            [
             0.2222222222222222,
             "#7201a8"
            ],
            [
             0.3333333333333333,
             "#9c179e"
            ],
            [
             0.4444444444444444,
             "#bd3786"
            ],
            [
             0.5555555555555556,
             "#d8576b"
            ],
            [
             0.6666666666666666,
             "#ed7953"
            ],
            [
             0.7777777777777778,
             "#fb9f3a"
            ],
            [
             0.8888888888888888,
             "#fdca26"
            ],
            [
             1,
             "#f0f921"
            ]
           ]
          },
          "colorway": [
           "#636efa",
           "#EF553B",
           "#00cc96",
           "#ab63fa",
           "#FFA15A",
           "#19d3f3",
           "#FF6692",
           "#B6E880",
           "#FF97FF",
           "#FECB52"
          ],
          "font": {
           "color": "#2a3f5f"
          },
          "geo": {
           "bgcolor": "white",
           "lakecolor": "white",
           "landcolor": "#E5ECF6",
           "showlakes": true,
           "showland": true,
           "subunitcolor": "white"
          },
          "hoverlabel": {
           "align": "left"
          },
          "hovermode": "closest",
          "mapbox": {
           "style": "light"
          },
          "paper_bgcolor": "white",
          "plot_bgcolor": "#E5ECF6",
          "polar": {
           "angularaxis": {
            "gridcolor": "white",
            "linecolor": "white",
            "ticks": ""
           },
           "bgcolor": "#E5ECF6",
           "radialaxis": {
            "gridcolor": "white",
            "linecolor": "white",
            "ticks": ""
           }
          },
          "scene": {
           "xaxis": {
            "backgroundcolor": "#E5ECF6",
            "gridcolor": "white",
            "gridwidth": 2,
            "linecolor": "white",
            "showbackground": true,
            "ticks": "",
            "zerolinecolor": "white"
           },
           "yaxis": {
            "backgroundcolor": "#E5ECF6",
            "gridcolor": "white",
            "gridwidth": 2,
            "linecolor": "white",
            "showbackground": true,
            "ticks": "",
            "zerolinecolor": "white"
           },
           "zaxis": {
            "backgroundcolor": "#E5ECF6",
            "gridcolor": "white",
            "gridwidth": 2,
            "linecolor": "white",
            "showbackground": true,
            "ticks": "",
            "zerolinecolor": "white"
           }
          },
          "shapedefaults": {
           "line": {
            "color": "#2a3f5f"
           }
          },
          "ternary": {
           "aaxis": {
            "gridcolor": "white",
            "linecolor": "white",
            "ticks": ""
           },
           "baxis": {
            "gridcolor": "white",
            "linecolor": "white",
            "ticks": ""
           },
           "bgcolor": "#E5ECF6",
           "caxis": {
            "gridcolor": "white",
            "linecolor": "white",
            "ticks": ""
           }
          },
          "title": {
           "x": 0.05
          },
          "xaxis": {
           "automargin": true,
           "gridcolor": "white",
           "linecolor": "white",
           "ticks": "",
           "title": {
            "standoff": 15
           },
           "zerolinecolor": "white",
           "zerolinewidth": 2
          },
          "yaxis": {
           "automargin": true,
           "gridcolor": "white",
           "linecolor": "white",
           "ticks": "",
           "title": {
            "standoff": 15
           },
           "zerolinecolor": "white",
           "zerolinewidth": 2
          }
         }
        },
        "xaxis": {
         "anchor": "y",
         "domain": [
          0,
          1
         ],
         "title": {
          "text": "x"
         }
        },
        "yaxis": {
         "anchor": "x",
         "domain": [
          0,
          1
         ],
         "title": {
          "text": "count"
         }
        }
       }
      }
     },
     "metadata": {},
     "output_type": "display_data"
    }
   ],
   "source": [
    "px.histogram(x=res)"
   ]
  },
  {
   "cell_type": "markdown",
   "id": "ef200a10-81d5-47a1-85c9-b2a266cd7d26",
   "metadata": {
    "tags": []
   },
   "source": [
    "#### Create a boxplot"
   ]
  },
  {
   "cell_type": "code",
   "execution_count": 29,
   "id": "64ef8f97-99a9-47c4-b5d1-c35732de8b05",
   "metadata": {},
   "outputs": [
    {
     "data": {
      "application/vnd.plotly.v1+json": {
       "config": {
        "plotlyServerURL": "https://plot.ly"
       },
       "data": [
        {
         "alignmentgroup": "True",
         "hovertemplate": "x=%{x}<extra></extra>",
         "legendgroup": "",
         "marker": {
          "color": "#636efa"
         },
         "name": "",
         "notched": false,
         "offsetgroup": "",
         "orientation": "h",
         "showlegend": false,
         "type": "box",
         "x": [
          27984.6,
          28001.7,
          27175.4,
          26634,
          26163.3,
          25966,
          26200.8,
          26736.1,
          26840.3,
          28565.6,
          30448.7,
          31121.5,
          32638.6,
          33506.1,
          33948.3,
          32452.4,
          30947.6,
          29471.2,
          31306.1,
          32013.3,
          33087.5,
          31523.399999999998,
          31410.9,
          30098.5,
          26518.5,
          26966.3,
          26408.4,
          26645.8,
          27292.100000000002,
          27360.800000000003,
          27674,
          27911.8,
          28462.899999999998,
          30708,
          33212.2,
          35005.5,
          35836.4,
          36258.700000000004,
          35969.1,
          35811.3,
          35041.299999999996,
          35003.7,
          36597.1,
          37220.299999999996,
          36441.4,
          35766.8,
          35685.9,
          33617.9,
          30766.2,
          28814.2,
          27267.5,
          27139.9,
          26812.9,
          26662.9,
          26998.8,
          27480.3,
          27333.1,
          29307.5,
          32997.1,
          35236.7,
          36240.6,
          36434.3,
          34988.6,
          33839.9,
          32794.4,
          32884.3,
          34273.8,
          34992.5,
          37562.1,
          37695.1,
          35435.5,
          33018.1,
          29535.1,
          27346.3,
          25557.4,
          25502.600000000002,
          25367.399999999998,
          26326.4,
          27959.899999999998,
          31311.2,
          34444.7,
          36882.1,
          38411.1,
          38995,
          38809.2,
          39801.8,
          39079.7,
          39440.7,
          37282.9,
          37643.200000000004,
          38252.9,
          39115.3,
          39288.6,
          39322.4,
          37342.6,
          34412.200000000004,
          30333.7,
          28263.5,
          27009.7,
          26490.5,
          26179.100000000002,
          27262.4,
          28442.8,
          29978.8,
          33599.3,
          36234.3,
          38029,
          38143.6,
          37979.5,
          38176.5,
          37368.4,
          37664.3,
          36415.1,
          35854.2,
          37116.700000000004,
          37581.4,
          38318.8,
          38027.6,
          35113,
          32026.6,
          29312.9,
          27835.6,
          26240.1,
          25584.2,
          25204.5,
          25557.1,
          26311,
          27426.3,
          28166.2,
          29747.100000000002,
          32556.7,
          33428.5,
          33276.2,
          31846.7,
          30545.3,
          29908.8,
          30465,
          33116.2,
          34768.6,
          36624.7,
          34547.7,
          35790.2,
          34458.7,
          31519,
          28401.5,
          28299.7,
          27561.7,
          26841.3,
          27424.9,
          28030.699999999997,
          29384,
          32300.1,
          35649,
          37772.799999999996,
          40698.4,
          41676.9,
          42002.200000000004,
          42733.2,
          42209,
          41716.3,
          40747.1,
          41153.7,
          42639.3,
          42053,
          41662.8,
          41174.3,
          36748.1,
          33358.1,
          31672.1,
          31177.1,
          29830.9,
          29352.4,
          29442.3,
          30907.6,
          32209.4,
          33573.8,
          36954.6,
          38914.299999999996,
          41259,
          42091.7,
          42398.3,
          42169,
          42579,
          42581.2,
          40812.5,
          39325,
          39879,
          40560.8,
          40204,
          38779.9,
          36598.1,
          35021,
          32960.9,
          31222.2,
          30296.3,
          28727.2,
          29391,
          29894,
          29599.800000000003,
          30311.100000000002,
          32361.7,
          33138.7,
          34538.9,
          35843.7,
          36627.6,
          36952,
          36994.7,
          36060.3,
          34645.2,
          34330.8,
          34895.9,
          36467.9,
          36699.2,
          36902.7,
          35432.7,
          34201.8,
          32042.600000000002,
          30367.2,
          28815.800000000003,
          29106.5,
          28800,
          27874.2,
          27760.100000000002,
          28960.9,
          29494.7,
          31389.8,
          34040.2,
          35253.2,
          35744.1,
          36477.8,
          36893.4,
          36927.200000000004,
          35975.3,
          34972.4,
          35461.200000000004,
          37109.5,
          38151.200000000004,
          37760.1,
          37103.6,
          35085.9,
          31118.7,
          30166.699999999997,
          29556.1,
          28604.9,
          28355.899999999998,
          28702.7,
          30120.5,
          33125.1,
          35915.7,
          38049.6,
          39779.9,
          40005.9,
          40432,
          40849.4,
          40176.5,
          39269.4,
          37938,
          36949.8,
          38372.5,
          41015,
          41261.700000000004,
          39954.7,
          37615.7,
          33937.3,
          30906.4,
          29433.9,
          28760.5,
          28264,
          28180.8,
          28941.1,
          30160.600000000002,
          34458.1,
          37322.4,
          39529.9,
          41129.8,
          41653.4,
          42059.799999999996,
          42500.2,
          42589.9,
          42046.6,
          40760.200000000004,
          42087.9,
          43019.8,
          43009.5,
          43175.3,
          43024.8,
          40062.9,
          36526.700000000004,
          31648.6,
          31284.9,
          30804.5,
          30679.2,
          31093.5,
          31279.399999999998,
          32410.9,
          35536.2,
          39408.8,
          40249.4,
          41030,
          41077.9,
          41509.799999999996,
          42058.7,
          40538,
          39971.8,
          38553.1,
          38012.6,
          39539.4,
          40991.6,
          41705.700000000004,
          40446.6,
          37522.4,
          33892.6,
          31146.8,
          30185.3,
          30234.5,
          29856.2,
          30428.2,
          30954.4,
          31872.5,
          34492.7,
          37784.6,
          38916.9,
          39862.8,
          40625.3,
          41078.9,
          41454.8,
          40060.5,
          39959.3,
          38745.6,
          38216,
          38940.1,
          41186.9,
          41594.5,
          40427.6,
          38358.3,
          35267.4,
          33791.9,
          32121.8,
          32145,
          32047.4,
          32412.7,
          32788.1,
          33410,
          36367.7,
          38351.1,
          41072.8,
          41581.7,
          41948.5,
          43361.700000000004,
          43781.7,
          41708.2,
          40250.5,
          39720.200000000004,
          38214.299999999996,
          38587,
          39653.4,
          39903.1,
          39298.9,
          39012.8,
          36684.6,
          32755.7,
          31054.6,
          30522.8,
          31373.3,
          31285,
          31153.6,
          31711.4,
          32541.5,
          31238.7,
          33913,
          35733.2,
          36892.5,
          37076,
          37459.6,
          36578.1,
          35742.4,
          34748.7,
          33598.8,
          34881.2,
          37353.9,
          37412.1,
          37173.7,
          36001,
          34133.6,
          30170.9,
          28526.3,
          28495.2,
          28345.6,
          28254.2,
          28220.2,
          28597.3,
          29539.5,
          29930.4,
          30960.4,
          32716.8,
          33427.7,
          34431.6,
          35287.4,
          35406.700000000004,
          36055.9,
          34527.6,
          31665.8,
          33172.6,
          34694.9,
          35458.1,
          35651,
          34887,
          32000.4,
          29754.100000000002,
          28364.3,
          27339.9,
          26709.9,
          27581.8,
          28342.3,
          29873.2,
          34065.1,
          38166.7,
          39034.7,
          40107.9,
          39434.6,
          40363.4,
          39587.2,
          38738.9,
          38142.4,
          37828.6,
          36809.8,
          38406.700000000004,
          40394,
          41181.9,
          39942.3,
          36267.4,
          33992,
          29646.4,
          27483.5,
          27175.6,
          27549.7,
          27487.8,
          27716.2,
          29667.199999999997,
          34243,
          37005.7,
          38890.2,
          39724.7,
          39182.5,
          38826.6,
          39234.1,
          38273.1,
          37782.1,
          37280.3,
          36953.3,
          38723.4,
          40254.3,
          41481.7,
          40327.6,
          36895.5,
          33345.799999999996,
          30364.5,
          28848.4,
          28669.2,
          29148.7,
          29700.1,
          30289.100000000002,
          30127.3,
          32939.3,
          36400.1,
          38325.9,
          38986.8,
          40780.799999999996,
          40596,
          41062.1,
          40029.5,
          40441.5,
          38956.8,
          38979.7,
          39821.6,
          39900.4,
          39943.3,
          38933.3,
          36560.3,
          35070.3,
          33510,
          32097.1,
          31429.8,
          30647.5,
          31264.8,
          31445.800000000003,
          31723,
          35446.5,
          37976.4,
          39700.799999999996,
          40592.8,
          39959.9,
          38893.5,
          39747.3,
          39059.4,
          38543.8,
          38006.2,
          37535,
          39870.600000000006,
          39626.9,
          39394.200000000004,
          38286.4,
          36202.200000000004,
          33346.3,
          32433.9,
          32184.600000000002,
          31979.6,
          32111.199999999997,
          32351.9,
          32717,
          33209.3,
          35861.700000000004,
          39396.3,
          41211.7,
          40723.2,
          40013.5,
          40141.9,
          39946.3,
          39717.700000000004,
          39269.7,
          38107.5,
          36609.799999999996,
          38262.6,
          38999.100000000006,
          38326.7,
          37480.5,
          35964.3,
          33654.200000000004,
          33837.3,
          32943.7,
          32350.3,
          31508.4,
          31443.7,
          31254.8,
          31597,
          31914.3,
          33042.2,
          34600.7,
          36223.2,
          36900.7,
          37012.4,
          36613.700000000004,
          36573.7,
          35899.8,
          35108.3,
          34540,
          35735.5,
          36397.4,
          37626.3,
          37925.4,
          36292.9,
          34694.3,
          33526.9,
          32545.8,
          31598.5,
          30563.8,
          30551,
          29723.6,
          29979.5,
          29619.8,
          30065.300000000003,
          30570.5,
          32431.100000000002,
          34346.9,
          35494.8,
          35137.6,
          35424.1,
          34285.5,
          32862.3,
          31676,
          32322.2,
          34585.3,
          35333.8,
          33520.7,
          32491.5,
          30272.2,
          29398.6,
          29729.4,
          29037.4,
          28651.2,
          28949.6,
          29394.5,
          30171.7,
          35468.1,
          37971.1,
          40079.5,
          40914,
          40521.3,
          40296.9,
          40049.799999999996,
          40188.799999999996,
          39806.2,
          38594,
          37966.5,
          37730.4,
          37519.5,
          38363.4,
          37802.9,
          35067,
          32136.2,
          30035.6,
          28905.8,
          28226,
          28491,
          28733.8,
          28187.699999999997,
          29407.3,
          32226.8,
          34826.3,
          36151.5,
          37140.1,
          36987.6,
          37228.4,
          37772.4,
          36530.8,
          37099.299999999996,
          35405.1,
          34970.9,
          36128.9,
          38250.2,
          37253.3,
          36323.2,
          34262.8,
          31714.1,
          29676.2,
          28094.4,
          27867.9,
          27796.4,
          27279.699999999997,
          27734.300000000003,
          28896.3,
          32407.8,
          34253.700000000004,
          35087,
          35537,
          35868.2,
          36140.9,
          37524.4,
          36864.3,
          35912.2,
          34369.9,
          34246.3,
          35285.6,
          36529.6,
          36724.6,
          35715,
          35285.1,
          32640.8,
          30388.2,
          28777.2,
          28201.6,
          28283.899999999998,
          28679.300000000003,
          28629.3,
          29318,
          33354.7,
          36078.6,
          36120.9,
          36057.4,
          36319.4,
          35470.8,
          35363.7,
          36251.5,
          35853,
          35368.4,
          32609,
          33766.9,
          35727.9,
          35824.8,
          35354.7,
          34302.8,
          31361.800000000003,
          30068.3,
          29133.2,
          29270.5,
          28712,
          29043.6,
          28827.2,
          28971.9,
          31385.4,
          33602.3,
          34477.6,
          34930.1,
          35128.3,
          35827.2,
          36813,
          36059.5,
          34876.8,
          33473.8,
          34193.5,
          34747.1,
          35344.2,
          34883,
          34709.9,
          33572.2,
          31802.8,
          31881,
          31248.100000000002,
          30118.1,
          29684.5,
          30121.4,
          30056.4,
          30154.4,
          31222.1,
          31948.7,
          34151.9,
          36269.6,
          36730.8,
          36877.7,
          37391.7,
          36512.2,
          34882.1,
          33495.8,
          32568.9,
          34334.1,
          35965.1,
          36153.200000000004,
          35690.2,
          34915.200000000004,
          33470.6,
          30386.6,
          29181.5,
          28224.8,
          27401.100000000002,
          27344.100000000002,
          27255.4,
          27382.6,
          26501,
          27124.9,
          28727.399999999998,
          31192.1,
          32647.4,
          33120.9,
          33204.700000000004,
          33677.1,
          32123.2,
          30750.9,
          30220.800000000003,
          31788.7,
          34104.1,
          35482.4,
          34911.9,
          33179.4,
          31009.7,
          29733.8,
          28406.6,
          27920.1,
          27354,
          26934.1,
          27480.4,
          28816.7,
          33098.2,
          34896.4,
          36490,
          37677.7,
          37592,
          38529.3,
          38393.1,
          37703,
          38020.1,
          37077.5,
          36193,
          35627.6,
          37133.700000000004,
          38058.799999999996,
          36782.8,
          35126.9,
          32731.2,
          31853.6,
          30999,
          30669.6,
          30445.600000000002,
          30074,
          30718.899999999998,
          31024.5,
          33294.700000000004,
          35123.6,
          36121.799999999996,
          36327.1,
          36315,
          36150.7,
          36445.9,
          35363.3,
          34624.3,
          34376.700000000004,
          34286.5,
          35166.5,
          37338.5,
          37247.3,
          36010.9,
          33636.9,
          31730.2,
          31134.100000000002,
          30963.5,
          30392.8,
          30373.399999999998,
          29801,
          30123.100000000002,
          31426.7,
          33514.2,
          35487.200000000004,
          36385.200000000004,
          36310.5,
          36107.5,
          35898.6,
          36264.1,
          35226.9,
          34979.5,
          33378.2,
          34228,
          33120.6,
          34777.6,
          35395.4,
          34542.5,
          31879.7,
          28901.2,
          28649.100000000002,
          28418.7,
          27908.6,
          27925.7,
          27034,
          25965.8,
          27493.7,
          32350.1,
          33703.1,
          34472,
          34216.1,
          34793.8,
          33523,
          33725,
          32962.6,
          33119.700000000004,
          33547.2,
          33358.4,
          34951,
          35620.6,
          35450.6,
          34084.1,
          31485.100000000002,
          28646,
          27544.1,
          26468.100000000002,
          25669.5,
          25839.4,
          25836.5,
          25038.4,
          27585,
          31677.9,
          35153.2,
          36355,
          36345.6,
          37180.5,
          38795.5,
          38829.4,
          37437.6,
          37522.9,
          36240.5,
          34114,
          34466.1,
          35241.2,
          34450.6,
          34439.4,
          33168.8,
          30708.2,
          29462.6,
          27769.6,
          27534.100000000002,
          27596.2,
          27291.3,
          27099.6,
          28424,
          27692.7,
          29048.2,
          30746.4,
          32870.4,
          33563.7,
          34052.2,
          33722.6,
          33483.2,
          32621.5,
          31398.8,
          30518.5,
          31627.9,
          33304.1,
          33298.6,
          34672.2,
          33610.6,
          30595.9,
          27778.2,
          27189.800000000003,
          26348.1,
          27204.6,
          26783.600000000002,
          26781.4,
          26919.6,
          26944.8,
          27174.4,
          29809,
          31858,
          33297.8,
          34537,
          35761.7,
          35516,
          33859.6,
          32656.7,
          31781.7,
          32797.4,
          34513.9,
          35684.700000000004,
          35120.4,
          33730.2,
          31422.300000000003,
          30628.4,
          29029.2,
          28186.3,
          28046,
          28159,
          29317.5,
          31219.600000000002,
          33477.8,
          35852.4,
          37715,
          39202.5,
          37809.5,
          37623.8,
          37809.6,
          37890.4,
          37667.9,
          36558.4,
          36097.1,
          36336.1,
          38133.4,
          39025.4,
          37608.5,
          35457.3,
          33851.2,
          32543.300000000003,
          31676.3,
          31005.100000000002,
          30777.600000000002,
          30827.5,
          31265.5,
          31872.100000000002,
          34608.6,
          36622,
          38194.3,
          39245.5,
          38900.1,
          39137.1,
          38760.9,
          39246.8,
          37738.5,
          37436.5,
          37097.9,
          37843.7,
          40292.8,
          40106.2,
          38580.2,
          35802.1,
          33614.8,
          34196.6,
          32284.6,
          31467.1,
          30703.600000000002,
          30905.9,
          31264.3,
          33650.4,
          36227.9,
          37560.1,
          39101.4,
          39157.5,
          37919.4,
          38804.5,
          38542.1,
          38274,
          37175.8,
          35105.9,
          34557,
          34999.9,
          37088.1,
          36492.7,
          36900.1,
          34106.4,
          31310.5,
          29846.5,
          31550.5,
          30717.4,
          30151,
          30554.600000000002,
          31453.3,
          31006.600000000002,
          33526.9,
          35117.8,
          36405.2,
          36773.4,
          36226.700000000004,
          36672.8,
          37061.3,
          36590.1,
          35543.2,
          35253.4,
          34242.1,
          35255.4,
          37300.700000000004,
          37989.8,
          36729.9,
          33718.4,
          30533.9,
          30681.8,
          30834.699999999997,
          30314.899999999998,
          29668,
          29684.7,
          30303.5,
          31227.5,
          33130.8,
          34789.8,
          36125.5,
          36424.9,
          36015.9,
          38569.2,
          39342.4,
          38549.2,
          37660.4,
          37189.3,
          35249.7,
          35024.7,
          36141.3,
          35810.5,
          35726,
          33712.3,
          31890.9,
          31078.7,
          29934.199999999997,
          28850.5,
          28614.6,
          28689.9,
          27959.7,
          28440.8,
          28065.499999999996,
          29230.3,
          30375.3,
          32681.7,
          33245.9,
          33856.1,
          33984.4,
          33292.299999999996,
          31549.399999999998,
          29906.8,
          29252.7,
          29804.1,
          31913.9,
          32721.8,
          33587.4,
          32575.9,
          29705.1,
          28247.4,
          27145.3,
          26033.4,
          25292.9,
          25525,
          25876.8,
          26530.1,
          26908.2,
          27913.5,
          29554.7,
          31569.7,
          32236.8,
          32357.2,
          33272.5,
          33365.9,
          32434.8,
          31236.5,
          30122.8,
          30166.600000000002,
          32865.1,
          34269.2,
          34026.2,
          32573.7,
          30709.9,
          28666.7,
          26839.9,
          26639.8,
          26712.5,
          26714.199999999997,
          27987.4,
          29735.899999999998,
          33163.2,
          35409.9,
          37080.9,
          38455.3,
          36623.1,
          36688.7,
          37300,
          36688.700000000004,
          35550.299999999996,
          34702.4,
          33668.9,
          35552.4,
          37744.5,
          38549,
          37966.4,
          34586.1,
          31609.3,
          31143.1,
          30028.7,
          29267.9,
          28852.4,
          29030.5,
          29590,
          31034.199999999997,
          33136.6,
          35025.9,
          36383.3,
          37094.7,
          35809,
          36604.8,
          37813.1,
          36971.1,
          35484.1,
          35063.4,
          33685.1,
          33687.9,
          35729.9,
          36280.3,
          35345.3,
          32883.9,
          31332.3,
          28093,
          27501.7,
          27299.5,
          26921.2,
          28617.5,
          27383.7,
          28978.5,
          32047.2,
          34298,
          35713,
          37272.1,
          36871.2,
          36742.6,
          37056.3,
          35867.3,
          36875.4,
          36580.8,
          34086.6,
          34371.7,
          36979.4,
          37163.3,
          36435.7,
          33410.8,
          31115.6,
          30883.100000000002,
          30427.3,
          29813.6,
          29559.1,
          29526.1,
          29483.3,
          30291.399999999998,
          33481.2,
          35863.299999999996,
          37203.1,
          37312,
          37365.7,
          36420.7,
          36332.9,
          34723.2,
          34772.8,
          34120,
          33388.7,
          34017.8,
          35902.7,
          36532,
          34968.1,
          32563.6,
          30348.9,
          29548.600000000002,
          29220,
          28565.5,
          28454.2,
          28648.9,
          29055,
          30136.3,
          33630.1,
          36007.2,
          37423.7,
          37772.6,
          37200.8,
          37197,
          37996.1,
          37136.299999999996,
          35831.2,
          35366.299999999996,
          34436,
          34618.799999999996,
          36698.9,
          37751,
          37075.9,
          34850.4,
          32321.600000000002,
          32065,
          30824.9,
          29966.6,
          29239.600000000002,
          29987.7,
          30085.600000000002,
          30709.8,
          30555.2,
          31508.100000000002,
          33888.1,
          35996,
          36929.1,
          37482.6,
          37260.8,
          36309.1,
          35183.8,
          34186.1,
          33186.8,
          33164.7,
          34148.1,
          34490.1,
          34401.3,
          32828.8,
          30664.5,
          28628,
          27933.7,
          26883.8,
          26733.6,
          26934.6,
          27032.8,
          27599.100000000002,
          27033.4,
          27818.4,
          29507.6,
          31557,
          32233.8,
          32507.8,
          34043.1,
          34712.5,
          32456.100000000002,
          31670.2,
          30707.9,
          30696.7,
          33027.8,
          34861.6,
          34042.6,
          32376.399999999998,
          30322.9,
          28957.199999999997,
          27851.9,
          27566.1,
          27661.8,
          28070.100000000002,
          28196.4,
          28982.7,
          32734.800000000003,
          35510.2,
          37232.200000000004,
          38244.2,
          37396,
          37092.7,
          37109.7,
          36174.9,
          35610.1,
          34898.3,
          34794.4,
          35342.8,
          35297.200000000004,
          36746.3,
          35656.7,
          32156.5,
          29854.8,
          27640.3,
          26372,
          25456.3,
          25250.2,
          26123.5,
          27296,
          28331.300000000003,
          31942.600000000002,
          33978,
          35036.3,
          34689.9,
          34982.6,
          36031,
          36268.7,
          36616.7,
          36423.1,
          35952.1,
          33772.9,
          33748.7,
          34849.1,
          35379.6,
          34667,
          32513.600000000002,
          30957.2,
          29200,
          28901.5,
          28307,
          28296.4,
          28641.5,
          28884.2,
          30088.3,
          33710.6,
          35513.1,
          36784.1,
          37539.7,
          37593.2,
          38262.7,
          39417.4,
          38501.9,
          37878,
          36750.3,
          35585.6,
          34850.1,
          37285.7,
          36692,
          34728.7,
          33559,
          30085.5,
          30300.5,
          28777.1,
          28039.7,
          28222.8,
          27286.6,
          27524.3,
          29492.8,
          32851.3,
          33367.6,
          34431.4,
          34310.3,
          35109.5,
          35268.5,
          34954.8,
          33592.7,
          33944.5,
          34222.9,
          33413.7,
          35228.9,
          35095.1,
          36246.5,
          34885.3,
          35050.6,
          31748.6,
          29360.3,
          28150.800000000003,
          27909.6,
          27677,
          27818.9,
          28437.5,
          30464,
          33116.1,
          35666.2,
          35890.8,
          35755.1,
          35843.2,
          35369.2,
          35727.4,
          34531.5,
          33327.8,
          32744.8,
          33497,
          33899.3,
          34222.2,
          35239.1,
          34467.9,
          31842.2,
          29469.300000000003,
          29863.1,
          28230.899999999998,
          27919.5,
          28093.3,
          27263.8,
          27268.7,
          27420.199999999997,
          27738.100000000002,
          29535,
          31452,
          33274.4,
          33348.4,
          33829.6,
          34077.2,
          34081.6,
          33242.3,
          32670.300000000003,
          31507,
          30634.7,
          33018.5,
          34255.9,
          34204.9,
          32001.2,
          30147.5,
          29277.5,
          28473.5,
          27547.3,
          26351.6,
          25589.899999999998,
          25465.100000000002,
          25682,
          25894,
          27286,
          29708.3,
          32202.4,
          32897.7,
          33129.8,
          33109,
          32619.7,
          32634.2,
          31540.399999999998,
          30123.1,
          29024,
          31593.899999999998,
          32902.7,
          33219,
          31972.100000000002,
          30468.4,
          27868.4,
          27443,
          26943.3,
          26268.2,
          26092.3,
          26700.3,
          27804.5,
          30977.7,
          33966.4,
          36320.8,
          37031.6,
          37631.5,
          37048.5,
          36476.4,
          35933.8,
          34780.1,
          35105.1,
          34028.4,
          34427.8,
          36431.8,
          35977.9,
          35164.5,
          32819.3,
          31010.3,
          27023,
          25658.2,
          25771.8,
          25716.6,
          25131.899999999998,
          24833.9,
          29588.600000000002,
          33136.9,
          35429.3,
          36736.1,
          37593.9,
          37536.2,
          37225.7,
          36820.2,
          35925.6,
          35234.9,
          35440.2,
          35302.7,
          34993.6,
          36838,
          36185.1,
          35605.799999999996,
          32456.600000000002,
          29200.2,
          27111.2,
          26717.600000000002,
          25793.600000000002,
          25712.4,
          24757,
          25963.5,
          27768.5,
          32004.3,
          34513.8,
          35603.6,
          36244.2,
          36893.9,
          37103,
          36754.2,
          35949.8,
          34947.1,
          34186.7,
          33941.7,
          34452.5,
          34944.1,
          36284.7,
          34767.9,
          31912.2,
          29264.899999999998,
          26864,
          25762.1,
          24901.5,
          24731.5,
          24821.3,
          24769.399999999998,
          28273.100000000002,
          32103.7,
          34221.8,
          35652.9,
          35797.4,
          35371.9,
          35054.2,
          34547.3,
          34535.9,
          33926.8,
          32821.7,
          32284,
          32303,
          35120.8,
          36257.5,
          34327.3,
          32291.5,
          29176.8,
          26770.1,
          25836.3,
          25525.8,
          25562.6,
          25931.399999999998,
          25708.3,
          27276.9,
          32014.5,
          33772.5,
          34667.4,
          35241.6,
          35442.6,
          35421.700000000004,
          34431.6,
          33296.5,
          33038.3,
          32300.8,
          32606,
          34064.1,
          35378.8,
          35256,
          34031.799999999996,
          31706.899999999998,
          28820.3,
          29098.7,
          27442,
          26527.1,
          26040.7,
          25528.2,
          25790.7,
          26101.8,
          26955.899999999998,
          27953.7,
          28904.8,
          30254.600000000002,
          32136,
          31501.2,
          31898.7,
          31804.399999999998,
          31839.3,
          29351.3,
          27672.5,
          29601.7,
          29944.2,
          31354.5,
          30851.1,
          29801.9,
          27714.3,
          25407.5,
          23904.1,
          22768.399999999998,
          22366.6,
          22448.5,
          22736.8,
          23291.8,
          23562.4,
          24345.9,
          27237.8,
          29043.9,
          29379.6,
          28969,
          28602.6,
          28830.399999999998,
          29148.100000000002,
          27982,
          27393.3,
          28963.899999999998,
          29789.2,
          30623.1,
          31182.8,
          30350.8,
          27758.600000000002,
          25131.6,
          24080.1,
          23804.2,
          24396.5,
          24678.7,
          24690.5,
          27760.8,
          31045.199999999997,
          33800.2,
          35985.3,
          36814.5,
          36702.6,
          35742,
          35061.5,
          33936.3,
          33515.5,
          33826.9,
          33700.1,
          34479,
          36767.6,
          38143,
          34930.9,
          33135.1,
          30043.300000000003,
          27842.6,
          27009.399999999998,
          27226.800000000003,
          27201.600000000002,
          27075.4,
          27228.9,
          28945.4,
          32997.7,
          35522.2,
          36843.3,
          36982.6,
          35159.1,
          35638.1,
          35590.3,
          34700.200000000004,
          32997.3,
          33606.3,
          33511.7,
          34000.1,
          36766.4,
          36412.3,
          35489.1,
          33386.1,
          31194.7,
          27639.7,
          25927.2,
          25354.9,
          25079.7,
          25031.6,
          25102.3,
          28874.100000000002,
          33013.6,
          35335.3,
          35522,
          35264.8,
          35581,
          35120.9,
          35181.4,
          34637.7,
          33864.8,
          32677.4,
          30657.1,
          31674.4,
          34770.5,
          37346.8,
          35728.1,
          32955,
          29878.5,
          27381,
          27450.4,
          27167.7,
          28345.7,
          26698.9,
          27759.9,
          28951.1,
          30822.8,
          33822.8,
          34948.3,
          35446.4,
          35194.1,
          35358.5,
          35392.8,
          35283.700000000004,
          34438,
          33148.5,
          32301.5,
          31324.9,
          34317.9,
          35303.7,
          34787.2,
          33046.5,
          29702,
          28174.5,
          27879.8,
          26992.9,
          26760,
          27106.3,
          27111.3,
          28022.9,
          32104,
          34476.3,
          33704.3,
          34284.1,
          35419.3,
          35348.4,
          37129.299999999996,
          36341.6,
          34658.2,
          33121.3,
          31345.3,
          30468.5,
          32136.399999999998,
          34445.1,
          34494.5,
          31240.1,
          29794,
          26756.3,
          26083.7,
          26047.1,
          25771.7,
          24837.4,
          24621.8,
          25066.8,
          25233.899999999998,
          26605,
          29676.6,
          32870.7,
          33961,
          33290.1,
          34941.700000000004,
          33876.5,
          33406.6,
          31992.2,
          30543.7,
          27748.4,
          29470.600000000002,
          31675,
          30992.8,
          31392.5,
          29264.600000000002,
          26237,
          24745.1,
          23468.7,
          24284.4,
          24128.100000000002,
          24465.9,
          23538.6,
          23997.7,
          25739.3,
          28221.7,
          31329.4,
          33316.2,
          34010.6,
          34352.200000000004,
          33954.2,
          33326.9,
          29375.8,
          28839.5,
          27751.7,
          30013.1,
          30860.6,
          32162.4,
          30144.7,
          27257.3,
          25790.9,
          24104.6,
          23261.5,
          23411.9,
          23568.8,
          24741,
          28461.100000000002,
          31363.5,
          35111.200000000004,
          36054.1,
          35843.4,
          36150.6,
          36672,
          37826.5,
          36343.6,
          35186.9,
          34575.6,
          33268.4,
          32763.8,
          35167.2,
          37557.8,
          36859.3,
          34058.4,
          30653.100000000002,
          30561.600000000002,
          28573.100000000002,
          27837.500000000004,
          27361.7,
          27822.800000000003,
          28648.9,
          29182.4,
          32007.9,
          34505.9,
          35481.7,
          36025.1,
          36311.1,
          36187.8,
          36332.1,
          36146,
          35958.8,
          35098.6,
          34502,
          34444.4,
          36242.8,
          37825.9,
          37009.8,
          33834.3,
          31270.3,
          29818.3,
          28712.9,
          28705.3,
          28757.2,
          28956.7,
          29012.8,
          29830.5,
          33086,
          35259,
          36204.6,
          36701.1,
          37133.7,
          38062.1,
          38248.9,
          38560,
          38323.4,
          37422.9,
          35862.9,
          33482.7,
          34890.9,
          37105.1,
          37136,
          34890.6,
          31228.7,
          29774.3,
          28497.6,
          27601.4,
          27413.6,
          27140.4,
          28198.7,
          29647.600000000002,
          32983.2,
          35710.200000000004,
          36195.700000000004,
          37152.4,
          37197.4,
          37682.799999999996,
          37662.9,
          37230.5,
          35819.700000000004,
          36430,
          34538.4,
          35003.1,
          36211.8,
          38233.1,
          37435,
          34268,
          31799.2,
          29986.899999999998,
          28213.9,
          27181.8,
          26925.7,
          27009.600000000002,
          27356.2,
          27412,
          29098.5,
          31668.2,
          34011.7,
          35737.299999999996,
          35938.8,
          36991.4,
          37274.8,
          36216.3,
          36057.6,
          35343.9,
          33664.1,
          32536.600000000002,
          34647.3,
          36764.7,
          35735.6,
          34127.9,
          31553.4,
          29569.4,
          28635.100000000002,
          28038.9,
          28316.600000000002,
          28799.1,
          28842.9,
          29481.3,
          29094.6,
          31475.7,
          34039.7,
          35721.5,
          36675.9,
          36958,
          37684.2,
          37592,
          36934.1,
          36334.7,
          34167.1,
          31009.399999999998,
          33160.299999999996,
          35214.3,
          35583.8,
          33242.4,
          31644.6,
          29271.199999999997,
          27673.9,
          27125.7,
          26139,
          26222.2,
          26062,
          26089,
          26020.5,
          27368.3,
          30662.7,
          33545.5,
          34428.1,
          34699.3,
          34526.4,
          34224.2,
          33431.7,
          32316.2,
          30762.600000000002,
          29472.2,
          32091.1,
          33894.4,
          32945.5,
          32817.8,
          30894.2,
          27624.100000000002,
          27581.7,
          27237.2,
          27135.9,
          26392.4,
          27263.8,
          28457.800000000003,
          32242.8,
          34516.1,
          35839.2,
          36006.4,
          36006.6,
          36377.1,
          36004.3,
          34684.2,
          34578.200000000004,
          33220.2,
          33083.8,
          33251.5,
          35567.3,
          35956.1,
          35372.3,
          34196.5,
          30925.9,
          26511.6,
          25784.7,
          24952.4,
          24698.899999999998,
          24964.6,
          25461.8,
          28013.800000000003,
          31884.4,
          34679.2,
          35335.4,
          34930.2,
          34408,
          33651.1,
          33774.8,
          32664.1,
          32407.1,
          31317,
          33008.1,
          33258.8,
          34140.3,
          34855.5,
          34743.9,
          32021.9,
          28820.2,
          26938.6,
          25298,
          24280.300000000003,
          23878.8,
          24109.5,
          25246.899999999998,
          27154.8,
          30463,
          33182.1,
          34614,
          34893.8,
          34098.3,
          33697.2,
          33534.5,
          32532.2,
          31762.3,
          31424.8,
          31363.3,
          33595.6,
          34654.7,
          35197.9,
          34997.6,
          32265.3,
          28959.4,
          26685.6,
          25505.300000000003,
          24757,
          24219.2,
          24388.9,
          25337.8,
          28226,
          30241.7,
          32502.1,
          34340.5,
          33927.9,
          33326,
          33280.9,
          32861.3,
          32315.7,
          31861.8,
          31154.7,
          30498.9,
          31987.7,
          32077.6,
          34366.9,
          34145.8,
          31793,
          28331.1,
          26300.7,
          24800.9,
          23616.5,
          23357.5,
          23411.9,
          24121.1,
          26569.3,
          29515.5,
          32889,
          33906.9,
          33808.1,
          34466.4,
          34197.5,
          33257.6,
          33220.1,
          33192,
          33305.3,
          31498.9,
          32654.3,
          34094.6,
          33538.299999999996,
          32251.8,
          30929.9,
          28172.6,
          26688.7,
          26231.899999999998,
          24692.4,
          26816.8,
          26570,
          26727.399999999998,
          26766.9,
          27136.5,
          30150.600000000002,
          31273,
          33107.1,
          33531.700000000004,
          31318.4,
          32660.1,
          33150.6,
          32075.1,
          31571.1,
          27840.699999999997,
          27177,
          29332.1,
          30066,
          30150.8,
          28661.7,
          27827.2,
          25094.3,
          24134.600000000002,
          23516.699999999997,
          23614.2,
          23021.4,
          22818.2,
          23698.1,
          24395.4,
          26534.6,
          27863.7,
          28783.3,
          30220.7,
          30429,
          30774.5,
          30772,
          29874.1,
          29230.9,
          27312.899999999998,
          27068.1,
          29316.2,
          30913.100000000002,
          29551,
          28797.600000000002,
          26156.7,
          26119.8,
          26029.1,
          25261.8,
          25103.3,
          25253.4,
          27795.1,
          31608.4,
          33123,
          34102.8,
          33681,
          32451.8,
          33762.4,
          35784.5,
          38675.3,
          37925.1,
          37621,
          37148.4,
          34483.1,
          34163.9,
          34825.8,
          34093.9,
          31822.2,
          28152.2,
          27476.9,
          25915.8,
          24840.1,
          24514.9,
          24324.4,
          24913.399999999998,
          28500.2,
          32482,
          33233.200000000004,
          34558.5,
          32496.1,
          36021.2,
          35977.1,
          34714.7,
          33534.3,
          32817.3,
          33147.3,
          33863.299999999996,
          33604.9,
          33325.6,
          34798.7,
          35479.2,
          31949.9,
          28884.1,
          26578.100000000002,
          25378.399999999998,
          23512.6,
          23918.5,
          23599.7,
          24140.6,
          29373.2,
          31947.9,
          32656.5,
          34638.7,
          33014.2,
          34782.4,
          33791.9,
          32979.8,
          32909.1,
          32835.1,
          32615.8,
          31726,
          31599.1,
          32042.899999999998,
          32583,
          33644.9,
          31764.5,
          29121.9,
          27409.7,
          26552,
          26375.9,
          25961.5,
          26348.7,
          25546.1,
          25305,
          26442.399999999998,
          27349.1,
          28853.8,
          29296.8,
          31223.4,
          31173.3,
          32062.8,
          32497.7,
          31216.4,
          28462,
          26474.600000000002,
          25980.5,
          26530.8,
          26761.7,
          28675.8,
          27653.5,
          25766.5,
          24256.2,
          23037.1,
          22491.3,
          22238,
          22342.8,
          22351.1,
          21993.8,
          22284.6,
          23641.6,
          24960.3,
          26776.4,
          28594.6,
          28800.7,
          29307.3,
          30346.899999999998,
          30756.7,
          29872.300000000003,
          29292.6,
          26545.6,
          26353.100000000002,
          26977,
          29430.7,
          29091.3,
          27878.5,
          25066.9,
          23789,
          23085.7,
          23394.7,
          23439.9,
          23890.9,
          23337.9,
          23182.6,
          24046.399999999998,
          25643.6,
          28060.2,
          31150.6,
          32695.7,
          33514.1,
          32692.600000000002,
          31658.5,
          31382.600000000002,
          30180.3,
          29581,
          29217.7,
          28351.7,
          28496.6,
          28143.1,
          27698.5,
          26819.9,
          25991.1,
          25080.2,
          24637.9,
          24533.4,
          24459.6,
          24606.5,
          24433.300000000003,
          25055.3,
          27207.1,
          28031.1,
          29444.4,
          30138,
          31347.1,
          31380.5,
          30374.3,
          29338.6,
          27576.1,
          26408.7,
          26147.899999999998,
          26381.6,
          29045.1,
          27903.5,
          26671.6,
          24104,
          23232.2,
          22571,
          22005.9,
          21813.6,
          21957,
          22478.1,
          24538.800000000003,
          25811.6,
          27820.7,
          30102.8,
          29598,
          30039.600000000002,
          29698.100000000002,
          29554.600000000002,
          29718.7,
          29946.7,
          29801.5,
          29361.399999999998,
          27897.7,
          27789.6,
          29773.9,
          29142.3,
          27902.4,
          24680.5,
          25606.8,
          25149,
          24931.8,
          24734.6,
          25563,
          26985.7,
          30435.000000000004,
          32820.5,
          34285.3,
          34571.799999999996,
          34930.5,
          35183.6,
          35494.5,
          35428.3,
          35525,
          35131.6,
          34720.8,
          33147.5,
          32150.300000000003,
          33847.6,
          35206.3,
          32616.6,
          30348.4,
          30182.9,
          29322.7,
          28571.4,
          27775.6,
          27329.6,
          27381,
          28135.4,
          30900.199999999997,
          32596.8,
          34038.7,
          33842,
          34056.1,
          34895.2,
          33633.6,
          32827.6,
          32430.5,
          31911.5,
          31267.6,
          32738.9,
          32466.600000000002,
          34269.2,
          36133.6,
          33800.8,
          30081,
          28364.100000000002,
          27057.899999999998,
          26306.7,
          25993.7,
          25559.100000000002,
          25721.2,
          28586.800000000003,
          31993.7,
          33994.9,
          35334.7,
          35141.7,
          34519,
          33581,
          33949.5,
          33224.7,
          31171.5,
          31159.5,
          31655.2,
          32980.200000000004,
          32707.5,
          34155.1,
          33484.7,
          31796.600000000002,
          29083.6,
          27354.3,
          24566.3,
          23678.9,
          23159.3,
          22998.3,
          24536.1,
          29079.5,
          31018.1,
          32234.800000000003,
          34911,
          34371.8,
          33506.6,
          33946.6,
          34274.200000000004,
          33815.9,
          32710.1,
          31611.2,
          31515.9,
          32418.600000000002,
          32578.5,
          34554,
          32586.3,
          29662.6,
          27648,
          26144.5,
          25717.399999999998,
          24395.3,
          23316.4,
          23192.4,
          22930.4,
          23908.2,
          24593.3,
          26546.3,
          28884.2,
          29830.6,
          30684.3,
          29901.7,
          29336.1,
          29522.7,
          29263.9,
          28331.199999999997,
          26807.6,
          26575.6,
          26326.6,
          28696.5,
          30387.1,
          29266.9,
          26888.1,
          25370.2,
          24681.1,
          23678.9,
          23374.8,
          22858.5,
          22778,
          22779.6,
          22997.899999999998,
          24040.8,
          25596.7,
          27153.4,
          29286.3,
          31416.4,
          31490.600000000002,
          32936.1,
          32625.499999999996,
          32642.5,
          32202.8,
          31192,
          30080.3,
          30404.9,
          33377,
          31717,
          29795.3,
          28330.399999999998,
          27095.4,
          26136,
          25833.3,
          25699.3,
          25730.2,
          27739.500000000004,
          30909.8,
          33724,
          34470,
          34480.8,
          34907.3,
          35375.5,
          35082.8,
          34794.200000000004,
          33644.8,
          33439.8,
          31456.3,
          31429,
          31513.2,
          35065.7,
          35786.5,
          33698.6,
          30744.9,
          26557.2,
          25591.6,
          25144.899999999998,
          24499.9,
          24437.9,
          25005.3,
          28944.2,
          31546.7,
          33553.1,
          34666.9,
          35262.6,
          35811.5,
          35327.1,
          33786.6,
          32187,
          31747.7,
          31769.1,
          32605.6,
          32483.3,
          34411.5,
          35144.4,
          34507.4,
          32430.100000000002,
          29557.8,
          26713.7,
          24996.7,
          24055.3,
          23684.6,
          24094.1,
          25585,
          28806,
          32329,
          33925.1,
          35318.8,
          35705.9,
          34565.9,
          33430.8,
          32568.4,
          32198.3,
          31292.6,
          31341.2,
          31336.399999999998,
          33637.1,
          33952.1,
          35443.1,
          37224.2,
          33534.1,
          31178.3,
          28296.5,
          27221.1,
          27556.699999999997,
          26882.1,
          27139.9,
          27952.8,
          29214.1,
          31924.5,
          33323.9,
          35080.4,
          35568.9,
          34890.8,
          34197.5,
          34057.2,
          34746.9,
          34752.7,
          33973.4,
          33256.7,
          31515,
          33235.4,
          35903.4,
          36317.7,
          33880.8,
          30614.1,
          28063,
          25913.3,
          25418.2,
          24941.7,
          24759.5,
          26213.5,
          30261.7,
          31926.5,
          34197.2,
          34692.2,
          35309,
          35004.3,
          35108.3,
          34323.6,
          34052.6,
          32882.4,
          32633.9,
          33531.2,
          32807.9,
          31821.1,
          34035.5,
          33738.1,
          33037.5,
          30890.3,
          29273.6,
          26745.9,
          25327.1,
          23807.5,
          23064.5,
          24006.3,
          25779.4,
          26291.399999999998,
          28610.5,
          29316.5,
          30243.6,
          31078.899999999998,
          31875.9,
          32094.399999999998,
          33587.5,
          32117.3,
          32189.5,
          31840.3,
          29845.100000000002,
          29514.3,
          29434.5,
          31222,
          30696.899999999998,
          28753.2,
          26885.4,
          24907.4,
          23593.399999999998,
          23168.1,
          23020.6,
          23130.8,
          23870.5,
          23817.2,
          23924.5,
          25437,
          27959.2,
          29089.600000000002,
          29554.1,
          31342.9,
          31117.9,
          31246.4,
          29667.4,
          27743.9,
          27437.2,
          27376.5,
          27446.4,
          29376.3,
          29051.899999999998,
          26522.9,
          25367.7,
          24170,
          23868,
          23712.100000000002,
          23668.7,
          24374.9,
          27508.6,
          31163.699999999997,
          33810.2,
          34541.3,
          35355.2,
          35904.1,
          34245.1,
          32400.1,
          31620.8,
          31424.5,
          30909.9,
          31762.7,
          32234,
          33057,
          34958.3,
          35128.7,
          32072.1,
          29434.100000000002,
          25674.7,
          24748.3,
          24082.7,
          24112.4,
          24205,
          24871.7,
          29821,
          31910.6,
          34124.9,
          34732.1,
          35018.1,
          32733.8,
          33020.2,
          32322.3,
          32356.6,
          32680.7,
          31959,
          31434.3,
          32365.3,
          32110,
          33806.8,
          35333.9,
          31619.9,
          27580.8,
          26839.1,
          25605.5,
          24216.5,
          23905.2,
          23802.8,
          24446.5,
          27367,
          31762.4,
          32790.7,
          32872.1,
          33523.4,
          33899.3,
          33227.4,
          33723,
          33511.9,
          33041,
          32695.6,
          31585.2,
          31339.7,
          32561.8,
          32223.6,
          33853.1,
          31200.399999999998,
          28991.100000000002,
          26137.8,
          24928.6,
          24427.3,
          24153,
          24000.8,
          24680.3,
          27323,
          31654.199999999997,
          33157.3,
          33685.6,
          34135.3,
          34207,
          34864.3,
          35350.6,
          35094.2,
          33995.1,
          32212.3,
          30933.899999999998,
          31227.5,
          32621.1,
          33610.5,
          33658.2,
          31335.6,
          28144,
          26183.6,
          24793.4,
          23388.5,
          23040.5,
          23548.2,
          23575.2,
          27974.1,
          31410.899999999998,
          33887.8,
          32985.7,
          33423.7,
          33775,
          34439.5,
          34718,
          32727.1,
          32223.100000000002,
          31811.100000000002,
          32320.4,
          30138.3,
          31174.9,
          30853.2,
          32478.9,
          29971.4,
          28028.1,
          25463.7,
          24820.8,
          24086,
          24828.100000000002,
          24288.800000000003,
          24586.7,
          23152.6,
          23595.8,
          25216.6,
          27684.2,
          29413.4,
          31013.3,
          31844.6,
          32248.2,
          31684,
          31867.3,
          31199.1,
          30681.7,
          29551.199999999997,
          27479.1,
          29086.1,
          31327.3,
          29004.6,
          28003.3,
          24882.2,
          24401.3,
          23961.100000000002,
          23751.2,
          22700.5,
          22034.2,
          21986.6,
          22641.9,
          23752.699999999997,
          25405.3,
          27507.7,
          28913.1,
          29772.2,
          30202.9,
          30705.7,
          30416.8,
          29440.2,
          29443.9,
          29104.8,
          28342.1,
          28560.7,
          29809,
          29241.9,
          27366.7,
          24872.1,
          23740.6,
          22904.3,
          22886.699999999997,
          23230.8,
          23983.7,
          25828.1,
          28248.1,
          30659.5,
          32537.800000000003,
          33352.7,
          34758.8,
          34807.2,
          33875.4,
          33079,
          32078.2,
          31297.100000000002,
          31989.3,
          31901.4,
          30120.2,
          32325.3,
          32823.5,
          30946.8,
          28509.3,
          25427,
          23991.7,
          23306.1,
          23284.2,
          23619.800000000003,
          23932.1,
          25943.2,
          28730.5,
          32069.6,
          33829.4,
          34829.1,
          35361,
          34553.7,
          34638.6,
          33685.3,
          33278.6,
          33101.5,
          34667.7,
          33112,
          33699.3,
          35137.4,
          35003.4,
          32219.6,
          29019.6,
          25776.5,
          25254.4,
          24801.4,
          24183.1,
          24257.7,
          24236,
          25917.899999999998,
          29536.7,
          31616.100000000002,
          32048.4,
          33137.3,
          33388.1,
          34081.9,
          34139.6,
          33209.9,
          32377.3,
          32299,
          32099.5,
          31802.399999999998,
          30990.8,
          31297.3,
          32953.2,
          31611.600000000002,
          28610.5,
          25776.4,
          25597.8,
          24944.1,
          24291.4,
          24613.600000000002,
          24965,
          25780.1,
          29411.4,
          31613.5,
          32431.6,
          34259.7,
          33668.8,
          33900,
          34454.2,
          33626.3,
          33665.8,
          33631.6,
          33364.7,
          32129.3,
          30623.6,
          32617,
          32789,
          31265.399999999998,
          27882.7,
          26493.7,
          25381,
          24647.600000000002,
          24303.1,
          23760.7,
          25082.1,
          27076.5,
          29523.4,
          31602.800000000003,
          32455,
          33418.600000000006,
          32866.8,
          33264.6,
          33384.2,
          31989.8,
          32743,
          32199.8,
          32274,
          31289.1,
          28974.6,
          30266.3,
          30691.6,
          29018.8,
          28196.899999999998,
          25717.5,
          24710.8,
          23822.5,
          23222.5,
          23623.1,
          23847.2,
          23449,
          23801.8,
          25439.2,
          28487.9,
          30869.2,
          31775.3,
          32454.6,
          33733.9,
          33534.1,
          32027.399999999998,
          30114,
          28885,
          28409.399999999998,
          27795.7,
          27733.1,
          28390,
          28213.3,
          26580.8,
          25329.4,
          25185.9,
          24139.7,
          24339.4,
          23714.5,
          23897.3,
          23997.3,
          24523,
          25235.9,
          27259.8,
          29573.399999999998,
          30073.6,
          29555.8,
          29981.8,
          30355.8,
          30286.2,
          29232.9,
          28778.9,
          28806.4,
          27377.8,
          28051.2,
          28224.3,
          30865.8,
          28134.9,
          25698.3,
          26191.199999999997,
          25739.5,
          25587.5,
          24687.9,
          23869.5,
          24665.5,
          29334.8,
          30912.899999999998,
          31276.5,
          31187.5,
          31244.3,
          31658.2,
          31657.1,
          32244.6,
          32755.399999999998,
          32281.6,
          30392.7,
          29458.399999999998,
          29793.1,
          30888,
          31474.5,
          30197.3,
          27715.7,
          24940.5,
          23825.9,
          22933.7,
          22749.8,
          23065.6,
          23788.1,
          26098.8,
          28360.8,
          30890.8,
          31503.7,
          32025,
          32309,
          33017.5,
          32690,
          32117.6,
          31903.2,
          31459.6,
          31133,
          30422.9,
          28880.7,
          30818.3,
          31814.2,
          30949.8,
          27773.6,
          25579.4,
          24194.9,
          22992,
          22864.1,
          22729.7,
          23173.8,
          26383.199999999997,
          30672.3,
          32777.2,
          33537.1,
          32519,
          32103.2,
          33890.1,
          33719,
          33237.1,
          32754,
          31666.5,
          31043.6,
          29950.3,
          28829.3,
          32745,
          33938.9,
          32781.7,
          29582.899999999998,
          26278.3,
          24343,
          23913.2,
          23360.2,
          23484.1,
          24527.1,
          28031.3,
          30456.8,
          32307.899999999998,
          33326.799999999996,
          33187,
          33248.6,
          37029.6,
          34850.700000000004,
          33787.6,
          33203.8,
          32893,
          32256.899999999998,
          31836.8,
          31332.8,
          33056.8,
          33046.5,
          31302.1,
          28513.800000000003,
          25823.7,
          25506.2,
          24609.8,
          24696.1,
          24660.1,
          24271.5,
          26214.5,
          29951.5,
          31784.899999999998,
          31870.4,
          32398.3,
          32958.799999999996,
          33653,
          33782.2,
          32994.3,
          32526.6,
          32363,
          31444.399999999998,
          30466.1,
          29392.4,
          30035.2,
          31399.8,
          29222.1,
          27418.4,
          26231.5,
          25903.7,
          25261.3,
          24525.2,
          24029.3,
          23983.1,
          24130.600000000002,
          24622.5,
          26333.8,
          28672.7,
          32363.300000000003,
          34063.8,
          34872.5,
          34302.1,
          34498.3,
          32837.6,
          32432.7,
          32632.6,
          31666.3,
          30659.2,
          28865,
          31885.3,
          31504.6,
          30093.7,
          28214.2,
          26864.5,
          25365.8,
          25581.399999999998,
          24575.3,
          26095.5,
          25391.800000000003,
          24304.3,
          26306.5,
          28192.6,
          29826,
          31397.7,
          34232.2,
          33208.299999999996,
          32086.9,
          29617.7,
          27219.2,
          29111.8,
          30625.7,
          30559.7,
          30330.9,
          32967.3,
          31852.3,
          30639.100000000002,
          25800.4,
          24249.1,
          24480,
          25099.3,
          24801.7,
          25513.8,
          27598.6,
          29608.1,
          30202.3,
          32221.100000000002,
          33920.6,
          33942.4,
          34923.2,
          35214.3,
          34629.2,
          34209.6,
          32485.5,
          31146.4,
          31461.7,
          31125.2,
          31781.3,
          33246.9,
          31255,
          28468.9,
          27159.8,
          26670.9,
          26851.3,
          27275.1,
          27633.4,
          28025.899999999998,
          29136.9,
          30446.7,
          32889.700000000004,
          35780.6,
          37460.8,
          38707.5,
          39232.3,
          39632.5,
          39051.6,
          38640.9,
          37337.8,
          36093,
          34317.3,
          32418.3,
          32380.2,
          31984.7,
          30145.1,
          27513.5,
          26986.3,
          25647.5,
          25819.1,
          25990.699999999997,
          25889.3,
          26230.8,
          27719.3,
          30069.600000000002,
          32333.8,
          32972.5,
          33353.6,
          34479.4,
          35584.3,
          36539.2,
          37356.3,
          34665.2,
          33768.5,
          34197.9,
          36692.1,
          35778,
          34421.7,
          33263.8,
          30932.399999999998,
          29590.2,
          26977.8,
          25950.100000000002,
          25253.600000000002,
          24924,
          25393.600000000002,
          25125.2,
          27459.5,
          28921.6,
          30134.2,
          31960.4,
          33462.2,
          34359.8,
          35165.3,
          35500.8,
          35146.3,
          35565,
          35181.8,
          34505.3,
          34315.8,
          33316.2,
          32883.4,
          31946.5,
          31906.3,
          30473.5,
          28679.399999999998,
          26714.3,
          25853.7,
          24929.1,
          24994.5,
          25077,
          27332.1,
          29040.5,
          31074.600000000002,
          33520.6,
          34142.8,
          33852.8,
          33988.2,
          34983.3,
          34692,
          33679.5,
          32965.3,
          32412.899999999998,
          33296.9,
          32924.5,
          30375.7,
          30811.7,
          29614.8,
          28779.2,
          26806.1,
          24840.600000000002,
          24318.4,
          23974.4,
          23634.9,
          23545.7,
          23618.3,
          24607.600000000002,
          27005.7,
          29620.7,
          32665.6,
          34187.200000000004,
          36059.8,
          36658.8,
          36425.1,
          35540,
          34612,
          33555.5,
          33378.6,
          31738.4,
          29875.8,
          30657.899999999998,
          30101.3,
          29024.8,
          28687.3,
          26838.9,
          26458.399999999998,
          25357.1,
          25198.6,
          24745.5,
          24952.199999999997,
          26194.4,
          27570.600000000002,
          30322.600000000002,
          32625.3,
          33593.5,
          35487.5,
          35359.200000000004,
          34753.2,
          31881.3,
          31067,
          31093.1,
          30381.8,
          30530.2,
          30116.9,
          30019,
          28892.8,
          27314.800000000003,
          25818.3,
          24309.7,
          23583.4,
          23242.7,
          22976.2,
          22972.899999999998,
          24186.899999999998,
          27427.3,
          28608.4,
          30199.2,
          30855.8,
          31704.5,
          32635.8,
          32786,
          32331.2,
          32834.3,
          31912.8,
          31424,
          29976.100000000002,
          28252.5,
          29418.4,
          30724.3,
          30481.9,
          27425.9,
          25221.899999999998,
          24032.399999999998,
          23807.6,
          23231.3,
          23177.5,
          23589.6,
          27148.8,
          29444.2,
          31423.6,
          32501.6,
          34464.3,
          34384.8,
          34760.4,
          34592.9,
          33501.9,
          33533.7,
          33520.6,
          33234.6,
          33165.7,
          32011.1,
          31625.1,
          31692.7,
          32264.1,
          28769.100000000002,
          25603.1,
          24444.5,
          24337.8,
          23404.8,
          23220.300000000003,
          23745.8,
          26147.5,
          28461.3,
          30929.100000000002,
          30984.3,
          32208.9,
          33184.1,
          33129.8,
          33811.9,
          33439.7,
          33510.6,
          33670.7,
          32311.399999999998,
          31096.6,
          31666.6,
          30698.8,
          32147.9,
          31780.2,
          29383.3,
          26893.899999999998,
          25557.3,
          24779.4,
          24213,
          24507.9,
          24792,
          25937.8,
          28523.1,
          30083.1,
          33069.1,
          32527.4,
          33192.3,
          33411,
          33416.5,
          32938.3,
          32563.1,
          32387.9,
          32205.7,
          31487.6,
          31281.6,
          30649.5,
          31732.3,
          30371.5,
          28075.6,
          25530.7,
          24577.7,
          24265,
          24058,
          23102.7,
          23099,
          24647.2,
          27350.7,
          29923.1,
          31078.3,
          31999,
          32331.8,
          32882.9,
          33611.6,
          34211.9,
          35479.5,
          35219.4,
          34806.3,
          35253.9,
          34260.5,
          31949.1,
          32225.800000000003,
          30569.899999999998,
          27628.3,
          26694.1,
          25907.8,
          24601.5,
          23894.1,
          23085.3,
          23143.600000000002,
          23180.2,
          23167.4,
          25283.8,
          27827.5,
          29179,
          30423.3,
          30340.5,
          31507.3,
          31399.3,
          31683.7,
          30885,
          31602.5,
          31247.2,
          29000,
          29155.9,
          28649.8,
          28019.1,
          27050.2,
          24741.2,
          23574.2,
          22788.7,
          21804.4,
          21039.1,
          20867.8,
          21050.4,
          21046.5,
          22583.2,
          25597.5,
          27263.5,
          27245.6,
          27273.4,
          28185.1,
          27787,
          27670.4,
          27750.1,
          27031.2,
          26755.7,
          25860.5,
          25576.1,
          27240,
          27628.1,
          26292.4,
          24403.5,
          24162.8,
          24188.4,
          24112.7,
          24529.800000000003,
          24780,
          25280.300000000003,
          27215.3,
          29835.1,
          31991.3,
          32864.7,
          33611,
          35110.3,
          34509.6,
          33756.2,
          34133.3,
          33539,
          33104.8,
          32830.5,
          31373,
          29520.5,
          29934.1,
          28659.100000000002,
          26840.2,
          24394.5,
          23427.100000000002,
          22909.2,
          22583.4,
          22760.5,
          23522.3,
          25304.5,
          28208.7,
          29905.5,
          31988.5,
          31843.3,
          32898.700000000004,
          34516.5,
          34125.1,
          33267.1,
          32728.399999999998,
          32319.7,
          32115.3,
          32769.1,
          32849,
          32871.7,
          32733.8,
          32608.3,
          29102.9,
          26523.9,
          26075.899999999998,
          25267.2,
          23993,
          25013.7,
          24994,
          25991.2,
          28960.1,
          30091.100000000002,
          31123.5,
          32209.8,
          32945.5,
          33321.9,
          33652.5,
          33274.6,
          32762.9,
          31789,
          31589.7,
          31294.2,
          30999.6,
          30950.2,
          31906.8,
          30404.6,
          28464,
          26390.2,
          25429,
          24844,
          23920.3,
          24021.6,
          24132.5,
          25336.8,
          28353.3,
          30230.4,
          31975.3,
          35070.7,
          36507.7,
          36604.4,
          36435.4,
          35758.1,
          34821.7,
          34999.8,
          34427.4,
          33226.2,
          32189.8,
          31618.5,
          32525.7,
          31220.3,
          28154.4,
          26158.3,
          24662.2,
          23776,
          23052.600000000002,
          22953,
          23349.9,
          25236.5,
          28063.7,
          29824.199999999997,
          31171.5,
          31423.600000000002,
          32226.8,
          33281.3,
          33309,
          32905.8,
          32104.8,
          31534.2,
          31466.1,
          30682.4,
          30710.8,
          29789.1,
          30464.6,
          28938.1,
          27020.5,
          25384.4,
          24124.2,
          23223.4,
          22678.5,
          23807.2,
          23799.9,
          24070.6,
          24290.4,
          25758,
          28202.100000000002,
          29929.300000000003,
          30320.8,
          30749.699999999997,
          30814.6,
          30370.5,
          29939.5,
          29912.9,
          29988.4,
          28404.4,
          27484.2,
          26894.1,
          27277.7,
          27540.8,
          26958,
          25578.4,
          24026.5,
          23061.7,
          22370.800000000003,
          21984.1,
          22319.2,
          22321.8,
          21991.8,
          24137.1,
          26828.399999999998,
          28106.6,
          28920,
          30435.5,
          30937.399999999998,
          30588.6,
          31881,
          31875.3,
          30759.4,
          29787.5,
          27771.6,
          25675.7,
          25945.899999999998,
          26806.4,
          25576.5,
          24953,
          24116.5,
          23589.300000000003,
          22581.4,
          22911,
          23487.600000000002,
          24775.5,
          26420.300000000003,
          29981,
          31838.3,
          31993.3,
          33478.8,
          32968.8,
          33434.5,
          33884.1,
          33146.2,
          33724.4,
          33327.3,
          32299.9,
          31396.300000000003,
          30341,
          30790.5,
          30012.3,
          28519.800000000003,
          26320,
          25537.7,
          24579.399999999998,
          24179.899999999998,
          23832.899999999998,
          24048.7,
          26011,
          29127,
          31044.4,
          32058,
          33931.6,
          35107.8,
          35258.1,
          35369,
          34251,
          33610.9,
          34067.5,
          33655.299999999996,
          31652.199999999997,
          29579.3,
          30759,
          30783.100000000002,
          30020.3,
          27850.3,
          26534.8,
          25626.5,
          25006.9,
          24442.8,
          24278.100000000002,
          24724.6,
          26813.3,
          28784.7,
          30596,
          31654.5,
          32128.2,
          33167.2,
          33736.9,
          34015.5,
          33326.6,
          33215.5,
          32610.6,
          32010.8,
          30705.9,
          30080.3,
          30385,
          31070.2,
          30654.5,
          28640.4,
          26632.5,
          25477.3,
          23934.5,
          24112.3,
          23745.899999999998,
          24227.9,
          26196.899999999998,
          29069.5,
          30440.1,
          30765.8,
          31375.5,
          32004.600000000002,
          32618.300000000003,
          33002.1,
          33159.3,
          33643.2,
          33608.1,
          31734,
          30986.4,
          30054.5,
          30452.3,
          30450.5,
          31027.3,
          28902,
          27271.2,
          25028.8,
          24416.2,
          24220.1,
          23790.7,
          24406.7,
          26215.6,
          28739.3,
          31117.399999999998,
          31430.6,
          30885.6,
          31510.2,
          32049.3,
          31913,
          32167,
          31807.6,
          33042.8,
          31696.3,
          30101.2,
          29857.8,
          29809.6,
          29856.8,
          30012,
          28816.1,
          25625.5,
          24742.1,
          23880.5,
          23272.1,
          23406.5,
          23203.9,
          23607.2,
          24700.7,
          25289,
          26438.7,
          27529.800000000003,
          28315,
          28978.3,
          29276.2,
          28438.9,
          28057.399999999998,
          26678.2,
          26942.600000000002,
          28504.9,
          28244.2,
          27262,
          28596.5,
          27606.5,
          26414.7,
          24140.7,
          23362.8,
          22637.8,
          22395.4,
          22670.600000000002,
          22681.3,
          22836.4,
          23499.100000000002,
          25266.3,
          27822.2,
          29290.3,
          30440.6,
          31092.9,
          31609.600000000002,
          31523.8,
          31425.6,
          30907,
          30083.100000000002,
          29877.600000000002,
          27042.2,
          28045.2,
          28170.399999999998,
          28537.5,
          28700.6,
          26147.8,
          26168.3,
          25240.8,
          24562.899999999998,
          24105.3,
          24038.5,
          25461.4,
          27787,
          30219.6,
          31604.899999999998,
          31841.1,
          33230.9,
          33399.1,
          33173.3,
          33652.3,
          33704.5,
          32310.8,
          32340.6,
          30938,
          31778.8,
          30487.899999999998,
          31002.1,
          30517.5,
          28956.199999999997,
          26921.4,
          25490,
          24597.4,
          23931.7,
          23907.5,
          24216.1,
          26051.5,
          28599.5,
          29825.4,
          31408,
          32197.4,
          33601,
          34418.9,
          35236.5,
          34965,
          34850.1,
          34422.2,
          33463.1,
          31054.1,
          31836.2,
          31129.6,
          31571.100000000002,
          30813.7,
          28409.100000000002,
          26745.9,
          25287.899999999998,
          24559.4,
          25130.5,
          25005,
          25111,
          26507.9,
          28798.1,
          30921.7,
          32759.8,
          33865.7,
          34859.5,
          35927,
          36266.4,
          35767.4,
          35653.3,
          35292.3,
          33914.8,
          32391,
          32550.800000000003,
          31668.4,
          31150.2,
          31271.6,
          30318.100000000002,
          27353.5,
          26493.3,
          24871.1,
          24927.9,
          24752.9,
          25141.3,
          26916.6,
          28972.1,
          30938.5,
          32222.399999999998,
          32085.9,
          32888.5,
          34060.5,
          34581.6,
          34521.1,
          33939.5,
          33275.5,
          32910.9,
          32475.7,
          34259.4,
          32196.8,
          32295.7,
          32679.7,
          30525.4,
          27948.1,
          26445.9,
          25405.2,
          24589.5,
          24946,
          25221,
          27751.5,
          28650.3,
          30912.2,
          33429.2,
          33051.1,
          33205.5,
          34361,
          35159.9,
          35429.9,
          34518.9,
          33969.6,
          35327.5,
          33873.8,
          31788.3,
          31421.9,
          31849.3,
          31608.6,
          29287.5,
          28387.2,
          27426.5,
          26425.3,
          25487.1,
          24291.6,
          23915.9,
          23451.399999999998,
          24497.5,
          26182.2,
          28413.2,
          30349.9,
          31261.6,
          31530.2,
          32218.2,
          31970.6,
          31693.1,
          32140,
          31717.199999999997,
          30977.8,
          30992.5,
          30231.399999999998,
          29367.5,
          28394.7,
          27407.6,
          25745.100000000002,
          24382.5,
          23625.7,
          22868,
          22375.5,
          22795.6,
          23235,
          23101.1,
          24044,
          26505.3,
          28172.2,
          29392.9,
          31063.9,
          31019.8,
          30819.5,
          30855.7,
          31033.3,
          30596.800000000003,
          29914.7,
          29927.100000000002,
          28481.2,
          28435.9,
          29464.6,
          28230.8,
          26092.2,
          24793.5,
          23909.4,
          23064.3,
          23192.1,
          23594.4,
          26751.6,
          28281.7,
          30356.6,
          31470.1,
          32405.5,
          33130.1,
          34152.1,
          34567.8,
          34838.4,
          34569.6,
          35349.1,
          35113.7,
          34761.5,
          34256.299999999996,
          33263.6,
          32831.5,
          33223.4,
          30599.9,
          27374.1,
          26038.4,
          26058.3,
          26213.1,
          26085.8,
          26123.4,
          26904.4,
          29079.8,
          30809.4,
          33160.9,
          33330.2,
          34051.4,
          35469.5,
          36514.9,
          36802.4,
          35878.8,
          35087.4,
          34233.7,
          33588.2,
          34088.3,
          33186.9,
          32401.2,
          32464.4,
          29237,
          27184.3,
          25978,
          25442.4,
          25910.1,
          25979.3,
          26949.1,
          28166.3,
          31508.8,
          32417.2,
          33486.7,
          34418.4,
          34691.1,
          35324.4,
          35667.1,
          35094.1,
          35031.5,
          34962.1,
          33646.1,
          34212.5,
          33998,
          33345.1,
          32253.8,
          31804.2,
          29394.899999999998,
          26702.5,
          25422.9,
          25447.100000000002,
          25008.9,
          25589.1,
          25811.5,
          27283.100000000002,
          29453.600000000002,
          31061.6,
          33683.7,
          34535.2,
          34947.299999999996,
          34858.9,
          35461.6,
          34724.1,
          33567.4,
          33913.7,
          33192.8,
          33321.4,
          33689.9,
          33719.8,
          31554.600000000002,
          31854.1,
          29363.4,
          27236.1,
          25601.4,
          24929.8,
          24202.6,
          24219.9,
          24609.1,
          26034.8,
          29547.7,
          32362.9,
          33963,
          32709.7,
          32856.3,
          32737.7,
          33076.8,
          33359.3,
          33231,
          32897.9,
          32544.899999999998,
          31007.300000000003,
          30579.8,
          29154.1,
          29713.2,
          28881.8,
          27174.5,
          26617.8,
          26373.9,
          25088.8,
          23964,
          24305.3,
          23705.2,
          24145,
          24662.4,
          26126.9,
          28431.2,
          30277,
          31406.4,
          31379.2,
          31861.7,
          31311.399999999998,
          30821.3,
          31180.899999999998,
          29779.199999999997,
          29292.8,
          27136.2,
          25745.1,
          27206.3,
          27255.399999999998,
          26281.9,
          25658.6,
          24356.4,
          23869.2,
          24840.6,
          24206,
          23933.8,
          24290.6,
          24708.399999999998,
          26470.699999999997,
          27816.8,
          30614.3,
          32026.800000000003,
          32213.7,
          32922.5,
          31600,
          31140.7,
          30121.4,
          30221.399999999998,
          29689.5,
          30050.1,
          29196.3,
          27807.7,
          28967.3,
          27201.199999999997,
          25777,
          26661.699999999997,
          26805.4,
          26221.4,
          25986.5,
          25564,
          25681,
          29767,
          31847.5,
          32118.5,
          33244.5,
          32841,
          34070,
          34447.4,
          34230.1,
          34918.1,
          34752.4,
          32922.6,
          31829.9,
          31777,
          29538,
          30249.399999999998,
          30041.3,
          27718.7,
          26424.1,
          25093.1,
          24364.7,
          23761.4,
          23364.6,
          24119.5,
          26129.5,
          28990,
          30943.100000000002,
          31850.3,
          32253.6,
          32754,
          33480.200000000004,
          34018.3,
          33817,
          32851.8,
          33860.6,
          33139.2,
          32537.9,
          33284.9,
          29931.2,
          30921.7,
          30055.5,
          28009.6,
          26815.399999999998,
          25466.3,
          25642.2,
          25062.5,
          23951.3,
          24161.8,
          25448.6,
          28673.8,
          30933.2,
          32080.8,
          32124.7,
          33088.4,
          36392.6,
          35876.7,
          34737.4,
          32913.8,
          32545.8,
          31745.2,
          31846.5,
          30112.8,
          30188.8,
          30095.1,
          29594.8,
          28798.6,
          26356.399999999998,
          26064.5,
          25130.2,
          24312.399999999998,
          23743.9,
          23523.5,
          25116.3,
          27052.3,
          28557.3,
          29466.6,
          30658.6,
          30602.3,
          31623.2,
          33075.1,
          32940.7,
          31815.5,
          31463.3,
          30473.1,
          30742.9,
          30270.8,
          28753.1,
          28756.9,
          29074.9,
          29510.5,
          27576.899999999998,
          26587.2,
          25320.7,
          24802.2,
          24586.9,
          24878.5,
          25625.8,
          29052.300000000003,
          31601.2,
          31591.3,
          31822,
          32837.4,
          34092.5,
          34875.1,
          34425,
          33392.5,
          32918.3,
          32277.4,
          31842.9,
          32125.6,
          30887,
          30517.8,
          30234.5,
          28963.5,
          27478.2,
          26542.6,
          25904.5,
          24547.9,
          23841,
          23908.9,
          23963.8,
          24037.9,
          25933,
          29031.9,
          31092.100000000002,
          31671.5,
          32960.9,
          34081.5,
          33502,
          33025.3,
          32598.9,
          31747.5,
          29808.3,
          29375.7,
          28121.9,
          28740.5,
          29524.5,
          29581.2,
          27533.2,
          25501.5,
          24804.100000000002,
          23583.5,
          23244.7,
          23251.100000000002,
          23499.3,
          23012.7,
          25182.9,
          28784.5,
          30519.8,
          31865.5,
          33108.7,
          33902.8,
          33611.5,
          33443.1,
          33997.2,
          33776.6,
          34264.3,
          32761.3,
          30177,
          29352.2,
          28402.2,
          29035.7,
          27377.2,
          25743,
          25355.7,
          25178.1,
          24911.1,
          24019.8,
          25308.100000000002,
          27638.2,
          29773.9,
          30817,
          32020,
          33411.2,
          34501.9,
          34977.9,
          35333,
          36193.3,
          35063.3,
          34280.4,
          34059.8,
          33453.3,
          33608,
          32576.3,
          31190.100000000002,
          29311.1,
          27144.3,
          26104.4,
          25316.7,
          24946.8,
          25051,
          25703,
          27636.4,
          29232.5,
          32592.6,
          34213.4,
          34266.1,
          34756.6,
          35005,
          35780.2,
          35310.1,
          35666,
          34625.3,
          32842.7,
          32451.3,
          33403.3,
          31209.5,
          30852.6,
          33201,
          31871.2,
          27813.1,
          27213.6,
          26531.5,
          26177.4,
          26481.7,
          26067.9,
          27101.100000000002,
          29110.899999999998,
          31250.3,
          32874,
          33200.7,
          34223.5,
          34957.6,
          36015.9,
          39773.1,
          37976.9,
          36942.5,
          35908.1,
          34837.9,
          34890.2,
          33021.2,
          32846.6,
          32286.7,
          30215.9,
          28844.6,
          27531.3,
          26069.1,
          26160.6,
          25427.2,
          25828.1,
          27325.7,
          29437.7,
          32478.9,
          34953.9,
          35509.4,
          35779.4,
          36455.6,
          36218.2,
          36983.4,
          36868.5,
          36854.1,
          36050.5,
          36411.8,
          35634.7,
          33632.9,
          33522.2,
          32678.9,
          31836.5,
          28808.8,
          27456.100000000002,
          26737.3,
          26119.5,
          26023.9,
          26648.399999999998,
          28249.6,
          31235.1,
          33273.9,
          34711.9,
          34355.5,
          35342.9,
          36343.9,
          37595.9,
          37450.8,
          36504.3,
          36293.4,
          35275.200000000004,
          34977.7,
          34660.4,
          33853,
          34408.7,
          33720.9,
          30915,
          29763,
          28888.5,
          26812.5,
          25672.8,
          25101.800000000003,
          25006.5,
          25577.7,
          26459.9,
          26901.9,
          30244.5,
          32476.9,
          33291.4,
          34346.6,
          34470.9,
          33564.299999999996,
          33922.9,
          32172.800000000003,
          31125.2,
          32286.600000000002,
          31906.1,
          29764.6,
          29742.6,
          30071,
          30157.1,
          27589.100000000002,
          26057.5,
          25316.5,
          24803.7,
          24727.8,
          25568.2,
          25140.1,
          24814.2,
          26492,
          28418.4,
          31348.4,
          32808.7,
          34328.8,
          34378.3,
          34157,
          34471.1,
          34081.4,
          34026.2,
          33439,
          31835.3,
          30814.4,
          29784.1,
          30425.7,
          29966.6,
          28715.3,
          27280.300000000003,
          26062.3,
          25530.3,
          25512.4,
          25744,
          27467.2,
          28636.399999999998,
          30510.1,
          32620,
          34568.7,
          36411.1,
          38032.7,
          38850.700000000004,
          38984,
          38236.4,
          39234.5,
          38959.6,
          39099.2,
          36177.7,
          35495.2,
          33129.3,
          32816.8,
          31420.6,
          30272.5,
          28509.399999999998,
          27847.4,
          27452.899999999998,
          27559.1,
          27911.4,
          29422.3,
          30870.2,
          32706.4,
          34801.5,
          36402.6,
          36849.5,
          37116.700000000004,
          37593.5,
          38036.6,
          38274,
          38086.2,
          37641.1,
          36053.5,
          35810.2,
          34883.4,
          34774,
          33787.8,
          31229.1,
          30161.100000000002,
          28289.899999999998,
          26883.5,
          26406.2,
          26032.4,
          26102.5,
          27544.6,
          30694,
          32812.8,
          34838.5,
          35104.9,
          34578.700000000004,
          35153.3,
          36071.299999999996,
          35870.2,
          35028.2,
          34799.200000000004,
          34881.2,
          33520.4,
          33301.4,
          33296.6,
          33695.2,
          33302,
          30223.5,
          29368.2,
          27271.2,
          25814.6,
          25410.7,
          24967.1,
          25755.5,
          27630.199999999997,
          29421.5,
          32472.6,
          34775.9,
          35888.5,
          35048.5,
          36002.9,
          35614.9,
          35779,
          35226.3,
          34836.1,
          34805.7,
          34738.9,
          33595.9,
          32541.5,
          31717.3,
          33664.8,
          29702.4,
          29244.7,
          27554.100000000002,
          26523.7,
          26168.3,
          26656.600000000002,
          26374.8,
          27772.1,
          30172.9,
          32383.2,
          34924.5,
          33919,
          35834.3,
          36041.799999999996,
          36788.1,
          36786.3,
          36391.3,
          36305.799999999996,
          35458.3,
          34052.9,
          33315.4,
          32377.2,
          32356.9,
          32340.2,
          30628.8,
          28692.4,
          27925.699999999997,
          26005.8,
          25241.3,
          24418.8,
          24049.5,
          24271.699999999997,
          24214.8,
          26402.8,
          29759.4,
          31732.6,
          33031.5,
          33373.9,
          34144.1,
          33806.200000000004,
          33818.8,
          33644.6,
          32305.5,
          32140.5,
          31932.2,
          31632,
          31979.6,
          32918.2,
          31922.4,
          28757.8,
          27726.5,
          25764.8,
          24556.1,
          23834.8,
          23013.1,
          23329.5,
          23097.6,
          25489.7,
          28178.2,
          31289.7,
          33033.2,
          33692.5,
          35191.1,
          35955.1,
          37055.9,
          37030.3,
          34561.1,
          30517.4,
          31146.100000000002,
          30148.699999999997,
          30605.8,
          32212.9,
          31128.1,
          30503.9,
          28711.5,
          26850.5,
          26871.3,
          26843.3,
          25147.9,
          27842,
          31660.9,
          34208.799999999996,
          36214.3,
          37556.8,
          37168.3,
          38409.8,
          38645.3,
          39297.1,
          39351.4,
          39764.2,
          39747.2,
          39047.9,
          37718.4,
          35261.4,
          34503.2,
          33094.9,
          31725.7,
          29779,
          28068.3,
          26828.6,
          25960.8,
          25537.6,
          26034.6,
          27974,
          30412.7,
          34224.4,
          35337.700000000004,
          35744.4,
          35048.1,
          35533.3,
          35322.9,
          35809.200000000004,
          35890,
          35222.9,
          35372.2,
          34297.9,
          32887.3,
          31196.9,
          32378.1,
          32979.8,
          31168.6,
          29366.5,
          28573.9,
          27373,
          26596.9,
          26499.6,
          26867.7,
          27606.6,
          30010.7,
          31606.600000000002,
          34374.7,
          34883.1,
          35337.9,
          35659.5,
          37310.799999999996,
          37322.4,
          36947.8,
          36899.6,
          37000,
          36712.2,
          34776.7,
          34487.1,
          34079.2,
          33859,
          31113,
          29986.2,
          29645.2,
          29210.5,
          28482.5,
          28841.6,
          28292.1,
          28194.4,
          29447,
          31709,
          33433.4,
          34642.7,
          34972.6,
          36812.3,
          38295.6,
          36687.1,
          36050.1,
          36369.6,
          36393.3,
          36234,
          35112.9,
          35585.9,
          35030.5,
          35473.3,
          34391.7,
          31416.6,
          30036.300000000003,
          29234.6,
          28144,
          27167.1,
          27672.3,
          28553.3,
          29949.7,
          31444.5,
          32041.7,
          34641.6,
          36794.700000000004,
          37974.1,
          37763.6,
          37936.5,
          37412.8,
          37028.5,
          36997.7,
          35432,
          34572.2,
          33298.6,
          33526.2,
          33886.6,
          32754.699999999997,
          30918,
          29349.699999999997,
          27602.3,
          26022.6,
          25278,
          25209.1,
          25761.8,
          26265.2,
          27436.9,
          29687.1,
          31080.9,
          32529.6,
          33104.7,
          33029.7,
          33429.8,
          33340,
          33025.3,
          32796.4,
          33015.8,
          32398.7,
          31548.899999999998,
          31710.5,
          30759.4,
          29644,
          28300.4,
          27632.9,
          26049.2,
          24995,
          24454.3,
          23892.300000000003,
          23830.100000000002,
          23532.1,
          26079.7,
          28640.399999999998,
          30648.9,
          32137.100000000002,
          33691.1,
          33653.1,
          33769,
          33778.200000000004,
          33103.6,
          32898.3,
          32920.8,
          30959.2,
          30846.7,
          31576.5,
          31572.9,
          30966.9,
          28212.8,
          26851.2,
          25953.8,
          25105.5,
          24583.1,
          25010.2,
          27500.3,
          29513.8,
          31283,
          33852.7,
          34602,
          34849.3,
          35769.9,
          36913.8,
          36879.1,
          36033.4,
          36270.9,
          36506.3,
          35662,
          35683.3,
          34138.4,
          33546.5,
          34437.3,
          32003.600000000002,
          29623.199999999997,
          28158.9,
          27256.1,
          26701.5,
          25852.7,
          26171.1,
          27767,
          30048.8,
          31729.7,
          33922.4,
          35191,
          35648.4,
          36019.6,
          36078.6,
          36388.1,
          36160.3,
          36185.1,
          35768.3,
          34316.2,
          36414.1,
          34046.4,
          33962.3,
          33158.4,
          30946.3,
          30244.8,
          29131.8,
          27921.1,
          27332,
          27100.3,
          28002.5,
          30062.3,
          31105.8,
          32728.600000000002,
          34610.5,
          36027.5,
          36608.2,
          37524.5,
          37825.700000000004,
          38399,
          38392.799999999996,
          37133,
          36661.700000000004,
          35743.5,
          35138.1,
          33843.4,
          34116.7,
          34583.9,
          32421.5,
          30364.600000000002,
          28450.100000000002,
          27497.3,
          26245.2,
          26473.3,
          27025.7,
          29003.300000000003,
          30267.2,
          31674.7,
          32884.9,
          34334.4,
          35689.200000000004,
          37325.200000000004,
          38245.5,
          38265.5,
          37846.3,
          37793.6,
          37564.8,
          37405.4,
          35851.9,
          35638.1,
          35406.5,
          34278,
          32093,
          30553.8,
          28971.7,
          27118.5,
          26804,
          26792.7,
          26902,
          28427.8,
          30441.1,
          32102.9,
          34023,
          36660.6,
          37616.299999999996,
          38037,
          39082.2,
          40826.7,
          40979.5,
          41321.9,
          38762,
          37454.9,
          35642.5,
          34580.3,
          34323,
          33856.3,
          32074.8,
          30762,
          29046.8,
          28366,
          27193,
          26325.3,
          25837.3,
          25725.1,
          25545.3,
          26882.699999999997,
          29477.3,
          31371.899999999998,
          32459.1,
          33417.5,
          33985.7,
          34160.2,
          34359.8,
          34390.700000000004,
          33251.4,
          32121.3,
          32016.100000000002,
          32089.4,
          31894.7,
          32583.9,
          31070.9,
          28970.2,
          26968.1,
          26193.4,
          25509.399999999998,
          24597.9,
          24901.5,
          24686.8,
          24410.9,
          25585.7,
          27635.7,
          29425.6,
          30759.8,
          32234.2,
          32097.100000000002,
          31857.2,
          31010.9,
          31907.7,
          31999,
          30901.8,
          29739.7,
          29785.7,
          29652.3,
          30798.600000000002,
          29127.2,
          27564.8,
          26493.5,
          25692.3,
          25037.100000000002,
          24866.600000000002,
          25012.4,
          27369,
          29430.2,
          31147.2,
          32313.6,
          32906.4,
          34124.4,
          34917.9,
          35813.2,
          35776.7,
          34976,
          34319,
          33999.5,
          32983.4,
          33172.2,
          32317.2,
          31795.4,
          31566.6,
          29367.7,
          28738.1,
          26472.399999999998,
          25988,
          25155.9,
          25444.1,
          25627.9,
          27227.1,
          29793,
          31417.1,
          31909.6,
          33355.299999999996,
          35043.7,
          35972.1,
          36079.5,
          36192.8,
          36179.2,
          36214.8,
          37265.4,
          34653.5,
          33924.9,
          33802.1,
          33318.7,
          32948.6,
          30769.2,
          29962.1,
          28942.2,
          27229,
          26369,
          25943.6,
          26001.6,
          27009.8,
          28726.7,
          30488.399999999998,
          31694.1,
          33186.9,
          34572.4,
          35712.4,
          35964.4,
          36199.5,
          36468.700000000004,
          35706.200000000004,
          35436.6,
          35807.1,
          35175.9,
          34174.2,
          33315.6,
          33505.4,
          31841.2,
          30582.5,
          28960.7,
          27635.5,
          26823.5,
          26083.3,
          26088.2,
          27609.600000000002,
          29135.5,
          31069.399999999998,
          32740.8,
          34819.1,
          35786.5,
          37061.4,
          38180.8,
          38451.299999999996,
          38166.9,
          37401.5,
          36996.5,
          36368,
          35326.2,
          33529.799999999996,
          33915,
          34179.9,
          31003.2,
          30158.6,
          28679.7,
          26654.399999999998,
          26566,
          27206.6,
          27838.1,
          28850.1,
          29698.8,
          31498.5,
          33128.6,
          34810.7,
          35968.4,
          37481.5,
          37622.8,
          37044.1,
          37210.1,
          36338.5,
          36309.299999999996,
          36791.2,
          35715.4,
          33257.7,
          32124.1,
          32253.1,
          30628.7,
          30191.4,
          28771.9,
          27913.1,
          27165.8,
          26053.399999999998,
          25720.9,
          25490.1,
          25884.3,
          27534.3,
          30666,
          33131.7,
          34256.8,
          35512.1,
          36098.4,
          36001.700000000004,
          36123.9,
          36932,
          34817.6,
          33727,
          31295.9,
          30044.6,
          29792.8,
          30358.6,
          29662.5,
          27269.4,
          25906.7,
          25215.2,
          24429.4,
          23915.7,
          23682.9,
          23830.7,
          23743.1,
          24726.9,
          27283.6,
          29605.7,
          30492.7,
          31548.4,
          31521.1,
          31506.3,
          31470.2,
          31240.2,
          30572.5,
          30201.9,
          28425.2,
          28460.2,
          28517.7,
          30022.5,
          28746.4,
          27109.2,
          25930.1,
          24633.899999999998,
          23966.9,
          23910.1,
          24289,
          25870.2,
          27664.2,
          28635,
          30241.1,
          31472.3,
          32368.3,
          33154.2,
          33595.8,
          33582.4,
          33311.8,
          33167.7,
          31928.4,
          31995.3,
          31051,
          30427.7,
          31266.1,
          31582,
          30419.5,
          28730.6,
          27718.9,
          26659.9,
          26041,
          25966.4,
          25843.4,
          25915.4,
          27225.3,
          28925.5,
          30617.800000000003,
          31716.3,
          33042.8,
          33644,
          34386.8,
          34667.9,
          34122.7,
          33325.9,
          32991.9,
          32689.1,
          31531.3,
          30476.2,
          32181.100000000002,
          31821.300000000003,
          30130.6,
          27483.100000000002,
          26218.8,
          24902.9,
          24179.5,
          24037.6,
          24567.6,
          26443.3,
          27850.2,
          29376.5,
          31039.7,
          32718.5,
          34020.299999999996,
          35006.7,
          35879.5,
          35486.1,
          36544.7,
          35276.2,
          33914.2,
          33123.7,
          32185.8,
          30765.3,
          31019.9,
          30974.4,
          28722.9,
          28303.2,
          26395.1,
          25536.1,
          25025.4,
          24768.1,
          25130.2,
          26212.199999999997,
          28041.6,
          29162.7,
          30528.3,
          32918.1,
          35303.5,
          35931.2,
          36247.6,
          36407,
          36606.7,
          35961.9,
          35522.7,
          33881.8,
          33569.4,
          31761.5,
          32058.8,
          32550.7,
          31324,
          29599.899999999998,
          28843.8,
          26865.8,
          26271.3,
          26085.8,
          26483.2,
          27347.3,
          28177.2,
          29099.5,
          31069.7,
          33216.1,
          34667.7,
          35792,
          36379.5,
          35575.1,
          35032.5,
          34771.6,
          34708.5,
          34102.3,
          33404.5,
          32495.1,
          32344.2,
          32437.699999999997,
          30450.3,
          29139.5,
          28324.7,
          27305.3,
          26348.8,
          25512.6,
          25175.7,
          25205.1,
          25233.6,
          26708.8,
          29734.600000000002,
          31896.7,
          33700.2,
          34894.2,
          36182.9,
          36532.3,
          36338.6,
          35793.3,
          35132.3,
          33281.5,
          31569.300000000003,
          29891.2,
          30897.4,
          30794.1,
          28211.6,
          26350.4,
          25416.899999999998,
          24788.7,
          23688.2,
          23015.3,
          23079.2,
          23124,
          22979.8,
          23893,
          26394,
          28802.5,
          29606.699999999997,
          30906.6,
          30769.5,
          30443.899999999998,
          30304,
          30164.199999999997,
          29466.3,
          28589.1,
          27489.8,
          27562.5,
          29451.1,
          29743,
          28414.1,
          26910.5,
          25790.3,
          24697.9,
          24341.9,
          24259.4,
          24293.4,
          24792.399999999998,
          26477.9,
          28157.1,
          29600.7,
          31465.8,
          32675,
          33658.4,
          34284.1,
          34369.7,
          33941.6,
          33608.3,
          32559.100000000002,
          31859.4,
          30855.3,
          31110.6,
          31063.7,
          30227.5,
          28610.5,
          27827.199999999997,
          26814.2,
          25765.1,
          25035.9,
          25002.899999999998,
          24633.2,
          25690.2,
          27047.2,
          27914.3,
          30345.899999999998,
          32530.8,
          33217.5,
          33912,
          35014.2,
          35186.299999999996,
          35667.4,
          35205.2,
          34779,
          34258.3,
          31390.6,
          32090.6,
          32517.7,
          32036.5,
          29941.8,
          28460.8,
          26422.7,
          25799.5,
          25017.9,
          25148.6,
          25232.899999999998,
          26888.8,
          28748.2,
          29547.3,
          30655.2,
          32122.4,
          33586.6,
          34738.7,
          35592.9,
          36430.5,
          36308.8,
          36350.8,
          35089.7,
          33412,
          34346.5,
          33407.2,
          33327.8,
          34627.2,
          30865.1,
          28139.2,
          26653.3,
          25785.5,
          24621.9,
          24557.2,
          24779.5,
          26043.600000000002,
          28067,
          29788.8,
          31468.8,
          33490,
          34319,
          36375.3,
          37436.7,
          37695,
          38151,
          36965.6,
          36469.9,
          34188.700000000004,
          36014.700000000004,
          34431.1,
          34954.4,
          34626,
          33086.6,
          30786.6,
          30102.2,
          28743.7,
          28012.2,
          26827.1,
          27013.9,
          27658.1,
          28868.8,
          29574.100000000002,
          32050.600000000002,
          34291.5,
          35590.700000000004,
          36524.4,
          37087,
          37573.5,
          37610.6,
          37295.9,
          36770.200000000004,
          36119.8,
          35389.7,
          34727.6,
          35204.6,
          34944.4,
          32559.4,
          30506.2,
          28289,
          27732.8,
          27174.7,
          27150.7,
          26669.2,
          26940.600000000002,
          26234.399999999998,
          27148.2,
          29933.4,
          32312.6,
          33867.9,
          35822.8,
          36631.3,
          37144.7,
          37072.1,
          36432.8,
          35072.3,
          34893,
          33730.2,
          33012.5,
          33028,
          33423.6,
          31645.2,
          30731.1,
          27932.2,
          26835.2,
          26080.5,
          25447.100000000002,
          24578.3,
          24054.1,
          24183.4,
          24972.7,
          26605.3,
          28413.7,
          31023.1,
          32717,
          34365.6,
          34538.700000000004,
          34951.8,
          35643.1,
          35167.7,
          34414.8,
          33034.7,
          32404.899999999998,
          32999.9,
          33135.7,
          32699.7,
          30567.1,
          29174.4,
          29039.8,
          29112.9,
          28224.600000000002,
          28518.8,
          28821.4,
          30074.399999999998,
          30158.8,
          32483.199999999997,
          34310.1,
          36072.6,
          37708,
          38421.4,
          37942.1,
          38569.3,
          38231.2,
          38295.4,
          38198.9,
          36963,
          35639.2,
          35874.1,
          35409.1,
          32914.7,
          30521.5,
          30218.399999999998,
          29539,
          29157.1,
          28752.9,
          28605,
          29101.6,
          29421.8,
          30775.8,
          33596.4,
          35174.7,
          35661,
          36945.7,
          36528.5,
          36967.6,
          37206.9,
          37398.5,
          37116,
          36012.3,
          34275.6,
          35610.4,
          36340.9,
          35435.1,
          32894.2,
          30284.5,
          29044.100000000002,
          28028.5,
          27250.4,
          27138.5,
          27794.1,
          28805.8,
          29207.9,
          30780.5,
          32590.4,
          34150.5,
          35028.700000000004,
          36088.3,
          37019,
          36235.9,
          35581.8,
          35381.5,
          34766.5,
          34244.4,
          33010.1,
          32965.6,
          33807.700000000004,
          33123.1,
          31746.7,
          31065.8,
          29849.7,
          28415.300000000003,
          27701,
          27589.399999999998,
          27554.600000000002,
          28111.100000000002,
          27907.1,
          28596.9,
          30591.6,
          33113.9,
          33975.3,
          35174.3,
          34541.7,
          34607.4,
          34682.7,
          34418.2,
          33780.2,
          33480.3,
          32155.5,
          31121.5,
          32054.8,
          31654.6,
          30046.7,
          29008.8,
          27139.5,
          26156.8,
          25295.5,
          25587.2,
          25395.8,
          25922.699999999997,
          27042.8,
          27942.4,
          29360.3,
          31650.3,
          33149.1,
          34384.8,
          35054.299999999996,
          34873.4,
          34865.6,
          34396,
          33729,
          32808.1,
          30628,
          30790.8,
          31890.8,
          31096.3,
          29516.7,
          28265,
          27490,
          25818.9,
          24816.4,
          24702.6,
          24362.8,
          24510.7,
          24757.2,
          25636.3,
          27381.9,
          30016.1,
          30878.399999999998,
          31657.1,
          32259.3,
          32312.8,
          32850.8,
          32338.5,
          30660,
          30444.7,
          30687.6,
          30662.8,
          31716,
          31066.8,
          29714,
          27379.600000000002,
          26675.2,
          25578.8,
          24390.4,
          24158.9,
          24172,
          24162.5,
          23932.2,
          24461.9,
          26662.2,
          28344.9,
          29199.800000000003,
          30099.399999999998,
          31214.6,
          31200.7,
          31840.8,
          32106.9,
          31129.5,
          31479,
          30376.4,
          30878.9,
          32427.2,
          32778.2,
          31710.5,
          30067,
          29629.2,
          28025.199999999997,
          27308.899999999998,
          27539.4,
          27348,
          27996.6,
          28319.9,
          29272,
          31231.3,
          33798.3,
          35509.5,
          36444.7,
          38507.6,
          38259.3,
          37769.7,
          37187,
          36851.8,
          35994.4,
          35499.200000000004,
          34468.9,
          34784.3,
          33691.6,
          32083.5,
          31210.4,
          30374,
          28822.8,
          28047.2,
          28114.7,
          28261.1,
          29158.300000000003,
          29637.5,
          30633,
          33295.6,
          34667.1,
          35350.6,
          36314.9,
          37727.5,
          38229.4,
          37699.1,
          37043.5,
          36568.9,
          35621,
          35091.5,
          34864.3,
          35374.8,
          34629.600000000006,
          32106.5,
          29204.4,
          28253.2,
          26810.9,
          26303.7,
          25352.8,
          24758.2,
          26933.3,
          28601.7,
          29573.8,
          31283.3,
          32850.799999999996,
          34106.3,
          35005.6,
          36123.9,
          35385.2,
          34513,
          33645.3,
          33423.4,
          32748.6,
          32353.3,
          32400.4,
          33259.7,
          31655.7,
          30496.8,
          27961.3,
          26577.4,
          25603.7,
          25080.6,
          25034.5,
          25346.899999999998,
          26575.1,
          28399.2,
          31349.5,
          32832.6,
          34736.2,
          35117.9,
          35026,
          35661,
          35606.7,
          35934.9,
          35323.1,
          34652.1,
          33339.9,
          32227.8,
          32477.6,
          33258.2,
          31826.4,
          30116.100000000002,
          28717.1,
          27699.8,
          26868.2,
          26348,
          26222.5,
          26301,
          27905.7,
          29131.5,
          30217.3,
          31377.3,
          33383.299999999996,
          33976.3,
          35140.1,
          35845.3,
          36525.8,
          36395.6,
          36339.4,
          35465.4,
          35250.8,
          33681.4,
          33493.8,
          33690.3,
          32002.6,
          29964,
          28717.100000000002,
          27914.3,
          26940.5,
          26641.2,
          26116.7,
          25649.1,
          25778.1,
          26025.8,
          27241.1,
          28830.4,
          30723.8,
          32194.6,
          33826.1,
          34101.2,
          34132.700000000004,
          34409.4,
          33975.9,
          33850.8,
          33586.5,
          32189.5,
          32151.3,
          32467.7,
          32123.7,
          30262.600000000002,
          28043.4,
          27592.2,
          26359.7,
          25292.600000000002,
          25212.9,
          24923.5,
          24035.6,
          23922.9,
          24215.9,
          25912.5,
          28667.5,
          29757.3,
          31166,
          31092,
          31157.2,
          31338.7,
          30925.3,
          30248.7,
          29309.2,
          29303,
          29865.800000000003,
          31469.6,
          32111.9,
          30203,
          27985.899999999998,
          26990.6,
          25829.5,
          24806,
          24539.5,
          24589.2,
          26472.8,
          28285.3,
          29779.8,
          31492.2,
          33295.8,
          34774.700000000004,
          34805.5,
          35171.9,
          35331.2,
          34347.2,
          33924.6,
          33194.799999999996,
          33240.2,
          31557,
          31242.2,
          33586.7,
          32394.6,
          30989.8,
          28768.8,
          27545.5,
          26838.9,
          26234.9,
          25813.2,
          25433.1,
          26505.8,
          28920.9,
          30283,
          31707.6,
          33111.6,
          34522.200000000004,
          36901.1,
          37590.8,
          36916.8,
          36534.7,
          36092.5,
          35149.6,
          33850.6,
          32921.4,
          32912.3,
          34149.4,
          32721.8,
          30981.5,
          28424.1,
          27660.4,
          26640.9,
          26306.9,
          26646.3,
          26351.6,
          26909.5,
          29080.2,
          30618.8,
          31769.7,
          33178.3,
          33981.6,
          35995.200000000004,
          36726.8,
          36475.5,
          35696.4,
          35652.1,
          34313.9,
          31832.5,
          31171.600000000002,
          31246.6,
          32414.7,
          30708.5,
          28817.4,
          26848,
          25654.6,
          25997.8,
          25537,
          25313.399999999998,
          25922.8,
          27492.6,
          29258.2,
          30419.3,
          31491.1,
          32168.7,
          33043.4,
          34171,
          34805.6,
          34500.5,
          34014.2,
          33461.3,
          33097.4,
          32798,
          31579,
          31847,
          32529.5,
          30887.5,
          28891.899999999998,
          27908,
          27316.1,
          25934.399999999998,
          25205.8,
          24710.1,
          24957.5,
          26767.1,
          28680.2,
          30022,
          31371,
          32869.1,
          34357.8,
          34861.9,
          35026.5,
          34901,
          34354.9,
          34470.200000000004,
          34271.3,
          32337.1,
          30844.2,
          31393.4,
          32605.4,
          30595.600000000002,
          28687.600000000002,
          27571.7,
          26547.2,
          25859,
          24886.9,
          24750,
          24563.9,
          24529.2,
          24645.2,
          26061.3,
          28536.7,
          30444.5,
          31620.3,
          32182.4,
          32442.7,
          33234.9,
          32589.9,
          32366.100000000002,
          31511.8,
          30195.9,
          30380.5,
          30098.5,
          31494.9,
          30841.800000000003,
          29869.8,
          28109.399999999998,
          26334.9,
          25149.2,
          24183,
          23996.1,
          23808.4,
          23736.8,
          23494.699999999997,
          24580.1,
          26469.5,
          28901.2,
          30773.4,
          31869.3,
          32069,
          32468.199999999997,
          31956.1,
          31649.899999999998,
          31115.6,
          30490.9,
          30576.199999999997,
          31718.6,
          32604.899999999998,
          32188.4,
          30768.899999999998,
          27842.9,
          26672.300000000003,
          25887.3,
          25198.7,
          25684.5,
          26357.2,
          26937.4,
          28655.2,
          30159.4,
          32916,
          34496.8,
          35270.3,
          35710.1,
          36877.6,
          36884.4,
          36581.2,
          36067.700000000004,
          35002.4,
          34077.700000000004,
          34106.700000000004,
          33340.3,
          35621.8,
          33844.6,
          31425.7,
          29210,
          27510,
          26901.7,
          27018.7,
          27165.6,
          26230.899999999998,
          27556.3,
          29422.7,
          30712.6,
          33723.9,
          35976.299999999996,
          37528.8,
          37493.9,
          37675.799999999996,
          38148,
          37264.1,
          37319.6,
          36404.4,
          36339.1,
          34243.6,
          33712.1,
          35886.8,
          33725,
          31610.100000000002,
          29216,
          27455.5,
          26706.6,
          25764,
          25221.2,
          26080.3,
          28105.3,
          30069.7,
          30875.7,
          33972.1,
          35348.8,
          35424.3,
          36992.4,
          36648.3,
          36420.6,
          36297.700000000004,
          35460.6,
          34838.8,
          34349.4,
          33838.3,
          33384.5,
          34203.5,
          32430.2,
          30160.4,
          29402.8,
          28832.7,
          27513.9,
          27004.7,
          26907.7,
          27249.2,
          29239,
          30129.7,
          31574.699999999997,
          34895.6,
          35009,
          35591.4,
          36086.5,
          35778.5,
          35795.5,
          34670.2,
          35007.6,
          33875.1,
          33696.5,
          32545.7,
          32682,
          32964,
          31387.699999999997,
          29574.2,
          27982.6,
          26256.6,
          25378.2,
          25253.5,
          25986.699999999997,
          26551.6,
          28303.3,
          30495.5,
          31794,
          33366.3,
          34112.8,
          34904.7,
          36184.2,
          36310.5,
          35552.799999999996,
          34657.2,
          34525.299999999996,
          33864.2,
          33163,
          31605,
          32152.4,
          32751,
          31311.3,
          29241.7,
          27850,
          26910.9,
          26321.7,
          25682.199999999997,
          25171.8,
          24931.7,
          24615.1,
          24873.3,
          25615.5,
          27556.2,
          29344.8,
          30382.2,
          31010.399999999998,
          31685.9,
          31483.6,
          31185.2,
          30796.100000000002,
          30642.8,
          29702.1,
          29026,
          29246.8,
          31581.3,
          29627.3,
          27764.3,
          25835.9,
          24947.5,
          24428,
          23722.6,
          23561.2,
          23591.2,
          23458.2,
          23806.7,
          24293.7,
          25690.7,
          27629.600000000002,
          29363.5,
          31515.7,
          31884.9,
          31686.5,
          31952.300000000003,
          31128.7,
          30483.4,
          29919.600000000002,
          30125.3,
          30751.9,
          32711.3,
          31574.2,
          30318,
          28626.9,
          26554.600000000002,
          25220.7,
          25015,
          25360.2,
          25700.2,
          26966.3,
          28844.6,
          30516.399999999998,
          32334,
          34409.6,
          34832.6,
          34649.8,
          35107.299999999996,
          35148.9,
          34438.8,
          35183.3,
          34034.8,
          33969.299999999996,
          33871.7,
          34382.8,
          34870.1,
          32267.5,
          29212.5,
          28059.5,
          28114.5,
          27382,
          27357.6,
          27617.6,
          27163.7,
          29188.6,
          30564.800000000003,
          31986.1,
          34806.2,
          35665.2,
          36468.9,
          36469.5,
          36419,
          35573.299999999996,
          35741.2,
          36435.9,
          36344.8,
          34718.3,
          33579.3,
          35114.1,
          34226.7,
          33203.6,
          30891.899999999998,
          28588.9,
          27618.5,
          26780.2,
          26132.1,
          25687.5,
          26892.7,
          28909,
          32475.8,
          33780,
          35335.9,
          35204.6,
          35112.8,
          35635.3,
          35746.6,
          35976.2,
          36099.1,
          36014.6,
          35161.3,
          35066.299999999996,
          34653.5,
          36095,
          34243.9,
          31416,
          28918.9,
          26608.2,
          25470.5,
          24816.7,
          24789.1,
          24733.9,
          25384.8,
          26851.3,
          29990.2,
          31570.6,
          32851,
          34334.4,
          34748.7,
          35040.7,
          35388,
          34473.5,
          34023.6,
          33574.2,
          34396.9,
          32271.4,
          32520.7,
          32738.4,
          32605,
          30282.600000000002,
          28570.4,
          27569.600000000002,
          26118.1,
          25473.7,
          24983.2,
          24981.8,
          25453.6,
          26731.1,
          28992.1,
          30969.5,
          31821.6,
          33065.4,
          33434,
          34499.6,
          35281.6,
          34766.1,
          34540.7,
          32396.399999999998,
          32439.399999999998,
          32098.399999999998,
          31169.1,
          32147.5,
          31976.8,
          29934.1,
          28717.7,
          27183.6,
          25667.5,
          24853,
          24066.1,
          23967.899999999998,
          23778.7,
          24065.9,
          24407.8,
          25301,
          27047.2,
          29353.6,
          31332.1,
          32123,
          31872.4,
          33020.799999999996,
          32542.5,
          32022.7,
          30991.9,
          29696.3,
          27688,
          30019.3,
          30343,
          28535.8,
          27279.2,
          25441.3,
          24055.1,
          23123.7,
          22353.3,
          22311.8,
          22243.5,
          22813.7,
          22752.899999999998,
          24292.5,
          26782.2,
          28914.7,
          30436.2,
          31642.6,
          32267.7,
          32535.399999999998,
          31829.7,
          30379.7,
          29654.7,
          28799.4,
          27719.3,
          28600.7,
          29954.8,
          28496,
          27057.1,
          25385.6,
          24591.3,
          24080.3,
          23989.6,
          24307.2,
          25321.1,
          25751.3,
          28302.3,
          29962.5,
          31655.5,
          32901.9,
          34092.7,
          34571.5,
          34418.8,
          34472.9,
          34624.2,
          33926.4,
          33292.8,
          32011.4,
          30848.5,
          30674.5,
          31914.2,
          30492.7,
          28761.3,
          27476.8,
          26434.2,
          26059.699999999997,
          25874.3,
          25590,
          25333.300000000003,
          25468.6,
          28931.399999999998,
          30619.2,
          30229.2,
          31813.8,
          32677.1,
          32459.1,
          33482.5,
          33453.1,
          33284.3,
          31723,
          32716.5,
          33038.2,
          30367.3,
          32457.2,
          32627.800000000003,
          30983,
          28212.9,
          25977,
          24689.8,
          23961.8,
          23393.5,
          23465.8,
          24041.9,
          25815.2,
          28086.3,
          29008.2,
          30507,
          30422.800000000003,
          31667.5,
          32072.8,
          32340.300000000003,
          32736.600000000002,
          32611.7,
          31778.8,
          30839.1,
          29917.4,
          30422.5,
          31620.4,
          32055.9,
          29303.8,
          26713.5,
          25619.9,
          24705.3,
          25166.9,
          25374.7,
          25275.3,
          25189.5,
          25572.3,
          28405.899999999998,
          29630.2,
          30637.5,
          30842.6,
          31401.8,
          32091.1,
          32627.4,
          33046.200000000004,
          33031.7,
          32756.5,
          32028.2,
          32620.1,
          30083.2,
          31666.1,
          31970.600000000002,
          30127,
          28609.4,
          27301.3,
          26639.2,
          25281,
          24408.5,
          24167.100000000002,
          24504.7,
          26443.2,
          29854.2,
          30720.6,
          32036.9,
          32247.4,
          32688.9,
          33177.9,
          32572.5,
          31783,
          30731.3,
          29997.2,
          29302.800000000003,
          30150.5,
          30385.7,
          31322.4,
          31931,
          30591.4,
          28091.7,
          24952.9,
          24232.1,
          23505.2,
          22908.4,
          22312.3,
          22224.9,
          22663.100000000002,
          23523.6,
          24365.3,
          25990.5,
          27925.4,
          29607.9,
          31776.8,
          33150.1,
          33077.4,
          32040.7,
          29813.7,
          29545.399999999998,
          27450.8,
          27087.600000000002,
          28865.1,
          30317.800000000003,
          28632.9,
          28129.7,
          25926.6,
          24706.6,
          23593.5,
          23301.8,
          22886,
          22742.399999999998,
          22840.899999999998,
          23072.899999999998,
          23147.899999999998,
          25088.8,
          27263.2,
          29189.399999999998,
          30986.2,
          30848.3,
          30746.5,
          30726.2,
          30216.4,
          29318.8,
          27594,
          26126.5,
          27655.8,
          28254.6,
          27474.600000000002,
          26256.8,
          24700.7,
          24596.3,
          24742.2,
          25042.199999999997,
          24665.8,
          24349.5,
          24446.7,
          27862.8,
          29160.2,
          30125.7,
          31022.4,
          31578,
          32361.2,
          32696.600000000002,
          32435.2,
          32381.100000000002,
          31888.6,
          31440.2,
          31312.8,
          31241.600000000002,
          32671,
          32486,
          30003.3,
          27847.1,
          25306.2,
          24377.8,
          23963.9,
          23179.1,
          23200.1,
          23722.7,
          25723,
          29106.7,
          30122.8,
          30528,
          30436.8,
          31827.2,
          32776.2,
          33288.3,
          32565.3,
          31805.600000000002,
          32284.9,
          30676.1,
          30721.2,
          31199,
          33941.6,
          32510.100000000002,
          30899.8,
          27769.2,
          26680.7,
          24979.5,
          24027.3,
          24188,
          23694.8,
          23344.9,
          25989.5,
          28562.8,
          30078.6,
          30544.100000000002,
          30895.2,
          32326.399999999998,
          33298.1,
          33149.4,
          33107.1,
          33258.6,
          32950,
          32840.1,
          31797.3,
          30402.6,
          32311.8,
          32299.8,
          29937.6,
          28447.8,
          27157.3,
          26087.4,
          25840.8,
          25354,
          25085.3,
          24926.8,
          26259.9,
          29037.7,
          29982.4,
          31185.9,
          31889.5,
          32517.8,
          34121.2,
          33756.6,
          33444.4,
          33106.4,
          32817.8,
          31726.9,
          30596.3,
          31208.4,
          32811.6,
          32584.4,
          30663.7,
          28457.2,
          25574.2,
          24560.9,
          23975,
          23546.9,
          23846.2,
          24328.5,
          25817.2,
          29623.8,
          30737.4,
          31383.6,
          32240.6,
          32330,
          33497.8,
          33600,
          33395.9,
          32825.9,
          32102,
          31344.600000000002,
          32171.9,
          31766.7,
          33410.2,
          33007.8,
          30711.7,
          28568.4,
          26331.6,
          25118.4,
          24339.7,
          23519.7,
          22766.5,
          22744.3,
          22937.7,
          24072.4,
          24722.399999999998,
          26731.7,
          29295.8,
          31555.5,
          33475.5,
          34754.8,
          34193.2,
          33264.6,
          32525,
          32303.3,
          31776.2,
          30112.100000000002,
          30784.5,
          30628.7,
          28992.3,
          29807.2,
          27382,
          26380.300000000003,
          25347.899999999998,
          25067.4,
          25028.9,
          24935.3,
          24662,
          24046.7,
          24514.2,
          25962.2,
          27163.600000000002,
          28455.9,
          30041.7,
          30362.300000000003,
          30237.5,
          30033.1,
          27932.9,
          26639.7,
          26513.2,
          26532.1,
          27539.600000000002,
          28889.4,
          27877.3,
          27480.1,
          25876.7,
          24789.5,
          24912.3,
          24391.5,
          24848.3,
          24996.899999999998,
          25915.7,
          28244.399999999998,
          28490.9,
          30499.1,
          33317.6,
          34256.4,
          34402.9,
          34051.4,
          33993,
          33831.7,
          32173.2,
          31469,
          29218.8,
          29067.1,
          31028.399999999998,
          31088.2,
          29303.7,
          27360.1,
          26504.2,
          25118.8,
          25092,
          25408.9,
          25198.8,
          25608.300000000003,
          26434.2,
          29037,
          29865.4,
          31034.1,
          32216.8,
          32998.4,
          35187.8,
          34827.6,
          34463.6,
          34413.9,
          33899.6,
          33328.9,
          32915.3,
          31438.3,
          32343.1,
          31817.7,
          29925.399999999998,
          28435.7,
          25641.5,
          24275.899999999998,
          24002.899999999998,
          23726.4,
          23639,
          24094.3,
          26274.2,
          28901.100000000002,
          31184.4,
          31692.4,
          32669.3,
          34077,
          34679.6,
          36375.8,
          35210.1,
          33954.2,
          33469.6,
          31497.6,
          30689.7,
          30918.600000000002,
          34018.7,
          33143.7,
          31679,
          29978.7,
          27118.6,
          25663.2,
          24696,
          24225.2,
          24614.6,
          25404.6,
          28392.7,
          29394.8,
          30854.2,
          31778.100000000002,
          31801.8,
          33415.2,
          34000.2,
          34246.8,
          33754.6,
          32665.8,
          32359.300000000003,
          31363.2,
          30084.9,
          30537.8,
          33078.1,
          32446.7,
          29678.399999999998,
          27471.1,
          25617.5,
          24822.7,
          24160.2,
          24091.6,
          24243.9,
          24397.2,
          26632.199999999997,
          30785.6,
          31583.7,
          31732.6,
          30798.399999999998,
          31506.7,
          32734.600000000002,
          32852.9,
          33182.5,
          32444.5,
          31471.6,
          30175.5,
          29452.8,
          29415.399999999998,
          32595,
          30895.2,
          29043.3,
          27354,
          25481.2,
          24585.7,
          23634.600000000002,
          23858.4,
          24701.2,
          24383.5,
          24595.7,
          25200.8,
          25259.5,
          26204.1,
          28373,
          29370.6,
          30073,
          30600,
          30375.9,
          30059.9,
          29858,
          28514.8,
          27754.7,
          27726,
          29225,
          29153.9,
          27940.100000000002,
          27722.5,
          26785,
          25871.7,
          25407,
          25458.1,
          25200.6,
          24996.100000000002,
          24531.9,
          24678.1,
          24822.2,
          27348.6,
          29238.1,
          29827.100000000002,
          30604.800000000003,
          30670.3,
          29946.9,
          29934.399999999998,
          29806.8,
          28863.2,
          26621.2,
          27193.8,
          28631,
          28894.1,
          27869.5,
          27622.2,
          25316.8,
          25239.2,
          25094.4,
          24458,
          24194.5,
          24058,
          23865,
          25061.2,
          26550.6,
          26983.6,
          28373.4,
          29291.2,
          29948.9,
          31060,
          30785.4,
          31037.9,
          30933.5,
          29493.600000000002,
          28476.9,
          27618.1,
          30285.3,
          30141.6,
          27808.3,
          25891.2,
          25706.600000000002,
          25395.600000000002,
          24468.7,
          23549.6,
          23511.9,
          23783.5,
          24158.4,
          24103.5,
          23808,
          25120.7,
          27389.7,
          28988.2,
          30015.5,
          30305.7,
          31045.9,
          30798.1,
          29955.8,
          29533.6,
          28006.9,
          27396.4,
          30561.100000000002,
          30754.9,
          29163.7,
          28461.5,
          26939.300000000003,
          26194.6,
          25476.3,
          25711.9,
          24975.9,
          24773.199999999997,
          25291,
          27989.4,
          29581.3,
          29953.6,
          31251.2,
          32044.2,
          32218.1,
          32421.9,
          33149.700000000004,
          32573,
          31938,
          30540.9,
          28816.7,
          29320.1,
          32716.7,
          32247,
          31004,
          28121.8,
          25796,
          25089.199999999997,
          24243.8,
          24152.1,
          24133.5,
          24323.8,
          26252.899999999998,
          28404.7,
          30644.1,
          30928,
          31752.1,
          31827.8,
          33278.8,
          33288,
          33645.2,
          32681.399999999998,
          32119.4,
          31427.3,
          29897.2,
          29858.3,
          32112.9,
          31588.8,
          29095.4,
          27426,
          25347.8,
          24994,
          23894.2,
          24103.8,
          23972.2,
          23386.7,
          24968,
          28444.3,
          29835.3,
          30545,
          31077.2,
          31259.8,
          32112.3,
          33468.8,
          32379.5,
          31406.100000000002,
          30409.7,
          29409.600000000002,
          29050.3,
          31390.5,
          31574.6,
          30464.5,
          27870.4,
          26615.8,
          25257.6,
          23578.3,
          22766.1,
          22286.8,
          21985.6,
          21994.6,
          22117.5,
          23326.3,
          24076.2,
          26567.5,
          27911.3,
          29035.5,
          29439.8,
          29272.7,
          28923.6,
          29096.1,
          28092.3,
          27837.7,
          25565.7,
          25980.8,
          28374.600000000002,
          27864.899999999998,
          25527,
          24206,
          23173.7,
          22918.1,
          22501.5,
          22480.1,
          22325.3,
          22036.2,
          22549.9,
          22135.6,
          23195.1,
          24618.1,
          26027.399999999998,
          27641.3,
          28409.5,
          28639.8,
          28889.6,
          28366.6,
          27090.8,
          26090.3,
          24637,
          25525,
          28091.600000000002,
          28094.6,
          26736.7,
          25539.3,
          23761.7,
          23567.3,
          23311.1,
          23254.1,
          23553.8,
          24110.5,
          26301.6,
          29537.5,
          30760.100000000002,
          30977.1,
          31878.800000000003,
          32502,
          33602.9,
          34041.2,
          33271.4,
          32933.1,
          31585.9,
          30810.9,
          29485.1,
          30181.7,
          32075,
          30938.3,
          28735.7,
          26109.9,
          25102,
          25099.3,
          24936.9,
          24996.5,
          25403.6,
          25482.3,
          26342.4,
          28695.4,
          30380.899999999998,
          31250.5,
          31686.600000000002,
          32586.8,
          33256.7,
          35160.6,
          35036.3,
          34787.200000000004,
          34594,
          33609.3,
          31420.300000000003,
          32488.2,
          33856.9,
          32838.8,
          30139.9,
          29690.399999999998,
          28211.399999999998,
          27519.6,
          26976.3,
          26351.9,
          25716.899999999998,
          24743.1,
          25969.5,
          28878.9,
          30106.9,
          30963.3,
          30951,
          32104.5,
          35268.5,
          36114.8,
          35606.799999999996,
          35729.799999999996,
          36077.1,
          34680.3,
          33664.2,
          31535.8,
          31929.2,
          30974.1,
          28826.8,
          26586.4,
          25130.9,
          24430.1,
          23531,
          23212.8,
          23188.3,
          23672.5,
          26319.5,
          29220.8,
          29786.2,
          30643.7,
          32285,
          34192.7,
          33288.7,
          32896.9,
          33322.8,
          33397.3,
          33058.4,
          31391.600000000002,
          30102.6,
          30962.399999999998,
          32734.2,
          31304.7,
          29488.6,
          26514.2,
          24897.3,
          24615,
          24294.9,
          23476.2,
          23849.3,
          24476.1,
          25904.4,
          29508.4,
          31411.9,
          32285.4,
          31827.4,
          32243,
          32624.4,
          32889.1,
          33327.7,
          33731.7,
          32600.8,
          31461.3,
          29033.3,
          30078.4,
          31338.8,
          30720.7,
          28350.8,
          26173.5,
          25522,
          24663.4,
          24757.6,
          24322.2,
          23462.8,
          23150.8,
          22547.5,
          23906,
          25779.7,
          26747.8,
          28227.3,
          28788.1,
          28738.6,
          30453.3,
          29900.4,
          29808.4,
          29114,
          26463,
          25732.5,
          27375.2,
          28274.2,
          27556.4,
          26048.9,
          25138.2,
          22976.7,
          22237.3,
          21420,
          21064.2,
          20967,
          21151.4,
          22008.1,
          21343.3,
          22142.1,
          23934.4,
          27929.6,
          29328.2,
          30129.600000000002,
          29866.7,
          29893.7,
          29665.9,
          29025.8,
          26799.8,
          25330.3,
          26047.5,
          27455.6,
          28168.3,
          26330.199999999997,
          24949.4,
          23221.6,
          22809.2,
          22135.399999999998,
          21998.8,
          21813.7,
          22533.4,
          24808.1,
          27153.8,
          29929.3,
          30641.6,
          31106.6,
          31739.800000000003,
          33027.3,
          32961,
          32140.5,
          31577.5,
          31119,
          30469,
          29290.4,
          30253.300000000003,
          32286.6,
          32102.5,
          31118.3,
          27905.6,
          26584.2,
          25278.5,
          24887.8,
          24621.6,
          25036.6,
          24719.5,
          26485,
          29323.699999999997,
          30845.7,
          31577.7,
          32984,
          33424.7,
          33620.2,
          33642.7,
          33720.5,
          33708.6,
          32729.8,
          31408.7,
          30306.1,
          30952.2,
          33080.5,
          33018.2,
          30772.3,
          28754.7,
          26754.1,
          25603.600000000002,
          24757.1,
          24553.5,
          24304.6,
          24568.1,
          26498.5,
          28871,
          31212,
          32019.2,
          33748.3,
          33912.5,
          33583.5,
          34436.5,
          34242.5,
          35061,
          33754.5,
          32390,
          31290.9,
          31173.600000000002,
          32868.4,
          32801.6,
          30719.8,
          28564.7,
          27808.5,
          26031.2,
          25324.2,
          25611.7,
          25522.7,
          26122.600000000002,
          26760.3,
          30119.100000000002,
          31477.4,
          32530.9,
          33771.5,
          33007.6,
          33679.5,
          33883.7,
          34234.8,
          34729.9,
          33648.4,
          30629.8,
          30964.2,
          32519,
          33088.6,
          33175.8,
          30664.9,
          29656.7,
          28476.4,
          28008.399999999998,
          27157,
          26773.9,
          26206.5,
          26450.3,
          25908.5,
          28926.5,
          30581.7,
          31233.3,
          32220.9,
          32695.8,
          33847.4,
          33775.1,
          33074.1,
          33061.200000000004,
          32754.6,
          32075,
          30412.4,
          31545,
          33425.3,
          33289.7,
          30699.4,
          28764.600000000002,
          27673.6,
          27073.8,
          26817.5,
          26694.9,
          27421,
          27943.1,
          27622.9,
          28026.2,
          27969.3,
          28213.5,
          29591.2,
          31436,
          33044.2,
          32718,
          31730.1,
          31128.1,
          30162.8,
          29279.600000000002,
          29651.6,
          29014.5,
          30029.4,
          29960.100000000002,
          30335.3,
          28361.1,
          25097.6,
          24177.8,
          50856,
          23833.399999999998,
          23706.4,
          24217,
          24543.7,
          25720.699999999997,
          27479.899999999998,
          29007.3,
          29429.600000000002,
          29373.1,
          31011.9,
          31604.3,
          31598,
          30315.8,
          29114,
          27778.2,
          28203.2,
          28585.4,
          29010.8,
          28970.3,
          28047.5,
          26515.3,
          27159,
          26750.6,
          26417.7,
          25988.5,
          24671.5,
          24732.6,
          25304.3,
          26529.7,
          26866.6,
          29003.2,
          29661.899999999998,
          30220.2,
          31078.2,
          32166.7,
          32605.100000000002,
          30350,
          28351.8,
          27678.6,
          28609.5,
          29937,
          31274.6,
          30669.7,
          29642.2,
          28058.7,
          28486.5,
          27756.5,
          27332.2,
          27712.7,
          27793.899999999998,
          27147.8,
          28422.3,
          31035.4,
          32857.3,
          34435.7,
          34149.700000000004,
          34518,
          34916.5,
          34640.4,
          34636.2,
          34496.8,
          33752.9,
          33372.3,
          33872.6,
          34991.1,
          34947,
          34072.4,
          31482,
          30515.4,
          26998.4,
          26957.3,
          26990,
          26512.699999999997,
          27056.9,
          27819.5,
          28906.9,
          32214.7,
          33997.4,
          34006.2,
          34133.4,
          34910.6,
          36322.2,
          38453.6,
          37188.6,
          36640,
          35084.6,
          33192.9,
          34098.1,
          35820.600000000006,
          36000,
          34758.700000000004,
          31357.7,
          30581.9,
          26731.5,
          25666.2,
          25880.7,
          25330.7,
          24770.3,
          24752,
          28636,
          31475.899999999998,
          33966,
          34020.2,
          34246.9,
          33818.7,
          34942.8,
          35738.5,
          35458.6,
          34871.700000000004,
          33852.4,
          33398,
          34423.9,
          35515.799999999996,
          35283.8,
          32612,
          29893.899999999998,
          28339.100000000002,
          26533.4,
          26362.6,
          26751.8,
          26398.8,
          25983,
          26866.4,
          29252.600000000002,
          32523.000000000004,
          34469.1,
          34227.299999999996,
          35546.3,
          35117.8,
          35252,
          35700.6,
          35662.5,
          34649.9,
          33274.6,
          32228.1,
          33425.1,
          35317.2,
          35284.7,
          34037.6,
          31496.8,
          29323.1,
          28651.1,
          27181.9,
          26130.8,
          25130.8,
          24921.5,
          25211.199999999997,
          26242.2,
          26599.399999999998,
          29080.3,
          30865.5,
          33203.299999999996,
          33973.4,
          34627.8,
          35366.6,
          35223.4,
          34949.2,
          33180.5,
          31956.1,
          31996.1,
          34056.9,
          33156.4,
          33437.3,
          31821.100000000002,
          29488.600000000002,
          27880.6,
          28134.1,
          27437.4,
          26772,
          26810.2,
          26520.9,
          27347.899999999998,
          27185,
          28301.1,
          31483.8,
          33089,
          33529.3,
          33912.3,
          34081.7,
          33963.8,
          33998.6,
          31875.2,
          30171.8,
          30286.9,
          31256.2,
          30868.5,
          30564.2,
          29995.899999999998,
          29229.2,
          28120.399999999998,
          27546.300000000003,
          26930.4,
          27105.3,
          27093.100000000002,
          26925.300000000003,
          28590.699999999997,
          31297.7,
          33412.2,
          35338.2,
          35968.5,
          37110.3,
          37018.5,
          36919.6,
          36943.3,
          35636.9,
          34699.1,
          34497,
          35119.6,
          35873,
          35932.4,
          35605,
          33214.7,
          31338.800000000003,
          29251.5,
          28881.3,
          28092,
          27768.199999999997,
          27409.7,
          27610.3,
          28534.100000000002,
          31468.6,
          33475.1,
          34350.3,
          35060.1,
          35349.4,
          35475.3,
          35707.2,
          35508.9,
          35349.299999999996,
          34763.7,
          33507.6,
          36324.9,
          37498.8,
          36478.4,
          34229.6,
          31928.399999999998,
          29402.100000000002,
          27399.4,
          26397.2,
          25941.9,
          25700.2,
          24662.2,
          24408.6,
          30380.3,
          33233,
          35007.9,
          35474.4,
          35118.8,
          35859.9,
          35817.4,
          35832.5,
          35565.6,
          35055.4,
          34555.1,
          34065.200000000004,
          35518.5,
          36691.6,
          37274.6,
          36501.1,
          32694.3,
          29522.6,
          27537.4,
          27080,
          26301.4,
          26199.8,
          26703.600000000002,
          27224.1,
          28789.8,
          33103.7,
          34287.4,
          35034.4,
          35753.6,
          36044.3,
          37346,
          37652.1,
          36714.700000000004,
          36091,
          34776.6,
          35457.2,
          36444.700000000004,
          36146.6,
          35960.9,
          34649.7,
          31902.300000000003,
          30233.2,
          27224.6,
          26084.7,
          25445.8,
          25065.4,
          25885.4,
          25367.300000000003,
          28446.6,
          34393.7,
          35118.6,
          35581.2,
          35731.3,
          35698.5,
          36955.5,
          36866,
          36709.6,
          35529.6,
          35414,
          34358.8,
          36981.1,
          36516,
          34693.1,
          33866.6,
          31690.300000000003,
          29131,
          28178.1,
          26435.7,
          25305.600000000002,
          25073.2,
          24827.600000000002,
          24994.7,
          25428.7,
          25987.9,
          27841.4,
          30402.399999999998,
          31190.7,
          32399.4,
          33266.3,
          32608.4,
          31706.4,
          31079.3,
          31048.1,
          29755.4,
          30468.3,
          31637.600000000002,
          32199.5,
          32083.8,
          31062.3,
          28575.5,
          25542.6,
          24218.5,
          23326.3,
          23740.8,
          24920.6,
          25242.899999999998,
          25118.1,
          24600.899999999998,
          25747.2,
          28493.899999999998,
          30212,
          30855,
          31117.1,
          31815.6,
          32286.9,
          32118.8,
          30218.899999999998,
          27989.399999999998,
          29970,
          31914.5,
          32857.3,
          31772.3,
          30899.9,
          28899.8,
          25785.2,
          25529.3,
          25915.1,
          26493,
          25943.399999999998,
          26884.8,
          28744.5,
          31927.399999999998,
          34591,
          35034.9,
          35897.2,
          36515.299999999996,
          36820.1,
          37316.4,
          36273.9,
          36430.1,
          34541.9,
          34113.5,
          36579.8,
          36606.5,
          36633.9,
          33467.5,
          32008,
          29601.5,
          27130.6,
          25815.1,
          25134.3,
          25826.7,
          25980.6,
          25593.899999999998,
          29026,
          32073.600000000002,
          33968.8,
          35072.7,
          35668.1,
          36521.1,
          36493.4,
          36223.5,
          36254.4,
          35241.4,
          34545,
          33479.7,
          36814.9,
          37537.8,
          38275.4,
          35187.4,
          31879.600000000002,
          29914.6,
          26916.9,
          25431,
          25281,
          25229.1,
          25810.600000000002,
          26660.100000000002,
          28797.4,
          32509.7,
          34120.2,
          34736.9,
          34503.7,
          35603.3,
          36299.1,
          36464.700000000004,
          36233.700000000004,
          35513,
          34193,
          33872.6,
          36117.5,
          38100.2,
          36682,
          35097.1,
          33895.1,
          31284.4,
          29444.399999999998,
          28051.899999999998,
          27995.899999999998,
          26552.6,
          26732,
          28062.7,
          28612.4,
          32382.3,
          34326.5,
          34578,
          34618.7,
          34737,
          35820.5,
          36886.9,
          36885.3,
          36449.8,
          35578.2,
          35443.4,
          36893,
          37725.6,
          36430.2,
          35580.8,
          32862.1,
          29264.6,
          27417.8,
          27128.1,
          24597,
          24965.4,
          25095.3,
          26140.899999999998,
          29045.399999999998,
          32777.3,
          34361,
          35823.299999999996,
          35758.2,
          34985.299999999996,
          35914.1,
          36149.9,
          35762.3,
          35827.6,
          34814.7,
          35476.1,
          36700.5,
          37202.6,
          36567.1,
          34155.2,
          32738.1,
          30740.1,
          29740.4,
          29066.100000000002,
          27735.899999999998,
          26845.399999999998,
          26474.4,
          26019.6,
          27014.7,
          26985.1,
          27586.1,
          30653.7,
          32228.3,
          32115.7,
          32463.199999999997,
          31815.8,
          31825.2,
          30896.9,
          31838.3,
          30000.2,
          31514,
          32099.1,
          32196.6,
          30400.399999999998,
          29267.3,
          26707.7,
          26982.1,
          25713,
          24941.300000000003,
          25174.3,
          25036,
          25070.899999999998,
          26144.4,
          26380.600000000002,
          27563.2,
          28930.5,
          30904.4,
          31871.5,
          32567.5,
          32832.7,
          32975.1,
          31241.8,
          30676.3,
          28998.7,
          30184,
          31441.5,
          33167.4,
          32777.5,
          31851.100000000002,
          29532.2,
          26597.600000000002,
          26014.600000000002,
          25899.4,
          25368.2,
          26313.1,
          26376,
          27718.4,
          32090.2,
          34079.8,
          36061.5,
          36446.7,
          35751.5,
          37632.7,
          37765.200000000004,
          37613.6,
          36680.9,
          35743.9,
          36414.9,
          37789.3,
          38518.6,
          38534.7,
          35655,
          33596.1,
          30011.1,
          28565,
          28287.5,
          28452.300000000003,
          27519.2,
          28524.8,
          28495.1,
          30002.5,
          33822.9,
          36075.9,
          36634,
          37060.4,
          37865,
          37500.5,
          38340.3,
          38215.7,
          38300,
          38495.7,
          38332,
          39297.3,
          39176.4,
          39370.5,
          36720.5,
          33834.8,
          31650.8,
          29251.699999999997,
          27168.2,
          26584.4,
          26841.899999999998,
          27020.3,
          27675.399999999998,
          30950.9,
          34524.299999999996,
          36588.5,
          38035.7,
          39871.7,
          39824.6,
          40027.4,
          40294.4,
          39346.9,
          38588.6,
          37560.4,
          37066.1,
          38440,
          38203.8,
          37789.5,
          37756,
          35028.9,
          32332.7,
          31282.5,
          29629.7,
          28726.2,
          28028.9,
          28552.1,
          28160.9,
          30038.100000000002,
          34168.799999999996,
          36356.9,
          38022.2,
          38624.6,
          39202.4,
          39972.8,
          39933.9,
          39617.7,
          38426.299999999996,
          38322,
          38040,
          38858.8,
          39131.4,
          39073.7,
          38349.6,
          35797.8,
          31969.8,
          30906.7,
          28835.3,
          27938.7,
          27985.100000000002,
          27904.8,
          27753.8,
          29587.3,
          34217.1,
          36893.7,
          37671.2,
          38030.3,
          38237.700000000004,
          39182.7,
          38495.2,
          37875.5,
          37415.2,
          35768.2,
          35280.5,
          37401.8,
          37768.5,
          37592.1,
          36420,
          35882.9,
          33248.6,
          31140.5,
          30100.9,
          29805.7,
          29451.8,
          30596,
          30442.399999999998,
          30171.2,
          29697,
          30310.6,
          32342.399999999998,
          33982,
          34886.6,
          36800.200000000004,
          37622.6,
          37858.2,
          36875.700000000004,
          34109.700000000004,
          33051.9,
          35105.5,
          36228.2,
          35577.5,
          35218.5,
          33406.5,
          32187.7,
          29838.9,
          29357.1,
          29164.9,
          28728.7,
          28746.9,
          28337.6,
          28182.399999999998,
          29024.399999999998,
          28982.9,
          30317.4,
          32865,
          34106,
          35027.8,
          36598,
          36276.1,
          35149.3,
          33789.6,
          33115.8,
          35013.1,
          36656.3,
          37527.6,
          35398.5,
          35058.5,
          33496.9,
          32008.200000000004,
          30555.7,
          31246.5,
          31098.500000000004,
          31220.100000000002,
          29837.6,
          31102.7,
          33972.4,
          36166.6,
          37200.2,
          37749.1,
          38387.5,
          38196.4,
          38358.200000000004,
          38401.7,
          38337.1,
          37227.4,
          37396.799999999996,
          37789.8,
          38619.1,
          39330.6,
          37701.799999999996,
          35257.2,
          34422,
          30826.399999999998,
          30002.4,
          28475.2,
          27773.3,
          28677.2,
          29330.3,
          32331.5,
          35227.5,
          37626.2,
          38579.4,
          38128.3,
          38888.6,
          38149.700000000004,
          38363.5,
          37752.5,
          36599.7,
          34487.7,
          35498.7,
          38601,
          37823.6,
          38604.7,
          37939.5,
          36303.3,
          33911.9,
          30200.9,
          28647.7,
          28037.7,
          27471.3,
          28476.4,
          28937.5,
          29628.800000000003,
          35126.7,
          37120.4,
          39267.700000000004,
          39614.2,
          38358.9,
          37985.799999999996,
          38230.799999999996,
          37537.3,
          37419.5,
          37553.8,
          38031.3,
          39617,
          39692.5,
          40017.6,
          38835,
          36934,
          34473.6,
          32345.9,
          31453.4,
          30204.5,
          29640.1,
          29926.899999999998,
          29872.4,
          32065.9,
          34872.2,
          37409.2,
          38086.1,
          38702.3,
          39416,
          40159.2,
          40659.9,
          41468.9,
          40629.3,
          38808.3,
          38789.3,
          39353.6,
          40090.1,
          40328.5,
          38987.4,
          35877.9,
          34300.7,
          32712.3,
          31070.2,
          30311.2,
          29895.8,
          30088.3,
          30663.5,
          32281.8,
          35712.1,
          38447.9,
          39785.2,
          39965.5,
          39328,
          39935.4,
          40147.9,
          40182.3,
          39103.7,
          38495.8,
          35862.3,
          37878.7,
          38446.1,
          37982.9,
          37749.200000000004,
          37125.6,
          34268,
          30716.7,
          30317.100000000002,
          29119.2,
          29432.8,
          28962.6,
          29132.6,
          29661,
          29299.4,
          30158.5,
          32360.3,
          33612.6,
          34679.1,
          34959.6,
          35543,
          35903.1,
          35073.6,
          33153,
          32541.9,
          35330.9,
          33797.4,
          33873.7,
          33958.9,
          33033.7,
          32236.5,
          30307.1,
          30021.5,
          29834.1,
          29796,
          29701.2,
          29634.6,
          29661.4,
          29961.9,
          30723.9,
          32684.5,
          35854.8,
          37855.9,
          38337.5,
          38628.2,
          38388.2,
          37063.7,
          35777.8,
          33937.8,
          34690.6,
          35078.7,
          34696.4,
          34148.4,
          33747.2,
          32500,
          30028.7,
          29356.2,
          29135.1,
          28839.5,
          28749.6,
          29358.9,
          29692.399999999998,
          30180.3,
          30659.4,
          33212.7,
          34453.2,
          34677.7,
          35099.4,
          35198.6,
          34860.1,
          33945.8,
          32849.3,
          32124.6,
          32757.3,
          33944,
          34927.1,
          33677.7,
          33309,
          31327,
          28350.3,
          27007.9,
          25685.4,
          25438.3,
          26108.7,
          26994.4,
          27305.4,
          30375.7,
          31937.9,
          32975.5,
          34797.1,
          34309.3,
          34315.8,
          35193,
          35520.6,
          35021.9,
          34076.5,
          33417.3,
          35511.6,
          36085.9,
          36185.7,
          35489.7,
          34533.1,
          33893.8,
          31917.799999999996,
          31335.2,
          30480.2,
          29718.1,
          29915.9,
          30580.300000000003,
          32019.600000000002,
          32911,
          32688.399999999998,
          33840.8,
          35982.9,
          36890.9,
          37383.8,
          38285.2,
          38344.5,
          36627.2,
          35245.1,
          34608,
          35856.2,
          37177,
          36328.7,
          35405,
          33984.200000000004,
          31987.600000000002,
          30489.3,
          29670.5,
          30026.2,
          30090.899999999998,
          30606.6,
          30541.9,
          31616.600000000002,
          35151.5,
          36911.8,
          37803,
          38146.299999999996,
          38280.5,
          38091.1,
          37660.2,
          36912.8,
          38508.8,
          37158.3,
          37063.3,
          38920.4,
          38937.8,
          39416.299999999996,
          38803,
          36313.1,
          34702.6,
          34933.8,
          33722.200000000004,
          33234.3,
          32723.4,
          32370.5,
          32641.5,
          33671.3,
          35045.6,
          36674.6,
          37564.6,
          38231.4,
          38369.9,
          39307.4,
          38469.2,
          38693.6,
          38034.9,
          36521.1,
          36552.700000000004,
          38016.100000000006,
          38142.4,
          38140.5,
          38289.3,
          34848.5,
          33530.5,
          33094.2,
          31722,
          30954.8,
          30407.7,
          30170.7,
          30379.4,
          30434.6,
          30555.7,
          31135.5,
          32396.7,
          33907.3,
          33909.6,
          34718.9,
          35090,
          34703.2,
          33395.7,
          32016,
          31694.5,
          32436.2,
          32254.9,
          32096.7,
          31666.5,
          31157.2,
          30107.1,
          29069.4,
          27493.7,
          26793.2,
          26706.2,
          27068.6,
          26891.2,
          25868.399999999998,
          25652.3,
          26570.5,
          27712.4,
          29808.7,
          30559.6,
          30628,
          31144.5,
          31329.100000000002,
          30781.5,
          29869.5,
          29642.600000000002,
          31602.699999999997,
          32120.2,
          32885.8,
          33139.4,
          31445.5,
          29470.5,
          26965,
          26527.5,
          25619.2,
          25543.7,
          26112.6,
          26798,
          30108.8,
          33614.9,
          35981.1,
          36889.8,
          37972.3,
          37886.5,
          38590.6,
          38735.6,
          37833.9,
          37265.8,
          36594.4,
          36483.5,
          37154.3,
          38115.7,
          38658.2,
          37913.6,
          35342.6,
          32392.8,
          28727.4,
          27734.3,
          27568.2,
          25407.9,
          26438.5,
          27141.1,
          30717.3,
          34087.3,
          36499.1,
          36917.7,
          37260.4,
          38811.4,
          39221.5,
          38880.4,
          38413.1,
          38027.1,
          36814.4,
          36175.3,
          37819.8,
          38673,
          39208.6,
          37842,
          35133.7,
          32733.4,
          29544.4,
          27554.1,
          27031.7,
          26540.3,
          27254.8,
          28931.399999999998,
          30540.8,
          34771.7,
          36672.6,
          37730.1,
          37861.6,
          37900.3,
          38348.2,
          38543.3,
          37992,
          37787.7,
          36704.4,
          35905.8,
          37929.1,
          38872.6,
          38910.7,
          37683.8,
          34864.4,
          32404.5,
          29334.5,
          27312.4,
          27505.8,
          27712.6,
          28573.8,
          29349.2,
          30730.7,
          35628.1,
          37692.8,
          37263.6,
          38445.7,
          38651.4,
          39177.7,
          39333.7,
          38956.9,
          38914.8,
          38586.8,
          38082,
          38546.8,
          39972.1,
          39747.7,
          37100.6,
          34019.7,
          31726.5,
          28219.100000000002,
          28089.9,
          27823.8,
          27159.8,
          26808.6,
          27389.4,
          29889.9,
          34958.4,
          36450.1,
          37315.8,
          37974.7,
          38311.1,
          38720.5,
          38750.8,
          38245.6,
          38237.4,
          37573.7,
          37611.6,
          38212.9,
          39344.8,
          39080.2,
          38123.1,
          36336.5,
          33953.1,
          30616.3,
          28355.5,
          27308.199999999997,
          27216,
          26275.1,
          26246.399999999998,
          27594.9,
          28884.899999999998,
          29886,
          32244.399999999998,
          34883.5,
          35343.8,
          35382.5,
          35551.6,
          35634.3,
          35924.8,
          34410.2,
          33181,
          34995,
          35846.7,
          36193.1,
          34341.4,
          33530.7,
          31670.8,
          28942.5,
          27327.3,
          26056.3,
          25187.2,
          24344.8,
          24855.6,
          26023.1,
          27568.6,
          27765.8,
          30271.2,
          31933.1,
          31478.5,
          32003.3,
          33010.8,
          33055.1,
          32405.9,
          31915,
          31167.6,
          34288.7,
          34648.4,
          36037.3,
          33898.7,
          32430.8,
          32199.7,
          26633,
          26007.1,
          26367.6,
          25334.9,
          25284.899999999998,
          26780.7,
          28943.2,
          34302.8,
          36354.9,
          37403.3,
          38311.299999999996,
          38941.5,
          38899.5,
          38377.9,
          37662.1,
          37808.4,
          37355.5,
          37891.1,
          39686.8,
          40421.200000000004,
          40448.6,
          39336.8,
          36118.1,
          33454.7,
          32117.100000000002,
          30472.199999999997,
          29920.8,
          29718.399999999998,
          29415.4,
          29883.1,
          32089,
          35382,
          37626.7,
          38570.2,
          39647.4,
          39229.5,
          39197.5,
          38970.6,
          38760.6,
          37942.7,
          37385.4,
          37664.2,
          39896.4,
          39962.9,
          40451.8,
          39862.8,
          36844.2,
          33592.4,
          32259.8,
          29827.4,
          28749.6,
          28228.899999999998,
          28200.3,
          28934.8,
          29729.5,
          32834.5,
          35186.6,
          36146.2,
          37703.4,
          37625.4,
          37277.6,
          36789.3,
          37155.7,
          36633.9,
          36090.299999999996,
          35682.5,
          36981.4,
          37949.5,
          38016.5,
          37083.9,
          33720.3,
          32043.8,
          30295.4,
          28279.100000000002,
          27161.2,
          26829.5,
          26552.5,
          27425.9,
          28699.9,
          32509.6,
          34300.4,
          35375.4,
          37108.299999999996,
          37070,
          36814.1,
          37012.6,
          37384.2,
          37462.6,
          36097.2,
          35755.3,
          37297.100000000006,
          36990.4,
          36798.7,
          34452.5,
          32565,
          31133.3,
          29537.7,
          27463.1,
          27817.3,
          28336.7,
          27974.8,
          27747.6,
          26966.5,
          29442.8,
          30457.2,
          30907.3,
          32546.3,
          32939.7,
          32361.5,
          32609.8,
          32537.800000000003,
          31877.1,
          31116.1,
          29796.8,
          30371.8,
          29975.6,
          29793.7,
          28803.5,
          28130.3,
          28074.3,
          28263.800000000003,
          27707.300000000003,
          25997.4,
          24406,
          24438.7,
          24079.3,
          23224.4,
          23523.7,
          23381.399999999998,
          26184.4,
          27235,
          26431.2,
          26416.8,
          27989.8,
          28033.6,
          26135.9,
          24916.3,
          25795.100000000002,
          27857.4,
          28509.2,
          27939,
          28017.8,
          27966.1,
          25570.7,
          24791.5,
          25394.300000000003,
          24899.2,
          25144,
          25622.7,
          25592.8,
          25953.6,
          26398.6,
          26239.7,
          24706,
          25406.899999999998,
          27346.1,
          28811.6,
          29847.6,
          29986.5,
          30184.100000000002,
          29501.1,
          29207.7,
          30143.699999999997,
          30993.5,
          31973.7,
          32366.9,
          32220.5,
          31355,
          30482.6,
          29772,
          28567.1,
          27950.6,
          28155.600000000002,
          29249.5,
          30248,
          30768.5,
          30590.4,
          32733.5,
          33831.3,
          35696.1,
          37055.7,
          36955.1,
          37204.8,
          36342.9,
          34796.5,
          33718.9,
          34347.9,
          35375.6,
          35264.9,
          34754.7,
          32653.8,
          32463.899999999998,
          31688.899999999998,
          30925.300000000003,
          30441.5,
          30006.6,
          29944.3,
          30280.3,
          30353.899999999998,
          30609.9,
          31346.3,
          32091.3,
          33163.4,
          33861.4,
          34313.2,
          35852.1,
          36355.899999999994,
          35851,
          33988.8,
          33212.6,
          34439.8,
          34039,
          34289.2,
          33709.8,
          33859.8,
          31637.7,
          28463.3,
          27857.8,
          27640.3,
          27008.899999999998,
          26610.2,
          26113.3,
          26676.9,
          27394.9,
          28658.5,
          30291.7,
          31448.300000000003,
          31200,
          31482,
          31916.8,
          32041.9,
          31310.100000000002,
          29766.1,
          29340.4,
          30325,
          31328.399999999998,
          31478.4,
          30822.7,
          28990.9,
          27132.3,
          24999.9,
          23629,
          23184.5,
          23519.5,
          23417.2,
          23538,
          24471.5,
          27034.6,
          27986.3,
          29733.3,
          30583,
          31111.9,
          31973.1,
          31511.8,
          31776.8,
          30853.3,
          29340.3,
          29122.8,
          31022,
          31315.1,
          31329.5,
          30998,
          28872.7,
          26886.9,
          25053.5,
          24443.100000000002,
          24095.9,
          23386.7,
          23458.6,
          23472.4,
          23439.7,
          24914.5,
          25704.5,
          28185.9,
          28989.3,
          29812.2,
          29609,
          29889.399999999998,
          27305.9,
          26949.7,
          25970.8,
          26827.899999999998,
          29067,
          29118.6,
          28781.2,
          28310.3,
          25336.1,
          24480.4
         ],
         "x0": " ",
         "xaxis": "x",
         "y0": " ",
         "yaxis": "y"
        }
       ],
       "layout": {
        "boxmode": "group",
        "legend": {
         "tracegroupgap": 0
        },
        "margin": {
         "t": 60
        },
        "template": {
         "data": {
          "bar": [
           {
            "error_x": {
             "color": "#2a3f5f"
            },
            "error_y": {
             "color": "#2a3f5f"
            },
            "marker": {
             "line": {
              "color": "#E5ECF6",
              "width": 0.5
             },
             "pattern": {
              "fillmode": "overlay",
              "size": 10,
              "solidity": 0.2
             }
            },
            "type": "bar"
           }
          ],
          "barpolar": [
           {
            "marker": {
             "line": {
              "color": "#E5ECF6",
              "width": 0.5
             },
             "pattern": {
              "fillmode": "overlay",
              "size": 10,
              "solidity": 0.2
             }
            },
            "type": "barpolar"
           }
          ],
          "carpet": [
           {
            "aaxis": {
             "endlinecolor": "#2a3f5f",
             "gridcolor": "white",
             "linecolor": "white",
             "minorgridcolor": "white",
             "startlinecolor": "#2a3f5f"
            },
            "baxis": {
             "endlinecolor": "#2a3f5f",
             "gridcolor": "white",
             "linecolor": "white",
             "minorgridcolor": "white",
             "startlinecolor": "#2a3f5f"
            },
            "type": "carpet"
           }
          ],
          "choropleth": [
           {
            "colorbar": {
             "outlinewidth": 0,
             "ticks": ""
            },
            "type": "choropleth"
           }
          ],
          "contour": [
           {
            "colorbar": {
             "outlinewidth": 0,
             "ticks": ""
            },
            "colorscale": [
             [
              0,
              "#0d0887"
             ],
             [
              0.1111111111111111,
              "#46039f"
             ],
             [
              0.2222222222222222,
              "#7201a8"
             ],
             [
              0.3333333333333333,
              "#9c179e"
             ],
             [
              0.4444444444444444,
              "#bd3786"
             ],
             [
              0.5555555555555556,
              "#d8576b"
             ],
             [
              0.6666666666666666,
              "#ed7953"
             ],
             [
              0.7777777777777778,
              "#fb9f3a"
             ],
             [
              0.8888888888888888,
              "#fdca26"
             ],
             [
              1,
              "#f0f921"
             ]
            ],
            "type": "contour"
           }
          ],
          "contourcarpet": [
           {
            "colorbar": {
             "outlinewidth": 0,
             "ticks": ""
            },
            "type": "contourcarpet"
           }
          ],
          "heatmap": [
           {
            "colorbar": {
             "outlinewidth": 0,
             "ticks": ""
            },
            "colorscale": [
             [
              0,
              "#0d0887"
             ],
             [
              0.1111111111111111,
              "#46039f"
             ],
             [
              0.2222222222222222,
              "#7201a8"
             ],
             [
              0.3333333333333333,
              "#9c179e"
             ],
             [
              0.4444444444444444,
              "#bd3786"
             ],
             [
              0.5555555555555556,
              "#d8576b"
             ],
             [
              0.6666666666666666,
              "#ed7953"
             ],
             [
              0.7777777777777778,
              "#fb9f3a"
             ],
             [
              0.8888888888888888,
              "#fdca26"
             ],
             [
              1,
              "#f0f921"
             ]
            ],
            "type": "heatmap"
           }
          ],
          "heatmapgl": [
           {
            "colorbar": {
             "outlinewidth": 0,
             "ticks": ""
            },
            "colorscale": [
             [
              0,
              "#0d0887"
             ],
             [
              0.1111111111111111,
              "#46039f"
             ],
             [
              0.2222222222222222,
              "#7201a8"
             ],
             [
              0.3333333333333333,
              "#9c179e"
             ],
             [
              0.4444444444444444,
              "#bd3786"
             ],
             [
              0.5555555555555556,
              "#d8576b"
             ],
             [
              0.6666666666666666,
              "#ed7953"
             ],
             [
              0.7777777777777778,
              "#fb9f3a"
             ],
             [
              0.8888888888888888,
              "#fdca26"
             ],
             [
              1,
              "#f0f921"
             ]
            ],
            "type": "heatmapgl"
           }
          ],
          "histogram": [
           {
            "marker": {
             "pattern": {
              "fillmode": "overlay",
              "size": 10,
              "solidity": 0.2
             }
            },
            "type": "histogram"
           }
          ],
          "histogram2d": [
           {
            "colorbar": {
             "outlinewidth": 0,
             "ticks": ""
            },
            "colorscale": [
             [
              0,
              "#0d0887"
             ],
             [
              0.1111111111111111,
              "#46039f"
             ],
             [
              0.2222222222222222,
              "#7201a8"
             ],
             [
              0.3333333333333333,
              "#9c179e"
             ],
             [
              0.4444444444444444,
              "#bd3786"
             ],
             [
              0.5555555555555556,
              "#d8576b"
             ],
             [
              0.6666666666666666,
              "#ed7953"
             ],
             [
              0.7777777777777778,
              "#fb9f3a"
             ],
             [
              0.8888888888888888,
              "#fdca26"
             ],
             [
              1,
              "#f0f921"
             ]
            ],
            "type": "histogram2d"
           }
          ],
          "histogram2dcontour": [
           {
            "colorbar": {
             "outlinewidth": 0,
             "ticks": ""
            },
            "colorscale": [
             [
              0,
              "#0d0887"
             ],
             [
              0.1111111111111111,
              "#46039f"
             ],
             [
              0.2222222222222222,
              "#7201a8"
             ],
             [
              0.3333333333333333,
              "#9c179e"
             ],
             [
              0.4444444444444444,
              "#bd3786"
             ],
             [
              0.5555555555555556,
              "#d8576b"
             ],
             [
              0.6666666666666666,
              "#ed7953"
             ],
             [
              0.7777777777777778,
              "#fb9f3a"
             ],
             [
              0.8888888888888888,
              "#fdca26"
             ],
             [
              1,
              "#f0f921"
             ]
            ],
            "type": "histogram2dcontour"
           }
          ],
          "mesh3d": [
           {
            "colorbar": {
             "outlinewidth": 0,
             "ticks": ""
            },
            "type": "mesh3d"
           }
          ],
          "parcoords": [
           {
            "line": {
             "colorbar": {
              "outlinewidth": 0,
              "ticks": ""
             }
            },
            "type": "parcoords"
           }
          ],
          "pie": [
           {
            "automargin": true,
            "type": "pie"
           }
          ],
          "scatter": [
           {
            "fillpattern": {
             "fillmode": "overlay",
             "size": 10,
             "solidity": 0.2
            },
            "type": "scatter"
           }
          ],
          "scatter3d": [
           {
            "line": {
             "colorbar": {
              "outlinewidth": 0,
              "ticks": ""
             }
            },
            "marker": {
             "colorbar": {
              "outlinewidth": 0,
              "ticks": ""
             }
            },
            "type": "scatter3d"
           }
          ],
          "scattercarpet": [
           {
            "marker": {
             "colorbar": {
              "outlinewidth": 0,
              "ticks": ""
             }
            },
            "type": "scattercarpet"
           }
          ],
          "scattergeo": [
           {
            "marker": {
             "colorbar": {
              "outlinewidth": 0,
              "ticks": ""
             }
            },
            "type": "scattergeo"
           }
          ],
          "scattergl": [
           {
            "marker": {
             "colorbar": {
              "outlinewidth": 0,
              "ticks": ""
             }
            },
            "type": "scattergl"
           }
          ],
          "scattermapbox": [
           {
            "marker": {
             "colorbar": {
              "outlinewidth": 0,
              "ticks": ""
             }
            },
            "type": "scattermapbox"
           }
          ],
          "scatterpolar": [
           {
            "marker": {
             "colorbar": {
              "outlinewidth": 0,
              "ticks": ""
             }
            },
            "type": "scatterpolar"
           }
          ],
          "scatterpolargl": [
           {
            "marker": {
             "colorbar": {
              "outlinewidth": 0,
              "ticks": ""
             }
            },
            "type": "scatterpolargl"
           }
          ],
          "scatterternary": [
           {
            "marker": {
             "colorbar": {
              "outlinewidth": 0,
              "ticks": ""
             }
            },
            "type": "scatterternary"
           }
          ],
          "surface": [
           {
            "colorbar": {
             "outlinewidth": 0,
             "ticks": ""
            },
            "colorscale": [
             [
              0,
              "#0d0887"
             ],
             [
              0.1111111111111111,
              "#46039f"
             ],
             [
              0.2222222222222222,
              "#7201a8"
             ],
             [
              0.3333333333333333,
              "#9c179e"
             ],
             [
              0.4444444444444444,
              "#bd3786"
             ],
             [
              0.5555555555555556,
              "#d8576b"
             ],
             [
              0.6666666666666666,
              "#ed7953"
             ],
             [
              0.7777777777777778,
              "#fb9f3a"
             ],
             [
              0.8888888888888888,
              "#fdca26"
             ],
             [
              1,
              "#f0f921"
             ]
            ],
            "type": "surface"
           }
          ],
          "table": [
           {
            "cells": {
             "fill": {
              "color": "#EBF0F8"
             },
             "line": {
              "color": "white"
             }
            },
            "header": {
             "fill": {
              "color": "#C8D4E3"
             },
             "line": {
              "color": "white"
             }
            },
            "type": "table"
           }
          ]
         },
         "layout": {
          "annotationdefaults": {
           "arrowcolor": "#2a3f5f",
           "arrowhead": 0,
           "arrowwidth": 1
          },
          "autotypenumbers": "strict",
          "coloraxis": {
           "colorbar": {
            "outlinewidth": 0,
            "ticks": ""
           }
          },
          "colorscale": {
           "diverging": [
            [
             0,
             "#8e0152"
            ],
            [
             0.1,
             "#c51b7d"
            ],
            [
             0.2,
             "#de77ae"
            ],
            [
             0.3,
             "#f1b6da"
            ],
            [
             0.4,
             "#fde0ef"
            ],
            [
             0.5,
             "#f7f7f7"
            ],
            [
             0.6,
             "#e6f5d0"
            ],
            [
             0.7,
             "#b8e186"
            ],
            [
             0.8,
             "#7fbc41"
            ],
            [
             0.9,
             "#4d9221"
            ],
            [
             1,
             "#276419"
            ]
           ],
           "sequential": [
            [
             0,
             "#0d0887"
            ],
            [
             0.1111111111111111,
             "#46039f"
            ],
            [
             0.2222222222222222,
             "#7201a8"
            ],
            [
             0.3333333333333333,
             "#9c179e"
            ],
            [
             0.4444444444444444,
             "#bd3786"
            ],
            [
             0.5555555555555556,
             "#d8576b"
            ],
            [
             0.6666666666666666,
             "#ed7953"
            ],
            [
             0.7777777777777778,
             "#fb9f3a"
            ],
            [
             0.8888888888888888,
             "#fdca26"
            ],
            [
             1,
             "#f0f921"
            ]
           ],
           "sequentialminus": [
            [
             0,
             "#0d0887"
            ],
            [
             0.1111111111111111,
             "#46039f"
            ],
            [
             0.2222222222222222,
             "#7201a8"
            ],
            [
             0.3333333333333333,
             "#9c179e"
            ],
            [
             0.4444444444444444,
             "#bd3786"
            ],
            [
             0.5555555555555556,
             "#d8576b"
            ],
            [
             0.6666666666666666,
             "#ed7953"
            ],
            [
             0.7777777777777778,
             "#fb9f3a"
            ],
            [
             0.8888888888888888,
             "#fdca26"
            ],
            [
             1,
             "#f0f921"
            ]
           ]
          },
          "colorway": [
           "#636efa",
           "#EF553B",
           "#00cc96",
           "#ab63fa",
           "#FFA15A",
           "#19d3f3",
           "#FF6692",
           "#B6E880",
           "#FF97FF",
           "#FECB52"
          ],
          "font": {
           "color": "#2a3f5f"
          },
          "geo": {
           "bgcolor": "white",
           "lakecolor": "white",
           "landcolor": "#E5ECF6",
           "showlakes": true,
           "showland": true,
           "subunitcolor": "white"
          },
          "hoverlabel": {
           "align": "left"
          },
          "hovermode": "closest",
          "mapbox": {
           "style": "light"
          },
          "paper_bgcolor": "white",
          "plot_bgcolor": "#E5ECF6",
          "polar": {
           "angularaxis": {
            "gridcolor": "white",
            "linecolor": "white",
            "ticks": ""
           },
           "bgcolor": "#E5ECF6",
           "radialaxis": {
            "gridcolor": "white",
            "linecolor": "white",
            "ticks": ""
           }
          },
          "scene": {
           "xaxis": {
            "backgroundcolor": "#E5ECF6",
            "gridcolor": "white",
            "gridwidth": 2,
            "linecolor": "white",
            "showbackground": true,
            "ticks": "",
            "zerolinecolor": "white"
           },
           "yaxis": {
            "backgroundcolor": "#E5ECF6",
            "gridcolor": "white",
            "gridwidth": 2,
            "linecolor": "white",
            "showbackground": true,
            "ticks": "",
            "zerolinecolor": "white"
           },
           "zaxis": {
            "backgroundcolor": "#E5ECF6",
            "gridcolor": "white",
            "gridwidth": 2,
            "linecolor": "white",
            "showbackground": true,
            "ticks": "",
            "zerolinecolor": "white"
           }
          },
          "shapedefaults": {
           "line": {
            "color": "#2a3f5f"
           }
          },
          "ternary": {
           "aaxis": {
            "gridcolor": "white",
            "linecolor": "white",
            "ticks": ""
           },
           "baxis": {
            "gridcolor": "white",
            "linecolor": "white",
            "ticks": ""
           },
           "bgcolor": "#E5ECF6",
           "caxis": {
            "gridcolor": "white",
            "linecolor": "white",
            "ticks": ""
           }
          },
          "title": {
           "x": 0.05
          },
          "xaxis": {
           "automargin": true,
           "gridcolor": "white",
           "linecolor": "white",
           "ticks": "",
           "title": {
            "standoff": 15
           },
           "zerolinecolor": "white",
           "zerolinewidth": 2
          },
          "yaxis": {
           "automargin": true,
           "gridcolor": "white",
           "linecolor": "white",
           "ticks": "",
           "title": {
            "standoff": 15
           },
           "zerolinecolor": "white",
           "zerolinewidth": 2
          }
         }
        },
        "xaxis": {
         "anchor": "y",
         "domain": [
          0,
          1
         ],
         "title": {
          "text": "x"
         }
        },
        "yaxis": {
         "anchor": "x",
         "domain": [
          0,
          1
         ]
        }
       }
      }
     },
     "metadata": {},
     "output_type": "display_data"
    }
   ],
   "source": [
    "px.box(x=res)"
   ]
  }
 ],
 "metadata": {
  "kernelspec": {
   "display_name": "Python 3 (ipykernel)",
   "language": "python",
   "name": "python3"
  },
  "language_info": {
   "codemirror_mode": {
    "name": "ipython",
    "version": 3
   },
   "file_extension": ".py",
   "mimetype": "text/x-python",
   "name": "python",
   "nbconvert_exporter": "python",
   "pygments_lexer": "ipython3",
   "version": "3.11.1"
  },
  "toc-autonumbering": true
 },
 "nbformat": 4,
 "nbformat_minor": 5
}
